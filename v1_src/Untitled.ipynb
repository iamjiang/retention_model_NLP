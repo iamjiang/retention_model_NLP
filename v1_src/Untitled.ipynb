{
 "cells": [
  {
   "cell_type": "code",
   "execution_count": 120,
   "id": "0d21c6a0-b9fd-46fe-9ea2-66e4d45cbaa5",
   "metadata": {},
   "outputs": [
    {
     "name": "stderr",
     "output_type": "stream",
     "text": [
      "[nltk_data] Downloading package stopwords to\n",
      "[nltk_data]     /home/ec2-user/nltk_data...\n",
      "[nltk_data]   Package stopwords is already up-to-date!\n",
      "[nltk_data] Downloading package punkt to /home/ec2-user/nltk_data...\n",
      "[nltk_data]   Package punkt is already up-to-date!\n",
      "[nltk_data] Downloading package words to /home/ec2-user/nltk_data...\n",
      "[nltk_data]   Package words is already up-to-date!\n"
     ]
    }
   ],
   "source": [
    "import argparse\n",
    "import time\n",
    "import pandas as pd\n",
    "import numpy as np\n",
    "import nltk\n",
    "from nltk.corpus import stopwords\n",
    "nltk.download('stopwords')\n",
    "nltk.download('punkt')\n",
    "nltk.download('words')\n",
    "from nltk.tokenize import word_tokenize\n",
    "from functools import reduce\n",
    "en_stopwords = set(stopwords.words('english')) \n",
    "import itertools\n",
    "import re\n",
    "import os\n",
    "import pickle\n",
    "\n",
    "import datasets\n",
    "from datasets import load_dataset, load_metric, Dataset, concatenate_datasets\n",
    "from datasets import load_from_disk\n",
    "from tqdm import tqdm\n",
    "tqdm.pandas(position=0,leave=True)\n",
    "\n",
    "import textwrap"
   ]
  },
  {
   "cell_type": "code",
   "execution_count": 121,
   "id": "f9d94d0d-a3f0-4ffe-b2a3-7ffbcc006b2a",
   "metadata": {},
   "outputs": [
    {
     "name": "stdout",
     "output_type": "stream",
     "text": [
      "Namespace(year='unique_unum_v1')\n"
     ]
    }
   ],
   "source": [
    "argparser = argparse.ArgumentParser(\"Data Preprocessing\") \n",
    "argparser.add_argument('--year', type=str, default=\"unique_unum_v1\")\n",
    "args,_ = argparser.parse_known_args()\n",
    "\n",
    "print(args)\n",
    "\n",
    "my_folder=\"s3://trident-retention-output/\"\n",
    "folder = 's3://trident-retention-data/askunum/'\n"
   ]
  },
  {
   "cell_type": "code",
   "execution_count": 3,
   "id": "22c30eab-07fa-49d5-b71b-26e449a7fc16",
   "metadata": {},
   "outputs": [],
   "source": [
    "def load_askunum_df(folder, year, usecols=None, nrows=None): \n",
    "    if year == 2018: # ['ID', 'PARENTID', 'PARENT.CREATEDDATE', 'PARENT.CLOSEDDATE']\n",
    "        askunum_df = pd.read_csv(folder + 'askunum_2018.csv', encoding='latin-1', usecols=usecols, nrows=nrows)\n",
    "       \n",
    "    if year == 2019: \n",
    "        askunum_df = pd.concat([pd.read_csv(folder + 'askunum_2019_{}.csv'.format(i), encoding='latin-1', usecols=usecols, nrows=nrows) for i in range(1, 4)]) \n",
    "        \n",
    "    if year == 2020:  \n",
    "        askunum_df = pd.concat([pd.read_csv(folder + 'unnested_2020_{}_customer.csv'.format(i), encoding='latin-1', usecols=usecols, nrows=nrows) for i in range(10)])\n",
    "\n",
    "    if year == 2021: \n",
    "        askunum_df = pd.concat([pd.read_csv(folder + 'unnested_2021_{}_customer.csv'.format(i), encoding='latin-1', usecols=usecols, nrows=nrows) for i in range(10)]) \n",
    "        \n",
    "    if year == 2022: \n",
    "        askunum_df = pd.concat([pd.read_csv(folder + 'askunum_2022_{}.csv'.format(i), encoding='latin-1', usecols=usecols, nrows=nrows) for i in range(0, 4)])\n",
    "        \n",
    "    return askunum_df"
   ]
  },
  {
   "cell_type": "code",
   "execution_count": null,
   "id": "d9210767-66fc-43c6-97ef-00c28646e036",
   "metadata": {},
   "outputs": [],
   "source": [
    "args.year=2022\n",
    "year=args.year"
   ]
  },
  {
   "cell_type": "code",
   "execution_count": null,
   "id": "55ea3a5d-5e81-445b-b3e8-d26c648d2f1e",
   "metadata": {},
   "outputs": [],
   "source": [
    "if year in [2018, 2019]: \n",
    "    idx = 'ID'\n",
    "    parent_id = 'PARENTID'\n",
    "    text_body = 'TEXTBODY'\n",
    "    created_date = 'PARENT.CREATEDDATE'\n",
    "    closed_date = 'PARENT.CLOSEDDATE'\n",
    "    Incoming='INCOMING'\n",
    "    subtype= 'PARENT.SUB_TYPE_TXT__C' \n",
    "    message_date= 'MESSAGEDATE'\n",
    "\n",
    "if year in [2020, 2021]: \n",
    "    idx = 'Id'\n",
    "    parent_id = 'ParentId'\n",
    "    text_body = 'TextBody'\n",
    "    created_date = 'CreatedDate' \n",
    "    closed_date = 'ClosedDate'\n",
    "    Incoming='Incoming'\n",
    "    subtype= 'SUB_TYPE_TXT__c'\n",
    "    message_date= 'MessageDate'\n",
    "\n",
    "if year in [2022]:\n",
    "    idx = 'Id'\n",
    "    parent_id = 'ParentId'\n",
    "    text_body = 'TextBody'\n",
    "    created_date = 'Parent.CreatedDate'  \n",
    "    closed_date = 'Parent.ClosedDate'\n",
    "    Incoming='Incoming'\n",
    "    subtype= 'Parent.SUB_TYPE_TXT__c'\n",
    "    message_date= 'MessageDate'\n",
    "\n",
    "askunum_text = load_askunum_df(folder, year, usecols = [idx, parent_id, text_body, created_date, closed_date, Incoming, subtype,message_date], nrows=5)"
   ]
  },
  {
   "cell_type": "code",
   "execution_count": null,
   "id": "787418eb-cf5c-4003-9b84-9254ef4ef773",
   "metadata": {},
   "outputs": [],
   "source": [
    "askunum_text.head(2)"
   ]
  },
  {
   "cell_type": "code",
   "execution_count": null,
   "id": "f142794a-cf9b-4182-96e4-95013f15149d",
   "metadata": {},
   "outputs": [],
   "source": [
    "df=pd.DataFrame({\"id\":[1,2],\"text\":[\"Hello, word. I am chadadf ok nice.\",\"It is a nice adafred day. ok nice, I know dfadad. nice.\"]})\n",
    "df"
   ]
  },
  {
   "cell_type": "code",
   "execution_count": null,
   "id": "05994c79-ac10-47b6-82f5-837b8d3e4606",
   "metadata": {},
   "outputs": [],
   "source": [
    "## removing non-english words from text\n",
    "words = set(nltk.corpus.words.words())\n",
    "df['text'] = df['text'].apply(lambda x: \" \".join(w for w in nltk.wordpunct_tokenize(x) if w.lower() in words or not w.isalpha()))"
   ]
  },
  {
   "cell_type": "code",
   "execution_count": null,
   "id": "526165ce-815e-4837-81a8-9438c56f37dd",
   "metadata": {},
   "outputs": [],
   "source": [
    "df"
   ]
  },
  {
   "cell_type": "code",
   "execution_count": null,
   "id": "00dd6508-c72b-4bf8-8c01-a3330fc5b071",
   "metadata": {},
   "outputs": [],
   "source": [
    "my_folder=\"s3://trident-retention-output/\"\n",
    "file_name=\"unique_unum_v1\"\n",
    "unique_unum_id=pd.read_csv(os.path.join(my_folder,file_name+\".csv\"))\n",
    "unique_unum_id.head()"
   ]
  },
  {
   "cell_type": "code",
   "execution_count": null,
   "id": "ae25edd3-0591-428d-8371-fe9fbd26af45",
   "metadata": {},
   "outputs": [],
   "source": [
    "year=2022\n",
    "my_folder=\"s3://trident-retention-output/\"\n",
    "df=pd.read_csv(os.path.join(my_folder,f\"askunum_textbody_{year}\"+\".csv\"))\n",
    "df.head(2)"
   ]
  },
  {
   "cell_type": "code",
   "execution_count": 4,
   "id": "3e39a2c2-ee8d-4db8-baec-9878b22b69c6",
   "metadata": {},
   "outputs": [
    {
     "name": "stdout",
     "output_type": "stream",
     "text": [
      "(1023585, 13)\n",
      "(2173519, 13)\n",
      "(3348090, 13)\n",
      "(4493050, 13)\n",
      "(5016545, 13)\n"
     ]
    }
   ],
   "source": [
    "askunum_text=pd.DataFrame()\n",
    "for year in [2018,2019,2020,2021,2022]:\n",
    "    new_data=pd.read_csv(os.path.join(my_folder,f\"askunum_textbody_{year}\"+\".csv\"))\n",
    "    askunum_text=pd.concat([askunum_text,new_data])\n",
    "    # print(askunum_text.shape)\n",
    "    print(f\"{:<25}{:<25,}\".format(year,new_data.shape[0]))"
   ]
  },
  {
   "cell_type": "code",
   "execution_count": 7,
   "id": "f2e56ffc-6b0e-4447-ad90-6ca1ea2176c1",
   "metadata": {},
   "outputs": [
    {
     "name": "stdout",
     "output_type": "stream",
     "text": [
      "2022           523,495             \n"
     ]
    }
   ],
   "source": [
    "print(\"{:<15}{:<20,}\".format(year,new_data.shape[0]))"
   ]
  },
  {
   "cell_type": "code",
   "execution_count": 8,
   "id": "3d3322d4-8124-410d-b8be-3e70d67f9f67",
   "metadata": {},
   "outputs": [
    {
     "data": {
      "text/html": [
       "<div>\n",
       "<style scoped>\n",
       "    .dataframe tbody tr th:only-of-type {\n",
       "        vertical-align: middle;\n",
       "    }\n",
       "\n",
       "    .dataframe tbody tr th {\n",
       "        vertical-align: top;\n",
       "    }\n",
       "\n",
       "    .dataframe thead th {\n",
       "        text-align: right;\n",
       "    }\n",
       "</style>\n",
       "<table border=\"1\" class=\"dataframe\">\n",
       "  <thead>\n",
       "    <tr style=\"text-align: right;\">\n",
       "      <th></th>\n",
       "      <th>Unnamed: 0</th>\n",
       "      <th>Id</th>\n",
       "      <th>ParentId</th>\n",
       "      <th>Incoming</th>\n",
       "      <th>MessageDate</th>\n",
       "      <th>TextBody</th>\n",
       "      <th>CreatedDate</th>\n",
       "      <th>ClosedDate</th>\n",
       "      <th>Subtype</th>\n",
       "      <th>year</th>\n",
       "      <th>month</th>\n",
       "      <th>account_id</th>\n",
       "      <th>unum_id</th>\n",
       "    </tr>\n",
       "  </thead>\n",
       "  <tbody>\n",
       "    <tr>\n",
       "      <th>0</th>\n",
       "      <td>0</td>\n",
       "      <td>02s0c00001KQIDDAA5</td>\n",
       "      <td>5000c00001iYULlAAO</td>\n",
       "      <td>True</td>\n",
       "      <td>2018-12-27T17:51:02.000Z</td>\n",
       "      <td>please see attached, the form showing that cry...</td>\n",
       "      <td>2018-12-27 17:51:24+00:00</td>\n",
       "      <td>2018-12-28T19:18:23.000Z</td>\n",
       "      <td>Enrollment Submission</td>\n",
       "      <td>2018</td>\n",
       "      <td>12</td>\n",
       "      <td>001a000001lKDBx</td>\n",
       "      <td>440668861.0</td>\n",
       "    </tr>\n",
       "    <tr>\n",
       "      <th>1</th>\n",
       "      <td>1</td>\n",
       "      <td>02s0c00001KQg0hAAD</td>\n",
       "      <td>5000c00001iYULlAAO</td>\n",
       "      <td>False</td>\n",
       "      <td>2018-12-28T19:16:56.000Z</td>\n",
       "      <td>good afternoon robin, thank you for contacting...</td>\n",
       "      <td>2018-12-27 17:51:24+00:00</td>\n",
       "      <td>2018-12-28T19:18:23.000Z</td>\n",
       "      <td>Enrollment Submission</td>\n",
       "      <td>2018</td>\n",
       "      <td>12</td>\n",
       "      <td>001a000001lKDBx</td>\n",
       "      <td>440668861.0</td>\n",
       "    </tr>\n",
       "  </tbody>\n",
       "</table>\n",
       "</div>"
      ],
      "text/plain": [
       "   Unnamed: 0                  Id            ParentId  Incoming  \\\n",
       "0           0  02s0c00001KQIDDAA5  5000c00001iYULlAAO      True   \n",
       "1           1  02s0c00001KQg0hAAD  5000c00001iYULlAAO     False   \n",
       "\n",
       "                MessageDate  \\\n",
       "0  2018-12-27T17:51:02.000Z   \n",
       "1  2018-12-28T19:16:56.000Z   \n",
       "\n",
       "                                            TextBody  \\\n",
       "0  please see attached, the form showing that cry...   \n",
       "1  good afternoon robin, thank you for contacting...   \n",
       "\n",
       "                 CreatedDate                ClosedDate                Subtype  \\\n",
       "0  2018-12-27 17:51:24+00:00  2018-12-28T19:18:23.000Z  Enrollment Submission   \n",
       "1  2018-12-27 17:51:24+00:00  2018-12-28T19:18:23.000Z  Enrollment Submission   \n",
       "\n",
       "   year  month       account_id      unum_id  \n",
       "0  2018     12  001a000001lKDBx  440668861.0  \n",
       "1  2018     12  001a000001lKDBx  440668861.0  "
      ]
     },
     "execution_count": 8,
     "metadata": {},
     "output_type": "execute_result"
    }
   ],
   "source": [
    "askunum_text.head(2)"
   ]
  },
  {
   "cell_type": "code",
   "execution_count": null,
   "id": "d8146585-426b-47c1-87d1-26c0a3402734",
   "metadata": {},
   "outputs": [],
   "source": [
    "askunum_text.drop(['Unnamed: 0'],axis=1,inplace=True)\n",
    "askunum_text['unum_id']=askunum_text['unum_id'].astype(int).astype(str)\n",
    "askunum_text.sort_values([\"unum_id\",\"year\",\"month\",\"MessageDate\"],inplace=True,ascending=True)\n",
    "askunum_text.to_pickle(os.path.join(my_folder,\"askunum_text_pickle\"))"
   ]
  },
  {
   "cell_type": "code",
   "execution_count": null,
   "id": "3ce3fc41-3218-407b-9319-b9008ffc4e58",
   "metadata": {},
   "outputs": [],
   "source": []
  },
  {
   "cell_type": "code",
   "execution_count": 122,
   "id": "31aae4cb-9831-4c5b-ac09-dabacd972ddb",
   "metadata": {},
   "outputs": [
    {
     "name": "stdout",
     "output_type": "stream",
     "text": [
      "It took 253.6405 seconds to read text data\n"
     ]
    }
   ],
   "source": [
    "start=time.time()\n",
    "askunum_text=pd.read_pickle(os.path.join(my_folder,'askunum_text_pickle'))\n",
    "end=time.time()\n",
    "print(\"It took {:0.4f} seconds to read text data\".format(end-start))"
   ]
  },
  {
   "cell_type": "code",
   "execution_count": 11,
   "id": "34c26588-403c-4da6-8fff-be3a70e7f08b",
   "metadata": {},
   "outputs": [
    {
     "data": {
      "text/plain": [
       "(5016545, 12)"
      ]
     },
     "execution_count": 11,
     "metadata": {},
     "output_type": "execute_result"
    }
   ],
   "source": [
    "askunum_text.shape"
   ]
  },
  {
   "cell_type": "code",
   "execution_count": 123,
   "id": "a037c024-72d2-4a49-8a54-1d84d8483a51",
   "metadata": {},
   "outputs": [
    {
     "name": "stdout",
     "output_type": "stream",
     "text": [
      "--------------------------------------------------------------------------------------------------------------------------------------------------------------------------------------------------------\n",
      "hello team, thank you for your email. we have completed this termination request for jonathan sanchez, with a termination effective date of . the group will receive a credit of . on the invoice for the premiums paid for their coverage. please let us know if there is anything else that we can assist you with. thank you, the ask unum team client success organization askunum askunumunum.com unum covid response click here how to file a claim online click here we appreciate the opportunity to meet your benefit needs. if you have any questions, we have experienced service specialists available to help you monday through friday, a.m. to p.m. eastern time. original message\n",
      "--------------------------------------------------------------------------------------------------------------------------------------------------------------------------------------------------------\n",
      "felicia bogg group name b h worldwide inc carrier unum benefitmall case member jonathan sanchez please process this request to terminate the above mentioned member from coverage with unum effective . attached is their termination form. let us know if any additional information is required. thank you. benefitmall customer service refdggecp.dmszkref flgacustomerservice email cidimage.pngab.ccdfd simple and secure submit your business through agency workspace. learn how quick reference guide benefitmall on benefitmall on benefitmall on benefitmall\n"
     ]
    }
   ],
   "source": [
    "for i in askunum_text[askunum_text[\"ParentId\"]=='5003x00002GuQ6tAAF'].sort_values('MessageDate', ascending=False)['TextBody']:\n",
    "    print('-'*200)\n",
    "    print(i)"
   ]
  },
  {
   "cell_type": "code",
   "execution_count": 124,
   "id": "2fd56e28-61bd-4947-9fa5-f304b892f1b5",
   "metadata": {},
   "outputs": [
    {
     "data": {
      "text/html": [
       "<div>\n",
       "<style scoped>\n",
       "    .dataframe tbody tr th:only-of-type {\n",
       "        vertical-align: middle;\n",
       "    }\n",
       "\n",
       "    .dataframe tbody tr th {\n",
       "        vertical-align: top;\n",
       "    }\n",
       "\n",
       "    .dataframe thead th {\n",
       "        text-align: right;\n",
       "    }\n",
       "</style>\n",
       "<table border=\"1\" class=\"dataframe\">\n",
       "  <thead>\n",
       "    <tr style=\"text-align: right;\">\n",
       "      <th></th>\n",
       "      <th>Id</th>\n",
       "      <th>ParentId</th>\n",
       "      <th>Incoming</th>\n",
       "      <th>MessageDate</th>\n",
       "      <th>TextBody</th>\n",
       "      <th>CreatedDate</th>\n",
       "      <th>ClosedDate</th>\n",
       "      <th>Subtype</th>\n",
       "      <th>year</th>\n",
       "      <th>month</th>\n",
       "      <th>account_id</th>\n",
       "      <th>unum_id</th>\n",
       "    </tr>\n",
       "  </thead>\n",
       "  <tbody>\n",
       "    <tr>\n",
       "      <th>1136587</th>\n",
       "      <td>02s3x00001lwyxeAAA</td>\n",
       "      <td>5003x00002CFUfAAAX</td>\n",
       "      <td>False</td>\n",
       "      <td>2021-10-25T17:07:44.000+0000</td>\n",
       "      <td>fopittsburgh pa pam schon emailpambloomfieldga...</td>\n",
       "      <td>2021-10-22 17:18:20+00:00</td>\n",
       "      <td>2021-10-25T17:08:45.000+0000</td>\n",
       "      <td>Charge or Credit Clarification</td>\n",
       "      <td>2021</td>\n",
       "      <td>10</td>\n",
       "      <td>0013x00002Ipz9G</td>\n",
       "      <td>1000110382</td>\n",
       "    </tr>\n",
       "    <tr>\n",
       "      <th>1136585</th>\n",
       "      <td>02s3x00001lwzYbAAI</td>\n",
       "      <td>5003x00002CFUfAAAX</td>\n",
       "      <td>False</td>\n",
       "      <td>2021-10-25T17:08:22.000+0000</td>\n",
       "      <td>hi pam, i hope this email finds you well. we a...</td>\n",
       "      <td>2021-10-22 17:18:20+00:00</td>\n",
       "      <td>2021-10-25T17:08:45.000+0000</td>\n",
       "      <td>Charge or Credit Clarification</td>\n",
       "      <td>2021</td>\n",
       "      <td>10</td>\n",
       "      <td>0013x00002Ipz9G</td>\n",
       "      <td>1000110382</td>\n",
       "    </tr>\n",
       "  </tbody>\n",
       "</table>\n",
       "</div>"
      ],
      "text/plain": [
       "                         Id            ParentId  Incoming  \\\n",
       "1136587  02s3x00001lwyxeAAA  5003x00002CFUfAAAX     False   \n",
       "1136585  02s3x00001lwzYbAAI  5003x00002CFUfAAAX     False   \n",
       "\n",
       "                          MessageDate  \\\n",
       "1136587  2021-10-25T17:07:44.000+0000   \n",
       "1136585  2021-10-25T17:08:22.000+0000   \n",
       "\n",
       "                                                  TextBody  \\\n",
       "1136587  fopittsburgh pa pam schon emailpambloomfieldga...   \n",
       "1136585  hi pam, i hope this email finds you well. we a...   \n",
       "\n",
       "                       CreatedDate                    ClosedDate  \\\n",
       "1136587  2021-10-22 17:18:20+00:00  2021-10-25T17:08:45.000+0000   \n",
       "1136585  2021-10-22 17:18:20+00:00  2021-10-25T17:08:45.000+0000   \n",
       "\n",
       "                                Subtype  year  month       account_id  \\\n",
       "1136587  Charge or Credit Clarification  2021     10  0013x00002Ipz9G   \n",
       "1136585  Charge or Credit Clarification  2021     10  0013x00002Ipz9G   \n",
       "\n",
       "            unum_id  \n",
       "1136587  1000110382  \n",
       "1136585  1000110382  "
      ]
     },
     "execution_count": 124,
     "metadata": {},
     "output_type": "execute_result"
    }
   ],
   "source": [
    "askunum_text.head(2)"
   ]
  },
  {
   "cell_type": "code",
   "execution_count": null,
   "id": "961ab032-062b-4ce7-b5bd-ca0f2b5e6784",
   "metadata": {},
   "outputs": [],
   "source": []
  },
  {
   "cell_type": "code",
   "execution_count": 66,
   "id": "eb96b1df-1dfd-4494-a8b0-1ec5e8cc690a",
   "metadata": {},
   "outputs": [
    {
     "data": {
      "text/plain": [
       "(156,)"
      ]
     },
     "execution_count": 66,
     "metadata": {},
     "output_type": "execute_result"
    }
   ],
   "source": [
    "np.unique(askunum_text[\"Subtype\"].apply(str).values).shape"
   ]
  },
  {
   "cell_type": "code",
   "execution_count": 15,
   "id": "1265b16a-71ef-4bce-9890-bab8d6090298",
   "metadata": {},
   "outputs": [
    {
     "data": {
      "text/plain": [
       "array(['1029314', '1032773472', '1106085736', '203278756', '218081500',\n",
       "       '250346112', '521502', '667906663', '711161932', '797598268',\n",
       "       '870566381', '879092819'], dtype=object)"
      ]
     },
     "execution_count": 15,
     "metadata": {},
     "output_type": "execute_result"
    }
   ],
   "source": [
    "unum_id=np.unique(tempt.unum_id.values)\n",
    "unum_id"
   ]
  },
  {
   "cell_type": "code",
   "execution_count": 17,
   "id": "1c499fd4-8b15-4c97-ab9c-59fcf25c1d96",
   "metadata": {},
   "outputs": [
    {
     "data": {
      "text/plain": [
       "[array(['1029314', '1032773472', '1106085736'], dtype=object),\n",
       " array(['203278756', '218081500', '250346112'], dtype=object),\n",
       " array(['521502', '667906663'], dtype=object),\n",
       " array(['711161932', '797598268'], dtype=object),\n",
       " array(['870566381', '879092819'], dtype=object)]"
      ]
     },
     "execution_count": 17,
     "metadata": {},
     "output_type": "execute_result"
    }
   ],
   "source": [
    "np.array_split(unum_id,5)"
   ]
  },
  {
   "cell_type": "code",
   "execution_count": 24,
   "id": "d292c202-0aeb-4b8b-a627-6e68ca005dc7",
   "metadata": {},
   "outputs": [
    {
     "data": {
      "text/plain": [
       "array([1000110382, 1000210715, 1000233839, ...,  167994141,  167996771,\n",
       "        168007991])"
      ]
     },
     "execution_count": 24,
     "metadata": {},
     "output_type": "execute_result"
    }
   ],
   "source": [
    "df=pd.read_csv(os.path.join(my_folder, \"unique_unum_v1.csv\"))[\"0\"].values\n",
    "df"
   ]
  },
  {
   "cell_type": "code",
   "execution_count": 60,
   "id": "a9ab9091-0936-479f-8bf4-b95d70d9d84c",
   "metadata": {},
   "outputs": [],
   "source": [
    "def chunks_split(data,n):\n",
    "    k=len(data)//n\n",
    "    for i in range(0,n-1):\n",
    "        yield data[i*k:(i+1)*k]\n",
    "    yield data[(n-1)*k:]\n",
    "    \n",
    "unum_id=np.unique(askunum_text.unum_id.values)\n",
    "chunk=chunks_split(unum_id,10)"
   ]
  },
  {
   "cell_type": "code",
   "execution_count": 47,
   "id": "08c10596-4570-42ab-aff6-ae561b3430e5",
   "metadata": {},
   "outputs": [
    {
     "data": {
      "text/plain": [
       "array(['1000110382', '1000197507', '1000210715', ..., '999535665',\n",
       "       '999536230', '999603547'], dtype=object)"
      ]
     },
     "execution_count": 47,
     "metadata": {},
     "output_type": "execute_result"
    }
   ],
   "source": [
    "unum_id"
   ]
  },
  {
   "cell_type": "code",
   "execution_count": 43,
   "id": "b8ccb690-9fb1-48a3-9a9b-506571470bf2",
   "metadata": {},
   "outputs": [],
   "source": []
  },
  {
   "cell_type": "code",
   "execution_count": 61,
   "id": "72be8a1a-d9f0-435a-adeb-804696bcad66",
   "metadata": {},
   "outputs": [
    {
     "name": "stderr",
     "output_type": "stream",
     "text": [
      "100%|██████████| 4/4 [00:00<00:00, 10407.70it/s]"
     ]
    },
    {
     "name": "stdout",
     "output_type": "stream",
     "text": [
      "['1000110382' '1000197507' '1000210715' ... '162089611' '162095022'\n",
      " '162100821']\n",
      "['162115948' '162121782' '162125981' ... '346666687' '346669776'\n",
      " '346688639']\n",
      "['346715331' '346718562' '34674078' ... '463385' '463388' '463399']\n",
      "['463401029' '463402159' '46343729' ... '526434' '526444' '526454']\n"
     ]
    },
    {
     "name": "stderr",
     "output_type": "stream",
     "text": [
      "\n"
     ]
    }
   ],
   "source": [
    "for i in tqdm(range(4)):\n",
    "    print(next(iter(chunk)))"
   ]
  },
  {
   "cell_type": "code",
   "execution_count": null,
   "id": "9d0a2784-cb02-4ab7-96fb-bd531a473204",
   "metadata": {},
   "outputs": [],
   "source": []
  },
  {
   "cell_type": "code",
   "execution_count": 51,
   "id": "909461e4-e7a9-4f21-a697-08350565e27d",
   "metadata": {},
   "outputs": [],
   "source": [
    "tempt=next(iter(chunk))"
   ]
  },
  {
   "cell_type": "code",
   "execution_count": 56,
   "id": "60457f74-e28b-488c-a9de-6b6a11821589",
   "metadata": {},
   "outputs": [],
   "source": [
    "pd.DataFrame(tempt,columns=[\"unum_id\"]).reset_index(drop=True).to_csv(\"tempt.csv\")"
   ]
  },
  {
   "cell_type": "code",
   "execution_count": 59,
   "id": "1818c21c-9d67-42dc-aa4d-2200abbea8a2",
   "metadata": {},
   "outputs": [
    {
     "data": {
      "text/html": [
       "<div>\n",
       "<style scoped>\n",
       "    .dataframe tbody tr th:only-of-type {\n",
       "        vertical-align: middle;\n",
       "    }\n",
       "\n",
       "    .dataframe tbody tr th {\n",
       "        vertical-align: top;\n",
       "    }\n",
       "\n",
       "    .dataframe thead th {\n",
       "        text-align: right;\n",
       "    }\n",
       "</style>\n",
       "<table border=\"1\" class=\"dataframe\">\n",
       "  <thead>\n",
       "    <tr style=\"text-align: right;\">\n",
       "      <th></th>\n",
       "      <th>unum_id</th>\n",
       "    </tr>\n",
       "  </thead>\n",
       "  <tbody>\n",
       "    <tr>\n",
       "      <th>0</th>\n",
       "      <td>590992</td>\n",
       "    </tr>\n",
       "    <tr>\n",
       "      <th>1</th>\n",
       "      <td>590996294</td>\n",
       "    </tr>\n",
       "    <tr>\n",
       "      <th>2</th>\n",
       "      <td>590998</td>\n",
       "    </tr>\n",
       "    <tr>\n",
       "      <th>3</th>\n",
       "      <td>590999</td>\n",
       "    </tr>\n",
       "    <tr>\n",
       "      <th>4</th>\n",
       "      <td>591023</td>\n",
       "    </tr>\n",
       "  </tbody>\n",
       "</table>\n",
       "</div>"
      ],
      "text/plain": [
       "     unum_id\n",
       "0     590992\n",
       "1  590996294\n",
       "2     590998\n",
       "3     590999\n",
       "4     591023"
      ]
     },
     "execution_count": 59,
     "metadata": {},
     "output_type": "execute_result"
    }
   ],
   "source": [
    "pd.read_csv(\"tempt.csv\",usecols=[\"unum_id\"]).head()"
   ]
  },
  {
   "cell_type": "code",
   "execution_count": 36,
   "id": "43729230-82e1-45b2-acaa-9416ff4e4e46",
   "metadata": {},
   "outputs": [
    {
     "data": {
      "text/plain": [
       "array(['502232', '507668553', '558933586'], dtype=object)"
      ]
     },
     "execution_count": 36,
     "metadata": {},
     "output_type": "execute_result"
    }
   ],
   "source": [
    "next(iter(chunk))"
   ]
  },
  {
   "cell_type": "code",
   "execution_count": 37,
   "id": "f649c543-3831-4f88-8b27-2de09530052b",
   "metadata": {},
   "outputs": [
    {
     "data": {
      "text/plain": [
       "array(['564543503', '625762', '650410023'], dtype=object)"
      ]
     },
     "execution_count": 37,
     "metadata": {},
     "output_type": "execute_result"
    }
   ],
   "source": [
    "next(iter(chunk))"
   ]
  },
  {
   "cell_type": "code",
   "execution_count": 38,
   "id": "777d9cff-cbdd-4cfe-829c-b5b0ac623ade",
   "metadata": {},
   "outputs": [
    {
     "data": {
      "text/plain": [
       "array(['715351897', '743568709', '743807465', '842965', '994377397'],\n",
       "      dtype=object)"
      ]
     },
     "execution_count": 38,
     "metadata": {},
     "output_type": "execute_result"
    }
   ],
   "source": [
    "next(iter(chunk))"
   ]
  },
  {
   "cell_type": "code",
   "execution_count": 125,
   "id": "370cebd2-099a-4779-a9bc-b3e3f84a3341",
   "metadata": {},
   "outputs": [
    {
     "data": {
      "text/html": [
       "<div>\n",
       "<style scoped>\n",
       "    .dataframe tbody tr th:only-of-type {\n",
       "        vertical-align: middle;\n",
       "    }\n",
       "\n",
       "    .dataframe tbody tr th {\n",
       "        vertical-align: top;\n",
       "    }\n",
       "\n",
       "    .dataframe thead th {\n",
       "        text-align: right;\n",
       "    }\n",
       "</style>\n",
       "<table border=\"1\" class=\"dataframe\">\n",
       "  <thead>\n",
       "    <tr style=\"text-align: right;\">\n",
       "      <th></th>\n",
       "      <th>Id</th>\n",
       "      <th>ParentId</th>\n",
       "      <th>Incoming</th>\n",
       "      <th>MessageDate</th>\n",
       "      <th>TextBody</th>\n",
       "      <th>CreatedDate</th>\n",
       "      <th>ClosedDate</th>\n",
       "      <th>Subtype</th>\n",
       "      <th>year</th>\n",
       "      <th>month</th>\n",
       "      <th>account_id</th>\n",
       "      <th>unum_id</th>\n",
       "    </tr>\n",
       "  </thead>\n",
       "  <tbody>\n",
       "    <tr>\n",
       "      <th>1136587</th>\n",
       "      <td>02s3x00001lwyxeAAA</td>\n",
       "      <td>5003x00002CFUfAAAX</td>\n",
       "      <td>False</td>\n",
       "      <td>2021-10-25T17:07:44.000+0000</td>\n",
       "      <td>fopittsburgh pa pam schon emailpambloomfieldga...</td>\n",
       "      <td>2021-10-22 17:18:20+00:00</td>\n",
       "      <td>2021-10-25T17:08:45.000+0000</td>\n",
       "      <td>Charge or Credit Clarification</td>\n",
       "      <td>2021</td>\n",
       "      <td>10</td>\n",
       "      <td>0013x00002Ipz9G</td>\n",
       "      <td>1000110382</td>\n",
       "    </tr>\n",
       "    <tr>\n",
       "      <th>1136585</th>\n",
       "      <td>02s3x00001lwzYbAAI</td>\n",
       "      <td>5003x00002CFUfAAAX</td>\n",
       "      <td>False</td>\n",
       "      <td>2021-10-25T17:08:22.000+0000</td>\n",
       "      <td>hi pam, i hope this email finds you well. we a...</td>\n",
       "      <td>2021-10-22 17:18:20+00:00</td>\n",
       "      <td>2021-10-25T17:08:45.000+0000</td>\n",
       "      <td>Charge or Credit Clarification</td>\n",
       "      <td>2021</td>\n",
       "      <td>10</td>\n",
       "      <td>0013x00002Ipz9G</td>\n",
       "      <td>1000110382</td>\n",
       "    </tr>\n",
       "  </tbody>\n",
       "</table>\n",
       "</div>"
      ],
      "text/plain": [
       "                         Id            ParentId  Incoming  \\\n",
       "1136587  02s3x00001lwyxeAAA  5003x00002CFUfAAAX     False   \n",
       "1136585  02s3x00001lwzYbAAI  5003x00002CFUfAAAX     False   \n",
       "\n",
       "                          MessageDate  \\\n",
       "1136587  2021-10-25T17:07:44.000+0000   \n",
       "1136585  2021-10-25T17:08:22.000+0000   \n",
       "\n",
       "                                                  TextBody  \\\n",
       "1136587  fopittsburgh pa pam schon emailpambloomfieldga...   \n",
       "1136585  hi pam, i hope this email finds you well. we a...   \n",
       "\n",
       "                       CreatedDate                    ClosedDate  \\\n",
       "1136587  2021-10-22 17:18:20+00:00  2021-10-25T17:08:45.000+0000   \n",
       "1136585  2021-10-22 17:18:20+00:00  2021-10-25T17:08:45.000+0000   \n",
       "\n",
       "                                Subtype  year  month       account_id  \\\n",
       "1136587  Charge or Credit Clarification  2021     10  0013x00002Ipz9G   \n",
       "1136585  Charge or Credit Clarification  2021     10  0013x00002Ipz9G   \n",
       "\n",
       "            unum_id  \n",
       "1136587  1000110382  \n",
       "1136585  1000110382  "
      ]
     },
     "execution_count": 125,
     "metadata": {},
     "output_type": "execute_result"
    }
   ],
   "source": [
    "askunum_text.head(2)"
   ]
  },
  {
   "cell_type": "code",
   "execution_count": null,
   "id": "99c5b4bd-305a-4cd0-8381-347129270c4d",
   "metadata": {},
   "outputs": [],
   "source": []
  },
  {
   "cell_type": "code",
   "execution_count": 126,
   "id": "66d9779d-d290-41e8-9309-eef402f09420",
   "metadata": {},
   "outputs": [
    {
     "data": {
      "text/html": [
       "<div>\n",
       "<style scoped>\n",
       "    .dataframe tbody tr th:only-of-type {\n",
       "        vertical-align: middle;\n",
       "    }\n",
       "\n",
       "    .dataframe tbody tr th {\n",
       "        vertical-align: top;\n",
       "    }\n",
       "\n",
       "    .dataframe thead th {\n",
       "        text-align: right;\n",
       "    }\n",
       "</style>\n",
       "<table border=\"1\" class=\"dataframe\">\n",
       "  <thead>\n",
       "    <tr style=\"text-align: right;\">\n",
       "      <th></th>\n",
       "      <th>Id</th>\n",
       "      <th>ParentId</th>\n",
       "      <th>Incoming</th>\n",
       "      <th>MessageDate</th>\n",
       "      <th>TextBody</th>\n",
       "      <th>CreatedDate</th>\n",
       "      <th>ClosedDate</th>\n",
       "      <th>Subtype</th>\n",
       "      <th>year</th>\n",
       "      <th>month</th>\n",
       "      <th>account_id</th>\n",
       "      <th>unum_id</th>\n",
       "    </tr>\n",
       "  </thead>\n",
       "  <tbody>\n",
       "    <tr>\n",
       "      <th>1136587</th>\n",
       "      <td>02s3x00001lwyxeAAA</td>\n",
       "      <td>5003x00002CFUfAAAX</td>\n",
       "      <td>False</td>\n",
       "      <td>2021-10-25T17:07:44.000+0000</td>\n",
       "      <td>fopittsburgh pa pam schon emailpambloomfieldga...</td>\n",
       "      <td>2021-10-22 17:18:20+00:00</td>\n",
       "      <td>2021-10-25T17:08:45.000+0000</td>\n",
       "      <td>Charge or Credit Clarification</td>\n",
       "      <td>2021</td>\n",
       "      <td>10</td>\n",
       "      <td>0013x00002Ipz9G</td>\n",
       "      <td>1000110382</td>\n",
       "    </tr>\n",
       "    <tr>\n",
       "      <th>1136585</th>\n",
       "      <td>02s3x00001lwzYbAAI</td>\n",
       "      <td>5003x00002CFUfAAAX</td>\n",
       "      <td>False</td>\n",
       "      <td>2021-10-25T17:08:22.000+0000</td>\n",
       "      <td>hi pam, i hope this email finds you well. we a...</td>\n",
       "      <td>2021-10-22 17:18:20+00:00</td>\n",
       "      <td>2021-10-25T17:08:45.000+0000</td>\n",
       "      <td>Charge or Credit Clarification</td>\n",
       "      <td>2021</td>\n",
       "      <td>10</td>\n",
       "      <td>0013x00002Ipz9G</td>\n",
       "      <td>1000110382</td>\n",
       "    </tr>\n",
       "  </tbody>\n",
       "</table>\n",
       "</div>"
      ],
      "text/plain": [
       "                         Id            ParentId  Incoming  \\\n",
       "1136587  02s3x00001lwyxeAAA  5003x00002CFUfAAAX     False   \n",
       "1136585  02s3x00001lwzYbAAI  5003x00002CFUfAAAX     False   \n",
       "\n",
       "                          MessageDate  \\\n",
       "1136587  2021-10-25T17:07:44.000+0000   \n",
       "1136585  2021-10-25T17:08:22.000+0000   \n",
       "\n",
       "                                                  TextBody  \\\n",
       "1136587  fopittsburgh pa pam schon emailpambloomfieldga...   \n",
       "1136585  hi pam, i hope this email finds you well. we a...   \n",
       "\n",
       "                      CreatedDate                    ClosedDate  \\\n",
       "1136587 2021-10-22 17:18:20+00:00  2021-10-25T17:08:45.000+0000   \n",
       "1136585 2021-10-22 17:18:20+00:00  2021-10-25T17:08:45.000+0000   \n",
       "\n",
       "                                Subtype  year  month       account_id  \\\n",
       "1136587  Charge or Credit Clarification  2021     10  0013x00002Ipz9G   \n",
       "1136585  Charge or Credit Clarification  2021     10  0013x00002Ipz9G   \n",
       "\n",
       "            unum_id  \n",
       "1136587  1000110382  \n",
       "1136585  1000110382  "
      ]
     },
     "execution_count": 126,
     "metadata": {},
     "output_type": "execute_result"
    }
   ],
   "source": [
    "askunum_df=askunum_text.copy()\n",
    "askunum_df['CreatedDate'] = pd.to_datetime(askunum_df['CreatedDate'])\n",
    "askunum_df['year']=askunum_df['CreatedDate'].apply(lambda x:x.year)\n",
    "askunum_df['month']=askunum_df['CreatedDate'].apply(lambda x:x.month)\n",
    "askunum_df.head(2)"
   ]
  },
  {
   "cell_type": "code",
   "execution_count": 128,
   "id": "a6544043-6fb8-449f-a3bb-6669a1ce9d94",
   "metadata": {},
   "outputs": [],
   "source": [
    "email_counts_by_month = askunum_df.groupby(['account_id', 'year', 'month'])[['Id']].count()\n",
    "issue_counts_by_month = askunum_df.drop('Id', axis=1).drop_duplicates().groupby(['account_id', 'year', 'month'])[['ParentId']].count()"
   ]
  },
  {
   "cell_type": "code",
   "execution_count": 129,
   "id": "db258e5d-be34-4a45-8841-e3d8facf3d0f",
   "metadata": {},
   "outputs": [
    {
     "data": {
      "text/html": [
       "<div>\n",
       "<style scoped>\n",
       "    .dataframe tbody tr th:only-of-type {\n",
       "        vertical-align: middle;\n",
       "    }\n",
       "\n",
       "    .dataframe tbody tr th {\n",
       "        vertical-align: top;\n",
       "    }\n",
       "\n",
       "    .dataframe thead th {\n",
       "        text-align: right;\n",
       "    }\n",
       "</style>\n",
       "<table border=\"1\" class=\"dataframe\">\n",
       "  <thead>\n",
       "    <tr style=\"text-align: right;\">\n",
       "      <th></th>\n",
       "      <th></th>\n",
       "      <th></th>\n",
       "      <th>Id</th>\n",
       "      <th>ParentId</th>\n",
       "    </tr>\n",
       "    <tr>\n",
       "      <th>account_id</th>\n",
       "      <th>year</th>\n",
       "      <th>month</th>\n",
       "      <th></th>\n",
       "      <th></th>\n",
       "    </tr>\n",
       "  </thead>\n",
       "  <tbody>\n",
       "    <tr>\n",
       "      <th rowspan=\"5\" valign=\"top\">0010c00001sr7B7</th>\n",
       "      <th rowspan=\"5\" valign=\"top\">2018</th>\n",
       "      <th>4</th>\n",
       "      <td>5</td>\n",
       "      <td>5</td>\n",
       "    </tr>\n",
       "    <tr>\n",
       "      <th>5</th>\n",
       "      <td>10</td>\n",
       "      <td>10</td>\n",
       "    </tr>\n",
       "    <tr>\n",
       "      <th>6</th>\n",
       "      <td>10</td>\n",
       "      <td>10</td>\n",
       "    </tr>\n",
       "    <tr>\n",
       "      <th>8</th>\n",
       "      <td>3</td>\n",
       "      <td>3</td>\n",
       "    </tr>\n",
       "    <tr>\n",
       "      <th>9</th>\n",
       "      <td>5</td>\n",
       "      <td>5</td>\n",
       "    </tr>\n",
       "  </tbody>\n",
       "</table>\n",
       "</div>"
      ],
      "text/plain": [
       "                            Id  ParentId\n",
       "account_id      year month              \n",
       "0010c00001sr7B7 2018 4       5         5\n",
       "                     5      10        10\n",
       "                     6      10        10\n",
       "                     8       3         3\n",
       "                     9       5         5"
      ]
     },
     "execution_count": 129,
     "metadata": {},
     "output_type": "execute_result"
    }
   ],
   "source": [
    "combined_df = email_counts_by_month.join(issue_counts_by_month)\n",
    "combined_df.head()"
   ]
  },
  {
   "cell_type": "code",
   "execution_count": 130,
   "id": "41abeaff-1924-4222-a0ba-9a6294c671ae",
   "metadata": {},
   "outputs": [
    {
     "data": {
      "text/html": [
       "<div>\n",
       "<style scoped>\n",
       "    .dataframe tbody tr th:only-of-type {\n",
       "        vertical-align: middle;\n",
       "    }\n",
       "\n",
       "    .dataframe tbody tr th {\n",
       "        vertical-align: top;\n",
       "    }\n",
       "\n",
       "    .dataframe thead th {\n",
       "        text-align: right;\n",
       "    }\n",
       "</style>\n",
       "<table border=\"1\" class=\"dataframe\">\n",
       "  <thead>\n",
       "    <tr style=\"text-align: right;\">\n",
       "      <th></th>\n",
       "      <th></th>\n",
       "      <th></th>\n",
       "      <th>askunum_id_count</th>\n",
       "      <th>askunum_parentid_count</th>\n",
       "    </tr>\n",
       "    <tr>\n",
       "      <th>account_id</th>\n",
       "      <th>year</th>\n",
       "      <th>month</th>\n",
       "      <th></th>\n",
       "      <th></th>\n",
       "    </tr>\n",
       "  </thead>\n",
       "  <tbody>\n",
       "    <tr>\n",
       "      <th rowspan=\"5\" valign=\"top\">0010c00001sr7B7</th>\n",
       "      <th rowspan=\"5\" valign=\"top\">2018</th>\n",
       "      <th>4</th>\n",
       "      <td>5</td>\n",
       "      <td>5</td>\n",
       "    </tr>\n",
       "    <tr>\n",
       "      <th>5</th>\n",
       "      <td>10</td>\n",
       "      <td>10</td>\n",
       "    </tr>\n",
       "    <tr>\n",
       "      <th>6</th>\n",
       "      <td>10</td>\n",
       "      <td>10</td>\n",
       "    </tr>\n",
       "    <tr>\n",
       "      <th>8</th>\n",
       "      <td>3</td>\n",
       "      <td>3</td>\n",
       "    </tr>\n",
       "    <tr>\n",
       "      <th>9</th>\n",
       "      <td>5</td>\n",
       "      <td>5</td>\n",
       "    </tr>\n",
       "  </tbody>\n",
       "</table>\n",
       "</div>"
      ],
      "text/plain": [
       "                            askunum_id_count  askunum_parentid_count\n",
       "account_id      year month                                          \n",
       "0010c00001sr7B7 2018 4                     5                       5\n",
       "                     5                    10                      10\n",
       "                     6                    10                      10\n",
       "                     8                     3                       3\n",
       "                     9                     5                       5"
      ]
     },
     "execution_count": 130,
     "metadata": {},
     "output_type": "execute_result"
    }
   ],
   "source": [
    "combined_df.rename({\"Id\":'askunum_id_count', 'ParentId':'askunum_parentid_count'}, axis=1, inplace=True)\n",
    "combined_df.head()"
   ]
  },
  {
   "cell_type": "code",
   "execution_count": 133,
   "id": "632f6924-4556-43c2-9350-0b528a746573",
   "metadata": {},
   "outputs": [
    {
     "data": {
      "text/plain": [
       "Index(['askunum_id_count', 'askunum_parentid_count'], dtype='object')"
      ]
     },
     "execution_count": 133,
     "metadata": {},
     "output_type": "execute_result"
    }
   ],
   "source": [
    "combined_df.reset_index(drop=True)\n",
    "combined_df.columns"
   ]
  },
  {
   "cell_type": "code",
   "execution_count": 135,
   "id": "787b01f5-6857-4511-ad38-c8116685fdb2",
   "metadata": {},
   "outputs": [
    {
     "data": {
      "text/html": [
       "<div>\n",
       "<style scoped>\n",
       "    .dataframe tbody tr th:only-of-type {\n",
       "        vertical-align: middle;\n",
       "    }\n",
       "\n",
       "    .dataframe tbody tr th {\n",
       "        vertical-align: top;\n",
       "    }\n",
       "\n",
       "    .dataframe thead th {\n",
       "        text-align: right;\n",
       "    }\n",
       "</style>\n",
       "<table border=\"1\" class=\"dataframe\">\n",
       "  <thead>\n",
       "    <tr style=\"text-align: right;\">\n",
       "      <th></th>\n",
       "      <th>account_id</th>\n",
       "      <th>year</th>\n",
       "      <th>month</th>\n",
       "      <th>askunum_id_count</th>\n",
       "      <th>askunum_parentid_count</th>\n",
       "    </tr>\n",
       "  </thead>\n",
       "  <tbody>\n",
       "    <tr>\n",
       "      <th>0</th>\n",
       "      <td>0010c00001sr7B7</td>\n",
       "      <td>2018</td>\n",
       "      <td>4</td>\n",
       "      <td>5</td>\n",
       "      <td>5</td>\n",
       "    </tr>\n",
       "    <tr>\n",
       "      <th>1</th>\n",
       "      <td>0010c00001sr7B7</td>\n",
       "      <td>2018</td>\n",
       "      <td>5</td>\n",
       "      <td>10</td>\n",
       "      <td>10</td>\n",
       "    </tr>\n",
       "  </tbody>\n",
       "</table>\n",
       "</div>"
      ],
      "text/plain": [
       "        account_id  year  month  askunum_id_count  askunum_parentid_count\n",
       "0  0010c00001sr7B7  2018      4                 5                       5\n",
       "1  0010c00001sr7B7  2018      5                10                      10"
      ]
     },
     "execution_count": 135,
     "metadata": {},
     "output_type": "execute_result"
    }
   ],
   "source": [
    "combined_df=combined_df.reset_index()\n",
    "combined_df.head(2)"
   ]
  },
  {
   "cell_type": "code",
   "execution_count": 138,
   "id": "bd409dad-b823-4756-bc39-9f427a3c2076",
   "metadata": {},
   "outputs": [
    {
     "data": {
      "text/html": [
       "<div>\n",
       "<style scoped>\n",
       "    .dataframe tbody tr th:only-of-type {\n",
       "        vertical-align: middle;\n",
       "    }\n",
       "\n",
       "    .dataframe tbody tr th {\n",
       "        vertical-align: top;\n",
       "    }\n",
       "\n",
       "    .dataframe thead th {\n",
       "        text-align: right;\n",
       "    }\n",
       "</style>\n",
       "<table border=\"1\" class=\"dataframe\">\n",
       "  <thead>\n",
       "    <tr style=\"text-align: right;\">\n",
       "      <th></th>\n",
       "      <th>Id</th>\n",
       "      <th>ParentId</th>\n",
       "      <th>Incoming</th>\n",
       "      <th>MessageDate</th>\n",
       "      <th>TextBody</th>\n",
       "      <th>CreatedDate</th>\n",
       "      <th>ClosedDate</th>\n",
       "      <th>Subtype</th>\n",
       "      <th>year</th>\n",
       "      <th>month</th>\n",
       "      <th>account_id</th>\n",
       "      <th>unum_id</th>\n",
       "    </tr>\n",
       "  </thead>\n",
       "  <tbody>\n",
       "    <tr>\n",
       "      <th>1136587</th>\n",
       "      <td>02s3x00001lwyxeAAA</td>\n",
       "      <td>5003x00002CFUfAAAX</td>\n",
       "      <td>False</td>\n",
       "      <td>2021-10-25T17:07:44.000+0000</td>\n",
       "      <td>fopittsburgh pa pam schon emailpambloomfieldga...</td>\n",
       "      <td>2021-10-22 17:18:20+00:00</td>\n",
       "      <td>2021-10-25T17:08:45.000+0000</td>\n",
       "      <td>Charge or Credit Clarification</td>\n",
       "      <td>2021</td>\n",
       "      <td>10</td>\n",
       "      <td>0013x00002Ipz9G</td>\n",
       "      <td>1000110382</td>\n",
       "    </tr>\n",
       "    <tr>\n",
       "      <th>1136585</th>\n",
       "      <td>02s3x00001lwzYbAAI</td>\n",
       "      <td>5003x00002CFUfAAAX</td>\n",
       "      <td>False</td>\n",
       "      <td>2021-10-25T17:08:22.000+0000</td>\n",
       "      <td>hi pam, i hope this email finds you well. we a...</td>\n",
       "      <td>2021-10-22 17:18:20+00:00</td>\n",
       "      <td>2021-10-25T17:08:45.000+0000</td>\n",
       "      <td>Charge or Credit Clarification</td>\n",
       "      <td>2021</td>\n",
       "      <td>10</td>\n",
       "      <td>0013x00002Ipz9G</td>\n",
       "      <td>1000110382</td>\n",
       "    </tr>\n",
       "  </tbody>\n",
       "</table>\n",
       "</div>"
      ],
      "text/plain": [
       "                         Id            ParentId  Incoming  \\\n",
       "1136587  02s3x00001lwyxeAAA  5003x00002CFUfAAAX     False   \n",
       "1136585  02s3x00001lwzYbAAI  5003x00002CFUfAAAX     False   \n",
       "\n",
       "                          MessageDate  \\\n",
       "1136587  2021-10-25T17:07:44.000+0000   \n",
       "1136585  2021-10-25T17:08:22.000+0000   \n",
       "\n",
       "                                                  TextBody  \\\n",
       "1136587  fopittsburgh pa pam schon emailpambloomfieldga...   \n",
       "1136585  hi pam, i hope this email finds you well. we a...   \n",
       "\n",
       "                      CreatedDate                    ClosedDate  \\\n",
       "1136587 2021-10-22 17:18:20+00:00  2021-10-25T17:08:45.000+0000   \n",
       "1136585 2021-10-22 17:18:20+00:00  2021-10-25T17:08:45.000+0000   \n",
       "\n",
       "                                Subtype  year  month       account_id  \\\n",
       "1136587  Charge or Credit Clarification  2021     10  0013x00002Ipz9G   \n",
       "1136585  Charge or Credit Clarification  2021     10  0013x00002Ipz9G   \n",
       "\n",
       "            unum_id  \n",
       "1136587  1000110382  \n",
       "1136585  1000110382  "
      ]
     },
     "execution_count": 138,
     "metadata": {},
     "output_type": "execute_result"
    }
   ],
   "source": [
    "askunum_df.head(2)"
   ]
  },
  {
   "cell_type": "code",
   "execution_count": 139,
   "id": "646b6674-4d21-4210-89c7-d67bbe009516",
   "metadata": {},
   "outputs": [
    {
     "data": {
      "text/html": [
       "<div>\n",
       "<style scoped>\n",
       "    .dataframe tbody tr th:only-of-type {\n",
       "        vertical-align: middle;\n",
       "    }\n",
       "\n",
       "    .dataframe tbody tr th {\n",
       "        vertical-align: top;\n",
       "    }\n",
       "\n",
       "    .dataframe thead th {\n",
       "        text-align: right;\n",
       "    }\n",
       "</style>\n",
       "<table border=\"1\" class=\"dataframe\">\n",
       "  <thead>\n",
       "    <tr style=\"text-align: right;\">\n",
       "      <th></th>\n",
       "      <th></th>\n",
       "      <th>CreatedDate</th>\n",
       "      <th>ClosedDate</th>\n",
       "      <th>Subtype</th>\n",
       "    </tr>\n",
       "    <tr>\n",
       "      <th>account_id</th>\n",
       "      <th>ParentId</th>\n",
       "      <th></th>\n",
       "      <th></th>\n",
       "      <th></th>\n",
       "    </tr>\n",
       "  </thead>\n",
       "  <tbody>\n",
       "    <tr>\n",
       "      <th rowspan=\"5\" valign=\"top\">0010c00001sr7B7</th>\n",
       "      <th>5000c00001XJbwJAAT</th>\n",
       "      <td>2018-04-04 17:08:37+00:00</td>\n",
       "      <td>2018-04-05T15:15:13.000Z</td>\n",
       "      <td>Employee Coding</td>\n",
       "    </tr>\n",
       "    <tr>\n",
       "      <th>5000c00001YGQaPAAX</th>\n",
       "      <td>2018-04-27 13:14:10+00:00</td>\n",
       "      <td>2018-04-27T13:29:31.000Z</td>\n",
       "      <td>Portability or Conversion</td>\n",
       "    </tr>\n",
       "    <tr>\n",
       "      <th>5000c00001YGs9iAAD</th>\n",
       "      <td>2018-04-30 12:22:32+00:00</td>\n",
       "      <td>2018-04-30T16:50:42.000Z</td>\n",
       "      <td>Employee Coding</td>\n",
       "    </tr>\n",
       "    <tr>\n",
       "      <th>5000c00001Z9VPfAAN</th>\n",
       "      <td>2018-05-16 12:40:47+00:00</td>\n",
       "      <td>2018-05-17T15:56:59.000Z</td>\n",
       "      <td>Renewal Inquiry</td>\n",
       "    </tr>\n",
       "    <tr>\n",
       "      <th>5000c00001Ze7J8AAJ</th>\n",
       "      <td>2018-05-21 14:20:07+00:00</td>\n",
       "      <td>2018-05-21T20:55:53.000Z</td>\n",
       "      <td>Census Listing</td>\n",
       "    </tr>\n",
       "    <tr>\n",
       "      <th>...</th>\n",
       "      <th>...</th>\n",
       "      <td>...</td>\n",
       "      <td>...</td>\n",
       "      <td>...</td>\n",
       "    </tr>\n",
       "    <tr>\n",
       "      <th rowspan=\"5\" valign=\"top\">001a000001st9BC</th>\n",
       "      <th>5000c00001tqZvyAAE</th>\n",
       "      <td>2019-09-19 19:41:49+00:00</td>\n",
       "      <td>2019-09-19T20:05:49.000Z</td>\n",
       "      <td>Employee Coding Discrepancy</td>\n",
       "    </tr>\n",
       "    <tr>\n",
       "      <th>5003x00001zczNcAAI</th>\n",
       "      <td>2020-04-30 17:10:20+00:00</td>\n",
       "      <td>2020-05-02T00:42:37.000+0000</td>\n",
       "      <td>Broker of Record Change (BOR)</td>\n",
       "    </tr>\n",
       "    <tr>\n",
       "      <th>5003x000020F0YFAA0</th>\n",
       "      <td>2020-06-11 16:57:52+00:00</td>\n",
       "      <td>2020-06-11T17:13:48.000+0000</td>\n",
       "      <td>Enrollment</td>\n",
       "    </tr>\n",
       "    <tr>\n",
       "      <th>5003x000020Fm5PAAS</th>\n",
       "      <td>2020-06-19 19:32:43+00:00</td>\n",
       "      <td>2020-06-23T18:44:02.000+0000</td>\n",
       "      <td>Enrollment Kit</td>\n",
       "    </tr>\n",
       "    <tr>\n",
       "      <th>5003x000028KfrUAAS</th>\n",
       "      <td>2021-06-02 00:17:36+00:00</td>\n",
       "      <td>2021-06-03T14:51:08.000+0000</td>\n",
       "      <td>Rates</td>\n",
       "    </tr>\n",
       "  </tbody>\n",
       "</table>\n",
       "<p>2048511 rows × 3 columns</p>\n",
       "</div>"
      ],
      "text/plain": [
       "                                                 CreatedDate  \\\n",
       "account_id      ParentId                                       \n",
       "0010c00001sr7B7 5000c00001XJbwJAAT 2018-04-04 17:08:37+00:00   \n",
       "                5000c00001YGQaPAAX 2018-04-27 13:14:10+00:00   \n",
       "                5000c00001YGs9iAAD 2018-04-30 12:22:32+00:00   \n",
       "                5000c00001Z9VPfAAN 2018-05-16 12:40:47+00:00   \n",
       "                5000c00001Ze7J8AAJ 2018-05-21 14:20:07+00:00   \n",
       "...                                                      ...   \n",
       "001a000001st9BC 5000c00001tqZvyAAE 2019-09-19 19:41:49+00:00   \n",
       "                5003x00001zczNcAAI 2020-04-30 17:10:20+00:00   \n",
       "                5003x000020F0YFAA0 2020-06-11 16:57:52+00:00   \n",
       "                5003x000020Fm5PAAS 2020-06-19 19:32:43+00:00   \n",
       "                5003x000028KfrUAAS 2021-06-02 00:17:36+00:00   \n",
       "\n",
       "                                                      ClosedDate  \\\n",
       "account_id      ParentId                                           \n",
       "0010c00001sr7B7 5000c00001XJbwJAAT      2018-04-05T15:15:13.000Z   \n",
       "                5000c00001YGQaPAAX      2018-04-27T13:29:31.000Z   \n",
       "                5000c00001YGs9iAAD      2018-04-30T16:50:42.000Z   \n",
       "                5000c00001Z9VPfAAN      2018-05-17T15:56:59.000Z   \n",
       "                5000c00001Ze7J8AAJ      2018-05-21T20:55:53.000Z   \n",
       "...                                                          ...   \n",
       "001a000001st9BC 5000c00001tqZvyAAE      2019-09-19T20:05:49.000Z   \n",
       "                5003x00001zczNcAAI  2020-05-02T00:42:37.000+0000   \n",
       "                5003x000020F0YFAA0  2020-06-11T17:13:48.000+0000   \n",
       "                5003x000020Fm5PAAS  2020-06-23T18:44:02.000+0000   \n",
       "                5003x000028KfrUAAS  2021-06-03T14:51:08.000+0000   \n",
       "\n",
       "                                                          Subtype  \n",
       "account_id      ParentId                                           \n",
       "0010c00001sr7B7 5000c00001XJbwJAAT                Employee Coding  \n",
       "                5000c00001YGQaPAAX      Portability or Conversion  \n",
       "                5000c00001YGs9iAAD                Employee Coding  \n",
       "                5000c00001Z9VPfAAN                Renewal Inquiry  \n",
       "                5000c00001Ze7J8AAJ                 Census Listing  \n",
       "...                                                           ...  \n",
       "001a000001st9BC 5000c00001tqZvyAAE    Employee Coding Discrepancy  \n",
       "                5003x00001zczNcAAI  Broker of Record Change (BOR)  \n",
       "                5003x000020F0YFAA0                     Enrollment  \n",
       "                5003x000020Fm5PAAS                 Enrollment Kit  \n",
       "                5003x000028KfrUAAS                          Rates  \n",
       "\n",
       "[2048511 rows x 3 columns]"
      ]
     },
     "execution_count": 139,
     "metadata": {},
     "output_type": "execute_result"
    }
   ],
   "source": [
    "askunum_df.groupby(['account_id', 'ParentId']).agg({'CreatedDate': 'first', 'ClosedDate':'first', 'Subtype' : 'first'})"
   ]
  },
  {
   "cell_type": "code",
   "execution_count": 141,
   "id": "1bc87e4d-8628-4b6c-8ce5-c52ce2a1447a",
   "metadata": {},
   "outputs": [],
   "source": [
    "askunum_df = askunum_df.groupby(['account_id', 'ParentId']).agg({'CreatedDate': 'first', 'ClosedDate':'first', 'Subtype' : 'first'})\n",
    "askunum_df['CreatedDate'] = pd.to_datetime(askunum_df['CreatedDate'])\n",
    "askunum_df['ClosedDate'] = pd.to_datetime(askunum_df['ClosedDate'])\n",
    "askunum_df['count'] = 1\n",
    "askunum_df['askunum_days'] = (askunum_df['ClosedDate'] - askunum_df['CreatedDate']).apply(lambda x: (x.days * 24 + x.seconds / 3600)/24)\n",
    "\n",
    "# per account, per subtype txt_c sum\n",
    "askunum_count_pivot = pd.pivot_table(askunum_df, index='account_id', columns='Subtype', values='count', aggfunc='sum').fillna(0)\n",
    "askunum_days_pivot = pd.pivot_table(askunum_df, index='account_id', columns='Subtype', values='askunum_days', aggfunc='sum').fillna(0)"
   ]
  },
  {
   "cell_type": "code",
   "execution_count": 142,
   "id": "c0fa1d84-6e33-408e-b49b-5f7ae176878b",
   "metadata": {},
   "outputs": [
    {
     "data": {
      "text/html": [
       "<div>\n",
       "<style scoped>\n",
       "    .dataframe tbody tr th:only-of-type {\n",
       "        vertical-align: middle;\n",
       "    }\n",
       "\n",
       "    .dataframe tbody tr th {\n",
       "        vertical-align: top;\n",
       "    }\n",
       "\n",
       "    .dataframe thead th {\n",
       "        text-align: right;\n",
       "    }\n",
       "</style>\n",
       "<table border=\"1\" class=\"dataframe\">\n",
       "  <thead>\n",
       "    <tr style=\"text-align: right;\">\n",
       "      <th></th>\n",
       "      <th></th>\n",
       "      <th>CreatedDate</th>\n",
       "      <th>ClosedDate</th>\n",
       "      <th>Subtype</th>\n",
       "      <th>count</th>\n",
       "      <th>askunum_days</th>\n",
       "    </tr>\n",
       "    <tr>\n",
       "      <th>account_id</th>\n",
       "      <th>ParentId</th>\n",
       "      <th></th>\n",
       "      <th></th>\n",
       "      <th></th>\n",
       "      <th></th>\n",
       "      <th></th>\n",
       "    </tr>\n",
       "  </thead>\n",
       "  <tbody>\n",
       "    <tr>\n",
       "      <th rowspan=\"5\" valign=\"top\">0010c00001sr7B7</th>\n",
       "      <th>5000c00001XJbwJAAT</th>\n",
       "      <td>2018-04-04 17:08:37+00:00</td>\n",
       "      <td>2018-04-05 15:15:13+00:00</td>\n",
       "      <td>Employee Coding</td>\n",
       "      <td>1</td>\n",
       "      <td>0.921250</td>\n",
       "    </tr>\n",
       "    <tr>\n",
       "      <th>5000c00001YGQaPAAX</th>\n",
       "      <td>2018-04-27 13:14:10+00:00</td>\n",
       "      <td>2018-04-27 13:29:31+00:00</td>\n",
       "      <td>Portability or Conversion</td>\n",
       "      <td>1</td>\n",
       "      <td>0.010660</td>\n",
       "    </tr>\n",
       "    <tr>\n",
       "      <th>5000c00001YGs9iAAD</th>\n",
       "      <td>2018-04-30 12:22:32+00:00</td>\n",
       "      <td>2018-04-30 16:50:42+00:00</td>\n",
       "      <td>Employee Coding</td>\n",
       "      <td>1</td>\n",
       "      <td>0.186227</td>\n",
       "    </tr>\n",
       "    <tr>\n",
       "      <th>5000c00001Z9VPfAAN</th>\n",
       "      <td>2018-05-16 12:40:47+00:00</td>\n",
       "      <td>2018-05-17 15:56:59+00:00</td>\n",
       "      <td>Renewal Inquiry</td>\n",
       "      <td>1</td>\n",
       "      <td>1.136250</td>\n",
       "    </tr>\n",
       "    <tr>\n",
       "      <th>5000c00001Ze7J8AAJ</th>\n",
       "      <td>2018-05-21 14:20:07+00:00</td>\n",
       "      <td>2018-05-21 20:55:53+00:00</td>\n",
       "      <td>Census Listing</td>\n",
       "      <td>1</td>\n",
       "      <td>0.274838</td>\n",
       "    </tr>\n",
       "  </tbody>\n",
       "</table>\n",
       "</div>"
      ],
      "text/plain": [
       "                                                 CreatedDate  \\\n",
       "account_id      ParentId                                       \n",
       "0010c00001sr7B7 5000c00001XJbwJAAT 2018-04-04 17:08:37+00:00   \n",
       "                5000c00001YGQaPAAX 2018-04-27 13:14:10+00:00   \n",
       "                5000c00001YGs9iAAD 2018-04-30 12:22:32+00:00   \n",
       "                5000c00001Z9VPfAAN 2018-05-16 12:40:47+00:00   \n",
       "                5000c00001Ze7J8AAJ 2018-05-21 14:20:07+00:00   \n",
       "\n",
       "                                                  ClosedDate  \\\n",
       "account_id      ParentId                                       \n",
       "0010c00001sr7B7 5000c00001XJbwJAAT 2018-04-05 15:15:13+00:00   \n",
       "                5000c00001YGQaPAAX 2018-04-27 13:29:31+00:00   \n",
       "                5000c00001YGs9iAAD 2018-04-30 16:50:42+00:00   \n",
       "                5000c00001Z9VPfAAN 2018-05-17 15:56:59+00:00   \n",
       "                5000c00001Ze7J8AAJ 2018-05-21 20:55:53+00:00   \n",
       "\n",
       "                                                      Subtype  count  \\\n",
       "account_id      ParentId                                               \n",
       "0010c00001sr7B7 5000c00001XJbwJAAT            Employee Coding      1   \n",
       "                5000c00001YGQaPAAX  Portability or Conversion      1   \n",
       "                5000c00001YGs9iAAD            Employee Coding      1   \n",
       "                5000c00001Z9VPfAAN            Renewal Inquiry      1   \n",
       "                5000c00001Ze7J8AAJ             Census Listing      1   \n",
       "\n",
       "                                    askunum_days  \n",
       "account_id      ParentId                          \n",
       "0010c00001sr7B7 5000c00001XJbwJAAT      0.921250  \n",
       "                5000c00001YGQaPAAX      0.010660  \n",
       "                5000c00001YGs9iAAD      0.186227  \n",
       "                5000c00001Z9VPfAAN      1.136250  \n",
       "                5000c00001Ze7J8AAJ      0.274838  "
      ]
     },
     "execution_count": 142,
     "metadata": {},
     "output_type": "execute_result"
    }
   ],
   "source": [
    "askunum_df.head()"
   ]
  },
  {
   "cell_type": "code",
   "execution_count": 143,
   "id": "d78f6762-b0fa-46cb-a326-a79f0643b5b3",
   "metadata": {},
   "outputs": [
    {
     "data": {
      "text/html": [
       "<div>\n",
       "<style scoped>\n",
       "    .dataframe tbody tr th:only-of-type {\n",
       "        vertical-align: middle;\n",
       "    }\n",
       "\n",
       "    .dataframe tbody tr th {\n",
       "        vertical-align: top;\n",
       "    }\n",
       "\n",
       "    .dataframe thead th {\n",
       "        text-align: right;\n",
       "    }\n",
       "</style>\n",
       "<table border=\"1\" class=\"dataframe\">\n",
       "  <thead>\n",
       "    <tr style=\"text-align: right;\">\n",
       "      <th>Subtype</th>\n",
       "      <th>1099</th>\n",
       "      <th>ACH Inquiry/Confirmation</th>\n",
       "      <th>Acquisition/Merger</th>\n",
       "      <th>Add, Remove, or Update user access</th>\n",
       "      <th>Additional Claim Information Received</th>\n",
       "      <th>Address Change</th>\n",
       "      <th>Annual Re-Enrollment</th>\n",
       "      <th>Assignment</th>\n",
       "      <th>Attempted Self Service - Support Needed</th>\n",
       "      <th>Attempted Self-Service - Billing Support</th>\n",
       "      <th>...</th>\n",
       "      <th>Unum Employee Licensing</th>\n",
       "      <th>W-2 Tax Coupon</th>\n",
       "      <th>Website Orientation</th>\n",
       "      <th>Website Registration</th>\n",
       "      <th>Website Service Changes</th>\n",
       "      <th>Website Servicing</th>\n",
       "      <th>Write Off</th>\n",
       "      <th>eSign Declined</th>\n",
       "      <th>eSign Education</th>\n",
       "      <th>eSign Provided</th>\n",
       "    </tr>\n",
       "    <tr>\n",
       "      <th>account_id</th>\n",
       "      <th></th>\n",
       "      <th></th>\n",
       "      <th></th>\n",
       "      <th></th>\n",
       "      <th></th>\n",
       "      <th></th>\n",
       "      <th></th>\n",
       "      <th></th>\n",
       "      <th></th>\n",
       "      <th></th>\n",
       "      <th></th>\n",
       "      <th></th>\n",
       "      <th></th>\n",
       "      <th></th>\n",
       "      <th></th>\n",
       "      <th></th>\n",
       "      <th></th>\n",
       "      <th></th>\n",
       "      <th></th>\n",
       "      <th></th>\n",
       "      <th></th>\n",
       "    </tr>\n",
       "  </thead>\n",
       "  <tbody>\n",
       "    <tr>\n",
       "      <th>0010c00001sr7B7</th>\n",
       "      <td>0.0</td>\n",
       "      <td>0.0</td>\n",
       "      <td>0.0</td>\n",
       "      <td>3.0</td>\n",
       "      <td>0.0</td>\n",
       "      <td>0.0</td>\n",
       "      <td>0.0</td>\n",
       "      <td>0.0</td>\n",
       "      <td>0.0</td>\n",
       "      <td>0.0</td>\n",
       "      <td>...</td>\n",
       "      <td>0.0</td>\n",
       "      <td>0.0</td>\n",
       "      <td>0.0</td>\n",
       "      <td>0.0</td>\n",
       "      <td>0.0</td>\n",
       "      <td>0.0</td>\n",
       "      <td>0.0</td>\n",
       "      <td>0.0</td>\n",
       "      <td>0.0</td>\n",
       "      <td>0.0</td>\n",
       "    </tr>\n",
       "    <tr>\n",
       "      <th>0010c00001sr7B9</th>\n",
       "      <td>0.0</td>\n",
       "      <td>0.0</td>\n",
       "      <td>0.0</td>\n",
       "      <td>1.0</td>\n",
       "      <td>0.0</td>\n",
       "      <td>0.0</td>\n",
       "      <td>1.0</td>\n",
       "      <td>0.0</td>\n",
       "      <td>0.0</td>\n",
       "      <td>0.0</td>\n",
       "      <td>...</td>\n",
       "      <td>0.0</td>\n",
       "      <td>0.0</td>\n",
       "      <td>0.0</td>\n",
       "      <td>0.0</td>\n",
       "      <td>0.0</td>\n",
       "      <td>0.0</td>\n",
       "      <td>0.0</td>\n",
       "      <td>0.0</td>\n",
       "      <td>0.0</td>\n",
       "      <td>0.0</td>\n",
       "    </tr>\n",
       "    <tr>\n",
       "      <th>0010c00001sr7BA</th>\n",
       "      <td>0.0</td>\n",
       "      <td>0.0</td>\n",
       "      <td>0.0</td>\n",
       "      <td>0.0</td>\n",
       "      <td>0.0</td>\n",
       "      <td>0.0</td>\n",
       "      <td>0.0</td>\n",
       "      <td>0.0</td>\n",
       "      <td>0.0</td>\n",
       "      <td>0.0</td>\n",
       "      <td>...</td>\n",
       "      <td>0.0</td>\n",
       "      <td>0.0</td>\n",
       "      <td>0.0</td>\n",
       "      <td>0.0</td>\n",
       "      <td>0.0</td>\n",
       "      <td>0.0</td>\n",
       "      <td>0.0</td>\n",
       "      <td>0.0</td>\n",
       "      <td>0.0</td>\n",
       "      <td>0.0</td>\n",
       "    </tr>\n",
       "    <tr>\n",
       "      <th>0010c00001sr7BB</th>\n",
       "      <td>0.0</td>\n",
       "      <td>0.0</td>\n",
       "      <td>0.0</td>\n",
       "      <td>1.0</td>\n",
       "      <td>3.0</td>\n",
       "      <td>0.0</td>\n",
       "      <td>0.0</td>\n",
       "      <td>0.0</td>\n",
       "      <td>0.0</td>\n",
       "      <td>0.0</td>\n",
       "      <td>...</td>\n",
       "      <td>0.0</td>\n",
       "      <td>0.0</td>\n",
       "      <td>0.0</td>\n",
       "      <td>0.0</td>\n",
       "      <td>1.0</td>\n",
       "      <td>0.0</td>\n",
       "      <td>0.0</td>\n",
       "      <td>0.0</td>\n",
       "      <td>0.0</td>\n",
       "      <td>0.0</td>\n",
       "    </tr>\n",
       "    <tr>\n",
       "      <th>0010c00001sr7BE</th>\n",
       "      <td>0.0</td>\n",
       "      <td>0.0</td>\n",
       "      <td>0.0</td>\n",
       "      <td>1.0</td>\n",
       "      <td>0.0</td>\n",
       "      <td>0.0</td>\n",
       "      <td>0.0</td>\n",
       "      <td>0.0</td>\n",
       "      <td>0.0</td>\n",
       "      <td>0.0</td>\n",
       "      <td>...</td>\n",
       "      <td>0.0</td>\n",
       "      <td>0.0</td>\n",
       "      <td>0.0</td>\n",
       "      <td>0.0</td>\n",
       "      <td>0.0</td>\n",
       "      <td>0.0</td>\n",
       "      <td>0.0</td>\n",
       "      <td>0.0</td>\n",
       "      <td>0.0</td>\n",
       "      <td>0.0</td>\n",
       "    </tr>\n",
       "  </tbody>\n",
       "</table>\n",
       "<p>5 rows × 155 columns</p>\n",
       "</div>"
      ],
      "text/plain": [
       "Subtype          1099  ACH Inquiry/Confirmation  Acquisition/Merger  \\\n",
       "account_id                                                            \n",
       "0010c00001sr7B7   0.0                       0.0                 0.0   \n",
       "0010c00001sr7B9   0.0                       0.0                 0.0   \n",
       "0010c00001sr7BA   0.0                       0.0                 0.0   \n",
       "0010c00001sr7BB   0.0                       0.0                 0.0   \n",
       "0010c00001sr7BE   0.0                       0.0                 0.0   \n",
       "\n",
       "Subtype          Add, Remove, or Update user access  \\\n",
       "account_id                                            \n",
       "0010c00001sr7B7                                 3.0   \n",
       "0010c00001sr7B9                                 1.0   \n",
       "0010c00001sr7BA                                 0.0   \n",
       "0010c00001sr7BB                                 1.0   \n",
       "0010c00001sr7BE                                 1.0   \n",
       "\n",
       "Subtype          Additional Claim Information Received  Address Change  \\\n",
       "account_id                                                               \n",
       "0010c00001sr7B7                                    0.0             0.0   \n",
       "0010c00001sr7B9                                    0.0             0.0   \n",
       "0010c00001sr7BA                                    0.0             0.0   \n",
       "0010c00001sr7BB                                    3.0             0.0   \n",
       "0010c00001sr7BE                                    0.0             0.0   \n",
       "\n",
       "Subtype          Annual Re-Enrollment  Assignment  \\\n",
       "account_id                                          \n",
       "0010c00001sr7B7                   0.0         0.0   \n",
       "0010c00001sr7B9                   1.0         0.0   \n",
       "0010c00001sr7BA                   0.0         0.0   \n",
       "0010c00001sr7BB                   0.0         0.0   \n",
       "0010c00001sr7BE                   0.0         0.0   \n",
       "\n",
       "Subtype          Attempted Self Service - Support Needed  \\\n",
       "account_id                                                 \n",
       "0010c00001sr7B7                                      0.0   \n",
       "0010c00001sr7B9                                      0.0   \n",
       "0010c00001sr7BA                                      0.0   \n",
       "0010c00001sr7BB                                      0.0   \n",
       "0010c00001sr7BE                                      0.0   \n",
       "\n",
       "Subtype          Attempted Self-Service - Billing Support  ...  \\\n",
       "account_id                                                 ...   \n",
       "0010c00001sr7B7                                       0.0  ...   \n",
       "0010c00001sr7B9                                       0.0  ...   \n",
       "0010c00001sr7BA                                       0.0  ...   \n",
       "0010c00001sr7BB                                       0.0  ...   \n",
       "0010c00001sr7BE                                       0.0  ...   \n",
       "\n",
       "Subtype          Unum Employee Licensing  W-2 Tax Coupon  Website Orientation  \\\n",
       "account_id                                                                      \n",
       "0010c00001sr7B7                      0.0             0.0                  0.0   \n",
       "0010c00001sr7B9                      0.0             0.0                  0.0   \n",
       "0010c00001sr7BA                      0.0             0.0                  0.0   \n",
       "0010c00001sr7BB                      0.0             0.0                  0.0   \n",
       "0010c00001sr7BE                      0.0             0.0                  0.0   \n",
       "\n",
       "Subtype          Website Registration  Website Service Changes  \\\n",
       "account_id                                                       \n",
       "0010c00001sr7B7                   0.0                      0.0   \n",
       "0010c00001sr7B9                   0.0                      0.0   \n",
       "0010c00001sr7BA                   0.0                      0.0   \n",
       "0010c00001sr7BB                   0.0                      1.0   \n",
       "0010c00001sr7BE                   0.0                      0.0   \n",
       "\n",
       "Subtype          Website Servicing  Write Off  eSign Declined  \\\n",
       "account_id                                                      \n",
       "0010c00001sr7B7                0.0        0.0             0.0   \n",
       "0010c00001sr7B9                0.0        0.0             0.0   \n",
       "0010c00001sr7BA                0.0        0.0             0.0   \n",
       "0010c00001sr7BB                0.0        0.0             0.0   \n",
       "0010c00001sr7BE                0.0        0.0             0.0   \n",
       "\n",
       "Subtype          eSign Education  eSign Provided  \n",
       "account_id                                        \n",
       "0010c00001sr7B7              0.0             0.0  \n",
       "0010c00001sr7B9              0.0             0.0  \n",
       "0010c00001sr7BA              0.0             0.0  \n",
       "0010c00001sr7BB              0.0             0.0  \n",
       "0010c00001sr7BE              0.0             0.0  \n",
       "\n",
       "[5 rows x 155 columns]"
      ]
     },
     "execution_count": 143,
     "metadata": {},
     "output_type": "execute_result"
    }
   ],
   "source": [
    "askunum_count_pivot.head()"
   ]
  },
  {
   "cell_type": "code",
   "execution_count": 146,
   "id": "9ddacc88-1154-415e-92ab-5820fd622780",
   "metadata": {},
   "outputs": [
    {
     "data": {
      "text/plain": [
       "(155, 155)"
      ]
     },
     "execution_count": 146,
     "metadata": {},
     "output_type": "execute_result"
    }
   ],
   "source": [
    "len(askunum_count_pivot.columns), len(askunum_days_pivot.columns)"
   ]
  },
  {
   "cell_type": "code",
   "execution_count": 148,
   "id": "3d09d8ee-409b-434b-afdb-cc9ac6b46157",
   "metadata": {},
   "outputs": [
    {
     "data": {
      "text/plain": [
       "310"
      ]
     },
     "execution_count": 148,
     "metadata": {},
     "output_type": "execute_result"
    }
   ],
   "source": [
    "cols = list(askunum_count_pivot.columns)\n",
    "new_count_cols = [\"SUB_TYPE_TXT__c_{}\".format(i) for i in cols]\n",
    "new_days_cols = [\"SUB_TYPE_TXT__c_{}_duration\".format(i) for i in cols]\n",
    "askunum_count_pivot = askunum_count_pivot.rename(dict(zip(cols, new_count_cols)), axis=1) \n",
    "askunum_days_pivot = askunum_days_pivot.rename(dict(zip(cols, new_days_cols)), axis=1)\n",
    "askunum_subtypes_df = askunum_count_pivot.join(askunum_days_pivot)\n",
    "len(askunum_subtypes_df.columns)"
   ]
  },
  {
   "cell_type": "code",
   "execution_count": null,
   "id": "b903d146-051c-4128-ae98-bc80e604aac6",
   "metadata": {},
   "outputs": [],
   "source": []
  },
  {
   "cell_type": "code",
   "execution_count": null,
   "id": "332e7a54-3f61-41d3-a0f8-7e87f7f1af1e",
   "metadata": {},
   "outputs": [],
   "source": []
  },
  {
   "cell_type": "code",
   "execution_count": null,
   "id": "e43bad9c-4fe8-4ca7-bd24-89249ab637d1",
   "metadata": {},
   "outputs": [],
   "source": []
  },
  {
   "cell_type": "code",
   "execution_count": 136,
   "id": "550d56d2-7df9-4d79-a058-312390ccf459",
   "metadata": {},
   "outputs": [
    {
     "name": "stdout",
     "output_type": "stream",
     "text": [
      "(184177, 12)\n",
      "(184173, 12)\n"
     ]
    }
   ],
   "source": [
    "my_folder=\"s3://trident-retention-output/\"\n",
    "folder = 's3://trident-retention-data/askunum/'\n",
    "\n",
    "churn_text_pickle=pd.read_pickle(os.path.join(my_folder, \"churn_text_pickle_v1\"))\n",
    "for i in range(2,11):\n",
    "    X=pd.read_pickle(os.path.join(my_folder, f\"churn_text_pickle_v{i}\"))\n",
    "    churn_text_pickle=pd.concat([churn_text_pickle,X])\n",
    "    \n",
    "print(churn_text_pickle.shape)\n",
    "churn_text_pickle=churn_text_pickle[churn_text_pickle['Full_TextBody']!='original message'] ## there are 30 observations that have textbody=='original message'\n",
    "print(churn_text_pickle.shape)"
   ]
  },
  {
   "cell_type": "code",
   "execution_count": null,
   "id": "0af94965-30ff-4017-993a-3128df11fd82",
   "metadata": {},
   "outputs": [],
   "source": []
  },
  {
   "cell_type": "code",
   "execution_count": null,
   "id": "577a4e5f-7251-497a-a57e-35ebca5afeaf",
   "metadata": {},
   "outputs": [],
   "source": []
  },
  {
   "cell_type": "code",
   "execution_count": null,
   "id": "2ef2c1d9-a36b-46bd-9185-caa955cd34df",
   "metadata": {},
   "outputs": [],
   "source": []
  },
  {
   "cell_type": "code",
   "execution_count": null,
   "id": "eafdfc7b-8ced-4ee3-9352-a650b9dc386c",
   "metadata": {},
   "outputs": [],
   "source": []
  },
  {
   "cell_type": "code",
   "execution_count": 150,
   "id": "4c2e0d1a-a572-4107-8f44-38483377bb3d",
   "metadata": {},
   "outputs": [],
   "source": [
    "my_folder=\"s3://trident-retention-output/\"\n",
    "folder = 's3://trident-retention-data/askunum/'\n"
   ]
  },
  {
   "cell_type": "code",
   "execution_count": null,
   "id": "16dad74a-c2fb-45d2-a54e-dd9389daebe4",
   "metadata": {},
   "outputs": [],
   "source": []
  }
 ],
 "metadata": {
  "kernelspec": {
   "display_name": "conda_amazonei_pytorch_latest_p37",
   "language": "python",
   "name": "conda_amazonei_pytorch_latest_p37"
  },
  "language_info": {
   "codemirror_mode": {
    "name": "ipython",
    "version": 3
   },
   "file_extension": ".py",
   "mimetype": "text/x-python",
   "name": "python",
   "nbconvert_exporter": "python",
   "pygments_lexer": "ipython3",
   "version": "3.7.12"
  }
 },
 "nbformat": 4,
 "nbformat_minor": 5
}
