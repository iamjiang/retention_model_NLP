{
 "cells": [
  {
   "cell_type": "code",
   "execution_count": 2,
   "id": "8f166089-d1cc-48b1-90ed-46e8507046db",
   "metadata": {},
   "outputs": [
    {
     "name": "stdout",
     "output_type": "stream",
     "text": [
      "Transformers version is 4.20.1\n"
     ]
    }
   ],
   "source": [
    "import argparse\n",
    "import pandas as pd\n",
    "import numpy as np\n",
    "from numpy import savez_compressed, load\n",
    "import nltk\n",
    "from nltk.corpus import stopwords\n",
    "from nltk.stem import PorterStemmer\n",
    "from functools import reduce\n",
    "en_stopwords = set(stopwords.words('english')) \n",
    "import itertools\n",
    "import re\n",
    "import time\n",
    "import os\n",
    "import pickle\n",
    "\n",
    "import datasets\n",
    "from datasets import load_dataset, load_metric, Dataset, concatenate_datasets,DatasetDict\n",
    "from datasets import load_from_disk\n",
    "from tqdm import tqdm\n",
    "tqdm.pandas(position=0,leave=True)\n",
    "\n",
    "\n",
    "import textwrap\n",
    "\n",
    "import transformers\n",
    "\n",
    "from transformers import (\n",
    "    AdamW,\n",
    "    AutoConfig,\n",
    "    AutoModelWithLMHead,\n",
    "    AutoModelForSeq2SeqLM,\n",
    "    AutoTokenizer,\n",
    "    AutoModelForSeq2SeqLM,\n",
    "    Seq2SeqTrainingArguments,\n",
    "    Seq2SeqTrainer,\n",
    "    get_linear_schedule_with_warmup,\n",
    ")\n",
    "print(\"Transformers version is {}\".format(transformers.__version__))\n",
    "\n",
    "import seaborn as sns\n",
    "from pylab import rcParams\n",
    "import matplotlib.pyplot as plt\n",
    "from matplotlib import rc\n",
    "from IPython.display import display, HTML\n",
    "\n",
    "from collections import Counter\n",
    "from wordcloud import WordCloud\n",
    "\n",
    "sns.set(style=\"whitegrid\",palette='muted',font_scale=1.2)\n",
    "rcParams['figure.figsize']=16,10\n",
    "\n",
    "%config InlineBackend.figure_format=\"retina\"\n",
    "%matplotlib inline\n",
    "\n",
    "pd.set_option('display.max_columns', None,'display.max_rows',None)"
   ]
  },
  {
   "cell_type": "code",
   "execution_count": 3,
   "id": "27f6c700-9b4e-4538-a213-295b7959220e",
   "metadata": {},
   "outputs": [
    {
     "data": {
      "text/plain": [
       "DatasetDict({\n",
       "    train: Dataset({\n",
       "        features: ['Full_TextBody', 'Client_TextBody', 'Latest_TextBody', 'year', 'churn'],\n",
       "        num_rows: 156414\n",
       "    })\n",
       "    test: Dataset({\n",
       "        features: ['Full_TextBody', 'Client_TextBody', 'Latest_TextBody', 'year', 'churn'],\n",
       "        num_rows: 27497\n",
       "    })\n",
       "})"
      ]
     },
     "execution_count": 3,
     "metadata": {},
     "output_type": "execute_result"
    }
   ],
   "source": [
    "email_all=load_from_disk(os.path.join(os.getcwd(),\"dataset\",\"email_all\"))\n",
    "email_all"
   ]
  },
  {
   "cell_type": "code",
   "execution_count": 4,
   "id": "63abecde-acf3-4b01-91a1-76ba2c213b05",
   "metadata": {},
   "outputs": [],
   "source": [
    "train_data=email_all['train']\n",
    "test_data=email_all['test']\n",
    "train_data.set_format(type=\"pandas\")\n",
    "df_train=train_data[:]\n",
    "test_data.set_format(type=\"pandas\")\n",
    "df_test=test_data[:]"
   ]
  },
  {
   "cell_type": "code",
   "execution_count": 5,
   "id": "5b7a2fb0-af7f-4a7d-9dc4-3e28513f6f67",
   "metadata": {},
   "outputs": [
    {
     "data": {
      "text/html": [
       "<style type=\"text/css\">\n",
       "#T_e18b2_ caption {\n",
       "  color: red;\n",
       "  font-size: 15px;\n",
       "}\n",
       "</style>\n",
       "<table id=\"T_e18b2_\">\n",
       "  <caption>Training set churn dist</caption>\n",
       "  <thead>\n",
       "    <tr>\n",
       "      <th class=\"blank level0\" >&nbsp;</th>\n",
       "      <th class=\"col_heading level0 col0\" >churn</th>\n",
       "      <th class=\"col_heading level0 col1\" >count</th>\n",
       "      <th class=\"col_heading level0 col2\" >percentage</th>\n",
       "    </tr>\n",
       "  </thead>\n",
       "  <tbody>\n",
       "    <tr>\n",
       "      <th id=\"T_e18b2_level0_row0\" class=\"row_heading level0 row0\" >0</th>\n",
       "      <td id=\"T_e18b2_row0_col0\" class=\"data row0 col0\" >0</td>\n",
       "      <td id=\"T_e18b2_row0_col1\" class=\"data row0 col1\" >133,904</td>\n",
       "      <td id=\"T_e18b2_row0_col2\" class=\"data row0 col2\" >85.61%</td>\n",
       "    </tr>\n",
       "    <tr>\n",
       "      <th id=\"T_e18b2_level0_row1\" class=\"row_heading level0 row1\" >1</th>\n",
       "      <td id=\"T_e18b2_row1_col0\" class=\"data row1 col0\" >1</td>\n",
       "      <td id=\"T_e18b2_row1_col1\" class=\"data row1 col1\" >22,510</td>\n",
       "      <td id=\"T_e18b2_row1_col2\" class=\"data row1 col2\" >14.39%</td>\n",
       "    </tr>\n",
       "  </tbody>\n",
       "</table>\n"
      ],
      "text/plain": [
       "<pandas.io.formats.style.Styler at 0x7f42006e0050>"
      ]
     },
     "execution_count": 5,
     "metadata": {},
     "output_type": "execute_result"
    }
   ],
   "source": [
    "tempt1=pd.DataFrame(df_train[\"churn\"].value_counts(dropna=False)).reset_index().rename(columns={'index':'churn','churn':'count'})\n",
    "tempt2=pd.DataFrame(df_train[\"churn\"].value_counts(dropna=False,normalize=True)).reset_index().rename(columns={'index':'churn','churn':'percentage'})\n",
    "tempt1.merge(tempt2, on=\"churn\", how=\"inner\").style.format({'count':'{:,}','percentage':'{:.2%}'}).set_caption(\"Training set churn dist\")\\\n",
    ".set_table_styles([{'selector': 'caption','props': [('color', 'red'),('font-size', '15px')]}])"
   ]
  },
  {
   "cell_type": "code",
   "execution_count": 6,
   "id": "340c8ec2-876b-4a6a-88fd-06d6bab32319",
   "metadata": {},
   "outputs": [
    {
     "data": {
      "text/html": [
       "<style type=\"text/css\">\n",
       "#T_0d9ac_ caption {\n",
       "  color: red;\n",
       "  font-size: 15px;\n",
       "}\n",
       "</style>\n",
       "<table id=\"T_0d9ac_\">\n",
       "  <caption>Test set churn dist</caption>\n",
       "  <thead>\n",
       "    <tr>\n",
       "      <th class=\"blank level0\" >&nbsp;</th>\n",
       "      <th class=\"col_heading level0 col0\" >churn</th>\n",
       "      <th class=\"col_heading level0 col1\" >count</th>\n",
       "      <th class=\"col_heading level0 col2\" >percentage</th>\n",
       "    </tr>\n",
       "  </thead>\n",
       "  <tbody>\n",
       "    <tr>\n",
       "      <th id=\"T_0d9ac_level0_row0\" class=\"row_heading level0 row0\" >0</th>\n",
       "      <td id=\"T_0d9ac_row0_col0\" class=\"data row0 col0\" >0</td>\n",
       "      <td id=\"T_0d9ac_row0_col1\" class=\"data row0 col1\" >23,786</td>\n",
       "      <td id=\"T_0d9ac_row0_col2\" class=\"data row0 col2\" >86.50%</td>\n",
       "    </tr>\n",
       "    <tr>\n",
       "      <th id=\"T_0d9ac_level0_row1\" class=\"row_heading level0 row1\" >1</th>\n",
       "      <td id=\"T_0d9ac_row1_col0\" class=\"data row1 col0\" >1</td>\n",
       "      <td id=\"T_0d9ac_row1_col1\" class=\"data row1 col1\" >3,711</td>\n",
       "      <td id=\"T_0d9ac_row1_col2\" class=\"data row1 col2\" >13.50%</td>\n",
       "    </tr>\n",
       "  </tbody>\n",
       "</table>\n"
      ],
      "text/plain": [
       "<pandas.io.formats.style.Styler at 0x7f4218419750>"
      ]
     },
     "execution_count": 6,
     "metadata": {},
     "output_type": "execute_result"
    }
   ],
   "source": [
    "tempt1=pd.DataFrame(df_test[\"churn\"].value_counts(dropna=False)).reset_index().rename(columns={'index':'churn','churn':'count'})\n",
    "tempt2=pd.DataFrame(df_test[\"churn\"].value_counts(dropna=False,normalize=True)).reset_index().rename(columns={'index':'churn','churn':'percentage'})\n",
    "tempt1.merge(tempt2, on=\"churn\", how=\"inner\").style.format({'count':'{:,}','percentage':'{:.2%}'}).set_caption(\"Test set churn dist\")\\\n",
    ".set_table_styles([{'selector': 'caption','props': [('color', 'red'),('font-size', '15px')]}])"
   ]
  },
  {
   "cell_type": "code",
   "execution_count": 7,
   "id": "ea41a9cc-760d-4a9f-9d09-fa3e5b37b28f",
   "metadata": {},
   "outputs": [
    {
     "data": {
      "text/html": [
       "<div>\n",
       "<style scoped>\n",
       "    .dataframe tbody tr th:only-of-type {\n",
       "        vertical-align: middle;\n",
       "    }\n",
       "\n",
       "    .dataframe tbody tr th {\n",
       "        vertical-align: top;\n",
       "    }\n",
       "\n",
       "    .dataframe thead th {\n",
       "        text-align: right;\n",
       "    }\n",
       "</style>\n",
       "<table border=\"1\" class=\"dataframe\">\n",
       "  <thead>\n",
       "    <tr style=\"text-align: right;\">\n",
       "      <th></th>\n",
       "      <th>Full_TextBody</th>\n",
       "      <th>Client_TextBody</th>\n",
       "      <th>Latest_TextBody</th>\n",
       "      <th>year</th>\n",
       "      <th>churn</th>\n",
       "    </tr>\n",
       "  </thead>\n",
       "  <tbody>\n",
       "    <tr>\n",
       "      <th>0</th>\n",
       "      <td>the pa called to advise this employee went to ...</td>\n",
       "      <td>this is becoming a trend. the ml screen needs ...</td>\n",
       "      <td>thank you for your call. as we discussed i hav...</td>\n",
       "      <td>2020</td>\n",
       "      <td>0</td>\n",
       "    </tr>\n",
       "    <tr>\n",
       "      <th>1</th>\n",
       "      <td>i am wondering if there were any changes made ...</td>\n",
       "      <td>i am wondering if there were any changes made ...</td>\n",
       "      <td>please find attached the requested invoice for...</td>\n",
       "      <td>2020</td>\n",
       "      <td>0</td>\n",
       "    </tr>\n",
       "    <tr>\n",
       "      <th>2</th>\n",
       "      <td>could you please terminate kerry lynn ellis xx...</td>\n",
       "      <td>could you please terminate kerry lynn ellis xx...</td>\n",
       "      <td>i have confirmed the termination for kerry lyn...</td>\n",
       "      <td>2020</td>\n",
       "      <td>0</td>\n",
       "    </tr>\n",
       "    <tr>\n",
       "      <th>3</th>\n",
       "      <td>please provide any conversion paperwork the be...</td>\n",
       "      <td>please provide any conversion paperwork the be...</td>\n",
       "      <td>thank you for your email. i have attached the ...</td>\n",
       "      <td>2019</td>\n",
       "      <td>0</td>\n",
       "    </tr>\n",
       "    <tr>\n",
       "      <th>4</th>\n",
       "      <td>comment one of my employees is a member of the...</td>\n",
       "      <td>comment one of my employees is a member of the...</td>\n",
       "      <td>there is no account team information in cme fo...</td>\n",
       "      <td>2019</td>\n",
       "      <td>0</td>\n",
       "    </tr>\n",
       "  </tbody>\n",
       "</table>\n",
       "</div>"
      ],
      "text/plain": [
       "                                       Full_TextBody  \\\n",
       "0  the pa called to advise this employee went to ...   \n",
       "1  i am wondering if there were any changes made ...   \n",
       "2  could you please terminate kerry lynn ellis xx...   \n",
       "3  please provide any conversion paperwork the be...   \n",
       "4  comment one of my employees is a member of the...   \n",
       "\n",
       "                                     Client_TextBody  \\\n",
       "0  this is becoming a trend. the ml screen needs ...   \n",
       "1  i am wondering if there were any changes made ...   \n",
       "2  could you please terminate kerry lynn ellis xx...   \n",
       "3  please provide any conversion paperwork the be...   \n",
       "4  comment one of my employees is a member of the...   \n",
       "\n",
       "                                     Latest_TextBody  year  churn  \n",
       "0  thank you for your call. as we discussed i hav...  2020      0  \n",
       "1  please find attached the requested invoice for...  2020      0  \n",
       "2  i have confirmed the termination for kerry lyn...  2020      0  \n",
       "3  thank you for your email. i have attached the ...  2019      0  \n",
       "4  there is no account team information in cme fo...  2019      0  "
      ]
     },
     "execution_count": 7,
     "metadata": {},
     "output_type": "execute_result"
    }
   ],
   "source": [
    "df_train.head()"
   ]
  },
  {
   "cell_type": "code",
   "execution_count": 8,
   "id": "6f6a1fc3-161e-43cc-84ec-fbe08a89344f",
   "metadata": {},
   "outputs": [],
   "source": [
    "from datasets import Dataset\n",
    "model_checkpoint=\"allenai/longformer-base-4096\"\n",
    "tokenizer=AutoTokenizer.from_pretrained(model_checkpoint)"
   ]
  },
  {
   "cell_type": "code",
   "execution_count": 9,
   "id": "30483a69-45fd-4c89-8168-1277ccc23e50",
   "metadata": {},
   "outputs": [
    {
     "data": {
      "application/vnd.jupyter.widget-view+json": {
       "model_id": "40beb2c5076a4d1ca93e14bd4a8246cc",
       "version_major": 2,
       "version_minor": 0
      },
      "text/plain": [
       "  0%|          | 0/157 [00:00<?, ?ba/s]"
      ]
     },
     "metadata": {},
     "output_type": "display_data"
    },
    {
     "name": "stderr",
     "output_type": "stream",
     "text": [
      "Token indices sequence length is longer than the specified maximum sequence length for this model (4720 > 4096). Running this sequence through the model will result in indexing errors\n"
     ]
    },
    {
     "data": {
      "application/vnd.jupyter.widget-view+json": {
       "model_id": "61d9caa01375431da7606d73156cf3af",
       "version_major": 2,
       "version_minor": 0
      },
      "text/plain": [
       "  0%|          | 0/28 [00:00<?, ?ba/s]"
      ]
     },
     "metadata": {},
     "output_type": "display_data"
    },
    {
     "data": {
      "application/vnd.jupyter.widget-view+json": {
       "model_id": "6e1591995a044b86910b5cd27a1123c9",
       "version_major": 2,
       "version_minor": 0
      },
      "text/plain": [
       "  0%|          | 0/156414 [00:00<?, ?ex/s]"
      ]
     },
     "metadata": {},
     "output_type": "display_data"
    },
    {
     "data": {
      "application/vnd.jupyter.widget-view+json": {
       "model_id": "4dcb8880e739450981d185fe6e916bf3",
       "version_major": 2,
       "version_minor": 0
      },
      "text/plain": [
       "  0%|          | 0/27497 [00:00<?, ?ex/s]"
      ]
     },
     "metadata": {},
     "output_type": "display_data"
    }
   ],
   "source": [
    "train_df1=Dataset.from_pandas(df_train)\n",
    "train_df1=train_df1.map(lambda x: tokenizer(x[\"Full_TextBody\"]),batched=True)\n",
    "\n",
    "test_df1=Dataset.from_pandas(df_test)\n",
    "test_df1=test_df1.map(lambda x: tokenizer(x[\"Full_TextBody\"]),batched=True)\n",
    "\n",
    "def compute_lenth(example):\n",
    "    return {\"text_length\":len(example[\"input_ids\"])}\n",
    "train_df1=train_df1.map(compute_lenth)\n",
    "test_df1=test_df1.map(compute_lenth)"
   ]
  },
  {
   "cell_type": "code",
   "execution_count": 10,
   "id": "cbfe1e62-fcc6-4b79-aab5-0d0e27dd81d8",
   "metadata": {},
   "outputs": [
    {
     "data": {
      "application/vnd.jupyter.widget-view+json": {
       "model_id": "f76fc7f0b9c5417aa2ceaee64c5be8c1",
       "version_major": 2,
       "version_minor": 0
      },
      "text/plain": [
       "  0%|          | 0/157 [00:00<?, ?ba/s]"
      ]
     },
     "metadata": {},
     "output_type": "display_data"
    },
    {
     "data": {
      "application/vnd.jupyter.widget-view+json": {
       "model_id": "34b91dd969ef46ed8ef734756a17572e",
       "version_major": 2,
       "version_minor": 0
      },
      "text/plain": [
       "  0%|          | 0/141 [00:00<?, ?ba/s]"
      ]
     },
     "metadata": {},
     "output_type": "display_data"
    },
    {
     "data": {
      "application/vnd.jupyter.widget-view+json": {
       "model_id": "9b5897637ce747098ad1d1515a5306cb",
       "version_major": 2,
       "version_minor": 0
      },
      "text/plain": [
       "  0%|          | 0/28 [00:00<?, ?ba/s]"
      ]
     },
     "metadata": {},
     "output_type": "display_data"
    },
    {
     "data": {
      "application/vnd.jupyter.widget-view+json": {
       "model_id": "a8f4d7f131b64d2b8c61d28605f7c806",
       "version_major": 2,
       "version_minor": 0
      },
      "text/plain": [
       "  0%|          | 0/25 [00:00<?, ?ba/s]"
      ]
     },
     "metadata": {},
     "output_type": "display_data"
    },
    {
     "data": {
      "application/vnd.jupyter.widget-view+json": {
       "model_id": "cd8d68a1b7af475ab1fb554f5b699eb8",
       "version_major": 2,
       "version_minor": 0
      },
      "text/plain": [
       "  0%|          | 0/140903 [00:00<?, ?ex/s]"
      ]
     },
     "metadata": {},
     "output_type": "display_data"
    },
    {
     "data": {
      "application/vnd.jupyter.widget-view+json": {
       "model_id": "8919941ed38a4fff873c164764baee71",
       "version_major": 2,
       "version_minor": 0
      },
      "text/plain": [
       "  0%|          | 0/24863 [00:00<?, ?ex/s]"
      ]
     },
     "metadata": {},
     "output_type": "display_data"
    }
   ],
   "source": [
    "train_df2=Dataset.from_pandas(df_train)\n",
    "train_df2=train_df2.filter(lambda x: x[\"Client_TextBody\"]!=None)\n",
    "train_df2=train_df2.map(lambda x: tokenizer(x[\"Client_TextBody\"]),batched=True)\n",
    "\n",
    "test_df2=Dataset.from_pandas(df_test)\n",
    "test_df2=test_df2.filter(lambda x: x[\"Client_TextBody\"]!=None)\n",
    "test_df2=test_df2.map(lambda x: tokenizer(x[\"Client_TextBody\"]),batched=True)\n",
    "\n",
    "def compute_lenth(example):\n",
    "    return {\"text_length\":len(example[\"input_ids\"])}\n",
    "train_df2=train_df2.map(compute_lenth)\n",
    "test_df2=test_df2.map(compute_lenth)"
   ]
  },
  {
   "cell_type": "code",
   "execution_count": 11,
   "id": "64399831-c439-4cf7-94cb-c1582254f61c",
   "metadata": {},
   "outputs": [
    {
     "data": {
      "application/vnd.jupyter.widget-view+json": {
       "model_id": "a819d04557e94a4ab069abd7e5267072",
       "version_major": 2,
       "version_minor": 0
      },
      "text/plain": [
       "  0%|          | 0/157 [00:00<?, ?ba/s]"
      ]
     },
     "metadata": {},
     "output_type": "display_data"
    },
    {
     "data": {
      "application/vnd.jupyter.widget-view+json": {
       "model_id": "c789109677de4654b4d67e91177508ab",
       "version_major": 2,
       "version_minor": 0
      },
      "text/plain": [
       "  0%|          | 0/28 [00:00<?, ?ba/s]"
      ]
     },
     "metadata": {},
     "output_type": "display_data"
    },
    {
     "data": {
      "application/vnd.jupyter.widget-view+json": {
       "model_id": "003a1a2c4bb34c7f9c4872046c40f2f0",
       "version_major": 2,
       "version_minor": 0
      },
      "text/plain": [
       "  0%|          | 0/156414 [00:00<?, ?ex/s]"
      ]
     },
     "metadata": {},
     "output_type": "display_data"
    },
    {
     "data": {
      "application/vnd.jupyter.widget-view+json": {
       "model_id": "604691566ec44129a064af83ecb28534",
       "version_major": 2,
       "version_minor": 0
      },
      "text/plain": [
       "  0%|          | 0/27497 [00:00<?, ?ex/s]"
      ]
     },
     "metadata": {},
     "output_type": "display_data"
    }
   ],
   "source": [
    "train_df3=Dataset.from_pandas(df_train)\n",
    "train_df3=train_df3.map(lambda x: tokenizer(x[\"Latest_TextBody\"]),batched=True)\n",
    "\n",
    "test_df3=Dataset.from_pandas(df_test)\n",
    "test_df3=test_df3.map(lambda x: tokenizer(x[\"Latest_TextBody\"]),batched=True)\n",
    "\n",
    "def compute_lenth(example):\n",
    "    return {\"text_length\":len(example[\"input_ids\"])}\n",
    "train_df3=train_df3.map(compute_lenth)\n",
    "test_df3=test_df3.map(compute_lenth)"
   ]
  },
  {
   "cell_type": "code",
   "execution_count": 12,
   "id": "77c7c0e5-bd74-4ac8-aa09-e4fce108a856",
   "metadata": {},
   "outputs": [],
   "source": [
    "def statistics_compute(hf_df1,hf_df2,p=1):\n",
    "\n",
    "    X=[]\n",
    "    X.append(np.percentile(hf_df1['text_length'],p))\n",
    "    X.append(np.percentile(hf_df2['text_length'],p))\n",
    "    \n",
    "    result={}\n",
    "    result['percentile']=X\n",
    "    result[\"min\"]=[np.min(hf_df1['text_length']),np.min(hf_df2['text_length'])]\n",
    "    result[\"max\"]=[np.max(hf_df1['text_length']),np.max(hf_df2['text_length'])]\n",
    "    result[\"mean\"]=[np.mean(hf_df1['text_length']),np.mean(hf_df2['text_length'])]\n",
    "    return result\n",
    "\n",
    "def statistics_table(hf_df1,hf_df2):\n",
    "    dict_data={}\n",
    "    dict_data[\"data_type\"]=[\"training\", \"test\"]\n",
    "    dict_data[\"# of obs\"]=[len(hf_df1['text_length']),len(hf_df2['text_length'])]\n",
    "    dict_data[\"Min of tokens\"]=statistics_compute(hf_df1, hf_df2)[\"min\"]\n",
    "    dict_data[\"1% of tokens\"]=statistics_compute(hf_df1, hf_df2, p=1)['percentile']\n",
    "    dict_data[\"5% of tokens\"]=statistics_compute(hf_df1, hf_df2, p=5)['percentile']\n",
    "    dict_data[\"10% of tokens\"]=statistics_compute(hf_df1, hf_df2, p=10)['percentile']\n",
    "    dict_data[\"25% of tokens\"]=statistics_compute(hf_df1, hf_df2, p=25)['percentile']\n",
    "    dict_data[\"Median of tokens\"]=statistics_compute(hf_df1, hf_df2, p=50)['percentile']\n",
    "    dict_data[\"Average tokens\"]=statistics_compute(hf_df1, hf_df2)[\"mean\"]\n",
    "    dict_data[\"75% of tokens\"]=statistics_compute(hf_df1, hf_df2, p=75)['percentile']\n",
    "    dict_data[\"90% of tokens\"]=statistics_compute(hf_df1, hf_df2, p=90)['percentile']\n",
    "    dict_data[\"95% of tokens\"]=statistics_compute(hf_df1, hf_df2, p=95)['percentile']\n",
    "    dict_data[\"99% of tokens\"]=statistics_compute(hf_df1, hf_df2, p=99)['percentile']\n",
    "    dict_data[\"Max of tokens\"]=statistics_compute(hf_df1, hf_df2)[\"max\"]\n",
    "    token_count_df=pd.DataFrame(dict_data)\n",
    "    return token_count_df\n",
    "\n",
    "def style_format(token_count_df,  textbody=\"Full_TextBody\"):\n",
    "    token_count_df=token_count_df.set_index(\"data_type\")\n",
    "    token_count_df[list(token_count_df.columns)] = token_count_df[list(token_count_df.columns)].astype(int)\n",
    "    return token_count_df.style.format(\"{:,}\").set_caption(f\"Summary Statistics of token lengths for {textbody} \").set_table_styles([{\n",
    "        'selector': 'caption',\n",
    "        'props': [\n",
    "            ('color', 'red'),\n",
    "            ('font-size', '20px')\n",
    "        ]\n",
    "    }])"
   ]
  },
  {
   "cell_type": "code",
   "execution_count": 13,
   "id": "946afc1b-01bb-4697-9749-1513930c3b6a",
   "metadata": {},
   "outputs": [
    {
     "data": {
      "text/html": [
       "<style type=\"text/css\">\n",
       "#T_606bd_ caption {\n",
       "  color: red;\n",
       "  font-size: 20px;\n",
       "}\n",
       "</style>\n",
       "<table id=\"T_606bd_\">\n",
       "  <caption>Summary Statistics of token lengths for Full_TextBody </caption>\n",
       "  <thead>\n",
       "    <tr>\n",
       "      <th class=\"blank level0\" >&nbsp;</th>\n",
       "      <th class=\"col_heading level0 col0\" ># of obs</th>\n",
       "      <th class=\"col_heading level0 col1\" >Min of tokens</th>\n",
       "      <th class=\"col_heading level0 col2\" >1% of tokens</th>\n",
       "      <th class=\"col_heading level0 col3\" >5% of tokens</th>\n",
       "      <th class=\"col_heading level0 col4\" >10% of tokens</th>\n",
       "      <th class=\"col_heading level0 col5\" >25% of tokens</th>\n",
       "      <th class=\"col_heading level0 col6\" >Median of tokens</th>\n",
       "      <th class=\"col_heading level0 col7\" >Average tokens</th>\n",
       "      <th class=\"col_heading level0 col8\" >75% of tokens</th>\n",
       "      <th class=\"col_heading level0 col9\" >90% of tokens</th>\n",
       "      <th class=\"col_heading level0 col10\" >95% of tokens</th>\n",
       "      <th class=\"col_heading level0 col11\" >99% of tokens</th>\n",
       "      <th class=\"col_heading level0 col12\" >Max of tokens</th>\n",
       "    </tr>\n",
       "    <tr>\n",
       "      <th class=\"index_name level0\" >data_type</th>\n",
       "      <th class=\"blank col0\" >&nbsp;</th>\n",
       "      <th class=\"blank col1\" >&nbsp;</th>\n",
       "      <th class=\"blank col2\" >&nbsp;</th>\n",
       "      <th class=\"blank col3\" >&nbsp;</th>\n",
       "      <th class=\"blank col4\" >&nbsp;</th>\n",
       "      <th class=\"blank col5\" >&nbsp;</th>\n",
       "      <th class=\"blank col6\" >&nbsp;</th>\n",
       "      <th class=\"blank col7\" >&nbsp;</th>\n",
       "      <th class=\"blank col8\" >&nbsp;</th>\n",
       "      <th class=\"blank col9\" >&nbsp;</th>\n",
       "      <th class=\"blank col10\" >&nbsp;</th>\n",
       "      <th class=\"blank col11\" >&nbsp;</th>\n",
       "      <th class=\"blank col12\" >&nbsp;</th>\n",
       "    </tr>\n",
       "  </thead>\n",
       "  <tbody>\n",
       "    <tr>\n",
       "      <th id=\"T_606bd_level0_row0\" class=\"row_heading level0 row0\" >training</th>\n",
       "      <td id=\"T_606bd_row0_col0\" class=\"data row0 col0\" >156,414</td>\n",
       "      <td id=\"T_606bd_row0_col1\" class=\"data row0 col1\" >11</td>\n",
       "      <td id=\"T_606bd_row0_col2\" class=\"data row0 col2\" >54</td>\n",
       "      <td id=\"T_606bd_row0_col3\" class=\"data row0 col3\" >86</td>\n",
       "      <td id=\"T_606bd_row0_col4\" class=\"data row0 col4\" >132</td>\n",
       "      <td id=\"T_606bd_row0_col5\" class=\"data row0 col5\" >286</td>\n",
       "      <td id=\"T_606bd_row0_col6\" class=\"data row0 col6\" >731</td>\n",
       "      <td id=\"T_606bd_row0_col7\" class=\"data row0 col7\" >1,501</td>\n",
       "      <td id=\"T_606bd_row0_col8\" class=\"data row0 col8\" >1,785</td>\n",
       "      <td id=\"T_606bd_row0_col9\" class=\"data row0 col9\" >3,674</td>\n",
       "      <td id=\"T_606bd_row0_col10\" class=\"data row0 col10\" >5,338</td>\n",
       "      <td id=\"T_606bd_row0_col11\" class=\"data row0 col11\" >10,572</td>\n",
       "      <td id=\"T_606bd_row0_col12\" class=\"data row0 col12\" >104,305</td>\n",
       "    </tr>\n",
       "    <tr>\n",
       "      <th id=\"T_606bd_level0_row1\" class=\"row_heading level0 row1\" >test</th>\n",
       "      <td id=\"T_606bd_row1_col0\" class=\"data row1 col0\" >27,497</td>\n",
       "      <td id=\"T_606bd_row1_col1\" class=\"data row1 col1\" >12</td>\n",
       "      <td id=\"T_606bd_row1_col2\" class=\"data row1 col2\" >63</td>\n",
       "      <td id=\"T_606bd_row1_col3\" class=\"data row1 col3\" >101</td>\n",
       "      <td id=\"T_606bd_row1_col4\" class=\"data row1 col4\" >153</td>\n",
       "      <td id=\"T_606bd_row1_col5\" class=\"data row1 col5\" >337</td>\n",
       "      <td id=\"T_606bd_row1_col6\" class=\"data row1 col6\" >869</td>\n",
       "      <td id=\"T_606bd_row1_col7\" class=\"data row1 col7\" >1,723</td>\n",
       "      <td id=\"T_606bd_row1_col8\" class=\"data row1 col8\" >2,090</td>\n",
       "      <td id=\"T_606bd_row1_col9\" class=\"data row1 col9\" >4,093</td>\n",
       "      <td id=\"T_606bd_row1_col10\" class=\"data row1 col10\" >6,018</td>\n",
       "      <td id=\"T_606bd_row1_col11\" class=\"data row1 col11\" >12,725</td>\n",
       "      <td id=\"T_606bd_row1_col12\" class=\"data row1 col12\" >61,064</td>\n",
       "    </tr>\n",
       "  </tbody>\n",
       "</table>\n"
      ],
      "text/plain": [
       "<pandas.io.formats.style.Styler at 0x7f4186f6bed0>"
      ]
     },
     "execution_count": 13,
     "metadata": {},
     "output_type": "execute_result"
    }
   ],
   "source": [
    "token_count_df=statistics_table(train_df1,test_df1)\n",
    "style_format(token_count_df,  textbody=\"Full_TextBody\")"
   ]
  },
  {
   "cell_type": "code",
   "execution_count": 14,
   "id": "2978aa23-ed24-4ce5-9730-bb7dcbca7bf2",
   "metadata": {},
   "outputs": [
    {
     "data": {
      "text/html": [
       "<style type=\"text/css\">\n",
       "#T_64ada_ caption {\n",
       "  color: red;\n",
       "  font-size: 20px;\n",
       "}\n",
       "</style>\n",
       "<table id=\"T_64ada_\">\n",
       "  <caption>Summary Statistics of token lengths for Client_TextBody </caption>\n",
       "  <thead>\n",
       "    <tr>\n",
       "      <th class=\"blank level0\" >&nbsp;</th>\n",
       "      <th class=\"col_heading level0 col0\" ># of obs</th>\n",
       "      <th class=\"col_heading level0 col1\" >Min of tokens</th>\n",
       "      <th class=\"col_heading level0 col2\" >1% of tokens</th>\n",
       "      <th class=\"col_heading level0 col3\" >5% of tokens</th>\n",
       "      <th class=\"col_heading level0 col4\" >10% of tokens</th>\n",
       "      <th class=\"col_heading level0 col5\" >25% of tokens</th>\n",
       "      <th class=\"col_heading level0 col6\" >Median of tokens</th>\n",
       "      <th class=\"col_heading level0 col7\" >Average tokens</th>\n",
       "      <th class=\"col_heading level0 col8\" >75% of tokens</th>\n",
       "      <th class=\"col_heading level0 col9\" >90% of tokens</th>\n",
       "      <th class=\"col_heading level0 col10\" >95% of tokens</th>\n",
       "      <th class=\"col_heading level0 col11\" >99% of tokens</th>\n",
       "      <th class=\"col_heading level0 col12\" >Max of tokens</th>\n",
       "    </tr>\n",
       "    <tr>\n",
       "      <th class=\"index_name level0\" >data_type</th>\n",
       "      <th class=\"blank col0\" >&nbsp;</th>\n",
       "      <th class=\"blank col1\" >&nbsp;</th>\n",
       "      <th class=\"blank col2\" >&nbsp;</th>\n",
       "      <th class=\"blank col3\" >&nbsp;</th>\n",
       "      <th class=\"blank col4\" >&nbsp;</th>\n",
       "      <th class=\"blank col5\" >&nbsp;</th>\n",
       "      <th class=\"blank col6\" >&nbsp;</th>\n",
       "      <th class=\"blank col7\" >&nbsp;</th>\n",
       "      <th class=\"blank col8\" >&nbsp;</th>\n",
       "      <th class=\"blank col9\" >&nbsp;</th>\n",
       "      <th class=\"blank col10\" >&nbsp;</th>\n",
       "      <th class=\"blank col11\" >&nbsp;</th>\n",
       "      <th class=\"blank col12\" >&nbsp;</th>\n",
       "    </tr>\n",
       "  </thead>\n",
       "  <tbody>\n",
       "    <tr>\n",
       "      <th id=\"T_64ada_level0_row0\" class=\"row_heading level0 row0\" >training</th>\n",
       "      <td id=\"T_64ada_row0_col0\" class=\"data row0 col0\" >140,903</td>\n",
       "      <td id=\"T_64ada_row0_col1\" class=\"data row0 col1\" >7</td>\n",
       "      <td id=\"T_64ada_row0_col2\" class=\"data row0 col2\" >17</td>\n",
       "      <td id=\"T_64ada_row0_col3\" class=\"data row0 col3\" >33</td>\n",
       "      <td id=\"T_64ada_row0_col4\" class=\"data row0 col4\" >56</td>\n",
       "      <td id=\"T_64ada_row0_col5\" class=\"data row0 col5\" >142</td>\n",
       "      <td id=\"T_64ada_row0_col6\" class=\"data row0 col6\" >366</td>\n",
       "      <td id=\"T_64ada_row0_col7\" class=\"data row0 col7\" >784</td>\n",
       "      <td id=\"T_64ada_row0_col8\" class=\"data row0 col8\" >917</td>\n",
       "      <td id=\"T_64ada_row0_col9\" class=\"data row0 col9\" >1,908</td>\n",
       "      <td id=\"T_64ada_row0_col10\" class=\"data row0 col10\" >2,834</td>\n",
       "      <td id=\"T_64ada_row0_col11\" class=\"data row0 col11\" >5,692</td>\n",
       "      <td id=\"T_64ada_row0_col12\" class=\"data row0 col12\" >94,220</td>\n",
       "    </tr>\n",
       "    <tr>\n",
       "      <th id=\"T_64ada_level0_row1\" class=\"row_heading level0 row1\" >test</th>\n",
       "      <td id=\"T_64ada_row1_col0\" class=\"data row1 col0\" >24,863</td>\n",
       "      <td id=\"T_64ada_row1_col1\" class=\"data row1 col1\" >12</td>\n",
       "      <td id=\"T_64ada_row1_col2\" class=\"data row1 col2\" >17</td>\n",
       "      <td id=\"T_64ada_row1_col3\" class=\"data row1 col3\" >38</td>\n",
       "      <td id=\"T_64ada_row1_col4\" class=\"data row1 col4\" >66</td>\n",
       "      <td id=\"T_64ada_row1_col5\" class=\"data row1 col5\" >159</td>\n",
       "      <td id=\"T_64ada_row1_col6\" class=\"data row1 col6\" >421</td>\n",
       "      <td id=\"T_64ada_row1_col7\" class=\"data row1 col7\" >890</td>\n",
       "      <td id=\"T_64ada_row1_col8\" class=\"data row1 col8\" >1,045</td>\n",
       "      <td id=\"T_64ada_row1_col9\" class=\"data row1 col9\" >2,146</td>\n",
       "      <td id=\"T_64ada_row1_col10\" class=\"data row1 col10\" >3,152</td>\n",
       "      <td id=\"T_64ada_row1_col11\" class=\"data row1 col11\" >6,749</td>\n",
       "      <td id=\"T_64ada_row1_col12\" class=\"data row1 col12\" >31,379</td>\n",
       "    </tr>\n",
       "  </tbody>\n",
       "</table>\n"
      ],
      "text/plain": [
       "<pandas.io.formats.style.Styler at 0x7f41b7a8ce90>"
      ]
     },
     "execution_count": 14,
     "metadata": {},
     "output_type": "execute_result"
    }
   ],
   "source": [
    "token_count_df=statistics_table(train_df2,test_df2)\n",
    "style_format(token_count_df,  textbody=\"Client_TextBody\")"
   ]
  },
  {
   "cell_type": "code",
   "execution_count": 15,
   "id": "b8abedaa-8158-4a4b-a4ab-a8ba213885c0",
   "metadata": {},
   "outputs": [
    {
     "data": {
      "text/html": [
       "<style type=\"text/css\">\n",
       "#T_99489_ caption {\n",
       "  color: red;\n",
       "  font-size: 20px;\n",
       "}\n",
       "</style>\n",
       "<table id=\"T_99489_\">\n",
       "  <caption>Summary Statistics of token lengths for Latest_TextBody </caption>\n",
       "  <thead>\n",
       "    <tr>\n",
       "      <th class=\"blank level0\" >&nbsp;</th>\n",
       "      <th class=\"col_heading level0 col0\" ># of obs</th>\n",
       "      <th class=\"col_heading level0 col1\" >Min of tokens</th>\n",
       "      <th class=\"col_heading level0 col2\" >1% of tokens</th>\n",
       "      <th class=\"col_heading level0 col3\" >5% of tokens</th>\n",
       "      <th class=\"col_heading level0 col4\" >10% of tokens</th>\n",
       "      <th class=\"col_heading level0 col5\" >25% of tokens</th>\n",
       "      <th class=\"col_heading level0 col6\" >Median of tokens</th>\n",
       "      <th class=\"col_heading level0 col7\" >Average tokens</th>\n",
       "      <th class=\"col_heading level0 col8\" >75% of tokens</th>\n",
       "      <th class=\"col_heading level0 col9\" >90% of tokens</th>\n",
       "      <th class=\"col_heading level0 col10\" >95% of tokens</th>\n",
       "      <th class=\"col_heading level0 col11\" >99% of tokens</th>\n",
       "      <th class=\"col_heading level0 col12\" >Max of tokens</th>\n",
       "    </tr>\n",
       "    <tr>\n",
       "      <th class=\"index_name level0\" >data_type</th>\n",
       "      <th class=\"blank col0\" >&nbsp;</th>\n",
       "      <th class=\"blank col1\" >&nbsp;</th>\n",
       "      <th class=\"blank col2\" >&nbsp;</th>\n",
       "      <th class=\"blank col3\" >&nbsp;</th>\n",
       "      <th class=\"blank col4\" >&nbsp;</th>\n",
       "      <th class=\"blank col5\" >&nbsp;</th>\n",
       "      <th class=\"blank col6\" >&nbsp;</th>\n",
       "      <th class=\"blank col7\" >&nbsp;</th>\n",
       "      <th class=\"blank col8\" >&nbsp;</th>\n",
       "      <th class=\"blank col9\" >&nbsp;</th>\n",
       "      <th class=\"blank col10\" >&nbsp;</th>\n",
       "      <th class=\"blank col11\" >&nbsp;</th>\n",
       "      <th class=\"blank col12\" >&nbsp;</th>\n",
       "    </tr>\n",
       "  </thead>\n",
       "  <tbody>\n",
       "    <tr>\n",
       "      <th id=\"T_99489_level0_row0\" class=\"row_heading level0 row0\" >training</th>\n",
       "      <td id=\"T_99489_row0_col0\" class=\"data row0 col0\" >156,414</td>\n",
       "      <td id=\"T_99489_row0_col1\" class=\"data row0 col1\" >7</td>\n",
       "      <td id=\"T_99489_row0_col2\" class=\"data row0 col2\" >27</td>\n",
       "      <td id=\"T_99489_row0_col3\" class=\"data row0 col3\" >57</td>\n",
       "      <td id=\"T_99489_row0_col4\" class=\"data row0 col4\" >72</td>\n",
       "      <td id=\"T_99489_row0_col5\" class=\"data row0 col5\" >137</td>\n",
       "      <td id=\"T_99489_row0_col6\" class=\"data row0 col6\" >324</td>\n",
       "      <td id=\"T_99489_row0_col7\" class=\"data row0 col7\" >616</td>\n",
       "      <td id=\"T_99489_row0_col8\" class=\"data row0 col8\" >744</td>\n",
       "      <td id=\"T_99489_row0_col9\" class=\"data row0 col9\" >1,463</td>\n",
       "      <td id=\"T_99489_row0_col10\" class=\"data row0 col10\" >2,100</td>\n",
       "      <td id=\"T_99489_row0_col11\" class=\"data row0 col11\" >4,079</td>\n",
       "      <td id=\"T_99489_row0_col12\" class=\"data row0 col12\" >66,315</td>\n",
       "    </tr>\n",
       "    <tr>\n",
       "      <th id=\"T_99489_level0_row1\" class=\"row_heading level0 row1\" >test</th>\n",
       "      <td id=\"T_99489_row1_col0\" class=\"data row1 col0\" >27,497</td>\n",
       "      <td id=\"T_99489_row1_col1\" class=\"data row1 col1\" >12</td>\n",
       "      <td id=\"T_99489_row1_col2\" class=\"data row1 col2\" >29</td>\n",
       "      <td id=\"T_99489_row1_col3\" class=\"data row1 col3\" >69</td>\n",
       "      <td id=\"T_99489_row1_col4\" class=\"data row1 col4\" >88</td>\n",
       "      <td id=\"T_99489_row1_col5\" class=\"data row1 col5\" >169</td>\n",
       "      <td id=\"T_99489_row1_col6\" class=\"data row1 col6\" >401</td>\n",
       "      <td id=\"T_99489_row1_col7\" class=\"data row1 col7\" >742</td>\n",
       "      <td id=\"T_99489_row1_col8\" class=\"data row1 col8\" >903</td>\n",
       "      <td id=\"T_99489_row1_col9\" class=\"data row1 col9\" >1,704</td>\n",
       "      <td id=\"T_99489_row1_col10\" class=\"data row1 col10\" >2,430</td>\n",
       "      <td id=\"T_99489_row1_col11\" class=\"data row1 col11\" >5,248</td>\n",
       "      <td id=\"T_99489_row1_col12\" class=\"data row1 col12\" >30,466</td>\n",
       "    </tr>\n",
       "  </tbody>\n",
       "</table>\n"
      ],
      "text/plain": [
       "<pandas.io.formats.style.Styler at 0x7f4186f6b210>"
      ]
     },
     "execution_count": 15,
     "metadata": {},
     "output_type": "execute_result"
    }
   ],
   "source": [
    "token_count_df=statistics_table(train_df3,test_df3)\n",
    "style_format(token_count_df,  textbody=\"Latest_TextBody\")"
   ]
  },
  {
   "cell_type": "code",
   "execution_count": 16,
   "id": "dfcd43c4-375e-432d-bfb5-c4bbfb8ab7e6",
   "metadata": {},
   "outputs": [],
   "source": [
    "train_df1.set_format(\"pandas\")\n",
    "df1_train=train_df1[:]\n",
    "train_df2.set_format(\"pandas\")\n",
    "df2_train=train_df2[:]\n",
    "train_df3.set_format(\"pandas\")\n",
    "df3_train=train_df3[:]\n",
    "\n",
    "test_df1.set_format(\"pandas\")\n",
    "df1_test=train_df1[:]\n",
    "test_df2.set_format(\"pandas\")\n",
    "df2_test=test_df2[:]\n",
    "test_df3.set_format(\"pandas\")\n",
    "df3_test=test_df3[:]"
   ]
  },
  {
   "cell_type": "code",
   "execution_count": 17,
   "id": "1040bbc7-52bd-4425-8399-a0bf692110b5",
   "metadata": {},
   "outputs": [
    {
     "data": {
      "image/png": "[encoded data removed]",
      "text/plain": [
       "<Figure size 1800x432 with 2 Axes>"
      ]
     },
     "metadata": {
      "image/png": {
       "height": 414,
       "width": 1481
      },
      "needs_background": "light"
     },
     "output_type": "display_data"
    }
   ],
   "source": [
    "fig,(ax1,ax2)=plt.subplots(1,2, figsize=(25,6))\n",
    "sns.histplot(train_df1['text_length'],ax=ax1)\n",
    "ax1.set_title(\"client+unum email token length\\n(Training Set)\")\n",
    "ax1.set_xlabel(\"token counts\")\n",
    "ax1.set_ylabel(\"\")\n",
    "ax1.set(xlim=(0, 10000))\n",
    "\n",
    "sns.histplot(test_df1['text_length'],ax=ax2)\n",
    "ax2.set_title(\"client+unum email token length\\n(Test Set)\")\n",
    "ax2.set_xlabel(\"token counts\")\n",
    "ax2.set_ylabel(\"\")\n",
    "ax2.set(xlim=(0, 10000))\n",
    "plt.show()"
   ]
  },
  {
   "cell_type": "code",
   "execution_count": 18,
   "id": "7aca438d-ec24-4934-9aed-9ca6785d97dc",
   "metadata": {},
   "outputs": [
    {
     "data": {
      "image/png": "[encoded data removed]",
      "text/plain": [
       "<Figure size 1800x432 with 2 Axes>"
      ]
     },
     "metadata": {
      "image/png": {
       "height": 414,
       "width": 1477
      },
      "needs_background": "light"
     },
     "output_type": "display_data"
    }
   ],
   "source": [
    "fig,(ax1,ax2)=plt.subplots(1,2, figsize=(25,6))\n",
    "sns.histplot(train_df3['text_length'],ax=ax1)\n",
    "ax1.set_title(\"Latest email token length\\n(Training Set)\")\n",
    "ax1.set_xlabel(\"token counts\")\n",
    "ax1.set_ylabel(\"\")\n",
    "ax1.set(xlim=(0, 6000))\n",
    "\n",
    "sns.histplot(test_df3['text_length'],ax=ax2)\n",
    "ax2.set_title(\"Latest email token length\\n(Test Set)\")\n",
    "ax2.set_xlabel(\"token counts\")\n",
    "ax2.set_ylabel(\"\")\n",
    "ax2.set(xlim=(0, 6000))\n",
    "plt.show()"
   ]
  },
  {
   "cell_type": "code",
   "execution_count": 19,
   "id": "3eceb418-ccd6-488f-9865-7d91fee9dddb",
   "metadata": {},
   "outputs": [
    {
     "data": {
      "application/vnd.jupyter.widget-view+json": {
       "model_id": "026598f105344200a2ecd6bacceac9e5",
       "version_major": 2,
       "version_minor": 0
      },
      "text/plain": [
       "  0%|          | 0/157 [00:00<?, ?ba/s]"
      ]
     },
     "metadata": {},
     "output_type": "display_data"
    },
    {
     "name": "stderr",
     "output_type": "stream",
     "text": [
      "Token indices sequence length is longer than the specified maximum sequence length for this model (4720 > 4096). Running this sequence through the model will result in indexing errors\n"
     ]
    },
    {
     "data": {
      "application/vnd.jupyter.widget-view+json": {
       "model_id": "2729c55e5e12465f84c6d5f7231f408f",
       "version_major": 2,
       "version_minor": 0
      },
      "text/plain": [
       "  0%|          | 0/28 [00:00<?, ?ba/s]"
      ]
     },
     "metadata": {},
     "output_type": "display_data"
    },
    {
     "data": {
      "application/vnd.jupyter.widget-view+json": {
       "model_id": "49c35bbef67546498de752526289022a",
       "version_major": 2,
       "version_minor": 0
      },
      "text/plain": [
       "  0%|          | 0/157 [00:00<?, ?ba/s]"
      ]
     },
     "metadata": {},
     "output_type": "display_data"
    },
    {
     "data": {
      "application/vnd.jupyter.widget-view+json": {
       "model_id": "5b02b0f8918843568f0adb0d2417d1ff",
       "version_major": 2,
       "version_minor": 0
      },
      "text/plain": [
       "  0%|          | 0/28 [00:00<?, ?ba/s]"
      ]
     },
     "metadata": {},
     "output_type": "display_data"
    }
   ],
   "source": [
    "from datasets import Dataset\n",
    "hf_train=Dataset.from_pandas(df_train)\n",
    "hf_test=Dataset.from_pandas(df_test)\n",
    "model_checkpoint=\"allenai/longformer-base-4096\"\n",
    "tokenizer=AutoTokenizer.from_pretrained(model_checkpoint)\n",
    "        \n",
    "for text in [\"Full_TextBody\", \"Latest_TextBody\"]:\n",
    "    hf_train=hf_train.map(lambda x : tokenizer(x[text]),batched=True)\n",
    "    hf_train=hf_train.remove_columns(\"attention_mask\")\n",
    "    hf_train=hf_train.rename_column(original_column_name=\"input_ids\", new_column_name=text+\"_input_ids\")\n",
    "    # hf_dataset = hf_dataset.filter(lambda x: len(x[text+\"_input_ids\"]) > self.min_tokens)\n",
    "    \n",
    "    hf_test=hf_test.map(lambda x : tokenizer(x[text]),batched=True)\n",
    "    hf_test=hf_test.remove_columns(\"attention_mask\")\n",
    "    hf_test=hf_test.rename_column(original_column_name=\"input_ids\", new_column_name=text+\"_input_ids\")\n",
    "    \n",
    "hf_train.set_format(type=\"pandas\")\n",
    "df_train=hf_train[:]\n",
    "\n",
    "hf_test.set_format(type=\"pandas\")\n",
    "df_test=hf_test[:]"
   ]
  },
  {
   "cell_type": "code",
   "execution_count": 20,
   "id": "637265a7-ec09-4bed-b229-6240b13659db",
   "metadata": {},
   "outputs": [
    {
     "name": "stderr",
     "output_type": "stream",
     "text": [
      "[nltk_data] Downloading package stopwords to\n",
      "[nltk_data]     /home/ec2-user/nltk_data...\n",
      "[nltk_data]   Package stopwords is already up-to-date!\n",
      "[nltk_data] Downloading package punkt to /home/ec2-user/nltk_data...\n",
      "[nltk_data]   Package punkt is already up-to-date!\n",
      "[nltk_data] Downloading package words to /home/ec2-user/nltk_data...\n",
      "[nltk_data]   Unzipping corpora/words.zip.\n",
      "/home/ec2-user/anaconda3/envs/amazonei_pytorch_latest_p37/lib/python3.7/site-packages/ipykernel_launcher.py:33: FutureWarning: The default value of regex will change from True to False in a future version.\n",
      "/home/ec2-user/anaconda3/envs/amazonei_pytorch_latest_p37/lib/python3.7/site-packages/ipykernel_launcher.py:34: FutureWarning: The default value of regex will change from True to False in a future version.\n",
      "/home/ec2-user/anaconda3/envs/amazonei_pytorch_latest_p37/lib/python3.7/site-packages/ipykernel_launcher.py:36: FutureWarning: The default value of regex will change from True to False in a future version.\n",
      "/home/ec2-user/anaconda3/envs/amazonei_pytorch_latest_p37/lib/python3.7/site-packages/ipykernel_launcher.py:37: FutureWarning: The default value of regex will change from True to False in a future version.\n"
     ]
    }
   ],
   "source": [
    "import nltk\n",
    "from nltk.corpus import stopwords\n",
    "nltk.download('stopwords')\n",
    "nltk.download('punkt')\n",
    "nltk.download('words')\n",
    "from nltk.tokenize import word_tokenize\n",
    "from gensim.parsing.preprocessing import remove_stopwords\n",
    "from gensim.parsing.preprocessing import STOPWORDS\n",
    "all_stopwords_gensim = STOPWORDS.union(set(['thank','thanks', 'you', 'help','questions','a.m.','p.m.','friday','thursday','wednesday','tuesday','monday',\\\n",
    "                                            'askunum','email','askunum.com','unum','askunumunum.com','day','use', 'appreciate','available','mailtoaskunumunum.com',\\\n",
    "                                            'hello','hi','online','?','.','. .','phone','needs','need','let','know','service','information','time','meet','client',\\\n",
    "                                           'team','ask','file','date','opportunity','original','benefit','eastern','specialists','specialist','attached','experienced',\\\n",
    "                                            'benefits insurance','employee','click','organization','httpsbit.lycjrbm',  'received', 'billing', 'manager', 'assist', \\\n",
    "                                            'additional', 'response']))\n",
    "\n",
    "\n",
    "## remove stop word\n",
    "df_train[\"Full_TextBody\"] = df_train[\"Full_TextBody\"].apply(lambda x: ' '.join([word for word in x.split() if word not in (all_stopwords_gensim)]))\n",
    "df_test[\"Full_TextBody\"] = df_test[\"Full_TextBody\"].apply(lambda x: ' '.join([word for word in x.split() if word not in (all_stopwords_gensim)]))\n",
    "\n",
    "df_train[\"Latest_TextBody\"] = df_train[\"Latest_TextBody\"].apply(lambda x: ' '.join([word for word in x.split() if word not in (all_stopwords_gensim)]))\n",
    "df_test[\"Latest_TextBody\"] = df_test[\"Latest_TextBody\"].apply(lambda x: ' '.join([word for word in x.split() if word not in (all_stopwords_gensim)]))\n",
    "\n",
    "## removing non-english words from text\n",
    "words = set(nltk.corpus.words.words())\n",
    "df_train[\"Full_TextBody\"] = df_train[\"Full_TextBody\"].apply(lambda x: \" \".join(w for w in nltk.wordpunct_tokenize(x) if w.lower() in words or not w.isalpha()))\n",
    "df_test[\"Full_TextBody\"] = df_test[\"Full_TextBody\"].apply(lambda x: \" \".join(w for w in nltk.wordpunct_tokenize(x) if w.lower() in words or not w.isalpha()))\n",
    "\n",
    "df_train[\"Latest_TextBody\"] = df_train[\"Latest_TextBody\"].apply(lambda x: \" \".join(w for w in nltk.wordpunct_tokenize(x) if w.lower() in words or not w.isalpha()))\n",
    "df_test[\"Latest_TextBody\"] = df_test[\"Latest_TextBody\"].apply(lambda x: \" \".join(w for w in nltk.wordpunct_tokenize(x) if w.lower() in words or not w.isalpha()))\n",
    "\n",
    "## removing punctuation\n",
    "df_train[\"Full_TextBody\"]=df_train[\"Full_TextBody\"].str.replace(r'[^\\w\\s]+', '')\n",
    "df_test[\"Full_TextBody\"]=df_test[\"Full_TextBody\"].str.replace(r'[^\\w\\s]+', '')\n",
    "\n",
    "df_train[\"Latest_TextBody\"]=df_train[\"Full_TextBody\"].str.replace(r'[^\\w\\s]+', '')\n",
    "df_test[\"Latest_TextBody\"]=df_test[\"Full_TextBody\"].str.replace(r'[^\\w\\s]+', '')"
   ]
  },
  {
   "cell_type": "code",
   "execution_count": 21,
   "id": "d650b5fa-be34-47ed-8eee-2b895d49dcf9",
   "metadata": {},
   "outputs": [
    {
     "data": {
      "image/png": "[encoded data removed]",
      "text/plain": [
       "<Figure size 2160x432 with 2 Axes>"
      ]
     },
     "metadata": {
      "image/png": {
       "height": 413,
       "width": 1803
      },
      "needs_background": "light"
     },
     "output_type": "display_data"
    }
   ],
   "source": [
    "fig,(ax1,ax2)=plt.subplots(1,2, figsize=(30,6))\n",
    "df_train[\"Full_Words_length\"] = df_train[\"Full_TextBody_input_ids\"].apply(len)\n",
    "df_train.boxplot(\"Full_Words_length\", by=\"churn\", grid=True, showfliers=False,color=\"black\",ax=ax1)\n",
    "ax1.set_title(\"token length per email \\n(Training set)\")\n",
    "ax1.set_ylabel(\"# of token\")\n",
    "df_test[\"Full_Words_length\"] = df_test[\"Full_TextBody_input_ids\"].apply(len)\n",
    "df_test.boxplot(\"Full_Words_length\", by=\"churn\", grid=True, showfliers=False,color=\"black\",ax=ax2)\n",
    "ax2.set_title(\"token length per email \\n(Test set)\")\n",
    "ax2.set_ylabel(\"# of token\")\n",
    "plt.show()"
   ]
  },
  {
   "cell_type": "code",
   "execution_count": null,
   "id": "022feb81-d60d-496f-ad70-d1d267377a4c",
   "metadata": {},
   "outputs": [],
   "source": []
  },
  {
   "cell_type": "code",
   "execution_count": null,
   "id": "abdb1b2b-739a-46f3-95d1-3803294e5961",
   "metadata": {},
   "outputs": [
    {
     "name": "stderr",
     "output_type": "stream",
     "text": [
      " 80%|███████▉  | 125108/156414 [02:48<00:41, 754.81it/s]"
     ]
    }
   ],
   "source": [
    "train_word=[]\n",
    "for index, row in tqdm(df_train.iterrows(), total=df_train.shape[0]):\n",
    "    text_tokens = word_tokenize(row[\"Full_TextBody\"])\n",
    "    filter_text = [word for word in text_tokens if not word in all_stopwords_gensim]\n",
    "    # train_word.extend(filter_text.lower().split())\n",
    "    train_word.extend(filter_text)\n",
    "    \n",
    "train_dict=Counter(train_word)\n",
    "cloud = WordCloud(max_font_size=80,colormap=\"hsv\").generate_from_frequencies(train_dict)\n",
    "plt.figure(figsize=(20,15))\n",
    "plt.title(\"word frequency in Training set\", fontsize=25,color=\"red\")\n",
    "plt.imshow(cloud, interpolation='bilinear')\n",
    "plt.axis('off')\n",
    "plt.show()"
   ]
  },
  {
   "cell_type": "code",
   "execution_count": null,
   "id": "4f1e585f-da6a-4de2-b559-bfbb67def8f0",
   "metadata": {},
   "outputs": [],
   "source": [
    "test_word=[]\n",
    "for index, row in tqdm(df_test.iterrows(), total=df_test.shape[0]):\n",
    "    text_tokens = word_tokenize(row[\"Full_TextBody\"])\n",
    "    filter_text = [word for word in text_tokens if not word in all_stopwords_gensim]\n",
    "    # test_word.extend(filter_text.lower().split())\n",
    "    test_word.extend(filter_text)\n",
    "    \n",
    "test_dict=Counter(test_word)\n",
    "cloud = WordCloud(max_font_size=80,colormap=\"hsv\").generate_from_frequencies(test_dict)\n",
    "plt.figure(figsize=(20,15))\n",
    "plt.title(\"word frequency in Test set\", fontsize=25,color=\"red\")\n",
    "plt.imshow(cloud, interpolation='bilinear')\n",
    "plt.axis('off')\n",
    "plt.show()"
   ]
  },
  {
   "cell_type": "code",
   "execution_count": null,
   "id": "9eec1ea5-bc80-4cff-8cda-d02e0bdd0001",
   "metadata": {},
   "outputs": [],
   "source": []
  },
  {
   "cell_type": "code",
   "execution_count": null,
   "id": "772228a8-a036-483a-b2da-c628b23b6c6f",
   "metadata": {},
   "outputs": [],
   "source": []
  },
  {
   "cell_type": "code",
   "execution_count": null,
   "id": "17a08ff7-ce52-4c02-b074-a6486937b73a",
   "metadata": {
    "tags": []
   },
   "outputs": [],
   "source": [
    "train_word_positive=[]\n",
    "df_train_positive=df_train[df_train[\"churn\"]==1]\n",
    "for index, row in tqdm(df_train_positive.iterrows(), total=df_train_positive.shape[0]):\n",
    "    text_tokens = word_tokenize(row[\"Full_TextBody\"])\n",
    "    filter_text = [word for word in text_tokens if not word in all_stopwords_gensim]\n",
    "    train_word_positive.extend(filter_text)\n",
    "    \n",
    "train_dict=Counter(train_word_positive)\n",
    "cloud = WordCloud(max_font_size=80,colormap=\"hsv\").generate_from_frequencies(train_dict)\n",
    "plt.figure(figsize=(20,15))\n",
    "plt.title(\"word frequency in Training set (churn=1)\", fontsize=25,color=\"red\")\n",
    "plt.imshow(cloud, interpolation='bilinear')\n",
    "plt.axis('off')\n",
    "plt.show()"
   ]
  },
  {
   "cell_type": "code",
   "execution_count": null,
   "id": "be6381ae-7ec4-4a50-b177-a69b52c0b08a",
   "metadata": {
    "tags": []
   },
   "outputs": [],
   "source": [
    "test_word_positive=[]\n",
    "df_test_positive=df_test[df_test[\"churn\"]==1]\n",
    "for index, row in tqdm(df_test_positive.iterrows(), total=df_test_positive.shape[0]):\n",
    "    text_tokens = word_tokenize(row[\"Full_TextBody\"])\n",
    "    filter_text = [word for word in text_tokens if not word in all_stopwords_gensim]\n",
    "    test_word_positive.extend(filter_text)\n",
    "    \n",
    "test_dict=Counter(test_word_positive)\n",
    "cloud = WordCloud(max_font_size=80,colormap=\"hsv\").generate_from_frequencies(test_dict)\n",
    "plt.figure(figsize=(20,15))\n",
    "plt.title(\"word frequency in Test set (churn=1)\", fontsize=25,color=\"red\")\n",
    "plt.imshow(cloud, interpolation='bilinear')\n",
    "plt.axis('off')\n",
    "plt.show()"
   ]
  },
  {
   "cell_type": "code",
   "execution_count": null,
   "id": "b6dce7ba-051e-4337-9228-0bb0df69f99f",
   "metadata": {},
   "outputs": [],
   "source": [
    "def dummy_fun(doc):\n",
    "    return doc.split()\n",
    "\n",
    "from sklearn.feature_extraction.text import TfidfVectorizer\n",
    "vectorizer = TfidfVectorizer(input=\"content\",analyzer='word',tokenizer=dummy_fun,max_features=1000)"
   ]
  },
  {
   "cell_type": "code",
   "execution_count": null,
   "id": "3328a8b7-9cc3-4a51-a2cd-0b2076758420",
   "metadata": {},
   "outputs": [],
   "source": [
    "n=50\n",
    "vectorizer.fit(df_train[\"Full_TextBody\"])\n",
    "df_tfidf = vectorizer.transform(df_train[\"Full_TextBody\"])\n",
    "vocab = np.array(vectorizer.get_feature_names())\n",
    "tfidf_train = np.argsort(df_tfidf.toarray()).flatten()[::-1]\n",
    "train_tfidf=pd.DataFrame({\"rank\":np.arange(n),\"tfidf_train\":vocab[tfidf_train][:n]})\n",
    "\n",
    "vectorizer.fit(df_test[\"Full_TextBody\"])\n",
    "df_tfidf = vectorizer.transform(df_test[\"Full_TextBody\"])\n",
    "vocab = np.array(vectorizer.get_feature_names())\n",
    "tfidf_test = np.argsort(df_tfidf.toarray()).flatten()[::-1]\n",
    "test_tfidf=pd.DataFrame({\"rank\":np.arange(n),\"tfidf_test\":vocab[tfidf_test][:n]})\n",
    "\n",
    "pd.merge(left=train_tfidf,right=test_tfidf, on=\"rank\", how=\"inner\")"
   ]
  },
  {
   "cell_type": "code",
   "execution_count": null,
   "id": "8d3a6b81-aedd-498b-b629-5dc27dfded17",
   "metadata": {},
   "outputs": [],
   "source": [
    "n=50\n",
    "\n",
    "df_train_churn=df_train[df_train[\"churn\"]==1]\n",
    "vectorizer.fit(df_train_churn[\"Full_TextBody\"])\n",
    "df_tfidf = vectorizer.transform(df_train_churn[\"Full_TextBody\"])\n",
    "vocab = np.array(vectorizer.get_feature_names())\n",
    "tfidf_train = np.argsort(df_tfidf.toarray()).flatten()[::-1]\n",
    "train_tfidf=pd.DataFrame({\"rank\":np.arange(n),\"tfidf_train\":vocab[tfidf_train][:n]})\n",
    "\n",
    "df_test_churn=df_test[df_test[\"churn\"]==1]\n",
    "vectorizer.fit(df_test_churn[\"Full_TextBody\"])\n",
    "df_tfidf = vectorizer.transform(df_test_churn[\"Full_TextBody\"])\n",
    "vocab = np.array(vectorizer.get_feature_names())\n",
    "tfidf_test = np.argsort(df_tfidf.toarray()).flatten()[::-1]\n",
    "test_tfidf=pd.DataFrame({\"rank\":np.arange(n),\"tfidf_test\":vocab[tfidf_test][:n]})\n",
    "\n",
    "pd.merge(left=train_tfidf,right=test_tfidf, on=\"rank\", how=\"inner\")"
   ]
  },
  {
   "cell_type": "code",
   "execution_count": 132,
   "id": "66de9154-77c2-426a-b2ef-68e3acf5b068",
   "metadata": {},
   "outputs": [
    {
     "data": {
      "text/plain": [
       "(50, 3)"
      ]
     },
     "execution_count": 132,
     "metadata": {},
     "output_type": "execute_result"
    }
   ],
   "source": [
    "pd.merge(left=train_tfidf,right=test_tfidf, on=\"rank\", how=\"inner\").shape"
   ]
  },
  {
   "cell_type": "code",
   "execution_count": 133,
   "id": "0dcb01cc-0326-4f67-b06e-308e6071530c",
   "metadata": {},
   "outputs": [
    {
     "data": {
      "text/plain": [
       "(50, 3)"
      ]
     },
     "execution_count": 133,
     "metadata": {},
     "output_type": "execute_result"
    }
   ],
   "source": [
    "pd.merge(left=train_tfidf,right=test_tfidf, on=\"rank\", how=\"inner\").drop_duplicates().shape"
   ]
  },
  {
   "cell_type": "code",
   "execution_count": null,
   "id": "fafd4be8-99da-4aa4-8766-e0c4cc69a112",
   "metadata": {},
   "outputs": [],
   "source": []
  },
  {
   "cell_type": "code",
   "execution_count": null,
   "id": "d7067f86-4d22-4ca6-a966-5b8c5bae3004",
   "metadata": {},
   "outputs": [],
   "source": []
  },
  {
   "cell_type": "code",
   "execution_count": 126,
   "id": "5646b76c-42df-4675-a4bb-992426cf2aa9",
   "metadata": {},
   "outputs": [
    {
     "name": "stdout",
     "output_type": "stream",
     "text": [
      "\n",
      "**************************************************\n",
      "*********  Full TextBody ********\n",
      "**************************************************\n",
      "\n",
      "please see the attached screenshot for turf tenders.nothing on left side trying to term employee. please advise how to fix this cidimage.pngda.fe\n",
      "\n",
      "**************************************************\n",
      "*********  Client TextBody ********\n",
      "**************************************************\n",
      "\n",
      "please see the attached screenshot for turf tenders.nothing on left side trying to term employee. please advise how to fix this cidimage.pngda.fe\n",
      "\n",
      "**************************************************\n",
      "*********  Latest Parent_ID TextBody ********\n",
      "**************************************************\n",
      "\n",
      "please see the attached screenshot for turf tenders.nothing on left side trying to term employee. please advise how to fix this cidimage.pngda.fe\n",
      "\n",
      "********************************************************************************************************************************************************************************************************\n",
      "\n",
      "**************************************************\n",
      "*********  Full TextBody ********\n",
      "**************************************************\n",
      "\n",
      "hello ask unum team, the hire date for benbella books employee ariel fagiola dob has changed. it is now with a coverage effective date of . could you\n",
      "please make this change to her coverage? i tried to make this change in the unum portal but was unable to do so. please let me know if you need any\n",
      "additional information. thank you lian loop operations p e.hello lian, thank you for your email. as per the below email, we have updated the date of\n",
      "hire doh and coverage effective date for ariel fagiola as and . the group will be billed . on the invoice on and then . going forward per month. did\n",
      "you know for faster service, you can process employee enrollmentsterminationsupdate earnings online? when doing so, you will receive an immediate\n",
      "confirmation notification of the request submitted. to process, log into my.unum.com. please let us know if there is anything else that we can assist\n",
      "you with. thank you, the ask unum team client success organization askunum askunumunum.com unum covid response click here how to file a claim online\n",
      "click here we appreciate the opportunity to meet your benefit needs. if you have any questions, we have experienced service specialists available to\n",
      "help you monday through friday, a.m. to p.m. eastern time. original message\n",
      "\n",
      "**************************************************\n",
      "*********  Client TextBody ********\n",
      "**************************************************\n",
      "\n",
      "hello ask unum team, the hire date for benbella books employee ariel fagiola dob has changed. it is now with a coverage effective date of . could you\n",
      "please make this change to her coverage? i tried to make this change in the unum portal but was unable to do so. please let me know if you need any\n",
      "additional information. thank you lian loop operations p e\n",
      "\n",
      "**************************************************\n",
      "*********  Latest Parent_ID TextBody ********\n",
      "**************************************************\n",
      "\n",
      "hello lian, thank you for your email. as per the below email, we have updated the date of hire doh and coverage effective date for ariel fagiola as\n",
      "and . the group will be billed . on the invoice on and then . going forward per month. did you know for faster service, you can process employee\n",
      "enrollmentsterminationsupdate earnings online? when doing so, you will receive an immediate confirmation notification of the request submitted. to\n",
      "process, log into my.unum.com. please let us know if there is anything else that we can assist you with. thank you, the ask unum team client success\n",
      "organization askunum askunumunum.com unum covid response click here how to file a claim online click here we appreciate the opportunity to meet your\n",
      "benefit needs. if you have any questions, we have experienced service specialists available to help you monday through friday, a.m. to p.m. eastern\n",
      "time. original message\n",
      "\n",
      "********************************************************************************************************************************************************************************************************\n",
      "\n",
      "**************************************************\n",
      "*********  Full TextBody ********\n",
      "**************************************************\n",
      "\n",
      "hello, would you please provide full online access to both of the following email accounts thank you, nicole wood, msw, lcsw director of operations\n",
      "sparlin mental health hampton avenue st. louis, mo o . c f .. www.sparlinmentalhealth.com cidimage.pngdfcc.f st. louis center for family development\n",
      "is now doing business as sparlin mental health confidentiality notice this communication, and any files attached, contains confidential information\n",
      "that may be privileged. the information is intended only for the use of the individuals or entity to which it is addressed. if you are not the\n",
      "intended recipient, any disclosure, distribution or the taking of any action in reliance upon this communication is prohibited and may be unlawful. if\n",
      "you have received this communication in error, please notify the sender immediately by reply email and destroy the original information.., hello\n",
      "nicole, thank you for your email. both nancy and sales have been added as users to the groups secure unum website. they will soon receive a welcome\n",
      "email with a temporary password, and registration instructions. please note that their username is their email address. should they experience any\n",
      "issues, please do have them give us a call, and we will be more than happy to assist. please let us know if there is anything else we may assist you\n",
      "with. have a nice day. thank you, yesenia diaz service specialist associate client success organization askunum askunumunum.com unum covid response\n",
      "click here how to file a claim online click here we appreciate the opportunity to meet your benefit needs. if you have any questions, we have\n",
      "experienced service specialists available to help you monday through friday, a.m. to p.m. eastern time. original message\n",
      "\n",
      "**************************************************\n",
      "*********  Client TextBody ********\n",
      "**************************************************\n",
      "\n",
      "hello, would you please provide full online access to both of the following email accounts thank you, nicole wood, msw, lcsw director of operations\n",
      "sparlin mental health hampton avenue st. louis, mo o . c f .. www.sparlinmentalhealth.com cidimage.pngdfcc.f st. louis center for family development\n",
      "is now doing business as sparlin mental health confidentiality notice this communication, and any files attached, contains confidential information\n",
      "that may be privileged. the information is intended only for the use of the individuals or entity to which it is addressed. if you are not the\n",
      "intended recipient, any disclosure, distribution or the taking of any action in reliance upon this communication is prohibited and may be unlawful. if\n",
      "you have received this communication in error, please notify the sender immediately by reply email and destroy the original information.\n",
      "\n",
      "**************************************************\n",
      "*********  Latest Parent_ID TextBody ********\n",
      "**************************************************\n",
      "\n",
      ", hello nicole, thank you for your email. both nancy and sales have been added as users to the groups secure unum website. they will soon receive a\n",
      "welcome email with a temporary password, and registration instructions. please note that their username is their email address. should they experience\n",
      "any issues, please do have them give us a call, and we will be more than happy to assist. please let us know if there is anything else we may assist\n",
      "you with. have a nice day. thank you, yesenia diaz service specialist associate client success organization askunum askunumunum.com unum covid\n",
      "response click here how to file a claim online click here we appreciate the opportunity to meet your benefit needs. if you have any questions, we have\n",
      "experienced service specialists available to help you monday through friday, a.m. to p.m. eastern time. original message\n",
      "\n",
      "********************************************************************************************************************************************************************************************************\n",
      "\n",
      "**************************************************\n",
      "*********  Full TextBody ********\n",
      "**************************************************\n",
      "\n",
      "hi angela, it was my pleasure speaking with you today. please find the requested documents attached. please feel free to contact us with any other\n",
      "questions or requests we may assist you with. have a nice day thank you, adaline colby service specialist client success organization askunum\n",
      "askunumunum.com mailtoaskunumunum.com unum covid response click here httpsbit.lycjrbm how to file a claim online click here httpsbit.lyygqmvq we\n",
      "appreciate the opportunity to meet your benefit needs. if you have any questions, we have experienced service specialists available to help you monday\n",
      "through friday, a.m. to p.m. eastern time. refdgrzm.xatniref.thank you so much for your assistance adeline, it was very helpful. have a great weekend\n",
      "angela fox human resources manager cidimage.gifdac.fcca nc peachtree road, suite asheville, nc o ext. f httpwww.beverlygrant.com\n",
      "\n",
      "**************************************************\n",
      "*********  Client TextBody ********\n",
      "**************************************************\n",
      "\n",
      "thank you so much for your assistance adeline, it was very helpful. have a great weekend angela fox human resources manager cidimage.gifdac.fcca nc\n",
      "peachtree road, suite asheville, nc o ext. f httpwww.beverlygrant.com\n",
      "\n",
      "**************************************************\n",
      "*********  Latest Parent_ID TextBody ********\n",
      "**************************************************\n",
      "\n",
      "thank you so much for your assistance adeline, it was very helpful. have a great weekend angela fox human resources manager cidimage.gifdac.fcca nc\n",
      "peachtree road, suite asheville, nc o ext. f httpwww.beverlygrant.com\n",
      "\n",
      "********************************************************************************************************************************************************************************************************\n",
      "\n",
      "**************************************************\n",
      "*********  Full TextBody ********\n",
      "**************************************************\n",
      "\n",
      "sirius please add kate klar as a registered user for this policy thanks, karen letellier account services consultant unum group long term care for\n",
      "information and resources regarding unums covid response and faqs, visit unum.comcovid\n",
      "\n",
      "**************************************************\n",
      "*********  Client TextBody ********\n",
      "**************************************************\n",
      "\n",
      "sirius please add kate klar as a registered user for this policy thanks, karen letellier account services consultant unum group long term care for\n",
      "information and resources regarding unums covid response and faqs, visit unum.comcovid\n",
      "\n",
      "**************************************************\n",
      "*********  Latest Parent_ID TextBody ********\n",
      "**************************************************\n",
      "\n",
      "sirius please add kate klar as a registered user for this policy thanks, karen letellier account services consultant unum group long term care for\n",
      "information and resources regarding unums covid response and faqs, visit unum.comcovid\n",
      "\n",
      "********************************************************************************************************************************************************************************************************\n",
      "\n",
      "**************************************************\n",
      "*********  Full TextBody ********\n",
      "**************************************************\n",
      "\n",
      "airtank, inc hi heather, i hope this email finds you well. the address has been updated to the po box. if there is anything else we can help you with,\n",
      "please dont hesitate to let us know. have a great day thank you, patricia thomas service specialist associate client success organization askunum\n",
      "askunumunum.com mailtoaskunumunum.com unum covid response click here httpsbit.lycjrbm how to file a claim online click here httpsbit.lyygqmvq we\n",
      "appreciate the opportunity to meet your benefit needs. if you have any questions, we have experienced service specialists available to help you monday\n",
      "through friday, a.m. to p.m. eastern time. refdgrzm.xbfpvkref.hi, can i get the current invoice and the lifeadd policy today, please? hubert vale he\n",
      "him his marsh mclennan agency consultant, enterprise business division t m f huntington avenue suite boston, ma marsh mclennan agency llc.good\n",
      "afternoon hubert, thank you for your email i have attached the groups policy and invoice as requested. please let us know if there is anything else we\n",
      "can assist you with. thank you, chris dube service specialist client success organization askunum askunumunum.com unum covid response click here how\n",
      "to file a claim online click here we appreciate the opportunity to meet your benefit needs. if you have any questions, we have experienced service\n",
      "specialists available to help you monday through friday, a.m. to p.m. eastern time. original message\n",
      "\n",
      "**************************************************\n",
      "*********  Client TextBody ********\n",
      "**************************************************\n",
      "\n",
      "hi, can i get the current invoice and the lifeadd policy today, please? hubert vale he him his marsh mclennan agency consultant, enterprise business\n",
      "division t m f huntington avenue suite boston, ma marsh mclennan agency llc\n",
      "\n",
      "**************************************************\n",
      "*********  Latest Parent_ID TextBody ********\n",
      "**************************************************\n",
      "\n",
      "airtank, inc hi heather, i hope this email finds you well. the address has been updated to the po box. if there is anything else we can help you with,\n",
      "please dont hesitate to let us know. have a great day thank you, patricia thomas service specialist associate client success organization askunum\n",
      "askunumunum.com mailtoaskunumunum.com unum covid response click here httpsbit.lycjrbm how to file a claim online click here httpsbit.lyygqmvq we\n",
      "appreciate the opportunity to meet your benefit needs. if you have any questions, we have experienced service specialists available to help you monday\n",
      "through friday, a.m. to p.m. eastern time. refdgrzm.xbfpvkref.good afternoon hubert, thank you for your email i have attached the groups policy and\n",
      "invoice as requested. please let us know if there is anything else we can assist you with. thank you, chris dube service specialist client success\n",
      "organization askunum askunumunum.com unum covid response click here how to file a claim online click here we appreciate the opportunity to meet your\n",
      "benefit needs. if you have any questions, we have experienced service specialists available to help you monday through friday, a.m. to p.m. eastern\n",
      "time. original message\n",
      "\n",
      "********************************************************************************************************************************************************************************************************\n",
      "\n",
      "**************************************************\n",
      "*********  Full TextBody ********\n",
      "**************************************************\n",
      "\n",
      "hello please see attached for new employee to be added to our plan. thank you so much, cidimage.jpgd.feawendy tedder accountant c .. portland\n",
      "streetsuite boston, ma scotland placenashville, tn www.avidengineers.com linkedin.hello team, please process the enrollment for ashiqur rahman . thank\n",
      "you, the ask unum team client success organization askunum askunumunum.com we appreciate the opportunity to meet your benefit needs. if you have any\n",
      "questions, we have experienced service specialists available to help you monday through friday, a.m. to p.m. eastern time. original message.hello\n",
      "wendy, thank you for your email we will begin processing your enrollment in the order received. this request will be reviewed within business days.\n",
      "approved changes will be reflected on a future billing statement; however, if additional information is needed, processing may be delayed. employees\n",
      "can enroll themselves online using the link below. make sure they have the appropriate policy and division number when you send them the link.\n",
      "coverage type group lifeaccidental death dismemberment, shortterm disability and longterm disability link policy division by the waythe links and\n",
      "policy information above can be saved to your company website or anywhere else you find convenient. they can be used at any time and can be accessed\n",
      "from mobile devices as well as laptops or desktops. did you know for faster service, you can access process employee enrollments online? when doing\n",
      "so, you will receive an immediate confirmation email of the request submitted. to process employee enrollments online, follow these steps . log into\n",
      "my.unum.com . select the appropriate group needed. . click the add employee button from the home page or from the employees list page. . follow the\n",
      "prompts to complete employee demographic details. . review the information entered for accuracy. . enter the signature date and submit. . you will\n",
      "receive a confirmation email. please do not hesitate to let us know if there is anything further we may assist you with. have a great day thank you,\n",
      "the ask unum team client success organization askunum askunumunum.com unum covid response click here how to file a claim online click here we\n",
      "appreciate the opportunity to meet your benefit needs. if you have any questions, we have experienced service specialists available to help you monday\n",
      "through friday, a.m. to p.m. eastern time. original message\n",
      "\n",
      "**************************************************\n",
      "*********  Client TextBody ********\n",
      "**************************************************\n",
      "\n",
      "hello please see attached for new employee to be added to our plan. thank you so much, cidimage.jpgd.feawendy tedder accountant c .. portland\n",
      "streetsuite boston, ma scotland placenashville, tn www.avidengineers.com linkedin\n",
      "\n",
      "**************************************************\n",
      "*********  Latest Parent_ID TextBody ********\n",
      "**************************************************\n",
      "\n",
      "hello wendy, thank you for your email we will begin processing your enrollment in the order received. this request will be reviewed within business\n",
      "days. approved changes will be reflected on a future billing statement; however, if additional information is needed, processing may be delayed.\n",
      "employees can enroll themselves online using the link below. make sure they have the appropriate policy and division number when you send them the\n",
      "link. coverage type group lifeaccidental death dismemberment, shortterm disability and longterm disability link policy division by the waythe links\n",
      "and policy information above can be saved to your company website or anywhere else you find convenient. they can be used at any time and can be\n",
      "accessed from mobile devices as well as laptops or desktops. did you know for faster service, you can access process employee enrollments online? when\n",
      "doing so, you will receive an immediate confirmation email of the request submitted. to process employee enrollments online, follow these steps . log\n",
      "into my.unum.com . select the appropriate group needed. . click the add employee button from the home page or from the employees list page. . follow\n",
      "the prompts to complete employee demographic details. . review the information entered for accuracy. . enter the signature date and submit. . you will\n",
      "receive a confirmation email. please do not hesitate to let us know if there is anything further we may assist you with. have a great day thank you,\n",
      "the ask unum team client success organization askunum askunumunum.com unum covid response click here how to file a claim online click here we\n",
      "appreciate the opportunity to meet your benefit needs. if you have any questions, we have experienced service specialists available to help you monday\n",
      "through friday, a.m. to p.m. eastern time. original message\n",
      "\n",
      "********************************************************************************************************************************************************************************************************\n",
      "\n",
      "**************************************************\n",
      "*********  Full TextBody ********\n",
      "**************************************************\n",
      "\n",
      "hi unum, lisa polverari should be enrolled under the dental, gtl and vol life should be under subplans. will you please update as needed and confirm\n",
      "back. total sono enrollment correction thank you sandy blalock account manager ii paychex insurance agency blue phone .. x fax attn sandy how are we\n",
      "doing? let my manager know pia service and retention supervisor danielle blackburn ext please be advised that final rates are always based on final\n",
      "enrollment and medical underwriting. please do not cancel current coverage until the new coverage is confirmed please be sure to monitor your\n",
      "insurance carrier invoices and notify me of any discrepancies. we encourage clients and employees to call balancecare at for plan coverage\n",
      "information, claims assistance, referrals, medical billing issues, prescription information and more the information contained in this message may be\n",
      "privileged, confidential and protected from disclosure. if the reader of this message is not the intended recipient, or an employee or agent\n",
      "responsible for delivering this message to the intended recipient, you are hereby notified that any dissemination, distribution or copying of this\n",
      "communication is strictly prohibited. if you have received this communication in error, please notify your representative immediately and delete this\n",
      "message from your computer. thank you..dentvis, , hello team, please process en correction request for lisa polverari, ssn thank you the ask unum team\n",
      "client success organization askunum askunumunum.com we appreciate the opportunity to meet your benefit needs. if you have any questions, we have\n",
      "experienced service specialists available to help you monday through friday, a.m. to p.m. eastern time. original message., , hello sandy, thank you\n",
      "for your email. we have partnered with our enrollment team to process this request. this request will be processed within business days. approved\n",
      "changes will be reflected on a future billing statement; however, if additional information is needed, processing may be delayed. please let us know\n",
      "if there is anything else that we can assist you with. thank you, the ask unum team client success organization askunum askunumunum.com unum covid\n",
      "response click here how to file a claim online click here we appreciate the opportunity to meet your benefit needs. if you have any questions, we have\n",
      "experienced service specialists available to help you monday through friday, a.m. to p.m. eastern time. original message\n",
      "\n",
      "**************************************************\n",
      "*********  Client TextBody ********\n",
      "**************************************************\n",
      "\n",
      "hi unum, lisa polverari should be enrolled under the dental, gtl and vol life should be under subplans. will you please update as needed and confirm\n",
      "back. total sono enrollment correction thank you sandy blalock account manager ii paychex insurance agency blue phone .. x fax attn sandy how are we\n",
      "doing? let my manager know pia service and retention supervisor danielle blackburn ext please be advised that final rates are always based on final\n",
      "enrollment and medical underwriting. please do not cancel current coverage until the new coverage is confirmed please be sure to monitor your\n",
      "insurance carrier invoices and notify me of any discrepancies. we encourage clients and employees to call balancecare at for plan coverage\n",
      "information, claims assistance, referrals, medical billing issues, prescription information and more the information contained in this message may be\n",
      "privileged, confidential and protected from disclosure. if the reader of this message is not the intended recipient, or an employee or agent\n",
      "responsible for delivering this message to the intended recipient, you are hereby notified that any dissemination, distribution or copying of this\n",
      "communication is strictly prohibited. if you have received this communication in error, please notify your representative immediately and delete this\n",
      "message from your computer. thank you.\n",
      "\n",
      "**************************************************\n",
      "*********  Latest Parent_ID TextBody ********\n",
      "**************************************************\n",
      "\n",
      ", , hello sandy, thank you for your email. we have partnered with our enrollment team to process this request. this request will be processed within\n",
      "business days. approved changes will be reflected on a future billing statement; however, if additional information is needed, processing may be\n",
      "delayed. please let us know if there is anything else that we can assist you with. thank you, the ask unum team client success organization askunum\n",
      "askunumunum.com unum covid response click here how to file a claim online click here we appreciate the opportunity to meet your benefit needs. if you\n",
      "have any questions, we have experienced service specialists available to help you monday through friday, a.m. to p.m. eastern time. original message\n",
      "\n",
      "********************************************************************************************************************************************************************************************************\n",
      "\n",
      "**************************************************\n",
      "*********  Full TextBody ********\n",
      "**************************************************\n",
      "\n",
      "re, , good morning kayla, thank you for your email. i have added the requested commission rates below in bold font. i hope this information is\n",
      "helpful. please do not hesitate to let us know if there is anything further we may assist you with. have a wonderful day thank you, sara closson\n",
      "service specialist unum client service center askunum askunumunum.com we appreciate the opportunity to meet your benefit needs. if you have any\n",
      "questions, we have experienced service specialists available to help you monday through friday, a.m. to p.m. eastern time. original message.thanks\n",
      "sara. can you please confirm if these rates apply to epic pces ? if not, can you please escalate to bcs to provide more detail? thank you kayla\n",
      "zimmerman client specialist south region unum national client group services for information and resources regarding unums covid response and faqs,\n",
      "please visit httpswww.unum.comcovid.thanks sara. can you please confirm if these rates apply to epic pces ? if not, can you please escalate to bcs to\n",
      "provide more detail? thank you kayla zimmerman client specialist south region unum national client group services for information and resources\n",
      "regarding unums covid response and faqs, please visit httpswww.unum.comcovid., , hi kayla, thank you for your email. yes, we can confirm the\n",
      "commission rates below are exclusively for epic, pces . have a wonderful day thank you, sara closson service specialist unum client service center\n",
      "askunum askunumunum.com we appreciate the opportunity to meet your benefit needs. if you have any questions, we have experienced service specialists\n",
      "available to help you monday through friday, a.m. to p.m. eastern time. original message.logo your message couldnt be delivered the message you sent\n",
      "to subjectevidence of insurability for your review. sent onmon, jul . couldnt be delivered due to recipient email address is possibly incorrect.\n",
      "further information .. recipient address rejected access denied. as if you sent this message to multiple addresses, youll receive a notification like\n",
      "this for every one that didnt arrive. mimecast services limited.\n",
      "\n",
      "**************************************************\n",
      "*********  Client TextBody ********\n",
      "**************************************************\n",
      "\n",
      "thanks sara. can you please confirm if these rates apply to epic pces ? if not, can you please escalate to bcs to provide more detail? thank you kayla\n",
      "zimmerman client specialist south region unum national client group services for information and resources regarding unums covid response and faqs,\n",
      "please visit httpswww.unum.comcovid.thanks sara. can you please confirm if these rates apply to epic pces ? if not, can you please escalate to bcs to\n",
      "provide more detail? thank you kayla zimmerman client specialist south region unum national client group services for information and resources\n",
      "regarding unums covid response and faqs, please visit httpswww.unum.comcovid.logo your message couldnt be delivered the message you sent to\n",
      "subjectevidence of insurability for your review. sent onmon, jul . couldnt be delivered due to recipient email address is possibly incorrect. further\n",
      "information .. recipient address rejected access denied. as if you sent this message to multiple addresses, youll receive a notification like this for\n",
      "every one that didnt arrive. mimecast services limited.\n",
      "\n",
      "**************************************************\n",
      "*********  Latest Parent_ID TextBody ********\n",
      "**************************************************\n",
      "\n",
      "thanks sara. can you please confirm if these rates apply to epic pces ? if not, can you please escalate to bcs to provide more detail? thank you kayla\n",
      "zimmerman client specialist south region unum national client group services for information and resources regarding unums covid response and faqs,\n",
      "please visit httpswww.unum.comcovid., , hi kayla, thank you for your email. yes, we can confirm the commission rates below are exclusively for epic,\n",
      "pces . have a wonderful day thank you, sara closson service specialist unum client service center askunum askunumunum.com we appreciate the\n",
      "opportunity to meet your benefit needs. if you have any questions, we have experienced service specialists available to help you monday through\n",
      "friday, a.m. to p.m. eastern time. original message.logo your message couldnt be delivered the message you sent to subjectevidence of insurability for\n",
      "your review. sent onmon, jul . couldnt be delivered due to recipient email address is possibly incorrect. further information .. recipient address\n",
      "rejected access denied. as if you sent this message to multiple addresses, youll receive a notification like this for every one that didnt arrive.\n",
      "mimecast services limited.\n",
      "\n",
      "********************************************************************************************************************************************************************************************************\n",
      "\n",
      "**************************************************\n",
      "*********  Full TextBody ********\n",
      "**************************************************\n",
      "\n",
      "hi ask unum, please reenroll tina vanhuyse in vol life ,, eefam dental and vision. the employee was previously enrolled in these coverages, then went\n",
      "to part time on and lost benefits, then was moved back to full time . so she needs to be reinstated in these plans back to . please see uw approval\n",
      "and admin letter to waive the eoi for vol life. thank you lauren leppink unum sales consultant eligible ottawa ave, suite grand rapids, mi cell\n",
      "brokers and plan administrators please contact our client services team at askunum or available a.m. to p.m. est, for questions regarding your policy\n",
      "or requests for information..,, hello lauren, thank you for your email. we will begin processing these changes in the order received. this request\n",
      "will be reviewed within business days. approved changes will be reflected on your future billing statement; however, if additional information is\n",
      "needed, processing may be delayed. did you know that the group is registered to process changes online? if you wish to be added as an active user for\n",
      "this account, please reply to this email. i hope this information is helpful. please do not hesitate to let us know if there is anything further we\n",
      "may assist you with. have a great day thank you, the ask unum team client success organization askunum askunumunum.com unum covid response click here\n",
      "how to file a claim online click here we appreciate the opportunity to meet your benefit needs. if you have any questions, we have experienced service\n",
      "specialists available to help you monday through friday, a.m. to p.m. eastern time. original message.dental vision,, hello team, please process the\n",
      "below mentioned and attached request for tina vanhuyse . thank you, the ask unum team client success organization askunum askunumunum.com we\n",
      "appreciate the opportunity to meet your benefit needs. if you have any questions, we have experienced service specialists available to help you monday\n",
      "through friday, a.m. to p.m. eastern time. original message\n",
      "\n",
      "**************************************************\n",
      "*********  Client TextBody ********\n",
      "**************************************************\n",
      "\n",
      "hi ask unum, please reenroll tina vanhuyse in vol life ,, eefam dental and vision. the employee was previously enrolled in these coverages, then went\n",
      "to part time on and lost benefits, then was moved back to full time . so she needs to be reinstated in these plans back to . please see uw approval\n",
      "and admin letter to waive the eoi for vol life. thank you lauren leppink unum sales consultant eligible ottawa ave, suite grand rapids, mi cell\n",
      "brokers and plan administrators please contact our client services team at askunum or available a.m. to p.m. est, for questions regarding your policy\n",
      "or requests for information.\n",
      "\n",
      "**************************************************\n",
      "*********  Latest Parent_ID TextBody ********\n",
      "**************************************************\n",
      "\n",
      "dental vision,, hello team, please process the below mentioned and attached request for tina vanhuyse . thank you, the ask unum team client success\n",
      "organization askunum askunumunum.com we appreciate the opportunity to meet your benefit needs. if you have any questions, we have experienced service\n",
      "specialists available to help you monday through friday, a.m. to p.m. eastern time. original message\n",
      "\n",
      "********************************************************************************************************************************************************************************************************\n"
     ]
    }
   ],
   "source": [
    "train_data=email_all['train']\n",
    "test_data=email_all['test']\n",
    "train_data.set_format(type=\"pandas\")\n",
    "df_train=train_data[:]\n",
    "test_data.set_format(type=\"pandas\")\n",
    "df_test=test_data[:]\n",
    "from datasets import Dataset\n",
    "hf_train=Dataset.from_pandas(df_train)\n",
    "hf_test=Dataset.from_pandas(df_test)\n",
    "model_checkpoint=\"allenai/longformer-base-4096\"\n",
    "tokenizer=AutoTokenizer.from_pretrained(model_checkpoint)\n",
    "        \n",
    "for text in [\"Full_TextBody\", \"Latest_TextBody\"]:\n",
    "    hf_train=hf_train.map(lambda x : tokenizer(x[text]),batched=True)\n",
    "    hf_train=hf_train.remove_columns(\"attention_mask\")\n",
    "    hf_train=hf_train.rename_column(original_column_name=\"input_ids\", new_column_name=text+\"_input_ids\")\n",
    "    # hf_dataset = hf_dataset.filter(lambda x: len(x[text+\"_input_ids\"]) > self.min_tokens)\n",
    "    \n",
    "    hf_test=hf_test.map(lambda x : tokenizer(x[text]),batched=True)\n",
    "    hf_test=hf_test.remove_columns(\"attention_mask\")\n",
    "    hf_test=hf_test.rename_column(original_column_name=\"input_ids\", new_column_name=text+\"_input_ids\")\n",
    "    \n",
    "hf_train.set_format(type=\"pandas\")\n",
    "df_train=hf_train[:]\n",
    "hf_test.set_format(type=\"pandas\")\n",
    "df_test=hf_test[:]\n",
    "\n",
    "df_train[\"Full_Words_length\"] = df_train[\"Full_TextBody_input_ids\"].apply(len)\n",
    "df_test[\"Full_Words_length\"] = df_test[\"Full_TextBody_input_ids\"].apply(len)\n",
    "\n",
    "import textwrap\n",
    "import random\n",
    "\n",
    "df_test_v1=df_test[(df_test.churn==1) & (df_test.Full_Words_length<=512)]\n",
    "df_test_v1=df_test_v1.dropna(subset=[\"Client_TextBody\"])\n",
    "# Wrap text to 80 characters.\n",
    "wrapper = textwrap.TextWrapper(width=150) \n",
    "\n",
    "exam_1 = df_test_v1[\"Full_TextBody\"]\n",
    "exam_2 = df_test_v1[\"Client_TextBody\"]\n",
    "exam_3 = df_test_v1[\"Latest_TextBody\"]\n",
    "\n",
    "# Randomly choose some examples.\n",
    "for i in range(10):\n",
    "    random.seed(101+i)\n",
    "    j = random.choice(exam_1.index)\n",
    "    \n",
    "    print('')\n",
    "    print(\"*\"*50)\n",
    "    print('*********  Full TextBody ********')\n",
    "    print(\"*\"*50)\n",
    "    print('')\n",
    "    print(wrapper.fill(exam_1[j]))\n",
    "    print('')\n",
    "    print(\"*\"*50)\n",
    "    print('*********  Client TextBody ********')\n",
    "    print(\"*\"*50)\n",
    "    print('')\n",
    "    print(wrapper.fill(exam_2[j]))\n",
    "    print('')\n",
    "    print(\"*\"*50)\n",
    "    print('*********  Latest Parent_ID TextBody ********')\n",
    "    print(\"*\"*50)\n",
    "    print('')\n",
    "    print(wrapper.fill(exam_3[j]))\n",
    "    print('')\n",
    "    print(\"*\"*200)"
   ]
  },
  {
   "cell_type": "code",
   "execution_count": null,
   "id": "7c3af84f-ffc2-4c74-aa9a-25a7bf723c05",
   "metadata": {},
   "outputs": [],
   "source": []
  },
  {
   "cell_type": "code",
   "execution_count": null,
   "id": "eec694ce-555e-4959-b0db-600bbce81b69",
   "metadata": {},
   "outputs": [],
   "source": []
  },
  {
   "cell_type": "code",
   "execution_count": null,
   "id": "e06c52e0-6234-4676-856d-7a3af5be5aa2",
   "metadata": {},
   "outputs": [],
   "source": []
  },
  {
   "cell_type": "code",
   "execution_count": null,
   "id": "cb97ddf5-1129-4f53-8f03-ec2b913956b4",
   "metadata": {},
   "outputs": [],
   "source": []
  },
  {
   "cell_type": "code",
   "execution_count": null,
   "id": "bf3dc76a-8b34-4551-8ae2-940256e92281",
   "metadata": {},
   "outputs": [],
   "source": []
  },
  {
   "cell_type": "code",
   "execution_count": null,
   "id": "e032a7a6-3d81-4fe5-85a7-20adc2469b13",
   "metadata": {},
   "outputs": [],
   "source": []
  },
  {
   "cell_type": "code",
   "execution_count": null,
   "id": "c4e252bb-4e06-4783-bc55-04465153cbb3",
   "metadata": {},
   "outputs": [],
   "source": []
  },
  {
   "cell_type": "code",
   "execution_count": null,
   "id": "09274f63-1f04-411b-93e0-f306194bc9e8",
   "metadata": {},
   "outputs": [],
   "source": []
  },
  {
   "cell_type": "code",
   "execution_count": null,
   "id": "d501b8ed-ff90-4cee-b2ef-5c29ee8d0383",
   "metadata": {},
   "outputs": [],
   "source": []
  },
  {
   "cell_type": "code",
   "execution_count": null,
   "id": "bc89e784-b4c5-44a9-b0ff-07b6ac66306f",
   "metadata": {},
   "outputs": [],
   "source": []
  },
  {
   "cell_type": "code",
   "execution_count": null,
   "id": "096a9621-175c-43d3-8a4f-1332eed7d0ac",
   "metadata": {},
   "outputs": [],
   "source": []
  },
  {
   "cell_type": "code",
   "execution_count": null,
   "id": "38bca33c-2789-4967-8efc-bca93ec6e9ba",
   "metadata": {},
   "outputs": [],
   "source": []
  },
  {
   "cell_type": "code",
   "execution_count": null,
   "id": "93e8edb0-0682-4c14-8c06-b188c579b206",
   "metadata": {},
   "outputs": [],
   "source": []
  },
  {
   "cell_type": "code",
   "execution_count": null,
   "id": "e7d0c637-f241-4f14-8463-b374deed1c5e",
   "metadata": {},
   "outputs": [],
   "source": []
  },
  {
   "cell_type": "code",
   "execution_count": null,
   "id": "ecdf45ce-ab89-43d2-a623-4bc52deb803c",
   "metadata": {},
   "outputs": [],
   "source": []
  },
  {
   "cell_type": "code",
   "execution_count": null,
   "id": "f6f27674-82c5-42e4-9b95-96c787f99634",
   "metadata": {},
   "outputs": [],
   "source": []
  },
  {
   "cell_type": "code",
   "execution_count": null,
   "id": "0c1f245c-ff04-4730-a5fb-accab2f697c8",
   "metadata": {},
   "outputs": [],
   "source": []
  },
  {
   "cell_type": "code",
   "execution_count": null,
   "id": "ef7a7318-f7b2-4b64-a226-ede7ea95bbbc",
   "metadata": {},
   "outputs": [],
   "source": []
  }
 ],
 "metadata": {
  "kernelspec": {
   "display_name": "conda_amazonei_pytorch_latest_p37",
   "language": "python",
   "name": "conda_amazonei_pytorch_latest_p37"
  },
  "language_info": {
   "codemirror_mode": {
    "name": "ipython",
    "version": 3
   },
   "file_extension": ".py",
   "mimetype": "text/x-python",
   "name": "python",
   "nbconvert_exporter": "python",
   "pygments_lexer": "ipython3",
   "version": "3.7.12"
  }
 },
 "nbformat": 4,
 "nbformat_minor": 5
}
