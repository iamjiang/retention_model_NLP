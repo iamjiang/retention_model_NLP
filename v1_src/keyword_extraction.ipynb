{
 "cells": [
  {
   "cell_type": "code",
   "execution_count": 43,
   "id": "49095eec-3afe-4a97-b777-06492b984a46",
   "metadata": {},
   "outputs": [
    {
     "name": "stderr",
     "output_type": "stream",
     "text": [
      "[nltk_data] Downloading package stopwords to\n",
      "[nltk_data]     /home/ec2-user/nltk_data...\n",
      "[nltk_data]   Package stopwords is already up-to-date!\n",
      "[nltk_data] Downloading package punkt to /home/ec2-user/nltk_data...\n",
      "[nltk_data]   Package punkt is already up-to-date!\n",
      "[nltk_data] Downloading package words to /home/ec2-user/nltk_data...\n",
      "[nltk_data]   Package words is already up-to-date!\n",
      "[nltk_data] Downloading package vader_lexicon to\n",
      "[nltk_data]     /home/ec2-user/nltk_data...\n",
      "[nltk_data]   Package vader_lexicon is already up-to-date!\n"
     ]
    }
   ],
   "source": [
    "import time\n",
    "import os\n",
    "import re\n",
    "import pandas as pd\n",
    "import numpy as np\n",
    "import datasets\n",
    "from datasets import load_dataset, load_metric, Dataset, concatenate_datasets,DatasetDict\n",
    "from datasets import load_from_disk\n",
    "from tqdm import tqdm\n",
    "tqdm.pandas(position=0,leave=True)\n",
    "import itertools\n",
    "import spacy\n",
    "nlp = spacy.load(\"en_core_web_md\")\n",
    "from textblob import TextBlob\n",
    "# python -m textblob.download_corpora\n",
    "import string\n",
    "import nltk\n",
    "from nltk.sentiment.vader import SentimentIntensityAnalyzer\n",
    "from nltk.corpus import stopwords\n",
    "from nltk.stem import PorterStemmer\n",
    "nltk.download('stopwords')\n",
    "nltk.download('punkt')\n",
    "nltk.download('words')\n",
    "nltk.download('vader_lexicon')\n",
    "from nltk.tokenize import word_tokenize\n",
    "from gensim.parsing.preprocessing import remove_stopwords\n",
    "from gensim.parsing.preprocessing import STOPWORDS\n",
    "\n",
    "from collections import Counter\n",
    "\n",
    "import warnings\n",
    "warnings.filterwarnings(\"ignore\")"
   ]
  },
  {
   "cell_type": "code",
   "execution_count": 2,
   "id": "fa2a6ac6-b00a-4bae-a900-22d6a32b457e",
   "metadata": {},
   "outputs": [],
   "source": [
    "all_stopwords_gensim = STOPWORDS.union(set(['thank','thanks', 'you', 'help','questions','a.m.','p.m.','friday','thursday','wednesday','tuesday','monday',\\\n",
    "                                            'askunum','email','askunum.com','unum','askunumunum.com','day','use', 'appreciate','available','mailtoaskunumunum.com',\\\n",
    "                                            'hello','hi','online','?','.','. .','phone','needs','need','let','know','service','information','time','meet','client',\\\n",
    "                                           'team','ask','file','date','opportunity','original','benefit','eastern','specialists','specialist','attached','experienced',\\\n",
    "                                            'benefits insurance','employee','click','organization','httpsbit.lycjrbm',  'received', 'billing', 'manager', 'assist', \\\n",
    "                                            'additional', 'response','vlif']))"
   ]
  },
  {
   "cell_type": "code",
   "execution_count": 3,
   "id": "b622ca0d-97fb-419f-9962-0a4028d44dae",
   "metadata": {},
   "outputs": [],
   "source": [
    "def text_preprocess(text, extract_adj=False):\n",
    "    # lemma = nltk.wordnet.WordNetLemmatizer()\n",
    "    \n",
    "    text = str(text)\n",
    "    \n",
    "    #remove http links from the email\n",
    "    \n",
    "    link_regex    = re.compile('((https?):((//)|(\\\\\\\\))+([\\w\\d:#@%/;$()~_?\\+-=\\\\\\.&](#!)?)*)', re.DOTALL)\n",
    "    links         = re.findall(link_regex, text)\n",
    "    for link in links:\n",
    "        text = text.replace(link[0], '')  \n",
    "    \n",
    "    text = re.sub(\"`\", \"'\", text)\n",
    "    \n",
    "    #fix misspelled words\n",
    "\n",
    "    '''Here we are not actually building any complex function to correct the misspelled words but just checking that each character \n",
    "    should occur not more than 2 times in every word. It’s a very basic misspelling check.'''\n",
    "\n",
    "    text = ''.join(''.join(s)[:2] for _, s in itertools.groupby(text))\n",
    "    \n",
    "    if extract_adj:\n",
    "        ADJ_word=[]\n",
    "        doc=nlp(text)\n",
    "        for token in doc:\n",
    "            if token.pos_==\"ADJ\":\n",
    "                ADJ_word.append(token.text)   \n",
    "        text=\" \".join(ADJ_word)    \n",
    "\n",
    "    # text = [appos[word] if word in appos else word for word in text.lower().split()]\n",
    "    # text = \" \".join(text)\n",
    "    \n",
    "    ### Remove stop word\n",
    "    text = [i for i in word_tokenize(text) if i not in all_stopwords_gensim]\n",
    "    text = \" \".join(text)\n",
    "    \n",
    "    # remove special characters and digits\n",
    "    text=re.sub(\"(\\\\d|\\\\W)+\",\" \",text)\n",
    "    \n",
    "    #Remove punctuation\n",
    "    table = str.maketrans('', '', string.punctuation)\n",
    "    text = [w.translate(table) for w in text.split()]\n",
    "    text=\" \".join(text)\n",
    "    \n",
    "    # stem\n",
    "    # ps = PorterStemmer()\n",
    "    # text=\" \".join(set([ps.stem(w) for w in text.split()]))\n",
    "    \n",
    "    return text\n",
    "    \n",
    "def textblob_sentiment(text):\n",
    "    pol_score = TextBlob(text).sentiment.polarity\n",
    "    if pol_score > 0: \n",
    "        return 'positive'\n",
    "    elif pol_score == 0: \n",
    "        return 'neutral'\n",
    "    else: \n",
    "        return 'negative'\n",
    "\n",
    "def vader_sentiment(text):\n",
    "    \n",
    "    senti = SentimentIntensityAnalyzer()\n",
    "    compound_score = senti.polarity_scores(text)['compound']\n",
    "    \n",
    "    # set sentiment \n",
    "    if compound_score >= 0.05: \n",
    "        return 'positive'\n",
    "    elif (compound_score > -0.05) and (compound_score < 0.05): \n",
    "        return 'neutral'\n",
    "    else: \n",
    "        return 'negative'"
   ]
  },
  {
   "cell_type": "code",
   "execution_count": 4,
   "id": "0788836e-8822-4150-8c02-38a5ce2d35d5",
   "metadata": {},
   "outputs": [
    {
     "data": {
      "text/plain": [
       "DatasetDict({\n",
       "    train: Dataset({\n",
       "        features: ['unum_id', 'policy_id', 'Full_TextBody', 'Client_TextBody', 'Latest_TextBody', 'year', 'month', 'email_counts', 'issue_counts', 'duration', 'subtype', 'churn'],\n",
       "        num_rows: 143551\n",
       "    })\n",
       "    test: Dataset({\n",
       "        features: ['unum_id', 'policy_id', 'Full_TextBody', 'Client_TextBody', 'Latest_TextBody', 'year', 'month', 'email_counts', 'issue_counts', 'duration', 'subtype', 'churn'],\n",
       "        num_rows: 25246\n",
       "    })\n",
       "})"
      ]
     },
     "execution_count": 4,
     "metadata": {},
     "output_type": "execute_result"
    }
   ],
   "source": [
    "email_all=load_from_disk(os.path.join(os.getcwd(),\"dataset\",\"email_all\"))\n",
    "email_all"
   ]
  },
  {
   "cell_type": "code",
   "execution_count": 5,
   "id": "eff9d45e-8fcb-4e4f-8896-6663b0787015",
   "metadata": {},
   "outputs": [],
   "source": [
    "train_data=email_all['train']\n",
    "test_data=email_all['test']\n",
    "train_data.set_format(type=\"pandas\")\n",
    "df_train=train_data[:]\n",
    "test_data.set_format(type=\"pandas\")\n",
    "df_test=test_data[:]"
   ]
  },
  {
   "cell_type": "code",
   "execution_count": 6,
   "id": "b3540398-4a67-4c32-a57b-5f9c1da3b450",
   "metadata": {},
   "outputs": [
    {
     "data": {
      "text/html": [
       "<style type=\"text/css\">\n",
       "#T_d06ad_ caption {\n",
       "  color: red;\n",
       "  font-size: 15px;\n",
       "}\n",
       "</style>\n",
       "<table id=\"T_d06ad_\">\n",
       "  <caption>Training set churn dist</caption>\n",
       "  <thead>\n",
       "    <tr>\n",
       "      <th class=\"blank level0\" >&nbsp;</th>\n",
       "      <th class=\"col_heading level0 col0\" >churn</th>\n",
       "      <th class=\"col_heading level0 col1\" >count</th>\n",
       "      <th class=\"col_heading level0 col2\" >percentage</th>\n",
       "    </tr>\n",
       "  </thead>\n",
       "  <tbody>\n",
       "    <tr>\n",
       "      <th id=\"T_d06ad_level0_row0\" class=\"row_heading level0 row0\" >0</th>\n",
       "      <td id=\"T_d06ad_row0_col0\" class=\"data row0 col0\" >0</td>\n",
       "      <td id=\"T_d06ad_row0_col1\" class=\"data row0 col1\" >122,466</td>\n",
       "      <td id=\"T_d06ad_row0_col2\" class=\"data row0 col2\" >85.31%</td>\n",
       "    </tr>\n",
       "    <tr>\n",
       "      <th id=\"T_d06ad_level0_row1\" class=\"row_heading level0 row1\" >1</th>\n",
       "      <td id=\"T_d06ad_row1_col0\" class=\"data row1 col0\" >1</td>\n",
       "      <td id=\"T_d06ad_row1_col1\" class=\"data row1 col1\" >21,085</td>\n",
       "      <td id=\"T_d06ad_row1_col2\" class=\"data row1 col2\" >14.69%</td>\n",
       "    </tr>\n",
       "  </tbody>\n",
       "</table>\n"
      ],
      "text/plain": [
       "<pandas.io.formats.style.Styler at 0x7fc188497cd0>"
      ]
     },
     "execution_count": 6,
     "metadata": {},
     "output_type": "execute_result"
    }
   ],
   "source": [
    "tempt1=pd.DataFrame(df_train[\"churn\"].value_counts(dropna=False)).reset_index().rename(columns={'index':'churn','churn':'count'})\n",
    "tempt2=pd.DataFrame(df_train[\"churn\"].value_counts(dropna=False,normalize=True)).reset_index().rename(columns={'index':'churn','churn':'percentage'})\n",
    "tempt1.merge(tempt2, on=\"churn\", how=\"inner\").style.format({'count':'{:,}','percentage':'{:.2%}'}).set_caption(\"Training set churn dist\")\\\n",
    ".set_table_styles([{'selector': 'caption','props': [('color', 'red'),('font-size', '15px')]}])"
   ]
  },
  {
   "cell_type": "code",
   "execution_count": 7,
   "id": "ec07d32b-650f-47c3-911a-e64b5b03746b",
   "metadata": {},
   "outputs": [
    {
     "data": {
      "text/html": [
       "<style type=\"text/css\">\n",
       "#T_0506f_ caption {\n",
       "  color: red;\n",
       "  font-size: 15px;\n",
       "}\n",
       "</style>\n",
       "<table id=\"T_0506f_\">\n",
       "  <caption>Test set churn dist</caption>\n",
       "  <thead>\n",
       "    <tr>\n",
       "      <th class=\"blank level0\" >&nbsp;</th>\n",
       "      <th class=\"col_heading level0 col0\" >churn</th>\n",
       "      <th class=\"col_heading level0 col1\" >count</th>\n",
       "      <th class=\"col_heading level0 col2\" >percentage</th>\n",
       "    </tr>\n",
       "  </thead>\n",
       "  <tbody>\n",
       "    <tr>\n",
       "      <th id=\"T_0506f_level0_row0\" class=\"row_heading level0 row0\" >0</th>\n",
       "      <td id=\"T_0506f_row0_col0\" class=\"data row0 col0\" >0</td>\n",
       "      <td id=\"T_0506f_row0_col1\" class=\"data row0 col1\" >21,739</td>\n",
       "      <td id=\"T_0506f_row0_col2\" class=\"data row0 col2\" >86.11%</td>\n",
       "    </tr>\n",
       "    <tr>\n",
       "      <th id=\"T_0506f_level0_row1\" class=\"row_heading level0 row1\" >1</th>\n",
       "      <td id=\"T_0506f_row1_col0\" class=\"data row1 col0\" >1</td>\n",
       "      <td id=\"T_0506f_row1_col1\" class=\"data row1 col1\" >3,507</td>\n",
       "      <td id=\"T_0506f_row1_col2\" class=\"data row1 col2\" >13.89%</td>\n",
       "    </tr>\n",
       "  </tbody>\n",
       "</table>\n"
      ],
      "text/plain": [
       "<pandas.io.formats.style.Styler at 0x7fc0e5521850>"
      ]
     },
     "execution_count": 7,
     "metadata": {},
     "output_type": "execute_result"
    }
   ],
   "source": [
    "tempt1=pd.DataFrame(df_test[\"churn\"].value_counts(dropna=False)).reset_index().rename(columns={'index':'churn','churn':'count'})\n",
    "tempt2=pd.DataFrame(df_test[\"churn\"].value_counts(dropna=False,normalize=True)).reset_index().rename(columns={'index':'churn','churn':'percentage'})\n",
    "tempt1.merge(tempt2, on=\"churn\", how=\"inner\").style.format({'count':'{:,}','percentage':'{:.2%}'}).set_caption(\"Test set churn dist\")\\\n",
    ".set_table_styles([{'selector': 'caption','props': [('color', 'red'),('font-size', '15px')]}])"
   ]
  },
  {
   "cell_type": "code",
   "execution_count": 8,
   "id": "f0c187e6-d5b9-43d6-9d88-03ca025314c2",
   "metadata": {},
   "outputs": [
    {
     "name": "stderr",
     "output_type": "stream",
     "text": [
      "100%|██████████| 143551/143551 [30:52<00:00, 77.47it/s] \n",
      "100%|██████████| 25246/25246 [06:10<00:00, 68.11it/s] \n"
     ]
    }
   ],
   "source": [
    "df_train[\"bag_of_word\"]=df_train[\"Full_TextBody\"].progress_apply(text_preprocess)\n",
    "df_test[\"bag_of_word\"]=df_test[\"Full_TextBody\"].progress_apply(text_preprocess)"
   ]
  },
  {
   "cell_type": "code",
   "execution_count": null,
   "id": "881f8a2a-c9a2-402e-be27-40641efec78f",
   "metadata": {},
   "outputs": [
    {
     "name": "stderr",
     "output_type": "stream",
     "text": [
      "  9%|▉         | 13010/143551 [43:21<6:51:33,  5.29it/s] "
     ]
    }
   ],
   "source": [
    "df_train[\"adj_bag_of_word\"]=df_train[\"Full_TextBody\"].progress_apply(lambda x: text_preprocess(x, extract_adj=True))\n",
    "df_test[\"adj_bag_of_word\"]=df_test[\"Full_TextBody\"].progress_apply(lambda x: text_preprocess(x, extract_adj=True))"
   ]
  },
  {
   "cell_type": "code",
   "execution_count": 23,
   "id": "4552c854-5a98-42d7-be39-0ac053f3be8f",
   "metadata": {},
   "outputs": [
    {
     "data": {
      "text/html": [
       "<div>\n",
       "<style scoped>\n",
       "    .dataframe tbody tr th:only-of-type {\n",
       "        vertical-align: middle;\n",
       "    }\n",
       "\n",
       "    .dataframe tbody tr th {\n",
       "        vertical-align: top;\n",
       "    }\n",
       "\n",
       "    .dataframe thead th {\n",
       "        text-align: right;\n",
       "    }\n",
       "</style>\n",
       "<table border=\"1\" class=\"dataframe\">\n",
       "  <thead>\n",
       "    <tr style=\"text-align: right;\">\n",
       "      <th></th>\n",
       "      <th>unum_id</th>\n",
       "      <th>policy_id</th>\n",
       "      <th>Full_TextBody</th>\n",
       "      <th>Client_TextBody</th>\n",
       "      <th>Latest_TextBody</th>\n",
       "      <th>year</th>\n",
       "      <th>month</th>\n",
       "      <th>email_counts</th>\n",
       "      <th>issue_counts</th>\n",
       "      <th>duration</th>\n",
       "      <th>subtype</th>\n",
       "      <th>churn</th>\n",
       "      <th>bag_of_word</th>\n",
       "      <th>adj_bag_of_word</th>\n",
       "    </tr>\n",
       "  </thead>\n",
       "  <tbody>\n",
       "    <tr>\n",
       "      <th>0</th>\n",
       "      <td>158757547</td>\n",
       "      <td>403324</td>\n",
       "      <td>. . you have received an encrypted message fro...</td>\n",
       "      <td>. . you have received an encrypted message fro...</td>\n",
       "      <td>. . you have received an encrypted message fro...</td>\n",
       "      <td>2020</td>\n",
       "      <td>1</td>\n",
       "      <td>12</td>\n",
       "      <td>11</td>\n",
       "      <td>10.671863</td>\n",
       "      <td>Enrollment Submission</td>\n",
       "      <td>0</td>\n",
       "      <td>encrypted message abd insurance financial serv...</td>\n",
       "      <td>financial confidential addressee financial con...</td>\n",
       "    </tr>\n",
       "    <tr>\n",
       "      <th>1</th>\n",
       "      <td>122323585</td>\n",
       "      <td>604582</td>\n",
       "      <td>. . hello, could we please get the eoi form th...</td>\n",
       "      <td>. . hello, could we please get the eoi form th...</td>\n",
       "      <td>re 604581,604582 hello melissa, . for amplify ...</td>\n",
       "      <td>2020</td>\n",
       "      <td>7</td>\n",
       "      <td>3</td>\n",
       "      <td>3</td>\n",
       "      <td>3.384468</td>\n",
       "      <td>EOI Submission</td>\n",
       "      <td>0</td>\n",
       "      <td>eoi form needed guarantee issue melissa meliss...</td>\n",
       "      <td>eoi direct main electronic initial eoi eoi eoi...</td>\n",
       "    </tr>\n",
       "    <tr>\n",
       "      <th>2</th>\n",
       "      <td>791399</td>\n",
       "      <td>217586</td>\n",
       "      <td>name sonya marsh phone 804-249-5412 response r...</td>\n",
       "      <td>name sonya marsh phone 804-249-5412 response r...</td>\n",
       "      <td>re 217586 hi sonya, . i needed to correct the ...</td>\n",
       "      <td>2019</td>\n",
       "      <td>3</td>\n",
       "      <td>1</td>\n",
       "      <td>1</td>\n",
       "      <td>5.015174</td>\n",
       "      <td>Employee Coding</td>\n",
       "      <td>0</td>\n",
       "      <td>sonya marsh requested e mail policy division c...</td>\n",
       "      <td>mail annual mistake re incorrect effective rec...</td>\n",
       "    </tr>\n",
       "    <tr>\n",
       "      <th>3</th>\n",
       "      <td>611560</td>\n",
       "      <td>933183</td>\n",
       "      <td>. . this message was sent securely using zix h...</td>\n",
       "      <td>. . this message was sent securely using zix h...</td>\n",
       "      <td>re r0364752, 933183, r0091074 greetings lisa, ...</td>\n",
       "      <td>2021</td>\n",
       "      <td>5</td>\n",
       "      <td>1</td>\n",
       "      <td>2</td>\n",
       "      <td>1.124016</td>\n",
       "      <td>GPC â Client Request</td>\n",
       "      <td>0</td>\n",
       "      <td>message sent securely zix federal process advi...</td>\n",
       "      <td>federal federal critical new effective senior ...</td>\n",
       "    </tr>\n",
       "    <tr>\n",
       "      <th>4</th>\n",
       "      <td>635710940</td>\n",
       "      <td>658785</td>\n",
       "      <td>. . good afternoon, please process the attache...</td>\n",
       "      <td>. . good afternoon, please process the attache...</td>\n",
       "      <td>. . good morning, this members enrollment is s...</td>\n",
       "      <td>2020</td>\n",
       "      <td>2</td>\n",
       "      <td>20</td>\n",
       "      <td>19</td>\n",
       "      <td>19.037338</td>\n",
       "      <td>Employee Coding</td>\n",
       "      <td>1</td>\n",
       "      <td>good afternoon process termination member ivan...</td>\n",
       "      <td>good effective complete individual financial s...</td>\n",
       "    </tr>\n",
       "  </tbody>\n",
       "</table>\n",
       "</div>"
      ],
      "text/plain": [
       "     unum_id  policy_id                                      Full_TextBody  \\\n",
       "0  158757547     403324  . . you have received an encrypted message fro...   \n",
       "1  122323585     604582  . . hello, could we please get the eoi form th...   \n",
       "2     791399     217586  name sonya marsh phone 804-249-5412 response r...   \n",
       "3     611560     933183  . . this message was sent securely using zix h...   \n",
       "4  635710940     658785  . . good afternoon, please process the attache...   \n",
       "\n",
       "                                     Client_TextBody  \\\n",
       "0  . . you have received an encrypted message fro...   \n",
       "1  . . hello, could we please get the eoi form th...   \n",
       "2  name sonya marsh phone 804-249-5412 response r...   \n",
       "3  . . this message was sent securely using zix h...   \n",
       "4  . . good afternoon, please process the attache...   \n",
       "\n",
       "                                     Latest_TextBody  year  month  \\\n",
       "0  . . you have received an encrypted message fro...  2020      1   \n",
       "1  re 604581,604582 hello melissa, . for amplify ...  2020      7   \n",
       "2  re 217586 hi sonya, . i needed to correct the ...  2019      3   \n",
       "3  re r0364752, 933183, r0091074 greetings lisa, ...  2021      5   \n",
       "4  . . good morning, this members enrollment is s...  2020      2   \n",
       "\n",
       "   email_counts  issue_counts   duration                 subtype  churn  \\\n",
       "0            12            11  10.671863   Enrollment Submission      0   \n",
       "1             3             3   3.384468          EOI Submission      0   \n",
       "2             1             1   5.015174         Employee Coding      0   \n",
       "3             1             2   1.124016  GPC â Client Request      0   \n",
       "4            20            19  19.037338         Employee Coding      1   \n",
       "\n",
       "                                         bag_of_word  \\\n",
       "0  encrypted message abd insurance financial serv...   \n",
       "1  eoi form needed guarantee issue melissa meliss...   \n",
       "2  sonya marsh requested e mail policy division c...   \n",
       "3  message sent securely zix federal process advi...   \n",
       "4  good afternoon process termination member ivan...   \n",
       "\n",
       "                                     adj_bag_of_word  \n",
       "0  financial confidential addressee financial con...  \n",
       "1  eoi direct main electronic initial eoi eoi eoi...  \n",
       "2  mail annual mistake re incorrect effective rec...  \n",
       "3  federal federal critical new effective senior ...  \n",
       "4  good effective complete individual financial s...  "
      ]
     },
     "execution_count": 23,
     "metadata": {},
     "output_type": "execute_result"
    }
   ],
   "source": [
    "df_train.head()"
   ]
  },
  {
   "cell_type": "code",
   "execution_count": null,
   "id": "02a2cfcb-8c87-4ed4-83c9-767be74eae3f",
   "metadata": {},
   "outputs": [],
   "source": [
    "# my_folder=\"s3://trident-retention-output/\"\n",
    "# df_train.to_pickle(os.path.join(my_folder,\"df_train\"))\n",
    "# df_test.to_pickle(os.path.join(my_folder,\"df_test\"))"
   ]
  },
  {
   "cell_type": "code",
   "execution_count": 52,
   "id": "d9c11eac-6f03-41af-9ae4-128171ac1985",
   "metadata": {},
   "outputs": [
    {
     "name": "stdout",
     "output_type": "stream",
     "text": [
      "It took 169.2008 seconds to read data\n"
     ]
    }
   ],
   "source": [
    "my_folder=\"s3://trident-retention-output/\"\n",
    "start=time.time()\n",
    "df_train=pd.read_pickle(os.path.join(my_folder,\"df_train\"))\n",
    "df_test=pd.read_pickle(os.path.join(my_folder,\"df_test\"))\n",
    "end=time.time()\n",
    "print(\"It took {:0.4f} seconds to read data\".format(end-start))        "
   ]
  },
  {
   "cell_type": "code",
   "execution_count": 53,
   "id": "36a182c1-dd3b-4619-a06e-6d02dd990dbf",
   "metadata": {},
   "outputs": [
    {
     "name": "stderr",
     "output_type": "stream",
     "text": [
      "100%|██████████| 143551/143551 [00:03<00:00, 36956.53it/s]\n",
      "100%|██████████| 25246/25246 [00:00<00:00, 33228.29it/s]\n",
      "100%|██████████| 143551/143551 [00:35<00:00, 4092.11it/s]\n",
      "100%|██████████| 25246/25246 [00:07<00:00, 3261.95it/s]\n"
     ]
    }
   ],
   "source": [
    "## removing non-english words from text\n",
    "words = set(nltk.corpus.words.words())\n",
    "df_train[\"adj_bag_of_word\"] = df_train[\"adj_bag_of_word\"].progress_apply(lambda x: \" \".join(w for w in nltk.wordpunct_tokenize(x) if w.lower() in words ))\n",
    "df_test[\"adj_bag_of_word\"] = df_test[\"adj_bag_of_word\"].progress_apply(lambda x: \" \".join(w for w in nltk.wordpunct_tokenize(x) if w.lower() in words ))\n",
    "\n",
    "df_train[\"bag_of_word\"] = df_train[\"bag_of_word\"].progress_apply(lambda x: \" \".join(w for w in nltk.wordpunct_tokenize(x) if w.lower() in words ))\n",
    "df_test[\"bag_of_word\"] = df_test[\"bag_of_word\"].progress_apply(lambda x: \" \".join(w for w in nltk.wordpunct_tokenize(x) if w.lower() in words ))"
   ]
  },
  {
   "cell_type": "code",
   "execution_count": 57,
   "id": "e6038f93-f3b6-441d-8382-0fc141401f95",
   "metadata": {},
   "outputs": [
    {
     "name": "stderr",
     "output_type": "stream",
     "text": [
      "100%|██████████| 143551/143551 [00:01<00:00, 102790.12it/s]\n",
      "100%|██████████| 25246/25246 [00:00<00:00, 97284.49it/s] \n",
      "100%|██████████| 143551/143551 [00:08<00:00, 17755.73it/s]\n",
      "100%|██████████| 25246/25246 [00:01<00:00, 15407.38it/s]\n"
     ]
    }
   ],
   "source": [
    "## removing short text\n",
    "df_train[\"adj_bag_of_word\"] = df_train[\"adj_bag_of_word\"].progress_apply(lambda x: \" \".join(w for w in x.split() if len(w)>3) )\n",
    "df_test[\"adj_bag_of_word\"] = df_test[\"adj_bag_of_word\"].progress_apply(lambda x: \" \".join(w for w in x.split() if len(w)>3))\n",
    "\n",
    "df_train[\"bag_of_word\"] = df_train[\"bag_of_word\"].progress_apply(lambda x: \" \".join(w for w in x.split() if len(w)>3))\n",
    "df_test[\"bag_of_word\"] = df_test[\"bag_of_word\"].progress_apply(lambda x: \" \".join(w for w in x.split() if len(w)>3))"
   ]
  },
  {
   "cell_type": "code",
   "execution_count": 59,
   "id": "23f2b0a9-9e83-4c4f-90c8-5f6581c6937a",
   "metadata": {},
   "outputs": [],
   "source": [
    "def most_common_word(df,feature):\n",
    "    word_count=Counter()\n",
    "    for index,row in tqdm(df.iterrows(), total=df.shape[0]):\n",
    "        word_count.update(set(row[feature].split()))\n",
    "    word,freq=zip(*word_count.most_common())\n",
    "    return word,freq"
   ]
  },
  {
   "cell_type": "code",
   "execution_count": 60,
   "id": "8944b6a7-74d8-4206-8b47-7cc637e062f4",
   "metadata": {},
   "outputs": [
    {
     "name": "stderr",
     "output_type": "stream",
     "text": [
      "100%|██████████| 21085/21085 [00:01<00:00, 18917.83it/s]\n",
      "100%|██████████| 3507/3507 [00:00<00:00, 19004.25it/s]\n",
      "100%|██████████| 122466/122466 [00:06<00:00, 19715.37it/s]\n",
      "100%|██████████| 21739/21739 [00:01<00:00, 19612.70it/s]\n"
     ]
    }
   ],
   "source": [
    "train_data=df_train.copy()\n",
    "test_data=df_test.copy()\n",
    "\n",
    "train_churn,  train_no_churn=df_train[df_train['churn']==1], df_train[df_train['churn']==0]\n",
    "test_churn,  test_no_churn=df_test[df_test['churn']==1], df_test[df_test['churn']==0]\n",
    "\n",
    "adj_train_churn, freq_train_churn = most_common_word(train_churn, feature=\"adj_bag_of_word\")\n",
    "adj_test_churn, freq_test_churn = most_common_word(test_churn, feature=\"adj_bag_of_word\")\n",
    "adj_train_no_churn, freq_train_no_churn = most_common_word(train_no_churn, feature=\"adj_bag_of_word\")\n",
    "adj_test_no_churn, freq_test_no_churn = most_common_word(test_no_churn, feature=\"adj_bag_of_word\")"
   ]
  },
  {
   "cell_type": "code",
   "execution_count": 66,
   "id": "cda056f1-17f3-4c43-b86c-2c6cd0b24f2d",
   "metadata": {},
   "outputs": [
    {
     "data": {
      "text/html": [
       "<style type=\"text/css\">\n",
       "#T_7342f_ caption {\n",
       "  color: red;\n",
       "  font-size: 15px;\n",
       "}\n",
       "</style>\n",
       "<table id=\"T_7342f_\">\n",
       "  <caption>Most common adjective keywords with churn==1</caption>\n",
       "  <thead>\n",
       "    <tr>\n",
       "      <th class=\"blank level0\" >&nbsp;</th>\n",
       "      <th class=\"col_heading level0 col0\" >training</th>\n",
       "      <th class=\"col_heading level0 col1\" >test</th>\n",
       "    </tr>\n",
       "  </thead>\n",
       "  <tbody>\n",
       "    <tr>\n",
       "      <th id=\"T_7342f_level0_row0\" class=\"row_heading level0 row0\" >0</th>\n",
       "      <td id=\"T_7342f_row0_col0\" class=\"data row0 col0\" >topical</td>\n",
       "      <td id=\"T_7342f_row0_col1\" class=\"data row0 col1\" >incumbent</td>\n",
       "    </tr>\n",
       "    <tr>\n",
       "      <th id=\"T_7342f_level0_row1\" class=\"row_heading level0 row1\" >1</th>\n",
       "      <td id=\"T_7342f_row1_col0\" class=\"data row1 col0\" >hundredth</td>\n",
       "      <td id=\"T_7342f_row1_col1\" class=\"data row1 col1\" >liquid</td>\n",
       "    </tr>\n",
       "    <tr>\n",
       "      <th id=\"T_7342f_level0_row2\" class=\"row_heading level0 row2\" >2</th>\n",
       "      <td id=\"T_7342f_row2_col0\" class=\"data row2 col0\" >forbidden</td>\n",
       "      <td id=\"T_7342f_row2_col1\" class=\"data row2 col1\" >sizeable</td>\n",
       "    </tr>\n",
       "    <tr>\n",
       "      <th id=\"T_7342f_level0_row3\" class=\"row_heading level0 row3\" >3</th>\n",
       "      <td id=\"T_7342f_row3_col0\" class=\"data row3 col0\" >unmasked</td>\n",
       "      <td id=\"T_7342f_row3_col1\" class=\"data row3 col1\" >bord</td>\n",
       "    </tr>\n",
       "    <tr>\n",
       "      <th id=\"T_7342f_level0_row4\" class=\"row_heading level0 row4\" >4</th>\n",
       "      <td id=\"T_7342f_row4_col0\" class=\"data row4 col0\" >faith</td>\n",
       "      <td id=\"T_7342f_row4_col1\" class=\"data row4 col1\" >dependable</td>\n",
       "    </tr>\n",
       "    <tr>\n",
       "      <th id=\"T_7342f_level0_row5\" class=\"row_heading level0 row5\" >5</th>\n",
       "      <td id=\"T_7342f_row5_col0\" class=\"data row5 col0\" >lifetime</td>\n",
       "      <td id=\"T_7342f_row5_col1\" class=\"data row5 col1\" >billed</td>\n",
       "    </tr>\n",
       "    <tr>\n",
       "      <th id=\"T_7342f_level0_row6\" class=\"row_heading level0 row6\" >6</th>\n",
       "      <td id=\"T_7342f_row6_col0\" class=\"data row6 col0\" >running</td>\n",
       "      <td id=\"T_7342f_row6_col1\" class=\"data row6 col1\" >choose</td>\n",
       "    </tr>\n",
       "    <tr>\n",
       "      <th id=\"T_7342f_level0_row7\" class=\"row_heading level0 row7\" >7</th>\n",
       "      <td id=\"T_7342f_row7_col0\" class=\"data row7 col0\" >shiver</td>\n",
       "      <td id=\"T_7342f_row7_col1\" class=\"data row7 col1\" >impartial</td>\n",
       "    </tr>\n",
       "    <tr>\n",
       "      <th id=\"T_7342f_level0_row8\" class=\"row_heading level0 row8\" >8</th>\n",
       "      <td id=\"T_7342f_row8_col0\" class=\"data row8 col0\" >quorum</td>\n",
       "      <td id=\"T_7342f_row8_col1\" class=\"data row8 col1\" >fixed</td>\n",
       "    </tr>\n",
       "    <tr>\n",
       "      <th id=\"T_7342f_level0_row9\" class=\"row_heading level0 row9\" >9</th>\n",
       "      <td id=\"T_7342f_row9_col0\" class=\"data row9 col0\" >volatile</td>\n",
       "      <td id=\"T_7342f_row9_col1\" class=\"data row9 col1\" >sorted</td>\n",
       "    </tr>\n",
       "    <tr>\n",
       "      <th id=\"T_7342f_level0_row10\" class=\"row_heading level0 row10\" >10</th>\n",
       "      <td id=\"T_7342f_row10_col0\" class=\"data row10 col0\" >bereavement</td>\n",
       "      <td id=\"T_7342f_row10_col1\" class=\"data row10 col1\" >chandler</td>\n",
       "    </tr>\n",
       "    <tr>\n",
       "      <th id=\"T_7342f_level0_row11\" class=\"row_heading level0 row11\" >11</th>\n",
       "      <td id=\"T_7342f_row11_col0\" class=\"data row11 col0\" >tanned</td>\n",
       "      <td id=\"T_7342f_row11_col1\" class=\"data row11 col1\" >generalized</td>\n",
       "    </tr>\n",
       "    <tr>\n",
       "      <th id=\"T_7342f_level0_row12\" class=\"row_heading level0 row12\" >12</th>\n",
       "      <td id=\"T_7342f_row12_col0\" class=\"data row12 col0\" >tangible</td>\n",
       "      <td id=\"T_7342f_row12_col1\" class=\"data row12 col1\" >polyclinic</td>\n",
       "    </tr>\n",
       "    <tr>\n",
       "      <th id=\"T_7342f_level0_row13\" class=\"row_heading level0 row13\" >13</th>\n",
       "      <td id=\"T_7342f_row13_col0\" class=\"data row13 col0\" >gena</td>\n",
       "      <td id=\"T_7342f_row13_col1\" class=\"data row13 col1\" >compound</td>\n",
       "    </tr>\n",
       "    <tr>\n",
       "      <th id=\"T_7342f_level0_row14\" class=\"row_heading level0 row14\" >14</th>\n",
       "      <td id=\"T_7342f_row14_col0\" class=\"data row14 col0\" >gilbert</td>\n",
       "      <td id=\"T_7342f_row14_col1\" class=\"data row14 col1\" >gastrointestinal</td>\n",
       "    </tr>\n",
       "    <tr>\n",
       "      <th id=\"T_7342f_level0_row15\" class=\"row_heading level0 row15\" >15</th>\n",
       "      <td id=\"T_7342f_row15_col0\" class=\"data row15 col0\" >copa</td>\n",
       "      <td id=\"T_7342f_row15_col1\" class=\"data row15 col1\" >branch</td>\n",
       "    </tr>\n",
       "    <tr>\n",
       "      <th id=\"T_7342f_level0_row16\" class=\"row_heading level0 row16\" >16</th>\n",
       "      <td id=\"T_7342f_row16_col0\" class=\"data row16 col0\" >truck</td>\n",
       "      <td id=\"T_7342f_row16_col1\" class=\"data row16 col1\" >same</td>\n",
       "    </tr>\n",
       "    <tr>\n",
       "      <th id=\"T_7342f_level0_row17\" class=\"row_heading level0 row17\" >17</th>\n",
       "      <td id=\"T_7342f_row17_col0\" class=\"data row17 col0\" >branch</td>\n",
       "      <td id=\"T_7342f_row17_col1\" class=\"data row17 col1\" >multivarious</td>\n",
       "    </tr>\n",
       "    <tr>\n",
       "      <th id=\"T_7342f_level0_row18\" class=\"row_heading level0 row18\" >18</th>\n",
       "      <td id=\"T_7342f_row18_col0\" class=\"data row18 col0\" >germfree</td>\n",
       "      <td id=\"T_7342f_row18_col1\" class=\"data row18 col1\" >grad</td>\n",
       "    </tr>\n",
       "    <tr>\n",
       "      <th id=\"T_7342f_level0_row19\" class=\"row_heading level0 row19\" >19</th>\n",
       "      <td id=\"T_7342f_row19_col0\" class=\"data row19 col0\" >seismic</td>\n",
       "      <td id=\"T_7342f_row19_col1\" class=\"data row19 col1\" >tooling</td>\n",
       "    </tr>\n",
       "    <tr>\n",
       "      <th id=\"T_7342f_level0_row20\" class=\"row_heading level0 row20\" >20</th>\n",
       "      <td id=\"T_7342f_row20_col0\" class=\"data row20 col0\" >forest</td>\n",
       "      <td id=\"T_7342f_row20_col1\" class=\"data row20 col1\" >foundation</td>\n",
       "    </tr>\n",
       "    <tr>\n",
       "      <th id=\"T_7342f_level0_row21\" class=\"row_heading level0 row21\" >21</th>\n",
       "      <td id=\"T_7342f_row21_col0\" class=\"data row21 col0\" >gager</td>\n",
       "      <td id=\"T_7342f_row21_col1\" class=\"data row21 col1\" >file</td>\n",
       "    </tr>\n",
       "    <tr>\n",
       "      <th id=\"T_7342f_level0_row22\" class=\"row_heading level0 row22\" >22</th>\n",
       "      <td id=\"T_7342f_row22_col0\" class=\"data row22 col0\" >homey</td>\n",
       "      <td id=\"T_7342f_row22_col1\" class=\"data row22 col1\" >shale</td>\n",
       "    </tr>\n",
       "    <tr>\n",
       "      <th id=\"T_7342f_level0_row23\" class=\"row_heading level0 row23\" >23</th>\n",
       "      <td id=\"T_7342f_row23_col0\" class=\"data row23 col0\" >cavalcade</td>\n",
       "      <td id=\"T_7342f_row23_col1\" class=\"data row23 col1\" >seal</td>\n",
       "    </tr>\n",
       "    <tr>\n",
       "      <th id=\"T_7342f_level0_row24\" class=\"row_heading level0 row24\" >24</th>\n",
       "      <td id=\"T_7342f_row24_col0\" class=\"data row24 col0\" >blissful</td>\n",
       "      <td id=\"T_7342f_row24_col1\" class=\"data row24 col1\" >nautical</td>\n",
       "    </tr>\n",
       "    <tr>\n",
       "      <th id=\"T_7342f_level0_row25\" class=\"row_heading level0 row25\" >25</th>\n",
       "      <td id=\"T_7342f_row25_col0\" class=\"data row25 col0\" >laughable</td>\n",
       "      <td id=\"T_7342f_row25_col1\" class=\"data row25 col1\" >behalf</td>\n",
       "    </tr>\n",
       "    <tr>\n",
       "      <th id=\"T_7342f_level0_row26\" class=\"row_heading level0 row26\" >26</th>\n",
       "      <td id=\"T_7342f_row26_col0\" class=\"data row26 col0\" >eldest</td>\n",
       "      <td id=\"T_7342f_row26_col1\" class=\"data row26 col1\" >organized</td>\n",
       "    </tr>\n",
       "    <tr>\n",
       "      <th id=\"T_7342f_level0_row27\" class=\"row_heading level0 row27\" >27</th>\n",
       "      <td id=\"T_7342f_row27_col0\" class=\"data row27 col0\" >tarsus</td>\n",
       "      <td id=\"T_7342f_row27_col1\" class=\"data row27 col1\" >strive</td>\n",
       "    </tr>\n",
       "    <tr>\n",
       "      <th id=\"T_7342f_level0_row28\" class=\"row_heading level0 row28\" >28</th>\n",
       "      <td id=\"T_7342f_row28_col0\" class=\"data row28 col0\" >fiance</td>\n",
       "      <td id=\"T_7342f_row28_col1\" class=\"data row28 col1\" >spatial</td>\n",
       "    </tr>\n",
       "    <tr>\n",
       "      <th id=\"T_7342f_level0_row29\" class=\"row_heading level0 row29\" >29</th>\n",
       "      <td id=\"T_7342f_row29_col0\" class=\"data row29 col0\" >foul</td>\n",
       "      <td id=\"T_7342f_row29_col1\" class=\"data row29 col1\" >voluminous</td>\n",
       "    </tr>\n",
       "    <tr>\n",
       "      <th id=\"T_7342f_level0_row30\" class=\"row_heading level0 row30\" >30</th>\n",
       "      <td id=\"T_7342f_row30_col0\" class=\"data row30 col0\" >capryl</td>\n",
       "      <td id=\"T_7342f_row30_col1\" class=\"data row30 col1\" >garlic</td>\n",
       "    </tr>\n",
       "    <tr>\n",
       "      <th id=\"T_7342f_level0_row31\" class=\"row_heading level0 row31\" >31</th>\n",
       "      <td id=\"T_7342f_row31_col0\" class=\"data row31 col0\" >prad</td>\n",
       "      <td id=\"T_7342f_row31_col1\" class=\"data row31 col1\" >cost</td>\n",
       "    </tr>\n",
       "    <tr>\n",
       "      <th id=\"T_7342f_level0_row32\" class=\"row_heading level0 row32\" >32</th>\n",
       "      <td id=\"T_7342f_row32_col0\" class=\"data row32 col0\" >continuant</td>\n",
       "      <td id=\"T_7342f_row32_col1\" class=\"data row32 col1\" >dizzy</td>\n",
       "    </tr>\n",
       "    <tr>\n",
       "      <th id=\"T_7342f_level0_row33\" class=\"row_heading level0 row33\" >33</th>\n",
       "      <td id=\"T_7342f_row33_col0\" class=\"data row33 col0\" >southward</td>\n",
       "      <td id=\"T_7342f_row33_col1\" class=\"data row33 col1\" >detrimental</td>\n",
       "    </tr>\n",
       "    <tr>\n",
       "      <th id=\"T_7342f_level0_row34\" class=\"row_heading level0 row34\" >34</th>\n",
       "      <td id=\"T_7342f_row34_col0\" class=\"data row34 col0\" >buggy</td>\n",
       "      <td id=\"T_7342f_row34_col1\" class=\"data row34 col1\" >alright</td>\n",
       "    </tr>\n",
       "    <tr>\n",
       "      <th id=\"T_7342f_level0_row35\" class=\"row_heading level0 row35\" >35</th>\n",
       "      <td id=\"T_7342f_row35_col0\" class=\"data row35 col0\" >reaccess</td>\n",
       "      <td id=\"T_7342f_row35_col1\" class=\"data row35 col1\" >prominent</td>\n",
       "    </tr>\n",
       "    <tr>\n",
       "      <th id=\"T_7342f_level0_row36\" class=\"row_heading level0 row36\" >36</th>\n",
       "      <td id=\"T_7342f_row36_col0\" class=\"data row36 col0\" >planetary</td>\n",
       "      <td id=\"T_7342f_row36_col1\" class=\"data row36 col1\" >promptness</td>\n",
       "    </tr>\n",
       "    <tr>\n",
       "      <th id=\"T_7342f_level0_row37\" class=\"row_heading level0 row37\" >37</th>\n",
       "      <td id=\"T_7342f_row37_col0\" class=\"data row37 col0\" >cabble</td>\n",
       "      <td id=\"T_7342f_row37_col1\" class=\"data row37 col1\" >osteopathic</td>\n",
       "    </tr>\n",
       "    <tr>\n",
       "      <th id=\"T_7342f_level0_row38\" class=\"row_heading level0 row38\" >38</th>\n",
       "      <td id=\"T_7342f_row38_col0\" class=\"data row38 col0\" >burgher</td>\n",
       "      <td id=\"T_7342f_row38_col1\" class=\"data row38 col1\" >unadjusted</td>\n",
       "    </tr>\n",
       "    <tr>\n",
       "      <th id=\"T_7342f_level0_row39\" class=\"row_heading level0 row39\" >39</th>\n",
       "      <td id=\"T_7342f_row39_col0\" class=\"data row39 col0\" >procurement</td>\n",
       "      <td id=\"T_7342f_row39_col1\" class=\"data row39 col1\" >worst</td>\n",
       "    </tr>\n",
       "    <tr>\n",
       "      <th id=\"T_7342f_level0_row40\" class=\"row_heading level0 row40\" >40</th>\n",
       "      <td id=\"T_7342f_row40_col0\" class=\"data row40 col0\" >wedlock</td>\n",
       "      <td id=\"T_7342f_row40_col1\" class=\"data row40 col1\" >entrust</td>\n",
       "    </tr>\n",
       "    <tr>\n",
       "      <th id=\"T_7342f_level0_row41\" class=\"row_heading level0 row41\" >41</th>\n",
       "      <td id=\"T_7342f_row41_col0\" class=\"data row41 col0\" >rightmost</td>\n",
       "      <td id=\"T_7342f_row41_col1\" class=\"data row41 col1\" >cabal</td>\n",
       "    </tr>\n",
       "    <tr>\n",
       "      <th id=\"T_7342f_level0_row42\" class=\"row_heading level0 row42\" >42</th>\n",
       "      <td id=\"T_7342f_row42_col0\" class=\"data row42 col0\" >rull</td>\n",
       "      <td id=\"T_7342f_row42_col1\" class=\"data row42 col1\" >computer</td>\n",
       "    </tr>\n",
       "    <tr>\n",
       "      <th id=\"T_7342f_level0_row43\" class=\"row_heading level0 row43\" >43</th>\n",
       "      <td id=\"T_7342f_row43_col0\" class=\"data row43 col0\" >threefold</td>\n",
       "      <td id=\"T_7342f_row43_col1\" class=\"data row43 col1\" >helix</td>\n",
       "    </tr>\n",
       "    <tr>\n",
       "      <th id=\"T_7342f_level0_row44\" class=\"row_heading level0 row44\" >44</th>\n",
       "      <td id=\"T_7342f_row44_col0\" class=\"data row44 col0\" >earthly</td>\n",
       "      <td id=\"T_7342f_row44_col1\" class=\"data row44 col1\" >talar</td>\n",
       "    </tr>\n",
       "    <tr>\n",
       "      <th id=\"T_7342f_level0_row45\" class=\"row_heading level0 row45\" >45</th>\n",
       "      <td id=\"T_7342f_row45_col0\" class=\"data row45 col0\" >hospital</td>\n",
       "      <td id=\"T_7342f_row45_col1\" class=\"data row45 col1\" >amble</td>\n",
       "    </tr>\n",
       "    <tr>\n",
       "      <th id=\"T_7342f_level0_row46\" class=\"row_heading level0 row46\" >46</th>\n",
       "      <td id=\"T_7342f_row46_col0\" class=\"data row46 col0\" >idle</td>\n",
       "      <td id=\"T_7342f_row46_col1\" class=\"data row46 col1\" >loaded</td>\n",
       "    </tr>\n",
       "    <tr>\n",
       "      <th id=\"T_7342f_level0_row47\" class=\"row_heading level0 row47\" >47</th>\n",
       "      <td id=\"T_7342f_row47_col0\" class=\"data row47 col0\" >marque</td>\n",
       "      <td id=\"T_7342f_row47_col1\" class=\"data row47 col1\" >unreliable</td>\n",
       "    </tr>\n",
       "    <tr>\n",
       "      <th id=\"T_7342f_level0_row48\" class=\"row_heading level0 row48\" >48</th>\n",
       "      <td id=\"T_7342f_row48_col0\" class=\"data row48 col0\" >concussive</td>\n",
       "      <td id=\"T_7342f_row48_col1\" class=\"data row48 col1\" >reactive</td>\n",
       "    </tr>\n",
       "    <tr>\n",
       "      <th id=\"T_7342f_level0_row49\" class=\"row_heading level0 row49\" >49</th>\n",
       "      <td id=\"T_7342f_row49_col0\" class=\"data row49 col0\" >presence</td>\n",
       "      <td id=\"T_7342f_row49_col1\" class=\"data row49 col1\" >courtesy</td>\n",
       "    </tr>\n",
       "  </tbody>\n",
       "</table>\n"
      ],
      "text/plain": [
       "<pandas.io.formats.style.Styler at 0x7fbff316d090>"
      ]
     },
     "execution_count": 66,
     "metadata": {},
     "output_type": "execute_result"
    }
   ],
   "source": [
    "keyword_training=[w for w in adj_train_churn if w not in adj_train_no_churn]\n",
    "keyword_test=[w for w in adj_test_churn if w not in adj_test_no_churn]\n",
    "\n",
    "dict_data={}\n",
    "dict_data[\"training\"]=keyword_training[0:50]\n",
    "dict_data[\"test\"]=keyword_test[0:50]\n",
    "pd.DataFrame(dict_data).style.format().set_caption(\"Most common adjective keywords with churn==1\")\\\n",
    ".set_table_styles([{'selector': 'caption','props': [('color', 'red'),('font-size', '15px')]}])"
   ]
  },
  {
   "cell_type": "code",
   "execution_count": 68,
   "id": "1eed0536-3f36-4da9-bfd9-3379438de428",
   "metadata": {},
   "outputs": [
    {
     "data": {
      "text/html": [
       "<style type=\"text/css\">\n",
       "#T_48b0e_ caption {\n",
       "  color: red;\n",
       "  font-size: 15px;\n",
       "}\n",
       "</style>\n",
       "<table id=\"T_48b0e_\">\n",
       "  <caption>Most common keywords with churn==1</caption>\n",
       "  <thead>\n",
       "    <tr>\n",
       "      <th class=\"blank level0\" >&nbsp;</th>\n",
       "      <th class=\"col_heading level0 col0\" >training</th>\n",
       "      <th class=\"col_heading level0 col1\" >test</th>\n",
       "    </tr>\n",
       "  </thead>\n",
       "  <tbody>\n",
       "    <tr>\n",
       "      <th id=\"T_48b0e_level0_row0\" class=\"row_heading level0 row0\" >0</th>\n",
       "      <td id=\"T_48b0e_row0_col0\" class=\"data row0 col0\" >subbing</td>\n",
       "      <td id=\"T_48b0e_row0_col1\" class=\"data row0 col1\" >enduring</td>\n",
       "    </tr>\n",
       "    <tr>\n",
       "      <th id=\"T_48b0e_level0_row1\" class=\"row_heading level0 row1\" >1</th>\n",
       "      <td id=\"T_48b0e_row1_col0\" class=\"data row1 col0\" >hornblower</td>\n",
       "      <td id=\"T_48b0e_row1_col1\" class=\"data row1 col1\" >paternoster</td>\n",
       "    </tr>\n",
       "    <tr>\n",
       "      <th id=\"T_48b0e_level0_row2\" class=\"row_heading level0 row2\" >2</th>\n",
       "      <td id=\"T_48b0e_row2_col0\" class=\"data row2 col0\" >elderwood</td>\n",
       "      <td id=\"T_48b0e_row2_col1\" class=\"data row2 col1\" >matin</td>\n",
       "    </tr>\n",
       "    <tr>\n",
       "      <th id=\"T_48b0e_level0_row3\" class=\"row_heading level0 row3\" >3</th>\n",
       "      <td id=\"T_48b0e_row3_col0\" class=\"data row3 col0\" >topical</td>\n",
       "      <td id=\"T_48b0e_row3_col1\" class=\"data row3 col1\" >never</td>\n",
       "    </tr>\n",
       "    <tr>\n",
       "      <th id=\"T_48b0e_level0_row4\" class=\"row_heading level0 row4\" >4</th>\n",
       "      <td id=\"T_48b0e_row4_col0\" class=\"data row4 col0\" >towline</td>\n",
       "      <td id=\"T_48b0e_row4_col1\" class=\"data row4 col1\" >sheth</td>\n",
       "    </tr>\n",
       "    <tr>\n",
       "      <th id=\"T_48b0e_level0_row5\" class=\"row_heading level0 row5\" >5</th>\n",
       "      <td id=\"T_48b0e_row5_col0\" class=\"data row5 col0\" >allude</td>\n",
       "      <td id=\"T_48b0e_row5_col1\" class=\"data row5 col1\" >survival</td>\n",
       "    </tr>\n",
       "    <tr>\n",
       "      <th id=\"T_48b0e_level0_row6\" class=\"row_heading level0 row6\" >6</th>\n",
       "      <td id=\"T_48b0e_row6_col0\" class=\"data row6 col0\" >steamboat</td>\n",
       "      <td id=\"T_48b0e_row6_col1\" class=\"data row6 col1\" >korona</td>\n",
       "    </tr>\n",
       "    <tr>\n",
       "      <th id=\"T_48b0e_level0_row7\" class=\"row_heading level0 row7\" >7</th>\n",
       "      <td id=\"T_48b0e_row7_col0\" class=\"data row7 col0\" >gratuitously</td>\n",
       "      <td id=\"T_48b0e_row7_col1\" class=\"data row7 col1\" >sizeable</td>\n",
       "    </tr>\n",
       "    <tr>\n",
       "      <th id=\"T_48b0e_level0_row8\" class=\"row_heading level0 row8\" >8</th>\n",
       "      <td id=\"T_48b0e_row8_col0\" class=\"data row8 col0\" >soja</td>\n",
       "      <td id=\"T_48b0e_row8_col1\" class=\"data row8 col1\" >compounding</td>\n",
       "    </tr>\n",
       "    <tr>\n",
       "      <th id=\"T_48b0e_level0_row9\" class=\"row_heading level0 row9\" >9</th>\n",
       "      <td id=\"T_48b0e_row9_col0\" class=\"data row9 col0\" >futurism</td>\n",
       "      <td id=\"T_48b0e_row9_col1\" class=\"data row9 col1\" >rainer</td>\n",
       "    </tr>\n",
       "    <tr>\n",
       "      <th id=\"T_48b0e_level0_row10\" class=\"row_heading level0 row10\" >10</th>\n",
       "      <td id=\"T_48b0e_row10_col0\" class=\"data row10 col0\" >individualism</td>\n",
       "      <td id=\"T_48b0e_row10_col1\" class=\"data row10 col1\" >arrear</td>\n",
       "    </tr>\n",
       "    <tr>\n",
       "      <th id=\"T_48b0e_level0_row11\" class=\"row_heading level0 row11\" >11</th>\n",
       "      <td id=\"T_48b0e_row11_col0\" class=\"data row11 col0\" >leep</td>\n",
       "      <td id=\"T_48b0e_row11_col1\" class=\"data row11 col1\" >radiologist</td>\n",
       "    </tr>\n",
       "    <tr>\n",
       "      <th id=\"T_48b0e_level0_row12\" class=\"row_heading level0 row12\" >12</th>\n",
       "      <td id=\"T_48b0e_row12_col0\" class=\"data row12 col0\" >baga</td>\n",
       "      <td id=\"T_48b0e_row12_col1\" class=\"data row12 col1\" >dependable</td>\n",
       "    </tr>\n",
       "    <tr>\n",
       "      <th id=\"T_48b0e_level0_row13\" class=\"row_heading level0 row13\" >13</th>\n",
       "      <td id=\"T_48b0e_row13_col0\" class=\"data row13 col0\" >fader</td>\n",
       "      <td id=\"T_48b0e_row13_col1\" class=\"data row13 col1\" >unsubscribed</td>\n",
       "    </tr>\n",
       "    <tr>\n",
       "      <th id=\"T_48b0e_level0_row14\" class=\"row_heading level0 row14\" >14</th>\n",
       "      <td id=\"T_48b0e_row14_col0\" class=\"data row14 col0\" >girlie</td>\n",
       "      <td id=\"T_48b0e_row14_col1\" class=\"data row14 col1\" >blasting</td>\n",
       "    </tr>\n",
       "    <tr>\n",
       "      <th id=\"T_48b0e_level0_row15\" class=\"row_heading level0 row15\" >15</th>\n",
       "      <td id=\"T_48b0e_row15_col0\" class=\"data row15 col0\" >divvy</td>\n",
       "      <td id=\"T_48b0e_row15_col1\" class=\"data row15 col1\" >portrait</td>\n",
       "    </tr>\n",
       "    <tr>\n",
       "      <th id=\"T_48b0e_level0_row16\" class=\"row_heading level0 row16\" >16</th>\n",
       "      <td id=\"T_48b0e_row16_col0\" class=\"data row16 col0\" >magnitude</td>\n",
       "      <td id=\"T_48b0e_row16_col1\" class=\"data row16 col1\" >bondar</td>\n",
       "    </tr>\n",
       "    <tr>\n",
       "      <th id=\"T_48b0e_level0_row17\" class=\"row_heading level0 row17\" >17</th>\n",
       "      <td id=\"T_48b0e_row17_col0\" class=\"data row17 col0\" >indigent</td>\n",
       "      <td id=\"T_48b0e_row17_col1\" class=\"data row17 col1\" >pester</td>\n",
       "    </tr>\n",
       "    <tr>\n",
       "      <th id=\"T_48b0e_level0_row18\" class=\"row_heading level0 row18\" >18</th>\n",
       "      <td id=\"T_48b0e_row18_col0\" class=\"data row18 col0\" >whiskey</td>\n",
       "      <td id=\"T_48b0e_row18_col1\" class=\"data row18 col1\" >while</td>\n",
       "    </tr>\n",
       "    <tr>\n",
       "      <th id=\"T_48b0e_level0_row19\" class=\"row_heading level0 row19\" >19</th>\n",
       "      <td id=\"T_48b0e_row19_col0\" class=\"data row19 col0\" >paries</td>\n",
       "      <td id=\"T_48b0e_row19_col1\" class=\"data row19 col1\" >listener</td>\n",
       "    </tr>\n",
       "    <tr>\n",
       "      <th id=\"T_48b0e_level0_row20\" class=\"row_heading level0 row20\" >20</th>\n",
       "      <td id=\"T_48b0e_row20_col0\" class=\"data row20 col0\" >larch</td>\n",
       "      <td id=\"T_48b0e_row20_col1\" class=\"data row20 col1\" >ascii</td>\n",
       "    </tr>\n",
       "    <tr>\n",
       "      <th id=\"T_48b0e_level0_row21\" class=\"row_heading level0 row21\" >21</th>\n",
       "      <td id=\"T_48b0e_row21_col0\" class=\"data row21 col0\" >metaline</td>\n",
       "      <td id=\"T_48b0e_row21_col1\" class=\"data row21 col1\" >plat</td>\n",
       "    </tr>\n",
       "    <tr>\n",
       "      <th id=\"T_48b0e_level0_row22\" class=\"row_heading level0 row22\" >22</th>\n",
       "      <td id=\"T_48b0e_row22_col0\" class=\"data row22 col0\" >rend</td>\n",
       "      <td id=\"T_48b0e_row22_col1\" class=\"data row22 col1\" >unaudited</td>\n",
       "    </tr>\n",
       "    <tr>\n",
       "      <th id=\"T_48b0e_level0_row23\" class=\"row_heading level0 row23\" >23</th>\n",
       "      <td id=\"T_48b0e_row23_col0\" class=\"data row23 col0\" >surat</td>\n",
       "      <td id=\"T_48b0e_row23_col1\" class=\"data row23 col1\" >churchyard</td>\n",
       "    </tr>\n",
       "    <tr>\n",
       "      <th id=\"T_48b0e_level0_row24\" class=\"row_heading level0 row24\" >24</th>\n",
       "      <td id=\"T_48b0e_row24_col0\" class=\"data row24 col0\" >accidence</td>\n",
       "      <td id=\"T_48b0e_row24_col1\" class=\"data row24 col1\" >impartial</td>\n",
       "    </tr>\n",
       "    <tr>\n",
       "      <th id=\"T_48b0e_level0_row25\" class=\"row_heading level0 row25\" >25</th>\n",
       "      <td id=\"T_48b0e_row25_col0\" class=\"data row25 col0\" >plume</td>\n",
       "      <td id=\"T_48b0e_row25_col1\" class=\"data row25 col1\" >bibb</td>\n",
       "    </tr>\n",
       "    <tr>\n",
       "      <th id=\"T_48b0e_level0_row26\" class=\"row_heading level0 row26\" >26</th>\n",
       "      <td id=\"T_48b0e_row26_col0\" class=\"data row26 col0\" >compel</td>\n",
       "      <td id=\"T_48b0e_row26_col1\" class=\"data row26 col1\" >faithfully</td>\n",
       "    </tr>\n",
       "    <tr>\n",
       "      <th id=\"T_48b0e_level0_row27\" class=\"row_heading level0 row27\" >27</th>\n",
       "      <td id=\"T_48b0e_row27_col0\" class=\"data row27 col0\" >hormone</td>\n",
       "      <td id=\"T_48b0e_row27_col1\" class=\"data row27 col1\" >wallman</td>\n",
       "    </tr>\n",
       "    <tr>\n",
       "      <th id=\"T_48b0e_level0_row28\" class=\"row_heading level0 row28\" >28</th>\n",
       "      <td id=\"T_48b0e_row28_col0\" class=\"data row28 col0\" >barit</td>\n",
       "      <td id=\"T_48b0e_row28_col1\" class=\"data row28 col1\" >renes</td>\n",
       "    </tr>\n",
       "    <tr>\n",
       "      <th id=\"T_48b0e_level0_row29\" class=\"row_heading level0 row29\" >29</th>\n",
       "      <td id=\"T_48b0e_row29_col0\" class=\"data row29 col0\" >reinvigorate</td>\n",
       "      <td id=\"T_48b0e_row29_col1\" class=\"data row29 col1\" >beechwood</td>\n",
       "    </tr>\n",
       "    <tr>\n",
       "      <th id=\"T_48b0e_level0_row30\" class=\"row_heading level0 row30\" >30</th>\n",
       "      <td id=\"T_48b0e_row30_col0\" class=\"data row30 col0\" >sucre</td>\n",
       "      <td id=\"T_48b0e_row30_col1\" class=\"data row30 col1\" >objection</td>\n",
       "    </tr>\n",
       "    <tr>\n",
       "      <th id=\"T_48b0e_level0_row31\" class=\"row_heading level0 row31\" >31</th>\n",
       "      <td id=\"T_48b0e_row31_col0\" class=\"data row31 col0\" >tanga</td>\n",
       "      <td id=\"T_48b0e_row31_col1\" class=\"data row31 col1\" >pumper</td>\n",
       "    </tr>\n",
       "    <tr>\n",
       "      <th id=\"T_48b0e_level0_row32\" class=\"row_heading level0 row32\" >32</th>\n",
       "      <td id=\"T_48b0e_row32_col0\" class=\"data row32 col0\" >regularity</td>\n",
       "      <td id=\"T_48b0e_row32_col1\" class=\"data row32 col1\" >lasher</td>\n",
       "    </tr>\n",
       "    <tr>\n",
       "      <th id=\"T_48b0e_level0_row33\" class=\"row_heading level0 row33\" >33</th>\n",
       "      <td id=\"T_48b0e_row33_col0\" class=\"data row33 col0\" >chairwoman</td>\n",
       "      <td id=\"T_48b0e_row33_col1\" class=\"data row33 col1\" >mistook</td>\n",
       "    </tr>\n",
       "    <tr>\n",
       "      <th id=\"T_48b0e_level0_row34\" class=\"row_heading level0 row34\" >34</th>\n",
       "      <td id=\"T_48b0e_row34_col0\" class=\"data row34 col0\" >frayn</td>\n",
       "      <td id=\"T_48b0e_row34_col1\" class=\"data row34 col1\" >outbox</td>\n",
       "    </tr>\n",
       "    <tr>\n",
       "      <th id=\"T_48b0e_level0_row35\" class=\"row_heading level0 row35\" >35</th>\n",
       "      <td id=\"T_48b0e_row35_col0\" class=\"data row35 col0\" >hoti</td>\n",
       "      <td id=\"T_48b0e_row35_col1\" class=\"data row35 col1\" >cubit</td>\n",
       "    </tr>\n",
       "    <tr>\n",
       "      <th id=\"T_48b0e_level0_row36\" class=\"row_heading level0 row36\" >36</th>\n",
       "      <td id=\"T_48b0e_row36_col0\" class=\"data row36 col0\" >southerly</td>\n",
       "      <td id=\"T_48b0e_row36_col1\" class=\"data row36 col1\" >visite</td>\n",
       "    </tr>\n",
       "    <tr>\n",
       "      <th id=\"T_48b0e_level0_row37\" class=\"row_heading level0 row37\" >37</th>\n",
       "      <td id=\"T_48b0e_row37_col0\" class=\"data row37 col0\" >featherman</td>\n",
       "      <td id=\"T_48b0e_row37_col1\" class=\"data row37 col1\" >generalized</td>\n",
       "    </tr>\n",
       "    <tr>\n",
       "      <th id=\"T_48b0e_level0_row38\" class=\"row_heading level0 row38\" >38</th>\n",
       "      <td id=\"T_48b0e_row38_col0\" class=\"data row38 col0\" >volatile</td>\n",
       "      <td id=\"T_48b0e_row38_col1\" class=\"data row38 col1\" >cynosure</td>\n",
       "    </tr>\n",
       "    <tr>\n",
       "      <th id=\"T_48b0e_level0_row39\" class=\"row_heading level0 row39\" >39</th>\n",
       "      <td id=\"T_48b0e_row39_col0\" class=\"data row39 col0\" >brassard</td>\n",
       "      <td id=\"T_48b0e_row39_col1\" class=\"data row39 col1\" >bote</td>\n",
       "    </tr>\n",
       "    <tr>\n",
       "      <th id=\"T_48b0e_level0_row40\" class=\"row_heading level0 row40\" >40</th>\n",
       "      <td id=\"T_48b0e_row40_col0\" class=\"data row40 col0\" >sarra</td>\n",
       "      <td id=\"T_48b0e_row40_col1\" class=\"data row40 col1\" >talwar</td>\n",
       "    </tr>\n",
       "    <tr>\n",
       "      <th id=\"T_48b0e_level0_row41\" class=\"row_heading level0 row41\" >41</th>\n",
       "      <td id=\"T_48b0e_row41_col0\" class=\"data row41 col0\" >sagitta</td>\n",
       "      <td id=\"T_48b0e_row41_col1\" class=\"data row41 col1\" >lire</td>\n",
       "    </tr>\n",
       "    <tr>\n",
       "      <th id=\"T_48b0e_level0_row42\" class=\"row_heading level0 row42\" >42</th>\n",
       "      <td id=\"T_48b0e_row42_col0\" class=\"data row42 col0\" >carbonado</td>\n",
       "      <td id=\"T_48b0e_row42_col1\" class=\"data row42 col1\" >crypt</td>\n",
       "    </tr>\n",
       "    <tr>\n",
       "      <th id=\"T_48b0e_level0_row43\" class=\"row_heading level0 row43\" >43</th>\n",
       "      <td id=\"T_48b0e_row43_col0\" class=\"data row43 col0\" >widen</td>\n",
       "      <td id=\"T_48b0e_row43_col1\" class=\"data row43 col1\" >caduca</td>\n",
       "    </tr>\n",
       "    <tr>\n",
       "      <th id=\"T_48b0e_level0_row44\" class=\"row_heading level0 row44\" >44</th>\n",
       "      <td id=\"T_48b0e_row44_col0\" class=\"data row44 col0\" >fagot</td>\n",
       "      <td id=\"T_48b0e_row44_col1\" class=\"data row44 col1\" >zinc</td>\n",
       "    </tr>\n",
       "    <tr>\n",
       "      <th id=\"T_48b0e_level0_row45\" class=\"row_heading level0 row45\" >45</th>\n",
       "      <td id=\"T_48b0e_row45_col0\" class=\"data row45 col0\" >frog</td>\n",
       "      <td id=\"T_48b0e_row45_col1\" class=\"data row45 col1\" >closeness</td>\n",
       "    </tr>\n",
       "    <tr>\n",
       "      <th id=\"T_48b0e_level0_row46\" class=\"row_heading level0 row46\" >46</th>\n",
       "      <td id=\"T_48b0e_row46_col0\" class=\"data row46 col0\" >leveling</td>\n",
       "      <td id=\"T_48b0e_row46_col1\" class=\"data row46 col1\" >carbo</td>\n",
       "    </tr>\n",
       "    <tr>\n",
       "      <th id=\"T_48b0e_level0_row47\" class=\"row_heading level0 row47\" >47</th>\n",
       "      <td id=\"T_48b0e_row47_col0\" class=\"data row47 col0\" >tanned</td>\n",
       "      <td id=\"T_48b0e_row47_col1\" class=\"data row47 col1\" >tiffin</td>\n",
       "    </tr>\n",
       "    <tr>\n",
       "      <th id=\"T_48b0e_level0_row48\" class=\"row_heading level0 row48\" >48</th>\n",
       "      <td id=\"T_48b0e_row48_col0\" class=\"data row48 col0\" >dene</td>\n",
       "      <td id=\"T_48b0e_row48_col1\" class=\"data row48 col1\" >polyclinic</td>\n",
       "    </tr>\n",
       "    <tr>\n",
       "      <th id=\"T_48b0e_level0_row49\" class=\"row_heading level0 row49\" >49</th>\n",
       "      <td id=\"T_48b0e_row49_col0\" class=\"data row49 col0\" >secrecy</td>\n",
       "      <td id=\"T_48b0e_row49_col1\" class=\"data row49 col1\" >gastrointestinal</td>\n",
       "    </tr>\n",
       "  </tbody>\n",
       "</table>\n"
      ],
      "text/plain": [
       "<pandas.io.formats.style.Styler at 0x7fbff316d450>"
      ]
     },
     "execution_count": 68,
     "metadata": {},
     "output_type": "execute_result"
    }
   ],
   "source": [
    "word_train_churn, freq_train_churn = most_common_word(train_churn, feature=\"bag_of_word\")\n",
    "word_test_churn, freq_test_churn = most_common_word(test_churn, feature=\"bag_of_word\")\n",
    "word_train_no_churn, freq_train_no_churn = most_common_word(train_no_churn, feature=\"bag_of_word\")\n",
    "word_test_no_churn, freq_test_no_churn = most_common_word(test_no_churn, feature=\"bag_of_word\")\n",
    "\n",
    "keyword_training=[w for w in word_train_churn if w not in word_train_no_churn]\n",
    "keyword_test=[w for w in word_test_churn if w not in word_test_no_churn]\n",
    "\n",
    "dict_data={}\n",
    "dict_data[\"training\"]=keyword_training[0:50]\n",
    "dict_data[\"test\"]=keyword_test[0:50]\n",
    "pd.DataFrame(dict_data).style.format().set_caption(\"Most common keywords with churn==1\")\\\n",
    ".set_table_styles([{'selector': 'caption','props': [('color', 'red'),('font-size', '15px')]}])"
   ]
  },
  {
   "cell_type": "code",
   "execution_count": 94,
   "id": "a7248aaa-4a7e-4b54-83d5-65efba036497",
   "metadata": {},
   "outputs": [],
   "source": [
    "def check_word(df,word):\n",
    "    tempt=df.copy()\n",
    "    tempt[\"check_word\"]=tempt[\"bag_of_word\"].progress_apply(lambda x: 1 if len(set(word).intersection(set(x.split())))!=0 else 0 )\n",
    "    tempt=tempt[tempt[\"check_word\"]==1]\n",
    "    tempt.drop(columns=['check_word'],inplace=True)\n",
    "    return tempt"
   ]
  },
  {
   "cell_type": "code",
   "execution_count": 95,
   "id": "b5975c29-7fcd-4393-8439-c542a5024b37",
   "metadata": {},
   "outputs": [
    {
     "name": "stderr",
     "output_type": "stream",
     "text": [
      "100%|██████████| 143551/143551 [00:05<00:00, 27842.31it/s]\n"
     ]
    },
    {
     "data": {
      "text/plain": [
       "0    36089\n",
       "1     7156\n",
       "Name: churn, dtype: int64"
      ]
     },
     "execution_count": 95,
     "metadata": {},
     "output_type": "execute_result"
    }
   ],
   "source": [
    "tempt_train=check_word(df_train,word=[\"termination\",\"terminate\"])\n",
    "tempt_train[\"churn\"].value_counts()"
   ]
  },
  {
   "cell_type": "code",
   "execution_count": 98,
   "id": "90f4145b-5a9b-427a-bf6a-a878db136cb1",
   "metadata": {},
   "outputs": [
    {
     "name": "stderr",
     "output_type": "stream",
     "text": [
      "100%|██████████| 143551/143551 [00:05<00:00, 27425.34it/s]\n"
     ]
    },
    {
     "data": {
      "text/plain": [
       "0    24345\n",
       "1     4907\n",
       "Name: churn, dtype: int64"
      ]
     },
     "execution_count": 98,
     "metadata": {},
     "output_type": "execute_result"
    }
   ],
   "source": [
    "tempt_train=check_word(df_train,word=[\"frustration\",\"frustrated\",\"frustrate\",\"unacceptable\",\"apologies\",\"apologize\"])\n",
    "tempt_train[\"churn\"].value_counts()"
   ]
  },
  {
   "cell_type": "code",
   "execution_count": 75,
   "id": "b65e1cce-12ce-4c35-8d12-2e99914d8544",
   "metadata": {},
   "outputs": [
    {
     "data": {
      "text/plain": [
       "(2355, 15)"
      ]
     },
     "execution_count": 75,
     "metadata": {},
     "output_type": "execute_result"
    }
   ],
   "source": [
    "tempt=tempt[(tempt[\"terminate\"]==1) & (tempt[\"churn\"]==0)]\n",
    "tempt.shape"
   ]
  },
  {
   "cell_type": "code",
   "execution_count": 84,
   "id": "b6673b61-089a-4bba-bda1-52374798aa78",
   "metadata": {},
   "outputs": [
    {
     "data": {
      "text/plain": [
       "0"
      ]
     },
     "execution_count": 84,
     "metadata": {},
     "output_type": "execute_result"
    }
   ],
   "source": [
    "tempt[\"churn\"].iloc[3]"
   ]
  },
  {
   "cell_type": "code",
   "execution_count": 83,
   "id": "11d8c75f-91d9-4b9b-9b28-2530bebd5258",
   "metadata": {},
   "outputs": [
    {
     "data": {
      "text/plain": [
       "\"re 459285 hi lela, thank you for your call today i have attached the claim form for long term disability, per your request. please let me know if there is anything further that i can assist you with. have a great day thank you, dayna shaw service specialist associate client success organization 1-800-ask-unum 1-800-275-8686 askunumunum.com unum covid-19 response - how to file a claim online - . , ..re 459285 hi lela, i hope this email finds you well and thank you for your call i have attached this group's ltd contract, per your request. i have also attached separately just the portion of the contract that outlines when ltd benefits will end. please let me know if you have any questions. have a great day thank you, dayna shaw service specialist associate client success organization 1-800-ask-unum 1-800-275-8686 askunumunum.com unum covid-19 response - how to file a claim online - . , ..re 459285 inclusiv, inc hi scott, the opa lela ragbar called into ask unum today and is interested in receiving a quote, for short term disability. she needs some assistance in what benefit percentage and maximum to get a quote for. at your earliest convenience, can you please give lela a call, to discuss. contact nameinline image url ragbar contact phone347 598-1053contact we have attached an employee census, so that you will have this information easily available. the bor is centerstone insurance and financial. please let us know if there is anything else, that we can assist you with. thank you, bridget casale service specialist client success organization 1-800-ask-unum 1-800-275-8686 askunumunum.com unum covid-19 response - how to file a claim online - . ,.re 459285 hi scott, and hope all is well. i was only able to find clarissa ritter on the plan. her coverages has been terminated. please feel free to contact ask unum if you need additional assistance thank you, peter yue service specialist client success 1-800-ask-unum 1-800-275-8686 askunumunum.com . , . for information and resources regarding unum's covid-19 response and faqs, visit --------------- ---------------.. . hello, we are the broker gary wood associates. is our general agent. please process the termination and confirm..re 459285 hi scott, thank you for the response. we have terminated zian chen from the policy 459285. with a termination effective date of 06/11/2021. going forward the employee will not appear on the invoice. . have a great day thank you, cameron ray service specialist unum client service center 1-800-ask-unum 1-800-275-8686 askunumunum.com . , . --------------- ---------------.re 459285 hello adele, . we have completed this termination request for zian chen, with a termination effective date of 06/11/2021. the group will not be billed any additional premium for their coverage. . thank you, the ask unum team client success organization 1-800-ask-unum 1-800-275-8686 askunumunum.com . , --------------- ---------------.re459285 hello adele , we would like to inform you that zian chen , has been enrolled with an effective date of coverage of 06/11/2021. please do not hesitate to let us know if there is anything further, we may assist you with. have a great day thank you, the ask unum team client success organization 1-800-ask-unum 1-800-275-8686 askunumunum.com . , . --------------- ---------------.re 459285 hello scott, . for vernice arahan we have completed this termination request for vernice arahan, with a termination effective date of 08/13/2021. the group will not be billed any additional premium for their coverage. for regina grant we would request you to confirm complete social security number for regina grant in order to complete this request. we have secured this email, so you can share the details by replying us on this email. . thank you, the ask unum team client success organization 1-800-ask-unum 1-800-275-8686 askunumunum.com unum covid-19 response - how to file a claim online - . , . --------------- ---------------.re459285 hello scott, we have completed this termination request for beverly westbrooks, frank williams, with a termination effective date of 09/30/2021. the group will not be billed any additional premium for their coverage. please do not hesitate to let us know if there is anything further, we may assist you with. have a great day thank you, the ask unum team client success organization 1-800-ask-unum 1-800-275-8686 askunumunum.com unum covid-19 response - how to file a claim online - . , . --------------- ---------------\""
      ]
     },
     "execution_count": 83,
     "metadata": {},
     "output_type": "execute_result"
    }
   ],
   "source": [
    "tempt[\"Latest_TextBody\"].iloc[3]"
   ]
  },
  {
   "cell_type": "code",
   "execution_count": null,
   "id": "7b0c2538-48c6-418e-bfd1-53057be91ccb",
   "metadata": {},
   "outputs": [],
   "source": []
  },
  {
   "cell_type": "code",
   "execution_count": null,
   "id": "e82503fd-3d40-4de4-afb2-7b6ecd0c11af",
   "metadata": {},
   "outputs": [],
   "source": []
  },
  {
   "cell_type": "code",
   "execution_count": 102,
   "id": "ad56054a-f5f2-4fac-996e-2e8fa6044213",
   "metadata": {},
   "outputs": [
    {
     "data": {
      "text/html": [
       "<div>\n",
       "<style scoped>\n",
       "    .dataframe tbody tr th:only-of-type {\n",
       "        vertical-align: middle;\n",
       "    }\n",
       "\n",
       "    .dataframe tbody tr th {\n",
       "        vertical-align: top;\n",
       "    }\n",
       "\n",
       "    .dataframe thead th {\n",
       "        text-align: right;\n",
       "    }\n",
       "</style>\n",
       "<table border=\"1\" class=\"dataframe\">\n",
       "  <thead>\n",
       "    <tr style=\"text-align: right;\">\n",
       "      <th></th>\n",
       "      <th>unum_id</th>\n",
       "      <th>policy_id</th>\n",
       "      <th>Full_TextBody</th>\n",
       "      <th>Client_TextBody</th>\n",
       "      <th>Latest_TextBody</th>\n",
       "      <th>year</th>\n",
       "      <th>month</th>\n",
       "      <th>email_counts</th>\n",
       "      <th>issue_counts</th>\n",
       "      <th>duration</th>\n",
       "      <th>subtype</th>\n",
       "      <th>churn</th>\n",
       "      <th>bag_of_word</th>\n",
       "      <th>adj_bag_of_word</th>\n",
       "    </tr>\n",
       "  </thead>\n",
       "  <tbody>\n",
       "    <tr>\n",
       "      <th>498</th>\n",
       "      <td>1112335487</td>\n",
       "      <td>425717</td>\n",
       "      <td>hi can you please pull the 5/11 feed for me? t...</td>\n",
       "      <td>hi can you please pull the 5/11 feed for me? t...</td>\n",
       "      <td>hi thanks the attached looks off.let me know y...</td>\n",
       "      <td>2022</td>\n",
       "      <td>1</td>\n",
       "      <td>16</td>\n",
       "      <td>13</td>\n",
       "      <td>6.043507</td>\n",
       "      <td>Data Feed</td>\n",
       "      <td>0</td>\n",
       "      <td>pull feed thanks good morning feed success cov...</td>\n",
       "      <td>good good better quick accurate better quick a...</td>\n",
       "    </tr>\n",
       "    <tr>\n",
       "      <th>12784</th>\n",
       "      <td>617539</td>\n",
       "      <td>125781</td>\n",
       "      <td>. . i would like to have access to make on lin...</td>\n",
       "      <td>. . i would like to have access to make on lin...</td>\n",
       "      <td>re 125781 hi joe, i hope this email finds you ...</td>\n",
       "      <td>2022</td>\n",
       "      <td>6</td>\n",
       "      <td>1</td>\n",
       "      <td>1</td>\n",
       "      <td>0.004433</td>\n",
       "      <td>Add, Remove, or Update user access</td>\n",
       "      <td>0</td>\n",
       "      <td>like access line payment policy policy number ...</td>\n",
       "      <td>official intended confidential electronic conf...</td>\n",
       "    </tr>\n",
       "  </tbody>\n",
       "</table>\n",
       "</div>"
      ],
      "text/plain": [
       "          unum_id  policy_id  \\\n",
       "498    1112335487     425717   \n",
       "12784      617539     125781   \n",
       "\n",
       "                                           Full_TextBody  \\\n",
       "498    hi can you please pull the 5/11 feed for me? t...   \n",
       "12784  . . i would like to have access to make on lin...   \n",
       "\n",
       "                                         Client_TextBody  \\\n",
       "498    hi can you please pull the 5/11 feed for me? t...   \n",
       "12784  . . i would like to have access to make on lin...   \n",
       "\n",
       "                                         Latest_TextBody  year  month  \\\n",
       "498    hi thanks the attached looks off.let me know y...  2022      1   \n",
       "12784  re 125781 hi joe, i hope this email finds you ...  2022      6   \n",
       "\n",
       "       email_counts  issue_counts  duration  \\\n",
       "498              16            13  6.043507   \n",
       "12784             1             1  0.004433   \n",
       "\n",
       "                                  subtype  churn  \\\n",
       "498                             Data Feed      0   \n",
       "12784  Add, Remove, or Update user access      0   \n",
       "\n",
       "                                             bag_of_word  \\\n",
       "498    pull feed thanks good morning feed success cov...   \n",
       "12784  like access line payment policy policy number ...   \n",
       "\n",
       "                                         adj_bag_of_word  \n",
       "498    good good better quick accurate better quick a...  \n",
       "12784  official intended confidential electronic conf...  "
      ]
     },
     "execution_count": 102,
     "metadata": {},
     "output_type": "execute_result"
    }
   ],
   "source": [
    "tempt=df_test.copy()\n",
    "tempt=tempt.sample(100)\n",
    "tempt.head(2)"
   ]
  },
  {
   "cell_type": "code",
   "execution_count": 114,
   "id": "550ae42f-04e3-4615-87fb-960ea9240905",
   "metadata": {},
   "outputs": [
    {
     "data": {
      "text/plain": [
       "Index(['unum_id', 'policy_id', 'Full_TextBody', 'Client_TextBody',\n",
       "       'Latest_TextBody', 'year', 'month', 'email_counts', 'issue_counts',\n",
       "       'duration', 'subtype', 'churn', 'bag_of_word', 'adj_bag_of_word',\n",
       "       'year_month_col'],\n",
       "      dtype='object')"
      ]
     },
     "execution_count": 114,
     "metadata": {},
     "output_type": "execute_result"
    }
   ],
   "source": [
    "tempt.columns"
   ]
  },
  {
   "cell_type": "code",
   "execution_count": 116,
   "id": "9989cd9f-0b45-4d4e-8c8a-53372efe8104",
   "metadata": {},
   "outputs": [
    {
     "name": "stdout",
     "output_type": "stream",
     "text": [
      "0.0034177303314208984 0\n",
      "0.0226590633392334 30\n",
      "0.042584896087646484 60\n",
      "0.05961441993713379 90\n"
     ]
    },
    {
     "ename": "KeyError",
     "evalue": "0",
     "output_type": "error",
     "traceback": [
      "\u001b[0;31m---------------------------------------------------------------------------\u001b[0m",
      "\u001b[0;31mKeyError\u001b[0m                                  Traceback (most recent call last)",
      "\u001b[0;32m/tmp/ipykernel_48276/3308414841.py\u001b[0m in \u001b[0;36m<module>\u001b[0;34m\u001b[0m\n\u001b[1;32m     11\u001b[0m     \u001b[0mdict_of_dataframes\u001b[0m\u001b[0;34m[\u001b[0m\u001b[0mid\u001b[0m\u001b[0;34m]\u001b[0m \u001b[0;34m=\u001b[0m \u001b[0mgroup\u001b[0m\u001b[0;34m\u001b[0m\u001b[0;34m\u001b[0m\u001b[0m\n\u001b[1;32m     12\u001b[0m     \u001b[0mcounter\u001b[0m \u001b[0;34m+=\u001b[0m \u001b[0;36m1\u001b[0m\u001b[0;34m\u001b[0m\u001b[0;34m\u001b[0m\u001b[0m\n\u001b[0;32m---> 13\u001b[0;31m \u001b[0mdict_of_dataframes\u001b[0m\u001b[0;34m[\u001b[0m\u001b[0;36m0\u001b[0m\u001b[0;34m]\u001b[0m\u001b[0;34m\u001b[0m\u001b[0;34m\u001b[0m\u001b[0m\n\u001b[0m",
      "\u001b[0;31mKeyError\u001b[0m: 0"
     ]
    }
   ],
   "source": [
    "tempt=df_test.copy()\n",
    "tempt=tempt.sample(100)\n",
    "start = time.time()\n",
    "dict_of_dataframes = dict()\n",
    "tempt[\"year_month_col\"]=pd.to_datetime(tempt.apply(lambda x: str(x['year'])+'-' + str(x['month']) ,axis=1))\n",
    "counter = 0 \n",
    "for id, group in tempt.groupby('policy_id'):\n",
    "    print(time.time()-start, counter) if counter % 30 == 0 else None\n",
    "    group = group.sort_values(\"year_month_col\")\n",
    "    group = group.set_index(\"year_month_col\")\n",
    "    dict_of_dataframes[id] = group\n",
    "    counter += 1\n",
    "dict_of_dataframes[0]"
   ]
  },
  {
   "cell_type": "code",
   "execution_count": 119,
   "id": "a6149ea2-8894-47f5-8a7b-826ccc9246b9",
   "metadata": {},
   "outputs": [
    {
     "data": {
      "text/html": [
       "<div>\n",
       "<style scoped>\n",
       "    .dataframe tbody tr th:only-of-type {\n",
       "        vertical-align: middle;\n",
       "    }\n",
       "\n",
       "    .dataframe tbody tr th {\n",
       "        vertical-align: top;\n",
       "    }\n",
       "\n",
       "    .dataframe thead th {\n",
       "        text-align: right;\n",
       "    }\n",
       "</style>\n",
       "<table border=\"1\" class=\"dataframe\">\n",
       "  <thead>\n",
       "    <tr style=\"text-align: right;\">\n",
       "      <th></th>\n",
       "      <th>unum_id</th>\n",
       "      <th>policy_id</th>\n",
       "      <th>Full_TextBody</th>\n",
       "      <th>Client_TextBody</th>\n",
       "      <th>Latest_TextBody</th>\n",
       "      <th>year</th>\n",
       "      <th>month</th>\n",
       "      <th>email_counts</th>\n",
       "      <th>issue_counts</th>\n",
       "      <th>duration</th>\n",
       "      <th>subtype</th>\n",
       "      <th>churn</th>\n",
       "      <th>bag_of_word</th>\n",
       "      <th>adj_bag_of_word</th>\n",
       "    </tr>\n",
       "    <tr>\n",
       "      <th>year_month_col</th>\n",
       "      <th></th>\n",
       "      <th></th>\n",
       "      <th></th>\n",
       "      <th></th>\n",
       "      <th></th>\n",
       "      <th></th>\n",
       "      <th></th>\n",
       "      <th></th>\n",
       "      <th></th>\n",
       "      <th></th>\n",
       "      <th></th>\n",
       "      <th></th>\n",
       "      <th></th>\n",
       "      <th></th>\n",
       "    </tr>\n",
       "  </thead>\n",
       "  <tbody>\n",
       "    <tr>\n",
       "      <th>2022-01-01</th>\n",
       "      <td>710145</td>\n",
       "      <td>24085</td>\n",
       "      <td>hi matthew, they are a rate hold for 2021 thei...</td>\n",
       "      <td>hi matthew, they are a rate hold for 2021 thei...</td>\n",
       "      <td>re 910703 hi matthew, thank you for contacting...</td>\n",
       "      <td>2022</td>\n",
       "      <td>1</td>\n",
       "      <td>3</td>\n",
       "      <td>5</td>\n",
       "      <td>3.66059</td>\n",
       "      <td>Renewal Inquiry</td>\n",
       "      <td>0</td>\n",
       "      <td>rate hold possible renewal send rate sheet cov...</td>\n",
       "      <td>possible best black grey grey great great sorr...</td>\n",
       "    </tr>\n",
       "  </tbody>\n",
       "</table>\n",
       "</div>"
      ],
      "text/plain": [
       "               unum_id  policy_id  \\\n",
       "year_month_col                      \n",
       "2022-01-01      710145      24085   \n",
       "\n",
       "                                                    Full_TextBody  \\\n",
       "year_month_col                                                      \n",
       "2022-01-01      hi matthew, they are a rate hold for 2021 thei...   \n",
       "\n",
       "                                                  Client_TextBody  \\\n",
       "year_month_col                                                      \n",
       "2022-01-01      hi matthew, they are a rate hold for 2021 thei...   \n",
       "\n",
       "                                                  Latest_TextBody  year  \\\n",
       "year_month_col                                                            \n",
       "2022-01-01      re 910703 hi matthew, thank you for contacting...  2022   \n",
       "\n",
       "                month  email_counts  issue_counts  duration          subtype  \\\n",
       "year_month_col                                                                 \n",
       "2022-01-01          1             3             5   3.66059  Renewal Inquiry   \n",
       "\n",
       "                churn                                        bag_of_word  \\\n",
       "year_month_col                                                             \n",
       "2022-01-01          0  rate hold possible renewal send rate sheet cov...   \n",
       "\n",
       "                                                  adj_bag_of_word  \n",
       "year_month_col                                                     \n",
       "2022-01-01      possible best black grey grey great great sorr...  "
      ]
     },
     "execution_count": 119,
     "metadata": {},
     "output_type": "execute_result"
    }
   ],
   "source": [
    "dict_of_dataframes[24085]"
   ]
  },
  {
   "cell_type": "code",
   "execution_count": null,
   "id": "32872c5e-4236-4196-918a-08161be0a76f",
   "metadata": {},
   "outputs": [],
   "source": []
  },
  {
   "cell_type": "code",
   "execution_count": null,
   "id": "500b3e34-7acd-4312-946a-d5ab3d3d855a",
   "metadata": {},
   "outputs": [],
   "source": []
  },
  {
   "cell_type": "code",
   "execution_count": null,
   "id": "36165658-c59e-45fd-823d-527332a40edc",
   "metadata": {},
   "outputs": [],
   "source": [
    "train_data=df_train.copy()\n",
    "test_data=df_test.copy()\n",
    "\n",
    "train_churn,  train_no_churn=df_train[df_train['churn']==1], df_train[df_train['churn']==0]\n",
    "test_churn,  test_no_churn=df_test[df_test['churn']==1], df_test[df_test['churn']==0]"
   ]
  },
  {
   "cell_type": "code",
   "execution_count": null,
   "id": "c408d76f-db0a-4c1f-badf-34fe7ac9221b",
   "metadata": {},
   "outputs": [],
   "source": [
    "def extract_adj(text):\n",
    "    ADJ_word=set()\n",
    "    doc=nlp(text)\n",
    "    for token in doc:\n",
    "        if token.pos_==\"ADJ\":\n",
    "            ADJ_word.add(token.text)\n",
    "    return ADJ_word\n",
    "\n",
    "def most_common_adj(df):\n",
    "    adj_count=Counter()\n",
    "    for index,row in tqdm(df.iterrows(), total=df.shape[0]):\n",
    "        adj_word=extract_adj(row['Full_TextBody'])\n",
    "        text=\" \".join(adj_word)\n",
    "        text=text_preprocess(text)\n",
    "        adj_word=set(text.split())\n",
    "        adj_count.update(adj_word)\n",
    "        adj,freq=zip(*adj_count.most_common())\n",
    "    return adj,freq"
   ]
  },
  {
   "cell_type": "code",
   "execution_count": null,
   "id": "10689e20-c7e7-4e35-93a9-7e920e3fef49",
   "metadata": {},
   "outputs": [],
   "source": [
    "adj_train_churn, freq_train_churn = most_common_adj(train_churn)"
   ]
  },
  {
   "cell_type": "code",
   "execution_count": null,
   "id": "de7a0cd6-68dc-4341-a83c-fb6c5fe7df80",
   "metadata": {},
   "outputs": [],
   "source": [
    "# adj_train_no_churn, freq_train_no_churn = most_common_adj(train_no_churn)"
   ]
  },
  {
   "cell_type": "code",
   "execution_count": null,
   "id": "14f23c0e-e107-497e-bfad-ffe21684aa67",
   "metadata": {},
   "outputs": [],
   "source": [
    "adj_test_churn, freq_test_churn = most_common_adj(test_churn)"
   ]
  },
  {
   "cell_type": "code",
   "execution_count": null,
   "id": "61282391-916a-4680-9aeb-e1262b940f23",
   "metadata": {},
   "outputs": [],
   "source": [
    "# adj_test_no_churn, freq_test_no_churn = most_common_adj(test_no_churn)"
   ]
  },
  {
   "cell_type": "code",
   "execution_count": null,
   "id": "2ea9241b-ac53-4d55-9c83-665de65f11e4",
   "metadata": {},
   "outputs": [],
   "source": [
    "len(adj_train_churn), len(adj_test_churn)"
   ]
  },
  {
   "cell_type": "code",
   "execution_count": null,
   "id": "966dc529-0bcf-408f-9301-8ab6020ab652",
   "metadata": {},
   "outputs": [],
   "source": []
  },
  {
   "cell_type": "code",
   "execution_count": null,
   "id": "221120ce-a4db-4be5-bb28-a7fee185526e",
   "metadata": {},
   "outputs": [],
   "source": [
    "for index,row in tqdm(df_test.iterrows(), total=df_test.shape[0]):\n",
    "    adj_word=extract_adj(row['Full_TextBody'])\n",
    "    if index==1:\n",
    "        break"
   ]
  },
  {
   "cell_type": "code",
   "execution_count": null,
   "id": "18e5ca1e-cd32-44d9-a315-2ce8fff06dd7",
   "metadata": {},
   "outputs": [],
   "source": [
    "text=\" \".join(adj_word)\n",
    "text"
   ]
  },
  {
   "cell_type": "code",
   "execution_count": null,
   "id": "856e76ee-8670-4b77-b75c-895f81fbd3ab",
   "metadata": {},
   "outputs": [],
   "source": [
    "text=text_preprocess(text)\n",
    "text"
   ]
  },
  {
   "cell_type": "code",
   "execution_count": null,
   "id": "e70a95de-271f-456e-b1b3-c2f8beeebfe0",
   "metadata": {},
   "outputs": [],
   "source": [
    "set(text.split())"
   ]
  },
  {
   "cell_type": "code",
   "execution_count": null,
   "id": "e476ab3d-4ad1-411d-beb6-4b3e58ee8f7f",
   "metadata": {},
   "outputs": [],
   "source": [
    "text=\"\"\"\n",
    "'unum',\n",
    "'specialist',\n",
    "'great',\n",
    "'additional',\n",
    "'good',\n",
    "'wonderful',\n",
    "'confidential',\n",
    "'effective',\n",
    "'new'\n",
    "\"\"\"\n",
    "text=\" \".join(text.split(\"\\n\"))\n",
    "text"
   ]
  },
  {
   "cell_type": "code",
   "execution_count": null,
   "id": "e4e529c3-71a7-429a-b77b-6e7f8e071873",
   "metadata": {},
   "outputs": [],
   "source": [
    "ADJ_word=set()\n",
    "doc=nlp(text)\n",
    "for token in doc:\n",
    "    if token.pos_==\"ADJ\":\n",
    "        ADJ_word.add(token.text)\n",
    "        \n",
    "ADJ_word"
   ]
  },
  {
   "cell_type": "code",
   "execution_count": null,
   "id": "d5d15a7a-9dcf-4511-b36b-0e0a0206af64",
   "metadata": {},
   "outputs": [],
   "source": []
  },
  {
   "cell_type": "code",
   "execution_count": null,
   "id": "8d603a1d-db58-48f7-9e15-1b45b9e58195",
   "metadata": {},
   "outputs": [],
   "source": []
  },
  {
   "cell_type": "code",
   "execution_count": null,
   "id": "5f72f567-8f97-4412-981d-9640e7de690f",
   "metadata": {},
   "outputs": [],
   "source": [
    "## data preprocessing\n",
    "df_test[\"bag_of_word\"]=df_test[\"Full_TextBody\"].progress_apply(text_preprocess)"
   ]
  },
  {
   "cell_type": "code",
   "execution_count": null,
   "id": "0c27c7c5-827f-4ebd-bc8c-d5f9acff2a65",
   "metadata": {},
   "outputs": [],
   "source": []
  },
  {
   "cell_type": "code",
   "execution_count": null,
   "id": "d3e6f5db-8364-4e36-9291-3cf04e69d062",
   "metadata": {},
   "outputs": [],
   "source": []
  },
  {
   "cell_type": "code",
   "execution_count": null,
   "id": "69ed2777-159e-4f70-9af2-5cd44ca7db71",
   "metadata": {},
   "outputs": [],
   "source": []
  },
  {
   "cell_type": "code",
   "execution_count": null,
   "id": "e1b60b9a-649d-4a87-8a4f-b13a51256640",
   "metadata": {},
   "outputs": [],
   "source": []
  },
  {
   "cell_type": "code",
   "execution_count": null,
   "id": "94a98cc8-4401-40a3-9edd-fa67c7db3261",
   "metadata": {},
   "outputs": [],
   "source": []
  },
  {
   "cell_type": "markdown",
   "id": "a29b7b8c-cdcf-4ceb-9d56-de7e2be8154c",
   "metadata": {},
   "source": [
    "### Test Set"
   ]
  },
  {
   "cell_type": "code",
   "execution_count": null,
   "id": "4c393298-0f31-4d00-80d6-6b4c260bcee9",
   "metadata": {},
   "outputs": [],
   "source": [
    "df_test[\"bag_of_word\"]=df_test[\"Full_TextBody\"].progress_apply(text_preprocess)"
   ]
  },
  {
   "cell_type": "code",
   "execution_count": null,
   "id": "76098c07-7e7d-4ad5-aeca-6eadb4f52be6",
   "metadata": {},
   "outputs": [],
   "source": [
    "def extract_adj(text):\n",
    "    ADJ_word=set()\n",
    "    doc=nlp(text)\n",
    "    for token in doc:\n",
    "        if token.pos_==\"ADJ\":\n",
    "            ADJ_word.add(token.text)\n",
    "    return ADJ_word\n",
    "\n",
    "adj_count=Counter()\n",
    "tempt_test=df_test[df_test[\"churn\"]==1]\n",
    "for index,row in tqdm(tempt_test.iterrows(), total=tempt_test.shape[0]):\n",
    "    adj_word=extract_adj(row['Full_TextBody'])\n",
    "    adj_count.update(adj_word)\n",
    "    adj,freq=zip(*adj_count.most_common(50))\n",
    "for i ,j in zip(adj,freq):\n",
    "    print(\"{:<20}{:<20,}\".format(i,j))"
   ]
  },
  {
   "cell_type": "code",
   "execution_count": null,
   "id": "915dc518-f597-4367-aa36-898755f59ffd",
   "metadata": {},
   "outputs": [],
   "source": [
    "# tempt=df_test.copy()\n",
    "# tempt[\"set_word\"]=tempt[\"Full_TextBody\"].progress_apply(lambda x: set(x.split()))\n",
    "# tempt[\"terminate\"]=tempt[\"set_word\"].progress_apply(lambda x: 1 if set([\"i'll\"]).issubset(x) else 0 )\n",
    "# tempt[tempt[\"terminate\"]==1][\"Full_TextBody\"].iloc[2]"
   ]
  },
  {
   "cell_type": "code",
   "execution_count": null,
   "id": "83c68047-107e-42e4-a0aa-fff67db26ebe",
   "metadata": {},
   "outputs": [],
   "source": [
    "tempt=df_test.copy()\n",
    "tempt[\"set_word\"]=tempt[\"Full_TextBody\"].progress_apply(lambda x: set(x.split()))\n",
    "tempt[\"terminate\"]=tempt[\"set_word\"].progress_apply(lambda x: 1 if set([\"termination\",\"terminate\"]).issubset(x) else 0 )\n",
    "tempt[\"terminate\"].value_counts()"
   ]
  },
  {
   "cell_type": "code",
   "execution_count": null,
   "id": "dec0a9e4-6f0f-4ca5-bd2f-d248f5259600",
   "metadata": {},
   "outputs": [],
   "source": [
    "tempt[(tempt[\"terminate\"]==1) & (tempt[\"churn\"]==0)][\"Full_TextBody\"].iloc[2]"
   ]
  },
  {
   "cell_type": "code",
   "execution_count": null,
   "id": "f0978209-003a-47c9-95a5-da0e496551cb",
   "metadata": {},
   "outputs": [],
   "source": []
  },
  {
   "cell_type": "code",
   "execution_count": null,
   "id": "5de23f32-76a9-4c63-988a-9aa398bb0bfe",
   "metadata": {},
   "outputs": [],
   "source": []
  },
  {
   "cell_type": "code",
   "execution_count": null,
   "id": "56f9b2a3-ea15-4585-879e-f52fd0de9a0d",
   "metadata": {},
   "outputs": [],
   "source": [
    "tempt=df_test[df_test[\"churn\"]==1]\n",
    "tempt.shape"
   ]
  },
  {
   "cell_type": "code",
   "execution_count": null,
   "id": "40400b2f-5476-4378-8c90-bdc4cf77da09",
   "metadata": {},
   "outputs": [],
   "source": [
    "tempt.head(2)"
   ]
  },
  {
   "cell_type": "code",
   "execution_count": null,
   "id": "e9f5cb1f-bd3c-4e71-bc54-88a16e40ea58",
   "metadata": {},
   "outputs": [],
   "source": [
    "tempt[\"bag_of_word\"]=tempt[\"Full_TextBody\"].progress_apply(text_preprocess)\n",
    "tempt.head(2)"
   ]
  },
  {
   "cell_type": "code",
   "execution_count": null,
   "id": "31105def-6a87-489b-9721-db693a386ab6",
   "metadata": {},
   "outputs": [],
   "source": [
    "tempt[\"adj_bag_of_word\"]=tempt[\"Full_TextBody\"].progress_apply(lambda x: text_preprocess(x, extract_adj=True))\n",
    "tempt.head(2)"
   ]
  },
  {
   "cell_type": "code",
   "execution_count": null,
   "id": "e2f2ae52-52bd-4fbd-bbe0-46f8d9f6b1fe",
   "metadata": {},
   "outputs": [],
   "source": [
    "tempt[\"sentiment\"]=tempt[\"adj_bag_of_word\"].progress_apply(textblob_sentiment)\n",
    "tempt.head(2)"
   ]
  },
  {
   "cell_type": "code",
   "execution_count": null,
   "id": "43e5c801-6047-430c-afce-e175b6d3a43a",
   "metadata": {},
   "outputs": [],
   "source": [
    "tempt[\"vader_sentiment\"]=tempt[\"adj_bag_of_word\"].progress_apply(vader_sentiment)\n",
    "tempt.head(2)"
   ]
  },
  {
   "cell_type": "code",
   "execution_count": null,
   "id": "cb14be4c-45b1-4348-8ff2-82edb352e13b",
   "metadata": {},
   "outputs": [],
   "source": [
    "tempt.sentiment.value_counts()"
   ]
  },
  {
   "cell_type": "code",
   "execution_count": null,
   "id": "1cbf1364-14b7-40d4-8149-335b33e84356",
   "metadata": {},
   "outputs": [],
   "source": [
    "tempt.vader_sentiment.value_counts()"
   ]
  },
  {
   "cell_type": "code",
   "execution_count": null,
   "id": "e5d7859b-f060-42c6-ac9e-c05e2324fcfc",
   "metadata": {},
   "outputs": [],
   "source": [
    "tempt_test=tempt[tempt['vader_sentiment']==\"negative\"]\n",
    "neg_word_test=set()\n",
    "for index,row in tqdm(tempt_test.iterrows(), total=tempt_test.shape[0]):\n",
    "    neg_word_test=neg_word_test | set(row[\"adj_bag_of_word\"].split())\n",
    "neg_word_test"
   ]
  },
  {
   "cell_type": "code",
   "execution_count": null,
   "id": "cdfa224e-d59d-4c37-b1c1-8604263e2b76",
   "metadata": {},
   "outputs": [],
   "source": [
    "tempt_test[\"Latest_TextBody\"].iloc[16]"
   ]
  },
  {
   "cell_type": "code",
   "execution_count": null,
   "id": "cdb9ae7e-dea2-4c22-93b4-2f13e57c6d2c",
   "metadata": {},
   "outputs": [],
   "source": [
    "# text='active'\n",
    "# TextBlob(text).sentiment.polarity\n",
    "\n",
    "# from textblob import TextBlob\n",
    "\n",
    "# testimonial = TextBlob(\"active\")\n",
    "# print(testimonial.sentiment)\n",
    "\n",
    "# from vaderSentiment.vaderSentiment import SentimentIntensityAnalyzer\n",
    "\n",
    "# analyzer = SentimentIntensityAnalyzer()\n",
    "# sentence = \"The food was terrible!\" \n",
    "# vs = analyzer.polarity_scores(sentence)\n",
    "# print(\"{:-<65} {}\".format(sentence, str(vs)))"
   ]
  },
  {
   "cell_type": "code",
   "execution_count": null,
   "id": "ec9451b6-e7c9-4996-8140-551f909b0544",
   "metadata": {},
   "outputs": [],
   "source": [
    "# !pip install --quiet flair\n",
    "# from flair.models import TextClassifier\n",
    "# from flair.data import Sentence\n",
    "\n",
    "# classifier = TextClassifier.load('en-sentiment')\n",
    "# sentence = Sentence('The food was great!')\n",
    "# classifier.predict(sentence)\n",
    "\n",
    "# # print sentence with predicted labels\n",
    "# print('Sentence above is: ', sentence.labels)"
   ]
  },
  {
   "cell_type": "code",
   "execution_count": null,
   "id": "af2e5cbc-453c-4103-9b19-6f629547b43f",
   "metadata": {},
   "outputs": [],
   "source": []
  },
  {
   "cell_type": "markdown",
   "id": "d60d855f-5a4d-494b-8270-f8d31664e517",
   "metadata": {},
   "source": [
    "### Training set"
   ]
  },
  {
   "cell_type": "code",
   "execution_count": null,
   "id": "7e98e91c-4b70-4348-9448-ccfe6ecf7013",
   "metadata": {},
   "outputs": [],
   "source": [
    "tempt=df_train[df_train[\"churn\"]==1]\n",
    "tempt.shape"
   ]
  },
  {
   "cell_type": "code",
   "execution_count": null,
   "id": "1af503a3-ca7f-47ea-b12b-294066ad54ac",
   "metadata": {},
   "outputs": [],
   "source": [
    "tempt[\"bag_of_word\"]=tempt[\"Full_TextBody\"].progress_apply(text_preprocess)\n",
    "tempt.head(2)"
   ]
  },
  {
   "cell_type": "code",
   "execution_count": null,
   "id": "4d464601-e597-480c-9e96-222c988e09a3",
   "metadata": {},
   "outputs": [],
   "source": [
    "tempt[\"adj_bag_of_word\"]=tempt[\"Full_TextBody\"].progress_apply(lambda x: text_preprocess(x, extract_adj=True))\n",
    "tempt.head(2)"
   ]
  },
  {
   "cell_type": "code",
   "execution_count": null,
   "id": "f1faf2c2-253c-43aa-8269-156b329ffdb9",
   "metadata": {},
   "outputs": [],
   "source": [
    "tempt[\"sentiment\"]=tempt[\"adj_bag_of_word\"].progress_apply(textblob_sentiment)\n",
    "tempt.head(2)"
   ]
  },
  {
   "cell_type": "code",
   "execution_count": null,
   "id": "24b62190-554e-4212-8a56-71c242967ad0",
   "metadata": {},
   "outputs": [],
   "source": [
    "tempt[\"vader_sentiment\"]=tempt[\"adj_bag_of_word\"].progress_apply(vader_sentiment)\n",
    "tempt.head(2)"
   ]
  },
  {
   "cell_type": "code",
   "execution_count": null,
   "id": "f3793ebe-e1cf-4b4a-ac11-be6daa0f1609",
   "metadata": {},
   "outputs": [],
   "source": [
    "tempt.sentiment.value_counts()"
   ]
  },
  {
   "cell_type": "code",
   "execution_count": null,
   "id": "cf579758-a2c1-471f-ba1b-4a14b75b5f81",
   "metadata": {},
   "outputs": [],
   "source": [
    "tempt.vader_sentiment.value_counts()"
   ]
  },
  {
   "cell_type": "code",
   "execution_count": null,
   "id": "87d0ca5f-6a57-437d-9b11-c8f4c0851a8b",
   "metadata": {},
   "outputs": [],
   "source": [
    "tempt_train=tempt[tempt['vader_sentiment']==\"negative\"]\n",
    "tempt_train.head()"
   ]
  },
  {
   "cell_type": "code",
   "execution_count": null,
   "id": "79b0e9e8-ade5-47a0-9e9b-6c15ceb22460",
   "metadata": {},
   "outputs": [],
   "source": [
    "neg_word=set()\n",
    "for index,row in tqdm(tempt_train.iterrows(), total=tempt_train.shape[0]):\n",
    "    neg_word=neg_word | set(row[\"adj_bag_of_word\"].split())\n",
    "neg_word"
   ]
  },
  {
   "cell_type": "code",
   "execution_count": null,
   "id": "8e9aa375-d232-4a34-a283-f4e9eea85808",
   "metadata": {},
   "outputs": [],
   "source": []
  },
  {
   "cell_type": "code",
   "execution_count": null,
   "id": "ac0e68ce-93af-42b0-8041-8e3a3aa7650d",
   "metadata": {},
   "outputs": [],
   "source": []
  },
  {
   "cell_type": "code",
   "execution_count": 120,
   "id": "fcf9d708-dff2-4aaa-81a9-d9783d50e3a6",
   "metadata": {},
   "outputs": [],
   "source": [
    "import itertools"
   ]
  },
  {
   "cell_type": "code",
   "execution_count": 122,
   "id": "fd901c23-9590-43ab-827a-378fe8344a2f",
   "metadata": {},
   "outputs": [
    {
     "data": {
      "text/plain": [
       "[1, 2, 3, 5, 6, 7]"
      ]
     },
     "execution_count": 122,
     "metadata": {},
     "output_type": "execute_result"
    }
   ],
   "source": [
    "list(itertools.chain([1,2,3],[5,6,7]))"
   ]
  },
  {
   "cell_type": "code",
   "execution_count": 125,
   "id": "943ec982-e327-4eaa-8b4f-b9e476581893",
   "metadata": {},
   "outputs": [
    {
     "data": {
      "text/plain": [
       "4783"
      ]
     },
     "execution_count": 125,
     "metadata": {},
     "output_type": "execute_result"
    }
   ],
   "source": [
    "negative_word=[]\n",
    "with open(\"negative-words.txt\") as f:\n",
    "    for curline in f:\n",
    "        if curline.startswith(\";\"):\n",
    "            continue\n",
    "        if curline.strip():\n",
    "            negative_word.append(curline.strip())\n",
    "len(negative_word)"
   ]
  },
  {
   "cell_type": "code",
   "execution_count": null,
   "id": "e618dbed-7359-46c7-9b05-53e2d056fe17",
   "metadata": {},
   "outputs": [],
   "source": []
  }
 ],
 "metadata": {
  "kernelspec": {
   "display_name": "conda_amazonei_pytorch_latest_p37",
   "language": "python",
   "name": "conda_amazonei_pytorch_latest_p37"
  },
  "language_info": {
   "codemirror_mode": {
    "name": "ipython",
    "version": 3
   },
   "file_extension": ".py",
   "mimetype": "text/x-python",
   "name": "python",
   "nbconvert_exporter": "python",
   "pygments_lexer": "ipython3",
   "version": "3.7.12"
  }
 },
 "nbformat": 4,
 "nbformat_minor": 5
}
