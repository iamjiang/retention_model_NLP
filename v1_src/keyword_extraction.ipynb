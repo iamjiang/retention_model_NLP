{
 "cells": [
  {
   "cell_type": "code",
   "execution_count": 9,
   "id": "49095eec-3afe-4a97-b777-06492b984a46",
   "metadata": {},
   "outputs": [
    {
     "name": "stderr",
     "output_type": "stream",
     "text": [
      "[nltk_data] Downloading package stopwords to\n",
      "[nltk_data]     /home/ec2-user/nltk_data...\n",
      "[nltk_data]   Package stopwords is already up-to-date!\n",
      "[nltk_data] Downloading package punkt to /home/ec2-user/nltk_data...\n",
      "[nltk_data]   Package punkt is already up-to-date!\n",
      "[nltk_data] Downloading package words to /home/ec2-user/nltk_data...\n",
      "[nltk_data]   Package words is already up-to-date!\n",
      "[nltk_data] Downloading package vader_lexicon to\n",
      "[nltk_data]     /home/ec2-user/nltk_data...\n",
      "[nltk_data]   Package vader_lexicon is already up-to-date!\n"
     ]
    }
   ],
   "source": [
    "import os\n",
    "import re\n",
    "import pandas as pd\n",
    "import numpy as np\n",
    "import datasets\n",
    "from datasets import load_dataset, load_metric, Dataset, concatenate_datasets,DatasetDict\n",
    "from datasets import load_from_disk\n",
    "from tqdm import tqdm\n",
    "tqdm.pandas(position=0,leave=True)\n",
    "import itertools\n",
    "import spacy\n",
    "nlp = spacy.load(\"en_core_web_md\")\n",
    "from textblob import TextBlob\n",
    "# python -m textblob.download_corpora\n",
    "import string\n",
    "import nltk\n",
    "from nltk.sentiment.vader import SentimentIntensityAnalyzer\n",
    "from nltk.corpus import stopwords\n",
    "from nltk.stem import PorterStemmer\n",
    "nltk.download('stopwords')\n",
    "nltk.download('punkt')\n",
    "nltk.download('words')\n",
    "nltk.download('vader_lexicon')\n",
    "from nltk.tokenize import word_tokenize\n",
    "from gensim.parsing.preprocessing import remove_stopwords\n",
    "from gensim.parsing.preprocessing import STOPWORDS\n",
    "\n",
    "from collections import Counter\n",
    "\n",
    "import warnings\n",
    "warnings.filterwarnings(\"ignore\")"
   ]
  },
  {
   "cell_type": "code",
   "execution_count": 2,
   "id": "fa2a6ac6-b00a-4bae-a900-22d6a32b457e",
   "metadata": {},
   "outputs": [],
   "source": [
    "all_stopwords_gensim = STOPWORDS.union(set(['thank','thanks', 'you', 'help','questions','a.m.','p.m.','friday','thursday','wednesday','tuesday','monday',\\\n",
    "                                            'askunum','email','askunum.com','unum','askunumunum.com','day','use', 'appreciate','available','mailtoaskunumunum.com',\\\n",
    "                                            'hello','hi','online','?','.','. .','phone','needs','need','let','know','service','information','time','meet','client',\\\n",
    "                                           'team','ask','file','date','opportunity','original','benefit','eastern','specialists','specialist','attached','experienced',\\\n",
    "                                            'benefits insurance','employee','click','organization','httpsbit.lycjrbm',  'received', 'billing', 'manager', 'assist', \\\n",
    "                                            'additional', 'response']))\n",
    "\n",
    "appos = {\n",
    "\"aren't\" : \"are not\",\n",
    "\"can't\" : \"cannot\",\n",
    "\"couldn't\" : \"could not\",\n",
    "\"didn't\" : \"did not\",\n",
    "\"doesn't\" : \"does not\",\n",
    "\"don't\" : \"do not\",\n",
    "\"hadn't\" : \"had not\",\n",
    "\"hasn't\" : \"has not\",\n",
    "\"haven't\" : \"have not\",\n",
    "\"he'd\" : \"he would\",\n",
    "\"he'll\" : \"he will\",\n",
    "\"he's\" : \"he is\",\n",
    "\"i'd\" : \"i would\",\n",
    "\"i'd\" : \"i had\",\n",
    "\"i'll\" : \"i will\",\n",
    "\"i'm\" : \"i am\",\n",
    "\"isn't\" : \"is not\",\n",
    "\"it's\" : \"it is\",\n",
    "\"it'll\":\"it will\",\n",
    "\"i've\" : \"i have\",\n",
    "\"let's\" : \"let us\",\n",
    "\"mightn't\" : \"might not\",\n",
    "\"mustn't\" : \"must not\",\n",
    "\"shan't\" : \"shall not\",\n",
    "\"she'd\" : \"she would\",\n",
    "\"she'll\" : \"she will\",\n",
    "\"she's\" : \"she is\",\n",
    "\"shouldn't\" : \"should not\",\n",
    "\"that's\" : \"that is\",\n",
    "\"there's\" : \"there is\",\n",
    "\"they'd\" : \"they would\",\n",
    "\"they'll\" : \"they will\",\n",
    "\"they're\" : \"they are\",\n",
    "\"they've\" : \"they have\",\n",
    "\"we'd\" : \"we would\",\n",
    "\"we're\" : \"we are\",\n",
    "\"weren't\" : \"were not\",\n",
    "\"we've\" : \"we have\",\n",
    "\"what'll\" : \"what will\",\n",
    "\"what're\" : \"what are\",\n",
    "\"what's\" : \"what is\",\n",
    "\"what've\" : \"what have\",\n",
    "\"where's\" : \"where is\",\n",
    "\"who'd\" : \"who would\",\n",
    "\"who'll\" : \"who will\",\n",
    "\"who're\" : \"who are\",\n",
    "\"who's\" : \"who is\",\n",
    "\"who've\" : \"who have\",\n",
    "\"won't\" : \"will not\",\n",
    "\"wouldn't\" : \"would not\",\n",
    "\"you'd\" : \"you would\",\n",
    "\"you'll\" : \"you will\",\n",
    "\"you're\" : \"you are\",\n",
    "\"you've\" : \"you have\",\n",
    "\"'re\": \" are\",\n",
    "\"wasn't\": \"was not\",\n",
    "\"we'll\":\" will\",\n",
    "\"didn't\": \"did not\"\n",
    "}\n"
   ]
  },
  {
   "cell_type": "code",
   "execution_count": 3,
   "id": "b622ca0d-97fb-419f-9962-0a4028d44dae",
   "metadata": {},
   "outputs": [],
   "source": [
    "def text_preprocess(text, extract_adj=False):\n",
    "    # lemma = nltk.wordnet.WordNetLemmatizer()\n",
    "    \n",
    "    text = str(text)\n",
    "    \n",
    "    #remove http links from the email\n",
    "    \n",
    "    link_regex    = re.compile('((https?):((//)|(\\\\\\\\))+([\\w\\d:#@%/;$()~_?\\+-=\\\\\\.&](#!)?)*)', re.DOTALL)\n",
    "    links         = re.findall(link_regex, text)\n",
    "    for link in links:\n",
    "        text = text.replace(link[0], '')  \n",
    "    \n",
    "    text = re.sub(\"`\", \"'\", text)\n",
    "    \n",
    "    #fix misspelled words\n",
    "\n",
    "    '''Here we are not actually building any complex function to correct the misspelled words but just checking that each character \n",
    "    should occur not more than 2 times in every word. It’s a very basic misspelling check.'''\n",
    "\n",
    "    text = ''.join(''.join(s)[:2] for _, s in itertools.groupby(text))\n",
    "\n",
    "    \n",
    "    text = [appos[word] if word in appos else word for word in text.lower().split()]\n",
    "    text = \" \".join(text)\n",
    "    \n",
    "    ### Remove stop word\n",
    "    text = [i for i in word_tokenize(text) if i not in all_stopwords_gensim]\n",
    "    text = \" \".join(text)\n",
    "    \n",
    "    # remove special characters and digits\n",
    "    text=re.sub(\"(\\\\d|\\\\W)+\",\" \",text)\n",
    "    \n",
    "    #Remove punctuation\n",
    "    table = str.maketrans('', '', string.punctuation)\n",
    "    text = [w.translate(table) for w in text.split()]\n",
    "    text=\" \".join(text)\n",
    "    \n",
    "    # stem\n",
    "    ps = PorterStemmer()\n",
    "    text=\" \".join(set([ps.stem(w) for w in text.split()]))\n",
    "    \n",
    "    if extract_adj:\n",
    "        ADJ_word=[]\n",
    "        doc=nlp(text)\n",
    "        for token in doc:\n",
    "            if token.pos_==\"ADJ\":\n",
    "                ADJ_word.append(token.text)   \n",
    "        return \" \".join(ADJ_word)\n",
    "    \n",
    "    else:\n",
    "        return text\n",
    "    \n",
    "def textblob_sentiment(text):\n",
    "    pol_score = TextBlob(text).sentiment.polarity\n",
    "    if pol_score > 0: \n",
    "        return 'positive'\n",
    "    elif pol_score == 0: \n",
    "        return 'neutral'\n",
    "    else: \n",
    "        return 'negative'\n",
    "\n",
    "def vader_sentiment(text):\n",
    "    \n",
    "    senti = SentimentIntensityAnalyzer()\n",
    "    compound_score = senti.polarity_scores(text)['compound']\n",
    "    \n",
    "    # set sentiment \n",
    "    if compound_score >= 0.05: \n",
    "        return 'positive'\n",
    "    elif (compound_score > -0.05) and (compound_score < 0.05): \n",
    "        return 'neutral'\n",
    "    else: \n",
    "        return 'negative'"
   ]
  },
  {
   "cell_type": "code",
   "execution_count": 92,
   "id": "0788836e-8822-4150-8c02-38a5ce2d35d5",
   "metadata": {},
   "outputs": [
    {
     "data": {
      "text/plain": [
       "DatasetDict({\n",
       "    train: Dataset({\n",
       "        features: ['Full_TextBody', 'Client_TextBody', 'Latest_TextBody', 'year', 'churn'],\n",
       "        num_rows: 156414\n",
       "    })\n",
       "    test: Dataset({\n",
       "        features: ['Full_TextBody', 'Client_TextBody', 'Latest_TextBody', 'year', 'churn'],\n",
       "        num_rows: 27497\n",
       "    })\n",
       "})"
      ]
     },
     "execution_count": 92,
     "metadata": {},
     "output_type": "execute_result"
    }
   ],
   "source": [
    "email_all=load_from_disk(os.path.join(os.getcwd(),\"dataset\",\"email_all\"))\n",
    "email_all"
   ]
  },
  {
   "cell_type": "code",
   "execution_count": 5,
   "id": "eff9d45e-8fcb-4e4f-8896-6663b0787015",
   "metadata": {},
   "outputs": [],
   "source": [
    "train_data=email_all['train']\n",
    "test_data=email_all['test']\n",
    "train_data.set_format(type=\"pandas\")\n",
    "df_train=train_data[:]\n",
    "test_data.set_format(type=\"pandas\")\n",
    "df_test=test_data[:]"
   ]
  },
  {
   "cell_type": "code",
   "execution_count": 6,
   "id": "b3540398-4a67-4c32-a57b-5f9c1da3b450",
   "metadata": {},
   "outputs": [
    {
     "data": {
      "text/html": [
       "<style type=\"text/css\">\n",
       "#T_f1f03_ caption {\n",
       "  color: red;\n",
       "  font-size: 15px;\n",
       "}\n",
       "</style>\n",
       "<table id=\"T_f1f03_\">\n",
       "  <caption>Training set churn dist</caption>\n",
       "  <thead>\n",
       "    <tr>\n",
       "      <th class=\"blank level0\" >&nbsp;</th>\n",
       "      <th class=\"col_heading level0 col0\" >churn</th>\n",
       "      <th class=\"col_heading level0 col1\" >count</th>\n",
       "      <th class=\"col_heading level0 col2\" >percentage</th>\n",
       "    </tr>\n",
       "  </thead>\n",
       "  <tbody>\n",
       "    <tr>\n",
       "      <th id=\"T_f1f03_level0_row0\" class=\"row_heading level0 row0\" >0</th>\n",
       "      <td id=\"T_f1f03_row0_col0\" class=\"data row0 col0\" >0</td>\n",
       "      <td id=\"T_f1f03_row0_col1\" class=\"data row0 col1\" >133,904</td>\n",
       "      <td id=\"T_f1f03_row0_col2\" class=\"data row0 col2\" >85.61%</td>\n",
       "    </tr>\n",
       "    <tr>\n",
       "      <th id=\"T_f1f03_level0_row1\" class=\"row_heading level0 row1\" >1</th>\n",
       "      <td id=\"T_f1f03_row1_col0\" class=\"data row1 col0\" >1</td>\n",
       "      <td id=\"T_f1f03_row1_col1\" class=\"data row1 col1\" >22,510</td>\n",
       "      <td id=\"T_f1f03_row1_col2\" class=\"data row1 col2\" >14.39%</td>\n",
       "    </tr>\n",
       "  </tbody>\n",
       "</table>\n"
      ],
      "text/plain": [
       "<pandas.io.formats.style.Styler at 0x7efd9a5e3c10>"
      ]
     },
     "execution_count": 6,
     "metadata": {},
     "output_type": "execute_result"
    }
   ],
   "source": [
    "tempt1=pd.DataFrame(df_train[\"churn\"].value_counts(dropna=False)).reset_index().rename(columns={'index':'churn','churn':'count'})\n",
    "tempt2=pd.DataFrame(df_train[\"churn\"].value_counts(dropna=False,normalize=True)).reset_index().rename(columns={'index':'churn','churn':'percentage'})\n",
    "tempt1.merge(tempt2, on=\"churn\", how=\"inner\").style.format({'count':'{:,}','percentage':'{:.2%}'}).set_caption(\"Training set churn dist\")\\\n",
    ".set_table_styles([{'selector': 'caption','props': [('color', 'red'),('font-size', '15px')]}])"
   ]
  },
  {
   "cell_type": "code",
   "execution_count": 7,
   "id": "ec07d32b-650f-47c3-911a-e64b5b03746b",
   "metadata": {},
   "outputs": [
    {
     "data": {
      "text/html": [
       "<style type=\"text/css\">\n",
       "#T_d4c44_ caption {\n",
       "  color: red;\n",
       "  font-size: 15px;\n",
       "}\n",
       "</style>\n",
       "<table id=\"T_d4c44_\">\n",
       "  <caption>Test set churn dist</caption>\n",
       "  <thead>\n",
       "    <tr>\n",
       "      <th class=\"blank level0\" >&nbsp;</th>\n",
       "      <th class=\"col_heading level0 col0\" >churn</th>\n",
       "      <th class=\"col_heading level0 col1\" >count</th>\n",
       "      <th class=\"col_heading level0 col2\" >percentage</th>\n",
       "    </tr>\n",
       "  </thead>\n",
       "  <tbody>\n",
       "    <tr>\n",
       "      <th id=\"T_d4c44_level0_row0\" class=\"row_heading level0 row0\" >0</th>\n",
       "      <td id=\"T_d4c44_row0_col0\" class=\"data row0 col0\" >0</td>\n",
       "      <td id=\"T_d4c44_row0_col1\" class=\"data row0 col1\" >23,786</td>\n",
       "      <td id=\"T_d4c44_row0_col2\" class=\"data row0 col2\" >86.50%</td>\n",
       "    </tr>\n",
       "    <tr>\n",
       "      <th id=\"T_d4c44_level0_row1\" class=\"row_heading level0 row1\" >1</th>\n",
       "      <td id=\"T_d4c44_row1_col0\" class=\"data row1 col0\" >1</td>\n",
       "      <td id=\"T_d4c44_row1_col1\" class=\"data row1 col1\" >3,711</td>\n",
       "      <td id=\"T_d4c44_row1_col2\" class=\"data row1 col2\" >13.50%</td>\n",
       "    </tr>\n",
       "  </tbody>\n",
       "</table>\n"
      ],
      "text/plain": [
       "<pandas.io.formats.style.Styler at 0x7efd09b02150>"
      ]
     },
     "execution_count": 7,
     "metadata": {},
     "output_type": "execute_result"
    }
   ],
   "source": [
    "tempt1=pd.DataFrame(df_test[\"churn\"].value_counts(dropna=False)).reset_index().rename(columns={'index':'churn','churn':'count'})\n",
    "tempt2=pd.DataFrame(df_test[\"churn\"].value_counts(dropna=False,normalize=True)).reset_index().rename(columns={'index':'churn','churn':'percentage'})\n",
    "tempt1.merge(tempt2, on=\"churn\", how=\"inner\").style.format({'count':'{:,}','percentage':'{:.2%}'}).set_caption(\"Test set churn dist\")\\\n",
    ".set_table_styles([{'selector': 'caption','props': [('color', 'red'),('font-size', '15px')]}])"
   ]
  },
  {
   "cell_type": "markdown",
   "id": "a29b7b8c-cdcf-4ceb-9d56-de7e2be8154c",
   "metadata": {},
   "source": [
    "### Test Set"
   ]
  },
  {
   "cell_type": "code",
   "execution_count": 8,
   "id": "4c393298-0f31-4d00-80d6-6b4c260bcee9",
   "metadata": {},
   "outputs": [
    {
     "name": "stderr",
     "output_type": "stream",
     "text": [
      "100%|██████████| 27497/27497 [04:57<00:00, 92.54it/s] \n"
     ]
    }
   ],
   "source": [
    "df_test[\"bag_of_word\"]=df_test[\"Full_TextBody\"].progress_apply(text_preprocess)"
   ]
  },
  {
   "cell_type": "code",
   "execution_count": 19,
   "id": "76098c07-7e7d-4ad5-aeca-6eadb4f52be6",
   "metadata": {},
   "outputs": [
    {
     "name": "stdout",
     "output_type": "stream",
     "text": [
      "eastern             3,674               \n",
      "unum                3,101               \n",
      "additional          2,748               \n",
      "great               2,622               \n",
      "confidential        2,059               \n",
      "further             1,841               \n",
      "effective           1,702               \n",
      "new                 1,647               \n",
      "helpful             1,585               \n",
      "intended            1,581               \n",
      "privileged          1,544               \n",
      "available           1,474               \n",
      "current             1,420               \n",
      "able                1,407               \n",
      "other               1,381               \n",
      "future              1,250               \n",
      "below               1,249               \n",
      "happy               1,228               \n",
      "recent              1,186               \n",
      "nice                1,185               \n",
      "sure                1,180               \n",
      "wonderful           1,164               \n",
      "more                1,066               \n",
      "next                1,024               \n",
      "voluntary           1,021               \n",
      "possible            970                 \n",
      "online              970                 \n",
      "free                969                 \n",
      "above               942                 \n",
      "correct             916                 \n",
      "unable              907                 \n",
      "last                896                 \n",
      "due                 835                 \n",
      "long                826                 \n",
      "active              820                 \n",
      "secure              795                 \n",
      "appropriate         773                 \n",
      "attached            771                 \n",
      "full                770                 \n",
      "applicable          698                 \n",
      "latest              687                 \n",
      "same                638                 \n",
      "eligible            629                 \n",
      "original            582                 \n",
      "first               577                 \n",
      "temporary           567                 \n",
      "short               563                 \n",
      "referenced          558                 \n",
      "eoi                 541                 \n",
      "complete            527                 \n"
     ]
    }
   ],
   "source": [
    "def extract_adj(text):\n",
    "    ADJ_word=set()\n",
    "    doc=nlp(text)\n",
    "    for token in doc:\n",
    "        if token.pos_==\"ADJ\":\n",
    "            ADJ_word.add(token.text)\n",
    "    return ADJ_word\n",
    "\n",
    "adj_count=Counter()\n",
    "tempt_test=df_test[df_test[\"churn\"]==1]\n",
    "for index,row in tqdm(tempt_test.iterrows(), total=tempt_test.shape[0]):\n",
    "    adj_word=extract_adj(row['Full_TextBody'])\n",
    "    adj_count.update(adj_word)\n",
    "    adj,freq=zip(*adj_count.most_common(50))\n",
    "for i ,j in zip(adj,freq):\n",
    "    print(\"{:<20}{:<20,}\".format(i,j))"
   ]
  },
  {
   "cell_type": "code",
   "execution_count": 93,
   "id": "83c68047-107e-42e4-a0aa-fff67db26ebe",
   "metadata": {},
   "outputs": [
    {
     "name": "stderr",
     "output_type": "stream",
     "text": [
      "100%|██████████| 27497/27497 [00:03<00:00, 7282.75it/s]\n",
      "100%|██████████| 27497/27497 [00:00<00:00, 703596.82it/s]\n"
     ]
    },
    {
     "data": {
      "text/plain": [
       "0    25130\n",
       "1     2367\n",
       "Name: terminate, dtype: int64"
      ]
     },
     "execution_count": 93,
     "metadata": {},
     "output_type": "execute_result"
    }
   ],
   "source": [
    "tempt=df_test.copy()\n",
    "tempt[\"set_word\"]=tempt[\"Full_TextBody\"].progress_apply(lambda x: set(x.split()))\n",
    "tempt[\"terminate\"]=tempt[\"set_word\"].progress_apply(lambda x: 1 if set([\"termination\",\"terminate\"]).issubset(x) else 0 )\n",
    "tempt[\"terminate\"].value_counts()"
   ]
  },
  {
   "cell_type": "code",
   "execution_count": 94,
   "id": "dec0a9e4-6f0f-4ca5-bd2f-d248f5259600",
   "metadata": {},
   "outputs": [
    {
     "data": {
      "text/plain": [
       "\"no problem looping in ask unum as they will be able to assist with this. ask unum please terminate the below mentioned employee and reply back to all once complete. employee new hire jennifer calvert signed up last month for voluntary life 00406969-0001. i believe it was to begin 4/1/2021. but ms. calvert is now no longer employed with marywood nursing care center effective 4/6/2021. i tried to terminate her in the employee changes online but she was not listed yet. could you please terminate her policy? no trees were destroyed in the sending of this e-mail. however, a great number of electrons were terribly inconvenienced..we have completed this termination request for samantha, with a termination effective date of 04/06/2021. the group will not be billed any additional premium for their coverage. please do let us know if there is anything further we may assist you with. have a great day we appreciate the opportunity to meet your benefit needs. , 8 a.m. to 8 p.m. eastern time..i sent an email on 4/7/2021 to terminate employee jennifer calvert, she termed on 4/6/2021. she had just signed up for the benefit to begin on 4/1/2021. i just want to make sure she is termed because she has showed up on the statement. 406969-001 5 no trees were destroyed in the sending of this e-mail. however, a great number of electrons were terribly inconvenienced..thank you for contacting ask unum, i hope my reply finds you well i can confirm that jennifer calvert was terminated 4/6/2021 as requested. this policy is set up in arrears which means that the invoice was for what the employee worked 4/1-4/30. the 6/1 invoice will not show her on there since it is for what she worked 5/1-5/30. should you need any additional assistance, please do not hesitate to contact our ask unum team. how to file a claim online - click here we appreciate the opportunity to meet your benefit needs. , 8 a.m. to 8 p.m. eastern time..i had added an employee deangelo waters 366111320 on 5/5/2021. he became eligible due to job change on 5/3/2021. he is not on the statement. i just want to make sure that he is going to show up on the next statement no trees were destroyed in the sending of this e-mail. however, a great number of electrons were terribly inconvenienced..we will begin processing these changes within 5 business days in the order received. any changes will be reflected on your future billing statement; however, if additional information is needed, processing may be delayed. please let us know if there is anything else that we can assist you with. for information and resources regarding unum's covid-19 response and faqs, visit unum.com/covid-19 we appreciate the opportunity to meet your benefit needs. , 8 a.m. to 8 p.m. eastern time..for information and resources regarding unum's covid-19 response and faqs, visit unum.com/covid-19 we appreciate the opportunity to meet your benefit needs. , 8 a.m. to 8 p.m. eastern time..i mistakenly terminated teresa badgely 380903952, she was only suppose to be updated. she should have been removed from the std part and she should only be eligible for the life effective 4/1/2021. no longer eligible for std. can this be fixed? no trees were destroyed in the sending of this e-mail. however, a great number of electrons were terribly inconvenienced..we would like to inform you that we have partnered with our enrollment team for the requested reinstatement of teresa badgely with the effective date of 04/01/2021 and short term disability std coverage removal from the effective date of 04/01/2021. this process typically takes 5 business days to process. once the process has been completed, the requested changes will reflect on the future invoice. please let us know if there is anything else that we can assist you with. we appreciate the opportunity to meet your benefit needs. , 8 a.m. to 8 p.m. eastern time..please reinstate teresa badgely 380903952 with the effective date of 04/01/2021 and remove only std with the effective date of 04/01/2021. we appreciate the opportunity to meet your benefit needs. , 8 a.m. to 8 p.m. eastern time..it looks like in cme that this group already has the eap attached to their disability. can you confirm? is it the basic eap thru unum, or the enhanced thru healthadvocate directly? brokers and plan administrators please contact our client services team at 1-800-ask-unum 1-800-275-8686 or available 800 a.m. to 800 p.m. est, for questions.thank you for your email. to confirm, our basic eap is included under the group's long term disability policy above. attached, please find our current flyer and employee wallet card brochure for your reference. should you need any additional assistance, please do not hesitate to contact our ask unum team. have a wonderful day we appreciate the opportunity to meet your benefit needs. , 8 a.m. to 8 p.m. eastern time.\""
      ]
     },
     "execution_count": 94,
     "metadata": {},
     "output_type": "execute_result"
    }
   ],
   "source": [
    "tempt[(tempt[\"terminate\"]==1) & (tempt[\"churn\"]==0)][\"Full_TextBody\"].iloc[2]"
   ]
  },
  {
   "cell_type": "code",
   "execution_count": null,
   "id": "f0978209-003a-47c9-95a5-da0e496551cb",
   "metadata": {},
   "outputs": [],
   "source": []
  },
  {
   "cell_type": "code",
   "execution_count": null,
   "id": "5de23f32-76a9-4c63-988a-9aa398bb0bfe",
   "metadata": {},
   "outputs": [],
   "source": []
  },
  {
   "cell_type": "code",
   "execution_count": 20,
   "id": "56f9b2a3-ea15-4585-879e-f52fd0de9a0d",
   "metadata": {},
   "outputs": [
    {
     "data": {
      "text/plain": [
       "(3711, 6)"
      ]
     },
     "execution_count": 20,
     "metadata": {},
     "output_type": "execute_result"
    }
   ],
   "source": [
    "tempt=df_test[df_test[\"churn\"]==1]\n",
    "tempt.shape"
   ]
  },
  {
   "cell_type": "code",
   "execution_count": 21,
   "id": "40400b2f-5476-4378-8c90-bdc4cf77da09",
   "metadata": {},
   "outputs": [
    {
     "data": {
      "text/html": [
       "<div>\n",
       "<style scoped>\n",
       "    .dataframe tbody tr th:only-of-type {\n",
       "        vertical-align: middle;\n",
       "    }\n",
       "\n",
       "    .dataframe tbody tr th {\n",
       "        vertical-align: top;\n",
       "    }\n",
       "\n",
       "    .dataframe thead th {\n",
       "        text-align: right;\n",
       "    }\n",
       "</style>\n",
       "<table border=\"1\" class=\"dataframe\">\n",
       "  <thead>\n",
       "    <tr style=\"text-align: right;\">\n",
       "      <th></th>\n",
       "      <th>Full_TextBody</th>\n",
       "      <th>Client_TextBody</th>\n",
       "      <th>Latest_TextBody</th>\n",
       "      <th>year</th>\n",
       "      <th>churn</th>\n",
       "      <th>bag_of_word</th>\n",
       "    </tr>\n",
       "  </thead>\n",
       "  <tbody>\n",
       "    <tr>\n",
       "      <th>1</th>\n",
       "      <td>our ask unum team should be able to provide yo...</td>\n",
       "      <td>our ask unum team should be able to provide yo...</td>\n",
       "      <td>on tue, apr 6, 2021 at 128 pm wrote thanks for...</td>\n",
       "      <td>2022</td>\n",
       "      <td>1</td>\n",
       "      <td>able provide schedule ill send census december...</td>\n",
       "    </tr>\n",
       "    <tr>\n",
       "      <th>23</th>\n",
       "      <td>the secure message expires on sep 24, 2021 032...</td>\n",
       "      <td>the secure message expires on sep 24, 2021 032...</td>\n",
       "      <td>please process the below mentioned and attache...</td>\n",
       "      <td>2022</td>\n",
       "      <td>1</td>\n",
       "      <td>secure message expires sep pm gmt reply notifi...</td>\n",
       "    </tr>\n",
       "  </tbody>\n",
       "</table>\n",
       "</div>"
      ],
      "text/plain": [
       "                                        Full_TextBody  \\\n",
       "1   our ask unum team should be able to provide yo...   \n",
       "23  the secure message expires on sep 24, 2021 032...   \n",
       "\n",
       "                                      Client_TextBody  \\\n",
       "1   our ask unum team should be able to provide yo...   \n",
       "23  the secure message expires on sep 24, 2021 032...   \n",
       "\n",
       "                                      Latest_TextBody  year  churn  \\\n",
       "1   on tue, apr 6, 2021 at 128 pm wrote thanks for...  2022      1   \n",
       "23  please process the below mentioned and attache...  2022      1   \n",
       "\n",
       "                                          bag_of_word  \n",
       "1   able provide schedule ill send census december...  \n",
       "23  secure message expires sep pm gmt reply notifi...  "
      ]
     },
     "execution_count": 21,
     "metadata": {},
     "output_type": "execute_result"
    }
   ],
   "source": [
    "tempt.head(2)"
   ]
  },
  {
   "cell_type": "code",
   "execution_count": 22,
   "id": "e9f5cb1f-bd3c-4e71-bc54-88a16e40ea58",
   "metadata": {},
   "outputs": [
    {
     "name": "stderr",
     "output_type": "stream",
     "text": [
      "100%|██████████| 3711/3711 [00:46<00:00, 79.46it/s] \n"
     ]
    },
    {
     "data": {
      "text/html": [
       "<div>\n",
       "<style scoped>\n",
       "    .dataframe tbody tr th:only-of-type {\n",
       "        vertical-align: middle;\n",
       "    }\n",
       "\n",
       "    .dataframe tbody tr th {\n",
       "        vertical-align: top;\n",
       "    }\n",
       "\n",
       "    .dataframe thead th {\n",
       "        text-align: right;\n",
       "    }\n",
       "</style>\n",
       "<table border=\"1\" class=\"dataframe\">\n",
       "  <thead>\n",
       "    <tr style=\"text-align: right;\">\n",
       "      <th></th>\n",
       "      <th>Full_TextBody</th>\n",
       "      <th>Client_TextBody</th>\n",
       "      <th>Latest_TextBody</th>\n",
       "      <th>year</th>\n",
       "      <th>churn</th>\n",
       "      <th>bag_of_word</th>\n",
       "    </tr>\n",
       "  </thead>\n",
       "  <tbody>\n",
       "    <tr>\n",
       "      <th>1</th>\n",
       "      <td>our ask unum team should be able to provide yo...</td>\n",
       "      <td>our ask unum team should be able to provide yo...</td>\n",
       "      <td>on tue, apr 6, 2021 at 128 pm wrote thanks for...</td>\n",
       "      <td>2022</td>\n",
       "      <td>1</td>\n",
       "      <td>able provide schedule ill send census december...</td>\n",
       "    </tr>\n",
       "    <tr>\n",
       "      <th>23</th>\n",
       "      <td>the secure message expires on sep 24, 2021 032...</td>\n",
       "      <td>the secure message expires on sep 24, 2021 032...</td>\n",
       "      <td>please process the below mentioned and attache...</td>\n",
       "      <td>2022</td>\n",
       "      <td>1</td>\n",
       "      <td>secure message expires sep pm gmt reply notifi...</td>\n",
       "    </tr>\n",
       "  </tbody>\n",
       "</table>\n",
       "</div>"
      ],
      "text/plain": [
       "                                        Full_TextBody  \\\n",
       "1   our ask unum team should be able to provide yo...   \n",
       "23  the secure message expires on sep 24, 2021 032...   \n",
       "\n",
       "                                      Client_TextBody  \\\n",
       "1   our ask unum team should be able to provide yo...   \n",
       "23  the secure message expires on sep 24, 2021 032...   \n",
       "\n",
       "                                      Latest_TextBody  year  churn  \\\n",
       "1   on tue, apr 6, 2021 at 128 pm wrote thanks for...  2022      1   \n",
       "23  please process the below mentioned and attache...  2022      1   \n",
       "\n",
       "                                          bag_of_word  \n",
       "1   able provide schedule ill send census december...  \n",
       "23  secure message expires sep pm gmt reply notifi...  "
      ]
     },
     "execution_count": 22,
     "metadata": {},
     "output_type": "execute_result"
    }
   ],
   "source": [
    "tempt[\"bag_of_word\"]=tempt[\"Full_TextBody\"].progress_apply(text_preprocess)\n",
    "tempt.head(2)"
   ]
  },
  {
   "cell_type": "code",
   "execution_count": 23,
   "id": "31105def-6a87-489b-9721-db693a386ab6",
   "metadata": {},
   "outputs": [
    {
     "name": "stderr",
     "output_type": "stream",
     "text": [
      "100%|██████████| 3711/3711 [04:08<00:00, 14.91it/s]\n"
     ]
    },
    {
     "data": {
      "text/html": [
       "<div>\n",
       "<style scoped>\n",
       "    .dataframe tbody tr th:only-of-type {\n",
       "        vertical-align: middle;\n",
       "    }\n",
       "\n",
       "    .dataframe tbody tr th {\n",
       "        vertical-align: top;\n",
       "    }\n",
       "\n",
       "    .dataframe thead th {\n",
       "        text-align: right;\n",
       "    }\n",
       "</style>\n",
       "<table border=\"1\" class=\"dataframe\">\n",
       "  <thead>\n",
       "    <tr style=\"text-align: right;\">\n",
       "      <th></th>\n",
       "      <th>Full_TextBody</th>\n",
       "      <th>Client_TextBody</th>\n",
       "      <th>Latest_TextBody</th>\n",
       "      <th>year</th>\n",
       "      <th>churn</th>\n",
       "      <th>bag_of_word</th>\n",
       "      <th>adj_bag_of_word</th>\n",
       "    </tr>\n",
       "  </thead>\n",
       "  <tbody>\n",
       "    <tr>\n",
       "      <th>1</th>\n",
       "      <td>our ask unum team should be able to provide yo...</td>\n",
       "      <td>our ask unum team should be able to provide yo...</td>\n",
       "      <td>on tue, apr 6, 2021 at 128 pm wrote thanks for...</td>\n",
       "      <td>2022</td>\n",
       "      <td>1</td>\n",
       "      <td>able provide schedule ill send census december...</td>\n",
       "      <td>able separate unum comprehensive voluntary com...</td>\n",
       "    </tr>\n",
       "    <tr>\n",
       "      <th>23</th>\n",
       "      <td>the secure message expires on sep 24, 2021 032...</td>\n",
       "      <td>the secure message expires on sep 24, 2021 032...</td>\n",
       "      <td>please process the below mentioned and attache...</td>\n",
       "      <td>2022</td>\n",
       "      <td>1</td>\n",
       "      <td>secure message expires sep pm gmt reply notifi...</td>\n",
       "      <td>secure open open rehire rehire effective compl...</td>\n",
       "    </tr>\n",
       "  </tbody>\n",
       "</table>\n",
       "</div>"
      ],
      "text/plain": [
       "                                        Full_TextBody  \\\n",
       "1   our ask unum team should be able to provide yo...   \n",
       "23  the secure message expires on sep 24, 2021 032...   \n",
       "\n",
       "                                      Client_TextBody  \\\n",
       "1   our ask unum team should be able to provide yo...   \n",
       "23  the secure message expires on sep 24, 2021 032...   \n",
       "\n",
       "                                      Latest_TextBody  year  churn  \\\n",
       "1   on tue, apr 6, 2021 at 128 pm wrote thanks for...  2022      1   \n",
       "23  please process the below mentioned and attache...  2022      1   \n",
       "\n",
       "                                          bag_of_word  \\\n",
       "1   able provide schedule ill send census december...   \n",
       "23  secure message expires sep pm gmt reply notifi...   \n",
       "\n",
       "                                      adj_bag_of_word  \n",
       "1   able separate unum comprehensive voluntary com...  \n",
       "23  secure open open rehire rehire effective compl...  "
      ]
     },
     "execution_count": 23,
     "metadata": {},
     "output_type": "execute_result"
    }
   ],
   "source": [
    "tempt[\"adj_bag_of_word\"]=tempt[\"Full_TextBody\"].progress_apply(lambda x: text_preprocess(x, extract_adj=True))\n",
    "tempt.head(2)"
   ]
  },
  {
   "cell_type": "code",
   "execution_count": 24,
   "id": "e2f2ae52-52bd-4fbd-bbe0-46f8d9f6b1fe",
   "metadata": {},
   "outputs": [
    {
     "name": "stderr",
     "output_type": "stream",
     "text": [
      "100%|██████████| 3711/3711 [00:01<00:00, 2633.76it/s]\n"
     ]
    },
    {
     "data": {
      "text/html": [
       "<div>\n",
       "<style scoped>\n",
       "    .dataframe tbody tr th:only-of-type {\n",
       "        vertical-align: middle;\n",
       "    }\n",
       "\n",
       "    .dataframe tbody tr th {\n",
       "        vertical-align: top;\n",
       "    }\n",
       "\n",
       "    .dataframe thead th {\n",
       "        text-align: right;\n",
       "    }\n",
       "</style>\n",
       "<table border=\"1\" class=\"dataframe\">\n",
       "  <thead>\n",
       "    <tr style=\"text-align: right;\">\n",
       "      <th></th>\n",
       "      <th>Full_TextBody</th>\n",
       "      <th>Client_TextBody</th>\n",
       "      <th>Latest_TextBody</th>\n",
       "      <th>year</th>\n",
       "      <th>churn</th>\n",
       "      <th>bag_of_word</th>\n",
       "      <th>adj_bag_of_word</th>\n",
       "      <th>sentiment</th>\n",
       "    </tr>\n",
       "  </thead>\n",
       "  <tbody>\n",
       "    <tr>\n",
       "      <th>1</th>\n",
       "      <td>our ask unum team should be able to provide yo...</td>\n",
       "      <td>our ask unum team should be able to provide yo...</td>\n",
       "      <td>on tue, apr 6, 2021 at 128 pm wrote thanks for...</td>\n",
       "      <td>2022</td>\n",
       "      <td>1</td>\n",
       "      <td>able provide schedule ill send census december...</td>\n",
       "      <td>able separate unum comprehensive voluntary com...</td>\n",
       "      <td>positive</td>\n",
       "    </tr>\n",
       "    <tr>\n",
       "      <th>23</th>\n",
       "      <td>the secure message expires on sep 24, 2021 032...</td>\n",
       "      <td>the secure message expires on sep 24, 2021 032...</td>\n",
       "      <td>please process the below mentioned and attache...</td>\n",
       "      <td>2022</td>\n",
       "      <td>1</td>\n",
       "      <td>secure message expires sep pm gmt reply notifi...</td>\n",
       "      <td>secure open open rehire rehire effective compl...</td>\n",
       "      <td>positive</td>\n",
       "    </tr>\n",
       "  </tbody>\n",
       "</table>\n",
       "</div>"
      ],
      "text/plain": [
       "                                        Full_TextBody  \\\n",
       "1   our ask unum team should be able to provide yo...   \n",
       "23  the secure message expires on sep 24, 2021 032...   \n",
       "\n",
       "                                      Client_TextBody  \\\n",
       "1   our ask unum team should be able to provide yo...   \n",
       "23  the secure message expires on sep 24, 2021 032...   \n",
       "\n",
       "                                      Latest_TextBody  year  churn  \\\n",
       "1   on tue, apr 6, 2021 at 128 pm wrote thanks for...  2022      1   \n",
       "23  please process the below mentioned and attache...  2022      1   \n",
       "\n",
       "                                          bag_of_word  \\\n",
       "1   able provide schedule ill send census december...   \n",
       "23  secure message expires sep pm gmt reply notifi...   \n",
       "\n",
       "                                      adj_bag_of_word sentiment  \n",
       "1   able separate unum comprehensive voluntary com...  positive  \n",
       "23  secure open open rehire rehire effective compl...  positive  "
      ]
     },
     "execution_count": 24,
     "metadata": {},
     "output_type": "execute_result"
    }
   ],
   "source": [
    "tempt[\"sentiment\"]=tempt[\"adj_bag_of_word\"].progress_apply(textblob_sentiment)\n",
    "tempt.head(2)"
   ]
  },
  {
   "cell_type": "code",
   "execution_count": 25,
   "id": "43e5c801-6047-430c-afce-e175b6d3a43a",
   "metadata": {},
   "outputs": [
    {
     "name": "stderr",
     "output_type": "stream",
     "text": [
      "100%|██████████| 3711/3711 [00:21<00:00, 171.43it/s]\n"
     ]
    },
    {
     "data": {
      "text/html": [
       "<div>\n",
       "<style scoped>\n",
       "    .dataframe tbody tr th:only-of-type {\n",
       "        vertical-align: middle;\n",
       "    }\n",
       "\n",
       "    .dataframe tbody tr th {\n",
       "        vertical-align: top;\n",
       "    }\n",
       "\n",
       "    .dataframe thead th {\n",
       "        text-align: right;\n",
       "    }\n",
       "</style>\n",
       "<table border=\"1\" class=\"dataframe\">\n",
       "  <thead>\n",
       "    <tr style=\"text-align: right;\">\n",
       "      <th></th>\n",
       "      <th>Full_TextBody</th>\n",
       "      <th>Client_TextBody</th>\n",
       "      <th>Latest_TextBody</th>\n",
       "      <th>year</th>\n",
       "      <th>churn</th>\n",
       "      <th>bag_of_word</th>\n",
       "      <th>adj_bag_of_word</th>\n",
       "      <th>sentiment</th>\n",
       "      <th>vader_sentiment</th>\n",
       "    </tr>\n",
       "  </thead>\n",
       "  <tbody>\n",
       "    <tr>\n",
       "      <th>1</th>\n",
       "      <td>our ask unum team should be able to provide yo...</td>\n",
       "      <td>our ask unum team should be able to provide yo...</td>\n",
       "      <td>on tue, apr 6, 2021 at 128 pm wrote thanks for...</td>\n",
       "      <td>2022</td>\n",
       "      <td>1</td>\n",
       "      <td>able provide schedule ill send census december...</td>\n",
       "      <td>able separate unum comprehensive voluntary com...</td>\n",
       "      <td>positive</td>\n",
       "      <td>positive</td>\n",
       "    </tr>\n",
       "    <tr>\n",
       "      <th>23</th>\n",
       "      <td>the secure message expires on sep 24, 2021 032...</td>\n",
       "      <td>the secure message expires on sep 24, 2021 032...</td>\n",
       "      <td>please process the below mentioned and attache...</td>\n",
       "      <td>2022</td>\n",
       "      <td>1</td>\n",
       "      <td>secure message expires sep pm gmt reply notifi...</td>\n",
       "      <td>secure open open rehire rehire effective compl...</td>\n",
       "      <td>positive</td>\n",
       "      <td>positive</td>\n",
       "    </tr>\n",
       "  </tbody>\n",
       "</table>\n",
       "</div>"
      ],
      "text/plain": [
       "                                        Full_TextBody  \\\n",
       "1   our ask unum team should be able to provide yo...   \n",
       "23  the secure message expires on sep 24, 2021 032...   \n",
       "\n",
       "                                      Client_TextBody  \\\n",
       "1   our ask unum team should be able to provide yo...   \n",
       "23  the secure message expires on sep 24, 2021 032...   \n",
       "\n",
       "                                      Latest_TextBody  year  churn  \\\n",
       "1   on tue, apr 6, 2021 at 128 pm wrote thanks for...  2022      1   \n",
       "23  please process the below mentioned and attache...  2022      1   \n",
       "\n",
       "                                          bag_of_word  \\\n",
       "1   able provide schedule ill send census december...   \n",
       "23  secure message expires sep pm gmt reply notifi...   \n",
       "\n",
       "                                      adj_bag_of_word sentiment  \\\n",
       "1   able separate unum comprehensive voluntary com...  positive   \n",
       "23  secure open open rehire rehire effective compl...  positive   \n",
       "\n",
       "   vader_sentiment  \n",
       "1         positive  \n",
       "23        positive  "
      ]
     },
     "execution_count": 25,
     "metadata": {},
     "output_type": "execute_result"
    }
   ],
   "source": [
    "tempt[\"vader_sentiment\"]=tempt[\"adj_bag_of_word\"].progress_apply(vader_sentiment)\n",
    "tempt.head(2)"
   ]
  },
  {
   "cell_type": "code",
   "execution_count": 26,
   "id": "cb14be4c-45b1-4348-8ff2-82edb352e13b",
   "metadata": {},
   "outputs": [
    {
     "data": {
      "text/plain": [
       "positive    3484\n",
       "neutral      167\n",
       "negative      60\n",
       "Name: sentiment, dtype: int64"
      ]
     },
     "execution_count": 26,
     "metadata": {},
     "output_type": "execute_result"
    }
   ],
   "source": [
    "tempt.sentiment.value_counts()"
   ]
  },
  {
   "cell_type": "code",
   "execution_count": 27,
   "id": "1cbf1364-14b7-40d4-8149-335b33e84356",
   "metadata": {},
   "outputs": [
    {
     "data": {
      "text/plain": [
       "positive    3472\n",
       "neutral      185\n",
       "negative      54\n",
       "Name: vader_sentiment, dtype: int64"
      ]
     },
     "execution_count": 27,
     "metadata": {},
     "output_type": "execute_result"
    }
   ],
   "source": [
    "tempt.vader_sentiment.value_counts()"
   ]
  },
  {
   "cell_type": "code",
   "execution_count": 28,
   "id": "e5d7859b-f060-42c6-ac9e-c05e2324fcfc",
   "metadata": {},
   "outputs": [
    {
     "name": "stderr",
     "output_type": "stream",
     "text": [
      "100%|██████████| 54/54 [00:00<00:00, 19433.07it/s]\n"
     ]
    },
    {
     "data": {
      "text/plain": [
       "{'able',\n",
       " 'accrue',\n",
       " 'accurate',\n",
       " 'active',\n",
       " 'actual',\n",
       " 'additional',\n",
       " 'allocate',\n",
       " 'annual',\n",
       " 'applicable',\n",
       " 'appropriate',\n",
       " 'automatic',\n",
       " 'average',\n",
       " 'aware',\n",
       " 'backup',\n",
       " 'basic',\n",
       " 'broken',\n",
       " 'brown',\n",
       " 'certain',\n",
       " 'civil',\n",
       " 'complete',\n",
       " 'confidential',\n",
       " 'convenient',\n",
       " 'convertible',\n",
       " 'correct',\n",
       " 'corridor',\n",
       " 'covenant',\n",
       " 'criminal',\n",
       " 'critical',\n",
       " 'current',\n",
       " 'daily',\n",
       " 'deepest',\n",
       " 'delete',\n",
       " 'dental',\n",
       " 'dependent',\n",
       " 'detailed',\n",
       " 'different',\n",
       " 'difficult',\n",
       " 'digital',\n",
       " 'disconnected',\n",
       " 'div',\n",
       " 'double',\n",
       " 'due',\n",
       " 'effective',\n",
       " 'electronic',\n",
       " 'eligibility',\n",
       " 'eligible',\n",
       " 'eoi',\n",
       " 'ex',\n",
       " 'exact',\n",
       " 'exclusive',\n",
       " 'expedite',\n",
       " 'faster',\n",
       " 'flat',\n",
       " 'flexible',\n",
       " 'free',\n",
       " 'future',\n",
       " 'general',\n",
       " 'great',\n",
       " 'green',\n",
       " 'gross',\n",
       " 'happy',\n",
       " 'hard',\n",
       " 'helpful',\n",
       " 'hesitate',\n",
       " 'hourly',\n",
       " 'immediate',\n",
       " 'important',\n",
       " 'incorrect',\n",
       " 'individual',\n",
       " 'informational',\n",
       " 'initial',\n",
       " 'instant',\n",
       " 'internal',\n",
       " 'josvany',\n",
       " 'julian',\n",
       " 'kayleigh',\n",
       " 'large',\n",
       " 'lesser',\n",
       " 'limited',\n",
       " 'locked',\n",
       " 'long',\n",
       " 'minimum',\n",
       " 'mistaken',\n",
       " 'mobile',\n",
       " 'monthly',\n",
       " 'multiple',\n",
       " 'negative',\n",
       " 'net',\n",
       " 'new',\n",
       " 'nice',\n",
       " 'nino',\n",
       " 'noted',\n",
       " 'notify',\n",
       " 'odd',\n",
       " 'official',\n",
       " 'older',\n",
       " 'online',\n",
       " 'open',\n",
       " 'outbound',\n",
       " 'particular',\n",
       " 'payable',\n",
       " 'poor',\n",
       " 'possible',\n",
       " 'premium',\n",
       " 'previous',\n",
       " 'prior',\n",
       " 'qualified',\n",
       " 'quickest',\n",
       " 'random',\n",
       " 'recent',\n",
       " 'registered',\n",
       " 'rehire',\n",
       " 'removed',\n",
       " 'renewal',\n",
       " 'required',\n",
       " 'reset',\n",
       " 'resident',\n",
       " 'round',\n",
       " 'second',\n",
       " 'secure',\n",
       " 'select',\n",
       " 'senior',\n",
       " 'sensitive',\n",
       " 'separate',\n",
       " 'short',\n",
       " 'sick',\n",
       " 'similar',\n",
       " 'single',\n",
       " 'sorry',\n",
       " 'southern',\n",
       " 'specific',\n",
       " 'strange',\n",
       " 'sure',\n",
       " 'technical',\n",
       " 'tonda',\n",
       " 'total',\n",
       " 'unable',\n",
       " 'unauthorized',\n",
       " 'unclear',\n",
       " 'unpaid',\n",
       " 'unsuccessful',\n",
       " 'unum',\n",
       " 'usual',\n",
       " 'voluntary',\n",
       " 'w',\n",
       " 'weekly',\n",
       " 'wonderful',\n",
       " 'wrong'}"
      ]
     },
     "execution_count": 28,
     "metadata": {},
     "output_type": "execute_result"
    }
   ],
   "source": [
    "tempt_test=tempt[tempt['vader_sentiment']==\"negative\"]\n",
    "neg_word_test=set()\n",
    "for index,row in tqdm(tempt_test.iterrows(), total=tempt_test.shape[0]):\n",
    "    neg_word_test=neg_word_test | set(row[\"adj_bag_of_word\"].split())\n",
    "neg_word_test"
   ]
  },
  {
   "cell_type": "code",
   "execution_count": 46,
   "id": "cdfa224e-d59d-4c37-b1c1-8604263e2b76",
   "metadata": {},
   "outputs": [
    {
     "data": {
      "text/plain": [
       "\"on thu, may 20, 2021 at 114 pm wrote i hope this email finds you doing well. we have been asked to send you a copy of the w-9 from unum. attached please find the document. please let us know if there is anything else we can help you with. we appreciate the opportunity to meet your benefit needs. , 8 a.m. to 8 p.m. eastern time..thank you for submitting wyatt barnes's evidence of insurability eoi application. we will begin processing your eoi form in the order received. this request will be reviewed within 5 business days. however, if additional information is needed, processing may be delayed. for town of smyrna, you can use unums custom employer link to submit eoi online. here are the basics 1. initial setup unum creates your custom access code and provides it to you. please provide the eoi link and access code to your benefit admin/tech partner if you would like it to display on your enrollment system. 2. you provide the eoi link and access code to employees that require eoi. this link can be used year-round for any employees needing eoi. 3. your employee goes to the eoi site with the access code. after answering a few questions, most employees will receive an instant decision. employees needing to provide additional information will hear from unum on next steps. please let us know if there is anything else that we can assist you with. we appreciate the opportunity to meet your benefit needs. , 8 a.m. to 8 p.m. eastern time.thank you for your email please find attached the requested claim form. please do not hesitate to let us know if there is anything further we may assist you with. how to file a claim online - click here we appreciate the opportunity to meet your benefit needs. , 8 a.m. to 8 p.m. eastern time..they do askunum can provide the exact details, but generally its to age 19 or to age 26 if ft student. au can you give us details on this particular case? life disability dental vision accident critical illness cancer hospital leave stop loss 100+ lives introducing unums vaccine verifier a new digital product helping companies comply with the new vaccine and testing mandate.\""
      ]
     },
     "execution_count": 46,
     "metadata": {},
     "output_type": "execute_result"
    }
   ],
   "source": [
    "tempt_test[\"Latest_TextBody\"].iloc[16]"
   ]
  },
  {
   "cell_type": "code",
   "execution_count": null,
   "id": "cdb9ae7e-dea2-4c22-93b4-2f13e57c6d2c",
   "metadata": {},
   "outputs": [],
   "source": [
    "# text='active'\n",
    "# TextBlob(text).sentiment.polarity\n",
    "\n",
    "# from textblob import TextBlob\n",
    "\n",
    "# testimonial = TextBlob(\"active\")\n",
    "# print(testimonial.sentiment)\n",
    "\n",
    "# from vaderSentiment.vaderSentiment import SentimentIntensityAnalyzer\n",
    "\n",
    "# analyzer = SentimentIntensityAnalyzer()\n",
    "# sentence = \"The food was terrible!\" \n",
    "# vs = analyzer.polarity_scores(sentence)\n",
    "# print(\"{:-<65} {}\".format(sentence, str(vs)))"
   ]
  },
  {
   "cell_type": "code",
   "execution_count": null,
   "id": "ec9451b6-e7c9-4996-8140-551f909b0544",
   "metadata": {},
   "outputs": [],
   "source": [
    "# !pip install --quiet flair\n",
    "# from flair.models import TextClassifier\n",
    "# from flair.data import Sentence\n",
    "\n",
    "# classifier = TextClassifier.load('en-sentiment')\n",
    "# sentence = Sentence('The food was great!')\n",
    "# classifier.predict(sentence)\n",
    "\n",
    "# # print sentence with predicted labels\n",
    "# print('Sentence above is: ', sentence.labels)"
   ]
  },
  {
   "cell_type": "code",
   "execution_count": null,
   "id": "af2e5cbc-453c-4103-9b19-6f629547b43f",
   "metadata": {},
   "outputs": [],
   "source": []
  },
  {
   "cell_type": "markdown",
   "id": "d60d855f-5a4d-494b-8270-f8d31664e517",
   "metadata": {},
   "source": [
    "### Training set"
   ]
  },
  {
   "cell_type": "code",
   "execution_count": null,
   "id": "7e98e91c-4b70-4348-9448-ccfe6ecf7013",
   "metadata": {},
   "outputs": [],
   "source": [
    "tempt=df_train[df_train[\"churn\"]==1]\n",
    "tempt.shape"
   ]
  },
  {
   "cell_type": "code",
   "execution_count": null,
   "id": "1af503a3-ca7f-47ea-b12b-294066ad54ac",
   "metadata": {},
   "outputs": [],
   "source": [
    "tempt[\"bag_of_word\"]=tempt[\"Full_TextBody\"].progress_apply(text_preprocess)\n",
    "tempt.head(2)"
   ]
  },
  {
   "cell_type": "code",
   "execution_count": null,
   "id": "4d464601-e597-480c-9e96-222c988e09a3",
   "metadata": {},
   "outputs": [],
   "source": [
    "tempt[\"adj_bag_of_word\"]=tempt[\"Full_TextBody\"].progress_apply(lambda x: text_preprocess(x, extract_adj=True))\n",
    "tempt.head(2)"
   ]
  },
  {
   "cell_type": "code",
   "execution_count": null,
   "id": "f1faf2c2-253c-43aa-8269-156b329ffdb9",
   "metadata": {},
   "outputs": [],
   "source": [
    "tempt[\"sentiment\"]=tempt[\"adj_bag_of_word\"].progress_apply(textblob_sentiment)\n",
    "tempt.head(2)"
   ]
  },
  {
   "cell_type": "code",
   "execution_count": null,
   "id": "24b62190-554e-4212-8a56-71c242967ad0",
   "metadata": {},
   "outputs": [],
   "source": [
    "tempt[\"vader_sentiment\"]=tempt[\"adj_bag_of_word\"].progress_apply(vader_sentiment)\n",
    "tempt.head(2)"
   ]
  },
  {
   "cell_type": "code",
   "execution_count": null,
   "id": "f3793ebe-e1cf-4b4a-ac11-be6daa0f1609",
   "metadata": {},
   "outputs": [],
   "source": [
    "tempt.sentiment.value_counts()"
   ]
  },
  {
   "cell_type": "code",
   "execution_count": null,
   "id": "cf579758-a2c1-471f-ba1b-4a14b75b5f81",
   "metadata": {},
   "outputs": [],
   "source": [
    "tempt.vader_sentiment.value_counts()"
   ]
  },
  {
   "cell_type": "code",
   "execution_count": null,
   "id": "87d0ca5f-6a57-437d-9b11-c8f4c0851a8b",
   "metadata": {},
   "outputs": [],
   "source": [
    "tempt_train=tempt[tempt['vader_sentiment']==\"negative\"]\n",
    "tempt_train.head()"
   ]
  },
  {
   "cell_type": "code",
   "execution_count": null,
   "id": "79b0e9e8-ade5-47a0-9e9b-6c15ceb22460",
   "metadata": {},
   "outputs": [],
   "source": [
    "neg_word=set()\n",
    "for index,row in tqdm(tempt_train.iterrows(), total=tempt_train.shape[0]):\n",
    "    neg_word=neg_word | set(row[\"adj_bag_of_word\"].split())\n",
    "neg_word"
   ]
  },
  {
   "cell_type": "code",
   "execution_count": null,
   "id": "8e9aa375-d232-4a34-a283-f4e9eea85808",
   "metadata": {},
   "outputs": [],
   "source": []
  }
 ],
 "metadata": {
  "kernelspec": {
   "display_name": "conda_amazonei_pytorch_latest_p37",
   "language": "python",
   "name": "conda_amazonei_pytorch_latest_p37"
  },
  "language_info": {
   "codemirror_mode": {
    "name": "ipython",
    "version": 3
   },
   "file_extension": ".py",
   "mimetype": "text/x-python",
   "name": "python",
   "nbconvert_exporter": "python",
   "pygments_lexer": "ipython3",
   "version": "3.7.12"
  }
 },
 "nbformat": 4,
 "nbformat_minor": 5
}
