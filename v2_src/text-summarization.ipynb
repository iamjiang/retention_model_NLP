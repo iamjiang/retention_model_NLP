{
 "cells": [
  {
   "cell_type": "code",
   "execution_count": 10,
   "id": "dc1c93ce-180a-4358-894a-f3e062ec6687",
   "metadata": {},
   "outputs": [
    {
     "name": "stdout",
     "output_type": "stream",
     "text": [
      "Transformers version is 4.22.1\n"
     ]
    }
   ],
   "source": [
    "import argparse\n",
    "import pandas as pd\n",
    "import numpy as np\n",
    "from numpy import savez_compressed, load\n",
    "import itertools\n",
    "import re\n",
    "import time\n",
    "import os\n",
    "import pickle\n",
    "\n",
    "import datasets\n",
    "from datasets import load_dataset, load_metric, Dataset, concatenate_datasets,DatasetDict\n",
    "from datasets import load_from_disk\n",
    "from tqdm import tqdm\n",
    "tqdm.pandas(position=0,leave=True)\n",
    "\n",
    "import transformers\n",
    "\n",
    "from transformers import (\n",
    "    AdamW,\n",
    "    AutoConfig,\n",
    "    AutoModelWithLMHead,\n",
    "    AutoModelForSeq2SeqLM,\n",
    "    AutoTokenizer,\n",
    "    AutoModelForSeq2SeqLM,\n",
    "    Seq2SeqTrainingArguments,\n",
    "    Seq2SeqTrainer,\n",
    "    get_linear_schedule_with_warmup,\n",
    ")\n",
    "print(\"Transformers version is {}\".format(transformers.__version__))\n",
    "\n",
    "import seaborn as sns\n",
    "from pylab import rcParams\n",
    "import matplotlib.pyplot as plt\n",
    "from matplotlib import rc\n",
    "from IPython.display import display, HTML\n",
    "\n",
    "sns.set(style=\"whitegrid\",palette='muted',font_scale=1.2)\n",
    "rcParams['figure.figsize']=16,10\n",
    "\n",
    "%config InlineBackend.figure_format=\"retina\"\n",
    "%matplotlib inline\n",
    "\n",
    "pd.set_option('display.max_columns', None,'display.max_rows',None)"
   ]
  },
  {
   "cell_type": "code",
   "execution_count": 11,
   "id": "a6f05b27-9ca5-4c9c-9117-9e3018c11c3b",
   "metadata": {},
   "outputs": [],
   "source": [
    "input_dir=\"s3://trident-retention-output/\"\n",
    "train_df=pd.read_csv(os.path.join(input_dir,\"train_df.csv\"))\n",
    "val_df=pd.read_csv(os.path.join(input_dir,\"val_df.csv\"))\n",
    "test_df=pd.read_csv(os.path.join(input_dir,\"test_df.csv\"))"
   ]
  },
  {
   "cell_type": "code",
   "execution_count": 13,
   "id": "c12d4ddc-c617-4ea5-b0cd-d11b745c4404",
   "metadata": {},
   "outputs": [
    {
     "data": {
      "text/html": [
       "<div>\n",
       "<style scoped>\n",
       "    .dataframe tbody tr th:only-of-type {\n",
       "        vertical-align: middle;\n",
       "    }\n",
       "\n",
       "    .dataframe tbody tr th {\n",
       "        vertical-align: top;\n",
       "    }\n",
       "\n",
       "    .dataframe thead th {\n",
       "        text-align: right;\n",
       "    }\n",
       "</style>\n",
       "<table border=\"1\" class=\"dataframe\">\n",
       "  <thead>\n",
       "    <tr style=\"text-align: right;\">\n",
       "      <th></th>\n",
       "      <th>unum_id</th>\n",
       "      <th>year</th>\n",
       "      <th>month</th>\n",
       "      <th>Subtype</th>\n",
       "      <th>TextBody</th>\n",
       "      <th>label</th>\n",
       "    </tr>\n",
       "  </thead>\n",
       "  <tbody>\n",
       "    <tr>\n",
       "      <th>0</th>\n",
       "      <td>660464</td>\n",
       "      <td>2018</td>\n",
       "      <td>3</td>\n",
       "      <td>bill not received</td>\n",
       "      <td>policy 657647 - harriston-mayo llc hello nick,...</td>\n",
       "      <td>1</td>\n",
       "    </tr>\n",
       "    <tr>\n",
       "      <th>1</th>\n",
       "      <td>212520822</td>\n",
       "      <td>2020</td>\n",
       "      <td>4</td>\n",
       "      <td>bill not received</td>\n",
       "      <td>can you please remove this bill hold and confi...</td>\n",
       "      <td>1</td>\n",
       "    </tr>\n",
       "    <tr>\n",
       "      <th>2</th>\n",
       "      <td>545813</td>\n",
       "      <td>2018</td>\n",
       "      <td>1</td>\n",
       "      <td>bill not received</td>\n",
       "      <td>hi tina, thank you foyoucall today. i have att...</td>\n",
       "      <td>1</td>\n",
       "    </tr>\n",
       "    <tr>\n",
       "      <th>3</th>\n",
       "      <td>553799</td>\n",
       "      <td>2019</td>\n",
       "      <td>3</td>\n",
       "      <td>bill hide or delete</td>\n",
       "      <td>please reset ouportal fothe month of march. -0...</td>\n",
       "      <td>1</td>\n",
       "    </tr>\n",
       "    <tr>\n",
       "      <th>4</th>\n",
       "      <td>139295091</td>\n",
       "      <td>2018</td>\n",
       "      <td>5</td>\n",
       "      <td>bill not received</td>\n",
       "      <td>sheila, i enjoyed speaking with you today. i w...</td>\n",
       "      <td>1</td>\n",
       "    </tr>\n",
       "  </tbody>\n",
       "</table>\n",
       "</div>"
      ],
      "text/plain": [
       "     unum_id  year  month              Subtype  \\\n",
       "0     660464  2018      3    bill not received   \n",
       "1  212520822  2020      4    bill not received   \n",
       "2     545813  2018      1    bill not received   \n",
       "3     553799  2019      3  bill hide or delete   \n",
       "4  139295091  2018      5    bill not received   \n",
       "\n",
       "                                            TextBody  label  \n",
       "0  policy 657647 - harriston-mayo llc hello nick,...      1  \n",
       "1  can you please remove this bill hold and confi...      1  \n",
       "2  hi tina, thank you foyoucall today. i have att...      1  \n",
       "3  please reset ouportal fothe month of march. -0...      1  \n",
       "4  sheila, i enjoyed speaking with you today. i w...      1  "
      ]
     },
     "execution_count": 13,
     "metadata": {},
     "output_type": "execute_result"
    }
   ],
   "source": [
    "train_df.drop(['Unnamed: 0'],axis=1,inplace=True)\n",
    "val_df.drop(['Unnamed: 0'],axis=1,inplace=True)\n",
    "test_df.drop(['Unnamed: 0'],axis=1,inplace=True)\n",
    "train_df.head()"
   ]
  },
  {
   "cell_type": "code",
   "execution_count": 16,
   "id": "eae92451-7404-4fdf-b0a8-d39f3783dce7",
   "metadata": {},
   "outputs": [],
   "source": [
    "hf_train=Dataset.from_pandas(train_df)\n",
    "hf_val=Dataset.from_pandas(val_df)\n",
    "hf_test=Dataset.from_pandas(test_df)\n",
    "\n",
    "hf_data=DatasetDict({\"train\":hf_train, \"val\":hf_val,  \"test\":hf_test})"
   ]
  },
  {
   "cell_type": "code",
   "execution_count": 18,
   "id": "b52c2c53-9fc2-4954-9772-2e9fb92f50b2",
   "metadata": {},
   "outputs": [
    {
     "data": {
      "text/plain": [
       "DatasetDict({\n",
       "    train: Dataset({\n",
       "        features: ['unum_id', 'year', 'month', 'Subtype', 'TextBody', 'label'],\n",
       "        num_rows: 19088\n",
       "    })\n",
       "    val: Dataset({\n",
       "        features: ['unum_id', 'year', 'month', 'Subtype', 'TextBody', 'label'],\n",
       "        num_rows: 2388\n",
       "    })\n",
       "    test: Dataset({\n",
       "        features: ['unum_id', 'year', 'month', 'Subtype', 'TextBody', 'label'],\n",
       "        num_rows: 5960\n",
       "    })\n",
       "})"
      ]
     },
     "execution_count": 18,
     "metadata": {},
     "output_type": "execute_result"
    }
   ],
   "source": [
    "hf_data"
   ]
  },
  {
   "cell_type": "code",
   "execution_count": 19,
   "id": "87342e26-cb00-44e7-a145-ee59df60d7db",
   "metadata": {},
   "outputs": [],
   "source": [
    "def label_distribution(df):\n",
    "    tempt1=pd.DataFrame(df[\"label\"].value_counts(dropna=False)).reset_index().rename(columns={'index':'label','label':'count'})\n",
    "    tempt2=pd.DataFrame(df[\"label\"].value_counts(dropna=False,normalize=True)).reset_index().rename(columns={'index':'label','label':'percentage'})\n",
    "    return tempt1.merge(tempt2, on=\"label\", how=\"inner\")\n",
    "\n",
    "def style_format(df,  data_type=\"Training set\"):\n",
    "    return df.style.format({'count':'{:,}','percentage':'{:.2%}'})\\\n",
    "           .set_caption(f\"{data_type} label distribution\")\\\n",
    "           .set_table_styles([{'selector': 'caption','props': [('color', 'red'),('font-size', '15px')]}])"
   ]
  },
  {
   "cell_type": "code",
   "execution_count": 21,
   "id": "0a5d6ba2-1ed3-448e-b160-fe2cbd38509a",
   "metadata": {},
   "outputs": [
    {
     "data": {
      "text/html": [
       "<style type=\"text/css\">\n",
       "#T_34a3f_ caption {\n",
       "  color: red;\n",
       "  font-size: 15px;\n",
       "}\n",
       "</style>\n",
       "<table id=\"T_34a3f_\">\n",
       "  <caption>Training set label distribution</caption>\n",
       "  <thead>\n",
       "    <tr>\n",
       "      <th class=\"blank level0\" >&nbsp;</th>\n",
       "      <th class=\"col_heading level0 col0\" >label</th>\n",
       "      <th class=\"col_heading level0 col1\" >count</th>\n",
       "      <th class=\"col_heading level0 col2\" >percentage</th>\n",
       "    </tr>\n",
       "  </thead>\n",
       "  <tbody>\n",
       "    <tr>\n",
       "      <th id=\"T_34a3f_level0_row0\" class=\"row_heading level0 row0\" >0</th>\n",
       "      <td id=\"T_34a3f_row0_col0\" class=\"data row0 col0\" >0</td>\n",
       "      <td id=\"T_34a3f_row0_col1\" class=\"data row0 col1\" >14,316</td>\n",
       "      <td id=\"T_34a3f_row0_col2\" class=\"data row0 col2\" >75.00%</td>\n",
       "    </tr>\n",
       "    <tr>\n",
       "      <th id=\"T_34a3f_level0_row1\" class=\"row_heading level0 row1\" >1</th>\n",
       "      <td id=\"T_34a3f_row1_col0\" class=\"data row1 col0\" >1</td>\n",
       "      <td id=\"T_34a3f_row1_col1\" class=\"data row1 col1\" >4,772</td>\n",
       "      <td id=\"T_34a3f_row1_col2\" class=\"data row1 col2\" >25.00%</td>\n",
       "    </tr>\n",
       "  </tbody>\n",
       "</table>\n"
      ],
      "text/plain": [
       "<pandas.io.formats.style.Styler at 0x7f19e9971880>"
      ]
     },
     "execution_count": 21,
     "metadata": {},
     "output_type": "execute_result"
    }
   ],
   "source": [
    "label_train=label_distribution(train_df)\n",
    "style_format(label_train,  data_type=\"Training set\")"
   ]
  },
  {
   "cell_type": "code",
   "execution_count": 22,
   "id": "9216d9cd-4eee-4704-b807-8404c1827948",
   "metadata": {},
   "outputs": [
    {
     "data": {
      "text/html": [
       "<style type=\"text/css\">\n",
       "#T_794eb_ caption {\n",
       "  color: red;\n",
       "  font-size: 15px;\n",
       "}\n",
       "</style>\n",
       "<table id=\"T_794eb_\">\n",
       "  <caption>Test set label distribution</caption>\n",
       "  <thead>\n",
       "    <tr>\n",
       "      <th class=\"blank level0\" >&nbsp;</th>\n",
       "      <th class=\"col_heading level0 col0\" >label</th>\n",
       "      <th class=\"col_heading level0 col1\" >count</th>\n",
       "      <th class=\"col_heading level0 col2\" >percentage</th>\n",
       "    </tr>\n",
       "  </thead>\n",
       "  <tbody>\n",
       "    <tr>\n",
       "      <th id=\"T_794eb_level0_row0\" class=\"row_heading level0 row0\" >0</th>\n",
       "      <td id=\"T_794eb_row0_col0\" class=\"data row0 col0\" >0</td>\n",
       "      <td id=\"T_794eb_row0_col1\" class=\"data row0 col1\" >5,364</td>\n",
       "      <td id=\"T_794eb_row0_col2\" class=\"data row0 col2\" >90.00%</td>\n",
       "    </tr>\n",
       "    <tr>\n",
       "      <th id=\"T_794eb_level0_row1\" class=\"row_heading level0 row1\" >1</th>\n",
       "      <td id=\"T_794eb_row1_col0\" class=\"data row1 col0\" >1</td>\n",
       "      <td id=\"T_794eb_row1_col1\" class=\"data row1 col1\" >596</td>\n",
       "      <td id=\"T_794eb_row1_col2\" class=\"data row1 col2\" >10.00%</td>\n",
       "    </tr>\n",
       "  </tbody>\n",
       "</table>\n"
      ],
      "text/plain": [
       "<pandas.io.formats.style.Styler at 0x7f19e8d873a0>"
      ]
     },
     "execution_count": 22,
     "metadata": {},
     "output_type": "execute_result"
    }
   ],
   "source": [
    "label_test=label_distribution(test_df)\n",
    "style_format(label_test,  data_type=\"Test set\")"
   ]
  },
  {
   "cell_type": "code",
   "execution_count": 24,
   "id": "0138aa46-1c8e-4f87-a1bd-5eee1f8971e8",
   "metadata": {},
   "outputs": [],
   "source": [
    "model_checkpoint=\"allenai/longformer-base-4096\"\n",
    "tokenizer=AutoTokenizer.from_pretrained(model_checkpoint)"
   ]
  },
  {
   "cell_type": "code",
   "execution_count": 25,
   "id": "e2418062-0920-48c2-9bea-1b2ef71cf882",
   "metadata": {},
   "outputs": [],
   "source": [
    "def train_test_data(df_train, df_test, feature_cols):\n",
    "    train_df=Dataset.from_pandas(df_train)\n",
    "    train_df=train_df.filter(lambda x: x[feature_cols]!=None)\n",
    "    train_df=train_df.map(lambda x: tokenizer(x[feature_cols]),batched=True)\n",
    "\n",
    "    test_df=Dataset.from_pandas(df_test)\n",
    "    test_df=test_df.filter(lambda x: x[feature_cols]!=None)\n",
    "    test_df=test_df.map(lambda x: tokenizer(x[feature_cols]),batched=True)\n",
    "    \n",
    "    def compute_lenth(example):\n",
    "        return {\"text_length\":len(example[\"input_ids\"])}\n",
    "    \n",
    "    train_df=train_df.map(compute_lenth)\n",
    "    test_df=test_df.map(compute_lenth)\n",
    "    \n",
    "    return train_df, test_df"
   ]
  },
  {
   "cell_type": "code",
   "execution_count": 28,
   "id": "667fceb5-06b0-4491-8760-d6d24a7151c2",
   "metadata": {},
   "outputs": [
    {
     "data": {
      "application/vnd.jupyter.widget-view+json": {
       "model_id": "fb181c73cbc243849ce04f73a1862b67",
       "version_major": 2,
       "version_minor": 0
      },
      "text/plain": [
       "  0%|          | 0/20 [00:00<?, ?ba/s]"
      ]
     },
     "metadata": {},
     "output_type": "display_data"
    },
    {
     "data": {
      "application/vnd.jupyter.widget-view+json": {
       "model_id": "52c0d935ceeb4fa2ab5824007923a4b1",
       "version_major": 2,
       "version_minor": 0
      },
      "text/plain": [
       "  0%|          | 0/20 [00:00<?, ?ba/s]"
      ]
     },
     "metadata": {},
     "output_type": "display_data"
    },
    {
     "data": {
      "application/vnd.jupyter.widget-view+json": {
       "model_id": "d71c88427b2d408a9a321f06596e47ae",
       "version_major": 2,
       "version_minor": 0
      },
      "text/plain": [
       "  0%|          | 0/6 [00:00<?, ?ba/s]"
      ]
     },
     "metadata": {},
     "output_type": "display_data"
    },
    {
     "data": {
      "application/vnd.jupyter.widget-view+json": {
       "model_id": "eb86def713e645ba8d14eb10290e8a73",
       "version_major": 2,
       "version_minor": 0
      },
      "text/plain": [
       "  0%|          | 0/6 [00:00<?, ?ba/s]"
      ]
     },
     "metadata": {},
     "output_type": "display_data"
    },
    {
     "data": {
      "application/vnd.jupyter.widget-view+json": {
       "model_id": "186f1f1a717d4e19859ec3e95ef6a1f5",
       "version_major": 2,
       "version_minor": 0
      },
      "text/plain": [
       "  0%|          | 0/19088 [00:00<?, ?ex/s]"
      ]
     },
     "metadata": {},
     "output_type": "display_data"
    },
    {
     "data": {
      "application/vnd.jupyter.widget-view+json": {
       "model_id": "e6af3fb603854145aa5cb6522483f5a5",
       "version_major": 2,
       "version_minor": 0
      },
      "text/plain": [
       "  0%|          | 0/5960 [00:00<?, ?ex/s]"
      ]
     },
     "metadata": {},
     "output_type": "display_data"
    }
   ],
   "source": [
    "train_df1, test_df1=train_test_data(train_df, test_df, feature_cols=\"TextBody\")"
   ]
  },
  {
   "cell_type": "code",
   "execution_count": 30,
   "id": "011b63ad-5866-4b06-aabf-de1b4098b91f",
   "metadata": {},
   "outputs": [],
   "source": [
    "def statistics_compute(hf_df1,hf_df2,p=1):\n",
    "\n",
    "    X=[]\n",
    "    X.append(np.percentile(hf_df1['text_length'],p))\n",
    "    X.append(np.percentile(hf_df2['text_length'],p))\n",
    "    \n",
    "    result={}\n",
    "    result['percentile']=X\n",
    "    result[\"min\"]=[np.min(hf_df1['text_length']),np.min(hf_df2['text_length'])]\n",
    "    result[\"max\"]=[np.max(hf_df1['text_length']),np.max(hf_df2['text_length'])]\n",
    "    result[\"mean\"]=[np.mean(hf_df1['text_length']),np.mean(hf_df2['text_length'])]\n",
    "    return result\n",
    "\n",
    "def statistics_table(hf_df1,hf_df2):\n",
    "    dict_data={}\n",
    "    dict_data[\"data_type\"]=[\"training\", \"test\"]\n",
    "    dict_data[\"# of obs\"]=[len(hf_df1['text_length']),len(hf_df2['text_length'])]\n",
    "    dict_data[\"Min of tokens\"]=statistics_compute(hf_df1, hf_df2)[\"min\"]\n",
    "    dict_data[\"1% of tokens\"]=statistics_compute(hf_df1, hf_df2, p=1)['percentile']\n",
    "    dict_data[\"5% of tokens\"]=statistics_compute(hf_df1, hf_df2, p=5)['percentile']\n",
    "    dict_data[\"10% of tokens\"]=statistics_compute(hf_df1, hf_df2, p=10)['percentile']\n",
    "    dict_data[\"25% of tokens\"]=statistics_compute(hf_df1, hf_df2, p=25)['percentile']\n",
    "    dict_data[\"Median of tokens\"]=statistics_compute(hf_df1, hf_df2, p=50)['percentile']\n",
    "    dict_data[\"Average tokens\"]=statistics_compute(hf_df1, hf_df2)[\"mean\"]\n",
    "    dict_data[\"75% of tokens\"]=statistics_compute(hf_df1, hf_df2, p=75)['percentile']\n",
    "    dict_data[\"90% of tokens\"]=statistics_compute(hf_df1, hf_df2, p=90)['percentile']\n",
    "    dict_data[\"95% of tokens\"]=statistics_compute(hf_df1, hf_df2, p=95)['percentile']\n",
    "    dict_data[\"99% of tokens\"]=statistics_compute(hf_df1, hf_df2, p=99)['percentile']\n",
    "    dict_data[\"Max of tokens\"]=statistics_compute(hf_df1, hf_df2)[\"max\"]\n",
    "    token_count_df=pd.DataFrame(dict_data)\n",
    "    return token_count_df\n",
    "\n",
    "def style_format(token_count_df,  textbody=\"Full_TextBody\"):\n",
    "    token_count_df=token_count_df.set_index(\"data_type\")\n",
    "    token_count_df[list(token_count_df.columns)] = token_count_df[list(token_count_df.columns)].astype(int)\n",
    "    return token_count_df.style.format(\"{:,}\").set_caption(f\"Summary Statistics of token lengths for {textbody} \").set_table_styles([{\n",
    "        'selector': 'caption',\n",
    "        'props': [\n",
    "            ('color', 'red'),\n",
    "            ('font-size', '20px')\n",
    "        ]\n",
    "    }])"
   ]
  },
  {
   "cell_type": "code",
   "execution_count": 31,
   "id": "7914e781-71f6-4c96-bef9-1a21e82b8874",
   "metadata": {},
   "outputs": [
    {
     "data": {
      "text/html": [
       "<style type=\"text/css\">\n",
       "#T_877c4_ caption {\n",
       "  color: red;\n",
       "  font-size: 20px;\n",
       "}\n",
       "</style>\n",
       "<table id=\"T_877c4_\">\n",
       "  <caption>Summary Statistics of token lengths for Full_TextBody </caption>\n",
       "  <thead>\n",
       "    <tr>\n",
       "      <th class=\"blank level0\" >&nbsp;</th>\n",
       "      <th class=\"col_heading level0 col0\" ># of obs</th>\n",
       "      <th class=\"col_heading level0 col1\" >Min of tokens</th>\n",
       "      <th class=\"col_heading level0 col2\" >1% of tokens</th>\n",
       "      <th class=\"col_heading level0 col3\" >5% of tokens</th>\n",
       "      <th class=\"col_heading level0 col4\" >10% of tokens</th>\n",
       "      <th class=\"col_heading level0 col5\" >25% of tokens</th>\n",
       "      <th class=\"col_heading level0 col6\" >Median of tokens</th>\n",
       "      <th class=\"col_heading level0 col7\" >Average tokens</th>\n",
       "      <th class=\"col_heading level0 col8\" >75% of tokens</th>\n",
       "      <th class=\"col_heading level0 col9\" >90% of tokens</th>\n",
       "      <th class=\"col_heading level0 col10\" >95% of tokens</th>\n",
       "      <th class=\"col_heading level0 col11\" >99% of tokens</th>\n",
       "      <th class=\"col_heading level0 col12\" >Max of tokens</th>\n",
       "    </tr>\n",
       "    <tr>\n",
       "      <th class=\"index_name level0\" >data_type</th>\n",
       "      <th class=\"blank col0\" >&nbsp;</th>\n",
       "      <th class=\"blank col1\" >&nbsp;</th>\n",
       "      <th class=\"blank col2\" >&nbsp;</th>\n",
       "      <th class=\"blank col3\" >&nbsp;</th>\n",
       "      <th class=\"blank col4\" >&nbsp;</th>\n",
       "      <th class=\"blank col5\" >&nbsp;</th>\n",
       "      <th class=\"blank col6\" >&nbsp;</th>\n",
       "      <th class=\"blank col7\" >&nbsp;</th>\n",
       "      <th class=\"blank col8\" >&nbsp;</th>\n",
       "      <th class=\"blank col9\" >&nbsp;</th>\n",
       "      <th class=\"blank col10\" >&nbsp;</th>\n",
       "      <th class=\"blank col11\" >&nbsp;</th>\n",
       "      <th class=\"blank col12\" >&nbsp;</th>\n",
       "    </tr>\n",
       "  </thead>\n",
       "  <tbody>\n",
       "    <tr>\n",
       "      <th id=\"T_877c4_level0_row0\" class=\"row_heading level0 row0\" >training</th>\n",
       "      <td id=\"T_877c4_row0_col0\" class=\"data row0 col0\" >19,088</td>\n",
       "      <td id=\"T_877c4_row0_col1\" class=\"data row0 col1\" >12</td>\n",
       "      <td id=\"T_877c4_row0_col2\" class=\"data row0 col2\" >56</td>\n",
       "      <td id=\"T_877c4_row0_col3\" class=\"data row0 col3\" >87</td>\n",
       "      <td id=\"T_877c4_row0_col4\" class=\"data row0 col4\" >109</td>\n",
       "      <td id=\"T_877c4_row0_col5\" class=\"data row0 col5\" >172</td>\n",
       "      <td id=\"T_877c4_row0_col6\" class=\"data row0 col6\" >279</td>\n",
       "      <td id=\"T_877c4_row0_col7\" class=\"data row0 col7\" >386</td>\n",
       "      <td id=\"T_877c4_row0_col8\" class=\"data row0 col8\" >448</td>\n",
       "      <td id=\"T_877c4_row0_col9\" class=\"data row0 col9\" >732</td>\n",
       "      <td id=\"T_877c4_row0_col10\" class=\"data row0 col10\" >1,001</td>\n",
       "      <td id=\"T_877c4_row0_col11\" class=\"data row0 col11\" >1,902</td>\n",
       "      <td id=\"T_877c4_row0_col12\" class=\"data row0 col12\" >40,068</td>\n",
       "    </tr>\n",
       "    <tr>\n",
       "      <th id=\"T_877c4_level0_row1\" class=\"row_heading level0 row1\" >test</th>\n",
       "      <td id=\"T_877c4_row1_col0\" class=\"data row1 col0\" >5,960</td>\n",
       "      <td id=\"T_877c4_row1_col1\" class=\"data row1 col1\" >12</td>\n",
       "      <td id=\"T_877c4_row1_col2\" class=\"data row1 col2\" >58</td>\n",
       "      <td id=\"T_877c4_row1_col3\" class=\"data row1 col3\" >86</td>\n",
       "      <td id=\"T_877c4_row1_col4\" class=\"data row1 col4\" >109</td>\n",
       "      <td id=\"T_877c4_row1_col5\" class=\"data row1 col5\" >178</td>\n",
       "      <td id=\"T_877c4_row1_col6\" class=\"data row1 col6\" >289</td>\n",
       "      <td id=\"T_877c4_row1_col7\" class=\"data row1 col7\" >391</td>\n",
       "      <td id=\"T_877c4_row1_col8\" class=\"data row1 col8\" >465</td>\n",
       "      <td id=\"T_877c4_row1_col9\" class=\"data row1 col9\" >749</td>\n",
       "      <td id=\"T_877c4_row1_col10\" class=\"data row1 col10\" >1,015</td>\n",
       "      <td id=\"T_877c4_row1_col11\" class=\"data row1 col11\" >1,941</td>\n",
       "      <td id=\"T_877c4_row1_col12\" class=\"data row1 col12\" >12,749</td>\n",
       "    </tr>\n",
       "  </tbody>\n",
       "</table>\n"
      ],
      "text/plain": [
       "<pandas.io.formats.style.Styler at 0x7f1a1838ee20>"
      ]
     },
     "execution_count": 31,
     "metadata": {},
     "output_type": "execute_result"
    }
   ],
   "source": [
    "token_count_df=statistics_table(train_df1,test_df1)\n",
    "style_format(token_count_df,  textbody=\"Full_TextBody\")"
   ]
  },
  {
   "cell_type": "code",
   "execution_count": null,
   "id": "dc838179-1ef0-47b9-9f9d-ef69c9819469",
   "metadata": {},
   "outputs": [],
   "source": []
  }
 ],
 "metadata": {
  "kernelspec": {
   "display_name": "conda_python3",
   "language": "python",
   "name": "conda_python3"
  },
  "language_info": {
   "codemirror_mode": {
    "name": "ipython",
    "version": 3
   },
   "file_extension": ".py",
   "mimetype": "text/x-python",
   "name": "python",
   "nbconvert_exporter": "python",
   "pygments_lexer": "ipython3",
   "version": "3.8.12"
  }
 },
 "nbformat": 4,
 "nbformat_minor": 5
}
