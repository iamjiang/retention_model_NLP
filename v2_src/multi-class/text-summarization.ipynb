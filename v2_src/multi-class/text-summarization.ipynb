{
 "cells": [
  {
   "cell_type": "code",
   "execution_count": 1,
   "id": "dc1c93ce-180a-4358-894a-f3e062ec6687",
   "metadata": {},
   "outputs": [
    {
     "name": "stdout",
     "output_type": "stream",
     "text": [
      "Transformers version is 4.6.1\n"
     ]
    }
   ],
   "source": [
    "import argparse\n",
    "import pandas as pd\n",
    "import numpy as np\n",
    "from numpy import savez_compressed, load\n",
    "import itertools\n",
    "import re\n",
    "import time\n",
    "import os\n",
    "import pickle\n",
    "\n",
    "import datasets\n",
    "from datasets import load_dataset, load_metric, Dataset, concatenate_datasets,DatasetDict\n",
    "from datasets import load_from_disk\n",
    "from tqdm import tqdm\n",
    "tqdm.pandas(position=0,leave=True)\n",
    "\n",
    "import transformers\n",
    "\n",
    "from transformers import (\n",
    "    AdamW,\n",
    "    AutoConfig,\n",
    "    AutoModelWithLMHead,\n",
    "    AutoModelForSeq2SeqLM,\n",
    "    AutoTokenizer,\n",
    "    AutoModelForSeq2SeqLM,\n",
    "    Seq2SeqTrainingArguments,\n",
    "    Seq2SeqTrainer,\n",
    "    get_linear_schedule_with_warmup,\n",
    ")\n",
    "print(\"Transformers version is {}\".format(transformers.__version__))\n",
    "\n",
    "import seaborn as sns\n",
    "from pylab import rcParams\n",
    "import matplotlib.pyplot as plt\n",
    "from matplotlib import rc\n",
    "from IPython.display import display, HTML\n",
    "\n",
    "sns.set(style=\"whitegrid\",palette='muted',font_scale=1.2)\n",
    "rcParams['figure.figsize']=16,10\n",
    "\n",
    "%config InlineBackend.figure_format=\"retina\"\n",
    "%matplotlib inline\n",
    "\n",
    "pd.set_option('display.max_columns', None,'display.max_rows',None)"
   ]
  },
  {
   "cell_type": "code",
   "execution_count": 2,
   "id": "a6f05b27-9ca5-4c9c-9117-9e3018c11c3b",
   "metadata": {},
   "outputs": [],
   "source": [
    "input_dir=\"s3://trident-retention-output/multi-class\"\n",
    "train_df=pd.read_csv(os.path.join(input_dir,\"train_df.csv\"))\n",
    "val_df=pd.read_csv(os.path.join(input_dir,\"val_df.csv\"))\n",
    "test_df=pd.read_csv(os.path.join(input_dir,\"test_df.csv\"))"
   ]
  },
  {
   "cell_type": "code",
   "execution_count": 3,
   "id": "c12d4ddc-c617-4ea5-b0cd-d11b745c4404",
   "metadata": {},
   "outputs": [
    {
     "data": {
      "text/html": [
       "<div>\n",
       "<style scoped>\n",
       "    .dataframe tbody tr th:only-of-type {\n",
       "        vertical-align: middle;\n",
       "    }\n",
       "\n",
       "    .dataframe tbody tr th {\n",
       "        vertical-align: top;\n",
       "    }\n",
       "\n",
       "    .dataframe thead th {\n",
       "        text-align: right;\n",
       "    }\n",
       "</style>\n",
       "<table border=\"1\" class=\"dataframe\">\n",
       "  <thead>\n",
       "    <tr style=\"text-align: right;\">\n",
       "      <th></th>\n",
       "      <th>unum_id</th>\n",
       "      <th>year</th>\n",
       "      <th>month</th>\n",
       "      <th>Subtype</th>\n",
       "      <th>TextBody</th>\n",
       "      <th>new_category</th>\n",
       "    </tr>\n",
       "  </thead>\n",
       "  <tbody>\n",
       "    <tr>\n",
       "      <th>0</th>\n",
       "      <td>571026399</td>\n",
       "      <td>2021</td>\n",
       "      <td>6</td>\n",
       "      <td>claim status</td>\n",
       "      <td>hi, i submitted a claim fothe death of calvin ...</td>\n",
       "      <td>claim_issue</td>\n",
       "    </tr>\n",
       "    <tr>\n",
       "      <th>1</th>\n",
       "      <td>852810</td>\n",
       "      <td>2018</td>\n",
       "      <td>4</td>\n",
       "      <td>new plan administrator</td>\n",
       "      <td>we just need to make suthat payroll paycoknows...</td>\n",
       "      <td>new_plan_admin</td>\n",
       "    </tr>\n",
       "    <tr>\n",
       "      <th>2</th>\n",
       "      <td>462037348</td>\n",
       "      <td>2019</td>\n",
       "      <td>11</td>\n",
       "      <td>eoi submission</td>\n",
       "      <td>attached is the eoi foambehipp with fbt bank a...</td>\n",
       "      <td>eoi_issue</td>\n",
       "    </tr>\n",
       "    <tr>\n",
       "      <th>3</th>\n",
       "      <td>665488334</td>\n",
       "      <td>2020</td>\n",
       "      <td>11</td>\n",
       "      <td>employee coding</td>\n",
       "      <td>good day, please process the terminations as f...</td>\n",
       "      <td>other-category</td>\n",
       "    </tr>\n",
       "    <tr>\n",
       "      <th>4</th>\n",
       "      <td>952809005</td>\n",
       "      <td>2021</td>\n",
       "      <td>2</td>\n",
       "      <td>invoice</td>\n",
       "      <td>hi natasha, it was a pleasuspeaking with you t...</td>\n",
       "      <td>other-category</td>\n",
       "    </tr>\n",
       "  </tbody>\n",
       "</table>\n",
       "</div>"
      ],
      "text/plain": [
       "     unum_id  year  month                 Subtype  \\\n",
       "0  571026399  2021      6            claim status   \n",
       "1     852810  2018      4  new plan administrator   \n",
       "2  462037348  2019     11          eoi submission   \n",
       "3  665488334  2020     11         employee coding   \n",
       "4  952809005  2021      2                 invoice   \n",
       "\n",
       "                                            TextBody    new_category  \n",
       "0  hi, i submitted a claim fothe death of calvin ...     claim_issue  \n",
       "1  we just need to make suthat payroll paycoknows...  new_plan_admin  \n",
       "2  attached is the eoi foambehipp with fbt bank a...       eoi_issue  \n",
       "3  good day, please process the terminations as f...  other-category  \n",
       "4  hi natasha, it was a pleasuspeaking with you t...  other-category  "
      ]
     },
     "execution_count": 3,
     "metadata": {},
     "output_type": "execute_result"
    }
   ],
   "source": [
    "train_df.drop(['Unnamed: 0'],axis=1,inplace=True)\n",
    "val_df.drop(['Unnamed: 0'],axis=1,inplace=True)\n",
    "test_df.drop(['Unnamed: 0'],axis=1,inplace=True)\n",
    "train_df.head()"
   ]
  },
  {
   "cell_type": "code",
   "execution_count": 4,
   "id": "eae92451-7404-4fdf-b0a8-d39f3783dce7",
   "metadata": {},
   "outputs": [],
   "source": [
    "hf_train=Dataset.from_pandas(train_df)\n",
    "hf_val=Dataset.from_pandas(val_df)\n",
    "hf_test=Dataset.from_pandas(test_df)\n",
    "\n",
    "hf_data=DatasetDict({\"train\":hf_train, \"val\":hf_val,  \"test\":hf_test})"
   ]
  },
  {
   "cell_type": "code",
   "execution_count": 5,
   "id": "b52c2c53-9fc2-4954-9772-2e9fb92f50b2",
   "metadata": {},
   "outputs": [
    {
     "data": {
      "text/plain": [
       "DatasetDict({\n",
       "    train: Dataset({\n",
       "        features: ['unum_id', 'year', 'month', 'Subtype', 'TextBody', 'new_category'],\n",
       "        num_rows: 151610\n",
       "    })\n",
       "    val: Dataset({\n",
       "        features: ['unum_id', 'year', 'month', 'Subtype', 'TextBody', 'new_category'],\n",
       "        num_rows: 18951\n",
       "    })\n",
       "    test: Dataset({\n",
       "        features: ['unum_id', 'year', 'month', 'Subtype', 'TextBody', 'new_category'],\n",
       "        num_rows: 18949\n",
       "    })\n",
       "})"
      ]
     },
     "execution_count": 5,
     "metadata": {},
     "output_type": "execute_result"
    }
   ],
   "source": [
    "hf_data"
   ]
  },
  {
   "cell_type": "code",
   "execution_count": 8,
   "id": "87342e26-cb00-44e7-a145-ee59df60d7db",
   "metadata": {},
   "outputs": [],
   "source": [
    "def label_distribution(df,col):\n",
    "    tempt1=pd.DataFrame(df[col].value_counts(dropna=False)).reset_index().rename(columns={'index':col,col:'count'})\n",
    "    tempt2=pd.DataFrame(df[col].value_counts(dropna=False,normalize=True)).reset_index().rename(columns={'index':col,col:'percentage'})\n",
    "    return tempt1.merge(tempt2, on=col, how=\"inner\")\n",
    "\n",
    "def style_format(df, col, data_type=\"Training set\"):\n",
    "    return df.style.format({'count':'{:,}','percentage':'{:.2%}'})\\\n",
    "           .set_caption(f\"{data_type} {col} distribution\")\\\n",
    "           .set_table_styles([{'selector': 'caption','props': [('color', 'red'),('font-size', '15px')]}])\n",
    "    "
   ]
  },
  {
   "cell_type": "code",
   "execution_count": 9,
   "id": "0a5d6ba2-1ed3-448e-b160-fe2cbd38509a",
   "metadata": {},
   "outputs": [
    {
     "data": {
      "text/html": [
       "<style type=\"text/css\">\n",
       "#T_3a63a_ caption {\n",
       "  color: red;\n",
       "  font-size: 15px;\n",
       "}\n",
       "</style>\n",
       "<table id=\"T_3a63a_\">\n",
       "  <caption>Training set new_category distribution</caption>\n",
       "  <thead>\n",
       "    <tr>\n",
       "      <th class=\"blank level0\" >&nbsp;</th>\n",
       "      <th class=\"col_heading level0 col0\" >new_category</th>\n",
       "      <th class=\"col_heading level0 col1\" >count</th>\n",
       "      <th class=\"col_heading level0 col2\" >percentage</th>\n",
       "    </tr>\n",
       "  </thead>\n",
       "  <tbody>\n",
       "    <tr>\n",
       "      <th id=\"T_3a63a_level0_row0\" class=\"row_heading level0 row0\" >0</th>\n",
       "      <td id=\"T_3a63a_row0_col0\" class=\"data row0 col0\" >claim_issue</td>\n",
       "      <td id=\"T_3a63a_row0_col1\" class=\"data row0 col1\" >54,270</td>\n",
       "      <td id=\"T_3a63a_row0_col2\" class=\"data row0 col2\" >35.80%</td>\n",
       "    </tr>\n",
       "    <tr>\n",
       "      <th id=\"T_3a63a_level0_row1\" class=\"row_heading level0 row1\" >1</th>\n",
       "      <td id=\"T_3a63a_row1_col0\" class=\"data row1 col0\" >eoi_issue</td>\n",
       "      <td id=\"T_3a63a_row1_col1\" class=\"data row1 col1\" >45,083</td>\n",
       "      <td id=\"T_3a63a_row1_col2\" class=\"data row1 col2\" >29.74%</td>\n",
       "    </tr>\n",
       "    <tr>\n",
       "      <th id=\"T_3a63a_level0_row2\" class=\"row_heading level0 row2\" >2</th>\n",
       "      <td id=\"T_3a63a_row2_col0\" class=\"data row2 col0\" >other-category</td>\n",
       "      <td id=\"T_3a63a_row2_col1\" class=\"data row2 col1\" >30,322</td>\n",
       "      <td id=\"T_3a63a_row2_col2\" class=\"data row2 col2\" >20.00%</td>\n",
       "    </tr>\n",
       "    <tr>\n",
       "      <th id=\"T_3a63a_level0_row3\" class=\"row_heading level0 row3\" >3</th>\n",
       "      <td id=\"T_3a63a_row3_col0\" class=\"data row3 col0\" >new_plan_admin</td>\n",
       "      <td id=\"T_3a63a_row3_col1\" class=\"data row3 col1\" >12,490</td>\n",
       "      <td id=\"T_3a63a_row3_col2\" class=\"data row3 col2\" >8.24%</td>\n",
       "    </tr>\n",
       "    <tr>\n",
       "      <th id=\"T_3a63a_level0_row4\" class=\"row_heading level0 row4\" >4</th>\n",
       "      <td id=\"T_3a63a_row4_col0\" class=\"data row4 col0\" >billing_issue</td>\n",
       "      <td id=\"T_3a63a_row4_col1\" class=\"data row4 col1\" >9,445</td>\n",
       "      <td id=\"T_3a63a_row4_col2\" class=\"data row4 col2\" >6.23%</td>\n",
       "    </tr>\n",
       "  </tbody>\n",
       "</table>\n"
      ],
      "text/plain": [
       "<pandas.io.formats.style.Styler at 0x7f13350ca9d0>"
      ]
     },
     "execution_count": 9,
     "metadata": {},
     "output_type": "execute_result"
    }
   ],
   "source": [
    "label_train=label_distribution(train_df,col=\"new_category\")\n",
    "style_format(label_train,col=\"new_category\",  data_type=\"Training set\")"
   ]
  },
  {
   "cell_type": "code",
   "execution_count": 10,
   "id": "9216d9cd-4eee-4704-b807-8404c1827948",
   "metadata": {},
   "outputs": [
    {
     "data": {
      "text/html": [
       "<style type=\"text/css\">\n",
       "#T_fe6ba_ caption {\n",
       "  color: red;\n",
       "  font-size: 15px;\n",
       "}\n",
       "</style>\n",
       "<table id=\"T_fe6ba_\">\n",
       "  <caption>Test set new_category distribution</caption>\n",
       "  <thead>\n",
       "    <tr>\n",
       "      <th class=\"blank level0\" >&nbsp;</th>\n",
       "      <th class=\"col_heading level0 col0\" >new_category</th>\n",
       "      <th class=\"col_heading level0 col1\" >count</th>\n",
       "      <th class=\"col_heading level0 col2\" >percentage</th>\n",
       "    </tr>\n",
       "  </thead>\n",
       "  <tbody>\n",
       "    <tr>\n",
       "      <th id=\"T_fe6ba_level0_row0\" class=\"row_heading level0 row0\" >0</th>\n",
       "      <td id=\"T_fe6ba_row0_col0\" class=\"data row0 col0\" >claim_issue</td>\n",
       "      <td id=\"T_fe6ba_row0_col1\" class=\"data row0 col1\" >6,783</td>\n",
       "      <td id=\"T_fe6ba_row0_col2\" class=\"data row0 col2\" >35.80%</td>\n",
       "    </tr>\n",
       "    <tr>\n",
       "      <th id=\"T_fe6ba_level0_row1\" class=\"row_heading level0 row1\" >1</th>\n",
       "      <td id=\"T_fe6ba_row1_col0\" class=\"data row1 col0\" >eoi_issue</td>\n",
       "      <td id=\"T_fe6ba_row1_col1\" class=\"data row1 col1\" >5,635</td>\n",
       "      <td id=\"T_fe6ba_row1_col2\" class=\"data row1 col2\" >29.74%</td>\n",
       "    </tr>\n",
       "    <tr>\n",
       "      <th id=\"T_fe6ba_level0_row2\" class=\"row_heading level0 row2\" >2</th>\n",
       "      <td id=\"T_fe6ba_row2_col0\" class=\"data row2 col0\" >other-category</td>\n",
       "      <td id=\"T_fe6ba_row2_col1\" class=\"data row2 col1\" >3,790</td>\n",
       "      <td id=\"T_fe6ba_row2_col2\" class=\"data row2 col2\" >20.00%</td>\n",
       "    </tr>\n",
       "    <tr>\n",
       "      <th id=\"T_fe6ba_level0_row3\" class=\"row_heading level0 row3\" >3</th>\n",
       "      <td id=\"T_fe6ba_row3_col0\" class=\"data row3 col0\" >new_plan_admin</td>\n",
       "      <td id=\"T_fe6ba_row3_col1\" class=\"data row3 col1\" >1,561</td>\n",
       "      <td id=\"T_fe6ba_row3_col2\" class=\"data row3 col2\" >8.24%</td>\n",
       "    </tr>\n",
       "    <tr>\n",
       "      <th id=\"T_fe6ba_level0_row4\" class=\"row_heading level0 row4\" >4</th>\n",
       "      <td id=\"T_fe6ba_row4_col0\" class=\"data row4 col0\" >billing_issue</td>\n",
       "      <td id=\"T_fe6ba_row4_col1\" class=\"data row4 col1\" >1,180</td>\n",
       "      <td id=\"T_fe6ba_row4_col2\" class=\"data row4 col2\" >6.23%</td>\n",
       "    </tr>\n",
       "  </tbody>\n",
       "</table>\n"
      ],
      "text/plain": [
       "<pandas.io.formats.style.Styler at 0x7f11b94bd0a0>"
      ]
     },
     "execution_count": 10,
     "metadata": {},
     "output_type": "execute_result"
    }
   ],
   "source": [
    "label_train=label_distribution(test_df,col=\"new_category\")\n",
    "style_format(label_train,col=\"new_category\",  data_type=\"Test set\")"
   ]
  },
  {
   "cell_type": "code",
   "execution_count": null,
   "id": "87ade8ea-24fa-4363-a1f2-ee41cabd109c",
   "metadata": {},
   "outputs": [],
   "source": []
  },
  {
   "cell_type": "code",
   "execution_count": 11,
   "id": "0138aa46-1c8e-4f87-a1bd-5eee1f8971e8",
   "metadata": {},
   "outputs": [
    {
     "data": {
      "application/vnd.jupyter.widget-view+json": {
       "model_id": "4ef7149873c440e0ab16c234c66f8c6a",
       "version_major": 2,
       "version_minor": 0
      },
      "text/plain": [
       "Downloading:   0%|          | 0.00/694 [00:00<?, ?B/s]"
      ]
     },
     "metadata": {},
     "output_type": "display_data"
    },
    {
     "data": {
      "application/vnd.jupyter.widget-view+json": {
       "model_id": "c7705a61ec9e439eb18bb12ffe2a2979",
       "version_major": 2,
       "version_minor": 0
      },
      "text/plain": [
       "Downloading:   0%|          | 0.00/899k [00:00<?, ?B/s]"
      ]
     },
     "metadata": {},
     "output_type": "display_data"
    },
    {
     "data": {
      "application/vnd.jupyter.widget-view+json": {
       "model_id": "c4c2a9de470346cdb26aa07f81ea9a94",
       "version_major": 2,
       "version_minor": 0
      },
      "text/plain": [
       "Downloading:   0%|          | 0.00/456k [00:00<?, ?B/s]"
      ]
     },
     "metadata": {},
     "output_type": "display_data"
    },
    {
     "data": {
      "application/vnd.jupyter.widget-view+json": {
       "model_id": "a9e434bb84dc4c719833889d9a0a5707",
       "version_major": 2,
       "version_minor": 0
      },
      "text/plain": [
       "Downloading:   0%|          | 0.00/1.36M [00:00<?, ?B/s]"
      ]
     },
     "metadata": {},
     "output_type": "display_data"
    }
   ],
   "source": [
    "model_checkpoint=\"allenai/longformer-base-4096\"\n",
    "tokenizer=AutoTokenizer.from_pretrained(model_checkpoint)"
   ]
  },
  {
   "cell_type": "code",
   "execution_count": 12,
   "id": "e2418062-0920-48c2-9bea-1b2ef71cf882",
   "metadata": {},
   "outputs": [],
   "source": [
    "def train_test_data(df_train, df_test, feature_cols):\n",
    "    train_df=Dataset.from_pandas(df_train)\n",
    "    train_df=train_df.filter(lambda x: x[feature_cols]!=None)\n",
    "    train_df=train_df.map(lambda x: tokenizer(x[feature_cols]),batched=True)\n",
    "\n",
    "    test_df=Dataset.from_pandas(df_test)\n",
    "    test_df=test_df.filter(lambda x: x[feature_cols]!=None)\n",
    "    test_df=test_df.map(lambda x: tokenizer(x[feature_cols]),batched=True)\n",
    "    \n",
    "    def compute_lenth(example):\n",
    "        return {\"text_length\":len(example[\"input_ids\"])}\n",
    "    \n",
    "    train_df=train_df.map(compute_lenth)\n",
    "    test_df=test_df.map(compute_lenth)\n",
    "    \n",
    "    return train_df, test_df"
   ]
  },
  {
   "cell_type": "code",
   "execution_count": 13,
   "id": "667fceb5-06b0-4491-8760-d6d24a7151c2",
   "metadata": {},
   "outputs": [
    {
     "data": {
      "application/vnd.jupyter.widget-view+json": {
       "model_id": "defe39ec98ea479c8a5a1a51d76f98cd",
       "version_major": 2,
       "version_minor": 0
      },
      "text/plain": [
       "  0%|          | 0/152 [00:00<?, ?ba/s]"
      ]
     },
     "metadata": {},
     "output_type": "display_data"
    },
    {
     "data": {
      "application/vnd.jupyter.widget-view+json": {
       "model_id": "92fd6d983c1549cfbe625fa631d2bed3",
       "version_major": 2,
       "version_minor": 0
      },
      "text/plain": [
       "  0%|          | 0/152 [00:00<?, ?ba/s]"
      ]
     },
     "metadata": {},
     "output_type": "display_data"
    },
    {
     "name": "stderr",
     "output_type": "stream",
     "text": [
      "Token indices sequence length is longer than the specified maximum sequence length for this model (4482 > 4096). Running this sequence through the model will result in indexing errors\n"
     ]
    },
    {
     "data": {
      "application/vnd.jupyter.widget-view+json": {
       "model_id": "dbf2372b1e5d4c969aa4fcc8197d0d5f",
       "version_major": 2,
       "version_minor": 0
      },
      "text/plain": [
       "  0%|          | 0/19 [00:00<?, ?ba/s]"
      ]
     },
     "metadata": {},
     "output_type": "display_data"
    },
    {
     "data": {
      "application/vnd.jupyter.widget-view+json": {
       "model_id": "fd58b3e03bf547658b54df7129c3b5d2",
       "version_major": 2,
       "version_minor": 0
      },
      "text/plain": [
       "  0%|          | 0/19 [00:00<?, ?ba/s]"
      ]
     },
     "metadata": {},
     "output_type": "display_data"
    },
    {
     "data": {
      "application/vnd.jupyter.widget-view+json": {
       "model_id": "7ba97dd1f6d04f55becee79a7c4b06c9",
       "version_major": 2,
       "version_minor": 0
      },
      "text/plain": [
       "  0%|          | 0/151610 [00:00<?, ?ex/s]"
      ]
     },
     "metadata": {},
     "output_type": "display_data"
    },
    {
     "data": {
      "application/vnd.jupyter.widget-view+json": {
       "model_id": "d1f387a20e804754bab601a9e09cba80",
       "version_major": 2,
       "version_minor": 0
      },
      "text/plain": [
       "  0%|          | 0/18949 [00:00<?, ?ex/s]"
      ]
     },
     "metadata": {},
     "output_type": "display_data"
    }
   ],
   "source": [
    "train_df1, test_df1=train_test_data(train_df, test_df, feature_cols=\"TextBody\")"
   ]
  },
  {
   "cell_type": "code",
   "execution_count": 14,
   "id": "011b63ad-5866-4b06-aabf-de1b4098b91f",
   "metadata": {},
   "outputs": [],
   "source": [
    "def statistics_compute(hf_df1,hf_df2,p=1):\n",
    "\n",
    "    X=[]\n",
    "    X.append(np.percentile(hf_df1['text_length'],p))\n",
    "    X.append(np.percentile(hf_df2['text_length'],p))\n",
    "    \n",
    "    result={}\n",
    "    result['percentile']=X\n",
    "    result[\"min\"]=[np.min(hf_df1['text_length']),np.min(hf_df2['text_length'])]\n",
    "    result[\"max\"]=[np.max(hf_df1['text_length']),np.max(hf_df2['text_length'])]\n",
    "    result[\"mean\"]=[np.mean(hf_df1['text_length']),np.mean(hf_df2['text_length'])]\n",
    "    return result\n",
    "\n",
    "def statistics_table(hf_df1,hf_df2):\n",
    "    dict_data={}\n",
    "    dict_data[\"data_type\"]=[\"training\", \"test\"]\n",
    "    dict_data[\"# of obs\"]=[len(hf_df1['text_length']),len(hf_df2['text_length'])]\n",
    "    dict_data[\"Min of tokens\"]=statistics_compute(hf_df1, hf_df2)[\"min\"]\n",
    "    dict_data[\"1% of tokens\"]=statistics_compute(hf_df1, hf_df2, p=1)['percentile']\n",
    "    dict_data[\"5% of tokens\"]=statistics_compute(hf_df1, hf_df2, p=5)['percentile']\n",
    "    dict_data[\"10% of tokens\"]=statistics_compute(hf_df1, hf_df2, p=10)['percentile']\n",
    "    dict_data[\"25% of tokens\"]=statistics_compute(hf_df1, hf_df2, p=25)['percentile']\n",
    "    dict_data[\"Median of tokens\"]=statistics_compute(hf_df1, hf_df2, p=50)['percentile']\n",
    "    dict_data[\"Average tokens\"]=statistics_compute(hf_df1, hf_df2)[\"mean\"]\n",
    "    dict_data[\"75% of tokens\"]=statistics_compute(hf_df1, hf_df2, p=75)['percentile']\n",
    "    dict_data[\"90% of tokens\"]=statistics_compute(hf_df1, hf_df2, p=90)['percentile']\n",
    "    dict_data[\"95% of tokens\"]=statistics_compute(hf_df1, hf_df2, p=95)['percentile']\n",
    "    dict_data[\"99% of tokens\"]=statistics_compute(hf_df1, hf_df2, p=99)['percentile']\n",
    "    dict_data[\"Max of tokens\"]=statistics_compute(hf_df1, hf_df2)[\"max\"]\n",
    "    token_count_df=pd.DataFrame(dict_data)\n",
    "    return token_count_df\n",
    "\n",
    "def style_format(token_count_df,  textbody=\"Full_TextBody\"):\n",
    "    token_count_df=token_count_df.set_index(\"data_type\")\n",
    "    token_count_df[list(token_count_df.columns)] = token_count_df[list(token_count_df.columns)].astype(int)\n",
    "    return token_count_df.style.format(\"{:,}\").set_caption(f\"Summary Statistics of token lengths for {textbody} \").set_table_styles([{\n",
    "        'selector': 'caption',\n",
    "        'props': [\n",
    "            ('color', 'red'),\n",
    "            ('font-size', '20px')\n",
    "        ]\n",
    "    }])"
   ]
  },
  {
   "cell_type": "code",
   "execution_count": 15,
   "id": "7914e781-71f6-4c96-bef9-1a21e82b8874",
   "metadata": {},
   "outputs": [
    {
     "data": {
      "text/html": [
       "<style type=\"text/css\">\n",
       "#T_ca3d2_ caption {\n",
       "  color: red;\n",
       "  font-size: 20px;\n",
       "}\n",
       "</style>\n",
       "<table id=\"T_ca3d2_\">\n",
       "  <caption>Summary Statistics of token lengths for Full_TextBody </caption>\n",
       "  <thead>\n",
       "    <tr>\n",
       "      <th class=\"blank level0\" >&nbsp;</th>\n",
       "      <th class=\"col_heading level0 col0\" ># of obs</th>\n",
       "      <th class=\"col_heading level0 col1\" >Min of tokens</th>\n",
       "      <th class=\"col_heading level0 col2\" >1% of tokens</th>\n",
       "      <th class=\"col_heading level0 col3\" >5% of tokens</th>\n",
       "      <th class=\"col_heading level0 col4\" >10% of tokens</th>\n",
       "      <th class=\"col_heading level0 col5\" >25% of tokens</th>\n",
       "      <th class=\"col_heading level0 col6\" >Median of tokens</th>\n",
       "      <th class=\"col_heading level0 col7\" >Average tokens</th>\n",
       "      <th class=\"col_heading level0 col8\" >75% of tokens</th>\n",
       "      <th class=\"col_heading level0 col9\" >90% of tokens</th>\n",
       "      <th class=\"col_heading level0 col10\" >95% of tokens</th>\n",
       "      <th class=\"col_heading level0 col11\" >99% of tokens</th>\n",
       "      <th class=\"col_heading level0 col12\" >Max of tokens</th>\n",
       "    </tr>\n",
       "    <tr>\n",
       "      <th class=\"index_name level0\" >data_type</th>\n",
       "      <th class=\"blank col0\" >&nbsp;</th>\n",
       "      <th class=\"blank col1\" >&nbsp;</th>\n",
       "      <th class=\"blank col2\" >&nbsp;</th>\n",
       "      <th class=\"blank col3\" >&nbsp;</th>\n",
       "      <th class=\"blank col4\" >&nbsp;</th>\n",
       "      <th class=\"blank col5\" >&nbsp;</th>\n",
       "      <th class=\"blank col6\" >&nbsp;</th>\n",
       "      <th class=\"blank col7\" >&nbsp;</th>\n",
       "      <th class=\"blank col8\" >&nbsp;</th>\n",
       "      <th class=\"blank col9\" >&nbsp;</th>\n",
       "      <th class=\"blank col10\" >&nbsp;</th>\n",
       "      <th class=\"blank col11\" >&nbsp;</th>\n",
       "      <th class=\"blank col12\" >&nbsp;</th>\n",
       "    </tr>\n",
       "  </thead>\n",
       "  <tbody>\n",
       "    <tr>\n",
       "      <th id=\"T_ca3d2_level0_row0\" class=\"row_heading level0 row0\" >training</th>\n",
       "      <td id=\"T_ca3d2_row0_col0\" class=\"data row0 col0\" >151,610</td>\n",
       "      <td id=\"T_ca3d2_row0_col1\" class=\"data row0 col1\" >8</td>\n",
       "      <td id=\"T_ca3d2_row0_col2\" class=\"data row0 col2\" >62</td>\n",
       "      <td id=\"T_ca3d2_row0_col3\" class=\"data row0 col3\" >92</td>\n",
       "      <td id=\"T_ca3d2_row0_col4\" class=\"data row0 col4\" >122</td>\n",
       "      <td id=\"T_ca3d2_row0_col5\" class=\"data row0 col5\" >199</td>\n",
       "      <td id=\"T_ca3d2_row0_col6\" class=\"data row0 col6\" >312</td>\n",
       "      <td id=\"T_ca3d2_row0_col7\" class=\"data row0 col7\" >424</td>\n",
       "      <td id=\"T_ca3d2_row0_col8\" class=\"data row0 col8\" >496</td>\n",
       "      <td id=\"T_ca3d2_row0_col9\" class=\"data row0 col9\" >809</td>\n",
       "      <td id=\"T_ca3d2_row0_col10\" class=\"data row0 col10\" >1,102</td>\n",
       "      <td id=\"T_ca3d2_row0_col11\" class=\"data row0 col11\" >2,003</td>\n",
       "      <td id=\"T_ca3d2_row0_col12\" class=\"data row0 col12\" >81,739</td>\n",
       "    </tr>\n",
       "    <tr>\n",
       "      <th id=\"T_ca3d2_level0_row1\" class=\"row_heading level0 row1\" >test</th>\n",
       "      <td id=\"T_ca3d2_row1_col0\" class=\"data row1 col0\" >18,949</td>\n",
       "      <td id=\"T_ca3d2_row1_col1\" class=\"data row1 col1\" >14</td>\n",
       "      <td id=\"T_ca3d2_row1_col2\" class=\"data row1 col2\" >61</td>\n",
       "      <td id=\"T_ca3d2_row1_col3\" class=\"data row1 col3\" >92</td>\n",
       "      <td id=\"T_ca3d2_row1_col4\" class=\"data row1 col4\" >122</td>\n",
       "      <td id=\"T_ca3d2_row1_col5\" class=\"data row1 col5\" >203</td>\n",
       "      <td id=\"T_ca3d2_row1_col6\" class=\"data row1 col6\" >316</td>\n",
       "      <td id=\"T_ca3d2_row1_col7\" class=\"data row1 col7\" >432</td>\n",
       "      <td id=\"T_ca3d2_row1_col8\" class=\"data row1 col8\" >511</td>\n",
       "      <td id=\"T_ca3d2_row1_col9\" class=\"data row1 col9\" >823</td>\n",
       "      <td id=\"T_ca3d2_row1_col10\" class=\"data row1 col10\" >1,108</td>\n",
       "      <td id=\"T_ca3d2_row1_col11\" class=\"data row1 col11\" >2,017</td>\n",
       "      <td id=\"T_ca3d2_row1_col12\" class=\"data row1 col12\" >31,241</td>\n",
       "    </tr>\n",
       "  </tbody>\n",
       "</table>\n"
      ],
      "text/plain": [
       "<pandas.io.formats.style.Styler at 0x7f11b89b7d60>"
      ]
     },
     "execution_count": 15,
     "metadata": {},
     "output_type": "execute_result"
    }
   ],
   "source": [
    "token_count_df=statistics_table(train_df1,test_df1)\n",
    "style_format(token_count_df,  textbody=\"Full_TextBody\")"
   ]
  },
  {
   "cell_type": "code",
   "execution_count": null,
   "id": "dc838179-1ef0-47b9-9f9d-ef69c9819469",
   "metadata": {},
   "outputs": [],
   "source": []
  }
 ],
 "metadata": {
  "kernelspec": {
   "display_name": "conda_python3",
   "language": "python",
   "name": "conda_python3"
  },
  "language_info": {
   "codemirror_mode": {
    "name": "ipython",
    "version": 3
   },
   "file_extension": ".py",
   "mimetype": "text/x-python",
   "name": "python",
   "nbconvert_exporter": "python",
   "pygments_lexer": "ipython3",
   "version": "3.8.12"
  }
 },
 "nbformat": 4,
 "nbformat_minor": 5
}
