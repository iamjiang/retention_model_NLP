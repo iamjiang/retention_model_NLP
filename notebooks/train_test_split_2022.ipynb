{
 "cells": [
  {
   "cell_type": "code",
   "execution_count": 1,
   "id": "8f166089-d1cc-48b1-90ed-46e8507046db",
   "metadata": {},
   "outputs": [
    {
     "name": "stdout",
     "output_type": "stream",
     "text": [
      "Transformers version is 4.6.1\n"
     ]
    },
    {
     "name": "stderr",
     "output_type": "stream",
     "text": [
      "Matplotlib is building the font cache; this may take a moment.\n"
     ]
    }
   ],
   "source": [
    "import argparse\n",
    "import pandas as pd\n",
    "import numpy as np\n",
    "from numpy import savez_compressed, load\n",
    "import nltk\n",
    "from nltk.corpus import stopwords\n",
    "from nltk.stem import PorterStemmer\n",
    "from functools import reduce\n",
    "en_stopwords = set(stopwords.words('english')) \n",
    "import itertools\n",
    "import re\n",
    "import time\n",
    "import os\n",
    "import pickle\n",
    "\n",
    "import datasets\n",
    "from datasets import load_dataset, load_metric, Dataset, concatenate_datasets,DatasetDict\n",
    "from datasets import load_from_disk\n",
    "from tqdm import tqdm\n",
    "tqdm.pandas(position=0,leave=True)\n",
    "\n",
    "\n",
    "import textwrap\n",
    "\n",
    "import transformers\n",
    "\n",
    "from transformers import (\n",
    "    AdamW,\n",
    "    AutoConfig,\n",
    "    AutoModelWithLMHead,\n",
    "    AutoModelForSeq2SeqLM,\n",
    "    AutoTokenizer,\n",
    "    AutoModelForSeq2SeqLM,\n",
    "    Seq2SeqTrainingArguments,\n",
    "    Seq2SeqTrainer,\n",
    "    get_linear_schedule_with_warmup,\n",
    ")\n",
    "print(\"Transformers version is {}\".format(transformers.__version__))\n",
    "\n",
    "import seaborn as sns\n",
    "from pylab import rcParams\n",
    "import matplotlib.pyplot as plt\n",
    "from matplotlib import rc\n",
    "from IPython.display import display, HTML\n",
    "\n",
    "sns.set(style=\"whitegrid\",palette='muted',font_scale=1.2)\n",
    "rcParams['figure.figsize']=16,10\n",
    "\n",
    "%config InlineBackend.figure_format=\"retina\"\n",
    "%matplotlib inline\n",
    "\n",
    "pd.set_option('display.max_columns', None,'display.max_rows',None)"
   ]
  },
  {
   "cell_type": "code",
   "execution_count": 2,
   "id": "27f6c700-9b4e-4538-a213-295b7959220e",
   "metadata": {},
   "outputs": [
    {
     "data": {
      "text/plain": [
       "DatasetDict({\n",
       "    train: Dataset({\n",
       "        features: ['Full_TextBody', 'Client_TextBody', 'Latest_TextBody', 'year', 'churn'],\n",
       "        num_rows: 99270\n",
       "    })\n",
       "    test: Dataset({\n",
       "        features: ['Full_TextBody', 'Client_TextBody', 'Latest_TextBody', 'year', 'churn'],\n",
       "        num_rows: 27300\n",
       "    })\n",
       "})"
      ]
     },
     "execution_count": 2,
     "metadata": {},
     "output_type": "execute_result"
    }
   ],
   "source": [
    "email_all=load_from_disk(os.path.join(os.getcwd(),\"dataset\",\"email_all\"))\n",
    "email_all"
   ]
  },
  {
   "cell_type": "code",
   "execution_count": 17,
   "id": "c4f16c9e-5bf2-4f08-88ea-775809b2b7a8",
   "metadata": {},
   "outputs": [],
   "source": [
    "train_data=email_all['train']\n",
    "test_data=email_all['test']\n",
    "train_data.set_format(type=\"pandas\")\n",
    "df_train=train_data[:]\n",
    "test_data.set_format(type=\"pandas\")\n",
    "df_test=test_data[:]"
   ]
  },
  {
   "cell_type": "code",
   "execution_count": 18,
   "id": "0cd83a5b-e826-4540-9ea6-e5181d4dde28",
   "metadata": {},
   "outputs": [
    {
     "data": {
      "text/html": [
       "<style type=\"text/css\">\n",
       "</style>\n",
       "<table id=\"T_5bd7c_\">\n",
       "  <caption>Training set churn dist</caption>\n",
       "  <thead>\n",
       "    <tr>\n",
       "      <th class=\"blank level0\" >&nbsp;</th>\n",
       "      <th class=\"col_heading level0 col0\" >churn</th>\n",
       "      <th class=\"col_heading level0 col1\" >count</th>\n",
       "      <th class=\"col_heading level0 col2\" >percentage</th>\n",
       "    </tr>\n",
       "  </thead>\n",
       "  <tbody>\n",
       "    <tr>\n",
       "      <th id=\"T_5bd7c_level0_row0\" class=\"row_heading level0 row0\" >0</th>\n",
       "      <td id=\"T_5bd7c_row0_col0\" class=\"data row0 col0\" >0</td>\n",
       "      <td id=\"T_5bd7c_row0_col1\" class=\"data row0 col1\" >88,500</td>\n",
       "      <td id=\"T_5bd7c_row0_col2\" class=\"data row0 col2\" >89.15%</td>\n",
       "    </tr>\n",
       "    <tr>\n",
       "      <th id=\"T_5bd7c_level0_row1\" class=\"row_heading level0 row1\" >1</th>\n",
       "      <td id=\"T_5bd7c_row1_col0\" class=\"data row1 col0\" >1</td>\n",
       "      <td id=\"T_5bd7c_row1_col1\" class=\"data row1 col1\" >10,770</td>\n",
       "      <td id=\"T_5bd7c_row1_col2\" class=\"data row1 col2\" >10.85%</td>\n",
       "    </tr>\n",
       "  </tbody>\n",
       "</table>\n"
      ],
      "text/plain": [
       "<pandas.io.formats.style.Styler at 0x7f21c09c3310>"
      ]
     },
     "execution_count": 18,
     "metadata": {},
     "output_type": "execute_result"
    }
   ],
   "source": [
    "tempt1=pd.DataFrame(df_train[\"churn\"].value_counts(dropna=False)).reset_index().rename(columns={'index':'churn','churn':'count'})\n",
    "tempt2=pd.DataFrame(df_train[\"churn\"].value_counts(dropna=False,normalize=True)).reset_index().rename(columns={'index':'churn','churn':'percentage'})\n",
    "tempt1.merge(tempt2, on=\"churn\", how=\"inner\").style.format({'count':'{:,}','percentage':'{:.2%}'}).set_caption(\"Training set churn dist\")"
   ]
  },
  {
   "cell_type": "code",
   "execution_count": 19,
   "id": "0e695857-a227-4363-8923-586e7a633ad2",
   "metadata": {},
   "outputs": [
    {
     "data": {
      "text/html": [
       "<style type=\"text/css\">\n",
       "</style>\n",
       "<table id=\"T_a9f68_\">\n",
       "  <caption>Test set churn dist</caption>\n",
       "  <thead>\n",
       "    <tr>\n",
       "      <th class=\"blank level0\" >&nbsp;</th>\n",
       "      <th class=\"col_heading level0 col0\" >churn</th>\n",
       "      <th class=\"col_heading level0 col1\" >count</th>\n",
       "      <th class=\"col_heading level0 col2\" >percentage</th>\n",
       "    </tr>\n",
       "  </thead>\n",
       "  <tbody>\n",
       "    <tr>\n",
       "      <th id=\"T_a9f68_level0_row0\" class=\"row_heading level0 row0\" >0</th>\n",
       "      <td id=\"T_a9f68_row0_col0\" class=\"data row0 col0\" >0</td>\n",
       "      <td id=\"T_a9f68_row0_col1\" class=\"data row0 col1\" >23,100</td>\n",
       "      <td id=\"T_a9f68_row0_col2\" class=\"data row0 col2\" >84.62%</td>\n",
       "    </tr>\n",
       "    <tr>\n",
       "      <th id=\"T_a9f68_level0_row1\" class=\"row_heading level0 row1\" >1</th>\n",
       "      <td id=\"T_a9f68_row1_col0\" class=\"data row1 col0\" >1</td>\n",
       "      <td id=\"T_a9f68_row1_col1\" class=\"data row1 col1\" >4,200</td>\n",
       "      <td id=\"T_a9f68_row1_col2\" class=\"data row1 col2\" >15.38%</td>\n",
       "    </tr>\n",
       "  </tbody>\n",
       "</table>\n"
      ],
      "text/plain": [
       "<pandas.io.formats.style.Styler at 0x7f21c0e8aad0>"
      ]
     },
     "execution_count": 19,
     "metadata": {},
     "output_type": "execute_result"
    }
   ],
   "source": [
    "tempt1=pd.DataFrame(df_test[\"churn\"].value_counts(dropna=False)).reset_index().rename(columns={'index':'churn','churn':'count'})\n",
    "tempt2=pd.DataFrame(df_test[\"churn\"].value_counts(dropna=False,normalize=True)).reset_index().rename(columns={'index':'churn','churn':'percentage'})\n",
    "tempt1.merge(tempt2, on=\"churn\", how=\"inner\").style.format({'count':'{:,}','percentage':'{:.2%}'}).set_caption(\"Test set churn dist\")"
   ]
  },
  {
   "cell_type": "code",
   "execution_count": 20,
   "id": "ff74b041-5d89-4a9c-83e1-855e8b312e58",
   "metadata": {},
   "outputs": [
    {
     "data": {
      "text/html": [
       "<div>\n",
       "<style scoped>\n",
       "    .dataframe tbody tr th:only-of-type {\n",
       "        vertical-align: middle;\n",
       "    }\n",
       "\n",
       "    .dataframe tbody tr th {\n",
       "        vertical-align: top;\n",
       "    }\n",
       "\n",
       "    .dataframe thead th {\n",
       "        text-align: right;\n",
       "    }\n",
       "</style>\n",
       "<table border=\"1\" class=\"dataframe\">\n",
       "  <thead>\n",
       "    <tr style=\"text-align: right;\">\n",
       "      <th></th>\n",
       "      <th>Full_TextBody</th>\n",
       "      <th>Client_TextBody</th>\n",
       "      <th>Latest_TextBody</th>\n",
       "      <th>year</th>\n",
       "      <th>churn</th>\n",
       "    </tr>\n",
       "  </thead>\n",
       "  <tbody>\n",
       "    <tr>\n",
       "      <th>0</th>\n",
       "      <td>good morning nicholas smith has been off work ...</td>\n",
       "      <td>good morning nicholas smith has been off work ...</td>\n",
       "      <td>good morning nicholas smith has been off work ...</td>\n",
       "      <td>2021</td>\n",
       "      <td>0</td>\n",
       "    </tr>\n",
       "    <tr>\n",
       "      <th>1</th>\n",
       "      <td>good afternoon crystal, ive attached the janua...</td>\n",
       "      <td>good afternoon crystal, ive attached the janua...</td>\n",
       "      <td>hello unum, thank you for the attached. my com...</td>\n",
       "      <td>2020</td>\n",
       "      <td>0</td>\n",
       "    </tr>\n",
       "    <tr>\n",
       "      <th>2</th>\n",
       "      <td>good morning, i need help in getting my compan...</td>\n",
       "      <td>good morning, i need help in getting my compan...</td>\n",
       "      <td>, , , , hi lebreda, thank you for contacting a...</td>\n",
       "      <td>2021</td>\n",
       "      <td>1</td>\n",
       "    </tr>\n",
       "    <tr>\n",
       "      <th>3</th>\n",
       "      <td>this message originated outside of unum. use c...</td>\n",
       "      <td>this message originated outside of unum. use c...</td>\n",
       "      <td>hello laurie, thank you for contacting ask unu...</td>\n",
       "      <td>2019</td>\n",
       "      <td>0</td>\n",
       "    </tr>\n",
       "    <tr>\n",
       "      <th>4</th>\n",
       "      <td>darcy bourgault client name dfd russell medica...</td>\n",
       "      <td>darcy bourgault client name dfd russell medica...</td>\n",
       "      <td>hello, can you please send me a copy of the ev...</td>\n",
       "      <td>2021</td>\n",
       "      <td>0</td>\n",
       "    </tr>\n",
       "  </tbody>\n",
       "</table>\n",
       "</div>"
      ],
      "text/plain": [
       "                                       Full_TextBody  \\\n",
       "0  good morning nicholas smith has been off work ...   \n",
       "1  good afternoon crystal, ive attached the janua...   \n",
       "2  good morning, i need help in getting my compan...   \n",
       "3  this message originated outside of unum. use c...   \n",
       "4  darcy bourgault client name dfd russell medica...   \n",
       "\n",
       "                                     Client_TextBody  \\\n",
       "0  good morning nicholas smith has been off work ...   \n",
       "1  good afternoon crystal, ive attached the janua...   \n",
       "2  good morning, i need help in getting my compan...   \n",
       "3  this message originated outside of unum. use c...   \n",
       "4  darcy bourgault client name dfd russell medica...   \n",
       "\n",
       "                                     Latest_TextBody  year  churn  \n",
       "0  good morning nicholas smith has been off work ...  2021      0  \n",
       "1  hello unum, thank you for the attached. my com...  2020      0  \n",
       "2  , , , , hi lebreda, thank you for contacting a...  2021      1  \n",
       "3  hello laurie, thank you for contacting ask unu...  2019      0  \n",
       "4  hello, can you please send me a copy of the ev...  2021      0  "
      ]
     },
     "execution_count": 20,
     "metadata": {},
     "output_type": "execute_result"
    }
   ],
   "source": [
    "df_train.head()"
   ]
  },
  {
   "cell_type": "code",
   "execution_count": null,
   "id": "e2cf5561-008b-4659-b76f-a0ef0cede223",
   "metadata": {},
   "outputs": [],
   "source": []
  },
  {
   "cell_type": "code",
   "execution_count": 22,
   "id": "77c7c0e5-bd74-4ac8-aa09-e4fce108a856",
   "metadata": {},
   "outputs": [],
   "source": [
    "from datasets import Dataset\n",
    "model_checkpoint=\"allenai/longformer-base-4096\"\n",
    "tokenizer=AutoTokenizer.from_pretrained(model_checkpoint)"
   ]
  },
  {
   "cell_type": "code",
   "execution_count": 23,
   "id": "2978aa23-ed24-4ce5-9730-bb7dcbca7bf2",
   "metadata": {},
   "outputs": [
    {
     "data": {
      "application/vnd.jupyter.widget-view+json": {
       "model_id": "145c6d8875a14b629030d53c1fce7ef1",
       "version_major": 2,
       "version_minor": 0
      },
      "text/plain": [
       "  0%|          | 0/100 [00:00<?, ?ba/s]"
      ]
     },
     "metadata": {},
     "output_type": "display_data"
    },
    {
     "name": "stderr",
     "output_type": "stream",
     "text": [
      "Token indices sequence length is longer than the specified maximum sequence length for this model (5626 > 4096). Running this sequence through the model will result in indexing errors\n"
     ]
    },
    {
     "data": {
      "application/vnd.jupyter.widget-view+json": {
       "model_id": "03412575909c4ed88287030ea0bde81b",
       "version_major": 2,
       "version_minor": 0
      },
      "text/plain": [
       "  0%|          | 0/28 [00:00<?, ?ba/s]"
      ]
     },
     "metadata": {},
     "output_type": "display_data"
    },
    {
     "data": {
      "application/vnd.jupyter.widget-view+json": {
       "model_id": "2ecac4d629ea4c4f9ea3effe4e826e2e",
       "version_major": 2,
       "version_minor": 0
      },
      "text/plain": [
       "  0%|          | 0/99270 [00:00<?, ?ex/s]"
      ]
     },
     "metadata": {},
     "output_type": "display_data"
    },
    {
     "data": {
      "application/vnd.jupyter.widget-view+json": {
       "model_id": "436782bc430b43b0b0e61e528be09cfe",
       "version_major": 2,
       "version_minor": 0
      },
      "text/plain": [
       "  0%|          | 0/27300 [00:00<?, ?ex/s]"
      ]
     },
     "metadata": {},
     "output_type": "display_data"
    }
   ],
   "source": [
    "train_df1=Dataset.from_pandas(df_train)\n",
    "train_df1=train_df1.map(lambda x: tokenizer(x[\"Full_TextBody\"]),batched=True)\n",
    "\n",
    "test_df1=Dataset.from_pandas(df_test)\n",
    "test_df1=test_df1.map(lambda x: tokenizer(x[\"Full_TextBody\"]),batched=True)\n",
    "\n",
    "def compute_lenth(example):\n",
    "    return {\"text_length\":len(example[\"input_ids\"])}\n",
    "train_df1=train_df1.map(compute_lenth)\n",
    "test_df1=test_df1.map(compute_lenth)"
   ]
  },
  {
   "cell_type": "code",
   "execution_count": 25,
   "id": "6ed6ea60-ab42-4853-8717-806606dec566",
   "metadata": {},
   "outputs": [
    {
     "data": {
      "application/vnd.jupyter.widget-view+json": {
       "model_id": "39acd6941f4542d3919549c2660d4996",
       "version_major": 2,
       "version_minor": 0
      },
      "text/plain": [
       "  0%|          | 0/100 [00:00<?, ?ba/s]"
      ]
     },
     "metadata": {},
     "output_type": "display_data"
    },
    {
     "data": {
      "application/vnd.jupyter.widget-view+json": {
       "model_id": "5c31bdfe1c57428282aa3a2ac385f9a6",
       "version_major": 2,
       "version_minor": 0
      },
      "text/plain": [
       "  0%|          | 0/92 [00:00<?, ?ba/s]"
      ]
     },
     "metadata": {},
     "output_type": "display_data"
    },
    {
     "data": {
      "application/vnd.jupyter.widget-view+json": {
       "model_id": "a441f878e851458bab72a3e77ebb5af5",
       "version_major": 2,
       "version_minor": 0
      },
      "text/plain": [
       "  0%|          | 0/28 [00:00<?, ?ba/s]"
      ]
     },
     "metadata": {},
     "output_type": "display_data"
    },
    {
     "data": {
      "application/vnd.jupyter.widget-view+json": {
       "model_id": "82cd2f13264c43c1a82bd5986c0f8c3e",
       "version_major": 2,
       "version_minor": 0
      },
      "text/plain": [
       "  0%|          | 0/26 [00:00<?, ?ba/s]"
      ]
     },
     "metadata": {},
     "output_type": "display_data"
    },
    {
     "data": {
      "application/vnd.jupyter.widget-view+json": {
       "model_id": "a7bce16580f9490bafe9cfef507fdd51",
       "version_major": 2,
       "version_minor": 0
      },
      "text/plain": [
       "  0%|          | 0/91550 [00:00<?, ?ex/s]"
      ]
     },
     "metadata": {},
     "output_type": "display_data"
    },
    {
     "data": {
      "application/vnd.jupyter.widget-view+json": {
       "model_id": "4e2d57f153d54473a4b678d0fc6abb37",
       "version_major": 2,
       "version_minor": 0
      },
      "text/plain": [
       "  0%|          | 0/25450 [00:00<?, ?ex/s]"
      ]
     },
     "metadata": {},
     "output_type": "display_data"
    }
   ],
   "source": [
    "train_df2=Dataset.from_pandas(df_train)\n",
    "train_df2=train_df2.filter(lambda x: x[\"Client_TextBody\"]!=None)\n",
    "train_df2=train_df2.map(lambda x: tokenizer(x[\"Client_TextBody\"]),batched=True)\n",
    "\n",
    "test_df2=Dataset.from_pandas(df_test)\n",
    "test_df2=test_df2.filter(lambda x: x[\"Client_TextBody\"]!=None)\n",
    "test_df2=test_df2.map(lambda x: tokenizer(x[\"Client_TextBody\"]),batched=True)\n",
    "\n",
    "def compute_lenth(example):\n",
    "    return {\"text_length\":len(example[\"input_ids\"])}\n",
    "train_df2=train_df2.map(compute_lenth)\n",
    "test_df2=test_df2.map(compute_lenth)"
   ]
  },
  {
   "cell_type": "code",
   "execution_count": 26,
   "id": "301590ae-fe62-4c91-8dec-1d2acfb631c9",
   "metadata": {},
   "outputs": [
    {
     "data": {
      "application/vnd.jupyter.widget-view+json": {
       "model_id": "f109f6dab6fd482ea8a9a6987ddd2d5c",
       "version_major": 2,
       "version_minor": 0
      },
      "text/plain": [
       "  0%|          | 0/100 [00:00<?, ?ba/s]"
      ]
     },
     "metadata": {},
     "output_type": "display_data"
    },
    {
     "data": {
      "application/vnd.jupyter.widget-view+json": {
       "model_id": "5806f21dabcc4ab5b6b0be10a1698f20",
       "version_major": 2,
       "version_minor": 0
      },
      "text/plain": [
       "  0%|          | 0/28 [00:00<?, ?ba/s]"
      ]
     },
     "metadata": {},
     "output_type": "display_data"
    },
    {
     "data": {
      "application/vnd.jupyter.widget-view+json": {
       "model_id": "9a49a36575ad47ac9b4ba275f156a5d4",
       "version_major": 2,
       "version_minor": 0
      },
      "text/plain": [
       "  0%|          | 0/99270 [00:00<?, ?ex/s]"
      ]
     },
     "metadata": {},
     "output_type": "display_data"
    },
    {
     "data": {
      "application/vnd.jupyter.widget-view+json": {
       "model_id": "dd46db0cbbac4c1d85070d3effd7084b",
       "version_major": 2,
       "version_minor": 0
      },
      "text/plain": [
       "  0%|          | 0/27300 [00:00<?, ?ex/s]"
      ]
     },
     "metadata": {},
     "output_type": "display_data"
    }
   ],
   "source": [
    "train_df3=Dataset.from_pandas(df_train)\n",
    "train_df3=train_df3.map(lambda x: tokenizer(x[\"Latest_TextBody\"]),batched=True)\n",
    "\n",
    "test_df3=Dataset.from_pandas(df_test)\n",
    "test_df3=test_df3.map(lambda x: tokenizer(x[\"Latest_TextBody\"]),batched=True)\n",
    "\n",
    "def compute_lenth(example):\n",
    "    return {\"text_length\":len(example[\"input_ids\"])}\n",
    "train_df3=train_df3.map(compute_lenth)\n",
    "test_df3=test_df3.map(compute_lenth)"
   ]
  },
  {
   "cell_type": "code",
   "execution_count": 30,
   "id": "a9fa45f1-2c1d-49e0-8b5b-a97747f9cbc1",
   "metadata": {},
   "outputs": [],
   "source": [
    "def statistics_compute(hf_df1,hf_df2,p=1):\n",
    "\n",
    "    X=[]\n",
    "    X.append(np.percentile(hf_df1['text_length'],p))\n",
    "    X.append(np.percentile(hf_df2['text_length'],p))\n",
    "    \n",
    "    result={}\n",
    "    result['percentile']=X\n",
    "    result[\"min\"]=[np.min(hf_df1['text_length']),np.min(hf_df2['text_length'])]\n",
    "    result[\"max\"]=[np.max(hf_df1['text_length']),np.max(hf_df2['text_length'])]\n",
    "    result[\"mean\"]=[np.mean(hf_df1['text_length']),np.mean(hf_df2['text_length'])]\n",
    "    return result\n",
    "\n",
    "def statistics_table(hf_df1,hf_df2):\n",
    "    dict_data={}\n",
    "    dict_data[\"data_type\"]=[\"training\", \"test\"]\n",
    "    dict_data[\"# of obs\"]=[len(hf_df1['text_length']),len(hf_df2['text_length'])]\n",
    "    dict_data[\"Min of tokens\"]=statistics_compute(hf_df1, hf_df2)[\"min\"]\n",
    "    dict_data[\"1% of tokens\"]=statistics_compute(hf_df1, hf_df2, p=1)['percentile']\n",
    "    dict_data[\"5% of tokens\"]=statistics_compute(hf_df1, hf_df2, p=5)['percentile']\n",
    "    dict_data[\"10% of tokens\"]=statistics_compute(hf_df1, hf_df2, p=10)['percentile']\n",
    "    dict_data[\"25% of tokens\"]=statistics_compute(hf_df1, hf_df2, p=25)['percentile']\n",
    "    dict_data[\"Median of tokens\"]=statistics_compute(hf_df1, hf_df2, p=50)['percentile']\n",
    "    dict_data[\"Average tokens\"]=statistics_compute(hf_df1, hf_df2)[\"mean\"]\n",
    "    dict_data[\"75% of tokens\"]=statistics_compute(hf_df1, hf_df2, p=75)['percentile']\n",
    "    dict_data[\"90% of tokens\"]=statistics_compute(hf_df1, hf_df2, p=90)['percentile']\n",
    "    dict_data[\"95% of tokens\"]=statistics_compute(hf_df1, hf_df2, p=95)['percentile']\n",
    "    dict_data[\"99% of tokens\"]=statistics_compute(hf_df1, hf_df2, p=99)['percentile']\n",
    "    dict_data[\"Max of tokens\"]=statistics_compute(hf_df1, hf_df2)[\"max\"]\n",
    "    token_count_df=pd.DataFrame(dict_data)\n",
    "    return token_count_df\n",
    "\n",
    "def style_format(token_count_df,  textbody=\"Full_TextBody\"):\n",
    "    token_count_df=token_count_df.set_index(\"data_type\")\n",
    "    token_count_df[list(token_count_df.columns)] = token_count_df[list(token_count_df.columns)].astype(int)\n",
    "    return token_count_df.style.format(\"{:,}\").set_caption(f\"Summary Statistics of token lengths for {textbody} \").set_table_styles([{\n",
    "        'selector': 'caption',\n",
    "        'props': [\n",
    "            ('color', 'red'),\n",
    "            ('font-size', '20px')\n",
    "        ]\n",
    "    }])"
   ]
  },
  {
   "cell_type": "code",
   "execution_count": 32,
   "id": "5234bc97-2d2d-4a72-803d-c798b71a93d7",
   "metadata": {},
   "outputs": [
    {
     "data": {
      "text/html": [
       "<style type=\"text/css\">\n",
       "#T_3041b_ caption {\n",
       "  color: red;\n",
       "  font-size: 20px;\n",
       "}\n",
       "</style>\n",
       "<table id=\"T_3041b_\">\n",
       "  <caption>Summary Statistics of token lengths for Full_TextBody </caption>\n",
       "  <thead>\n",
       "    <tr>\n",
       "      <th class=\"blank level0\" >&nbsp;</th>\n",
       "      <th class=\"col_heading level0 col0\" ># of obs</th>\n",
       "      <th class=\"col_heading level0 col1\" >Min of tokens</th>\n",
       "      <th class=\"col_heading level0 col2\" >1% of tokens</th>\n",
       "      <th class=\"col_heading level0 col3\" >5% of tokens</th>\n",
       "      <th class=\"col_heading level0 col4\" >10% of tokens</th>\n",
       "      <th class=\"col_heading level0 col5\" >25% of tokens</th>\n",
       "      <th class=\"col_heading level0 col6\" >Median of tokens</th>\n",
       "      <th class=\"col_heading level0 col7\" >Average tokens</th>\n",
       "      <th class=\"col_heading level0 col8\" >75% of tokens</th>\n",
       "      <th class=\"col_heading level0 col9\" >90% of tokens</th>\n",
       "      <th class=\"col_heading level0 col10\" >95% of tokens</th>\n",
       "      <th class=\"col_heading level0 col11\" >99% of tokens</th>\n",
       "      <th class=\"col_heading level0 col12\" >Max of tokens</th>\n",
       "    </tr>\n",
       "    <tr>\n",
       "      <th class=\"index_name level0\" >data_type</th>\n",
       "      <th class=\"blank col0\" >&nbsp;</th>\n",
       "      <th class=\"blank col1\" >&nbsp;</th>\n",
       "      <th class=\"blank col2\" >&nbsp;</th>\n",
       "      <th class=\"blank col3\" >&nbsp;</th>\n",
       "      <th class=\"blank col4\" >&nbsp;</th>\n",
       "      <th class=\"blank col5\" >&nbsp;</th>\n",
       "      <th class=\"blank col6\" >&nbsp;</th>\n",
       "      <th class=\"blank col7\" >&nbsp;</th>\n",
       "      <th class=\"blank col8\" >&nbsp;</th>\n",
       "      <th class=\"blank col9\" >&nbsp;</th>\n",
       "      <th class=\"blank col10\" >&nbsp;</th>\n",
       "      <th class=\"blank col11\" >&nbsp;</th>\n",
       "      <th class=\"blank col12\" >&nbsp;</th>\n",
       "    </tr>\n",
       "  </thead>\n",
       "  <tbody>\n",
       "    <tr>\n",
       "      <th id=\"T_3041b_level0_row0\" class=\"row_heading level0 row0\" >training</th>\n",
       "      <td id=\"T_3041b_row0_col0\" class=\"data row0 col0\" >99,270</td>\n",
       "      <td id=\"T_3041b_row0_col1\" class=\"data row0 col1\" >14</td>\n",
       "      <td id=\"T_3041b_row0_col2\" class=\"data row0 col2\" >107</td>\n",
       "      <td id=\"T_3041b_row0_col3\" class=\"data row0 col3\" >157</td>\n",
       "      <td id=\"T_3041b_row0_col4\" class=\"data row0 col4\" >215</td>\n",
       "      <td id=\"T_3041b_row0_col5\" class=\"data row0 col5\" >409</td>\n",
       "      <td id=\"T_3041b_row0_col6\" class=\"data row0 col6\" >944</td>\n",
       "      <td id=\"T_3041b_row0_col7\" class=\"data row0 col7\" >1,728</td>\n",
       "      <td id=\"T_3041b_row0_col8\" class=\"data row0 col8\" >2,045</td>\n",
       "      <td id=\"T_3041b_row0_col9\" class=\"data row0 col9\" >3,997</td>\n",
       "      <td id=\"T_3041b_row0_col10\" class=\"data row0 col10\" >5,598</td>\n",
       "      <td id=\"T_3041b_row0_col11\" class=\"data row0 col11\" >11,803</td>\n",
       "      <td id=\"T_3041b_row0_col12\" class=\"data row0 col12\" >71,627</td>\n",
       "    </tr>\n",
       "    <tr>\n",
       "      <th id=\"T_3041b_level0_row1\" class=\"row_heading level0 row1\" >test</th>\n",
       "      <td id=\"T_3041b_row1_col0\" class=\"data row1 col0\" >27,300</td>\n",
       "      <td id=\"T_3041b_row1_col1\" class=\"data row1 col1\" >21</td>\n",
       "      <td id=\"T_3041b_row1_col2\" class=\"data row1 col2\" >127</td>\n",
       "      <td id=\"T_3041b_row1_col3\" class=\"data row1 col3\" >176</td>\n",
       "      <td id=\"T_3041b_row1_col4\" class=\"data row1 col4\" >228</td>\n",
       "      <td id=\"T_3041b_row1_col5\" class=\"data row1 col5\" >439</td>\n",
       "      <td id=\"T_3041b_row1_col6\" class=\"data row1 col6\" >1,062</td>\n",
       "      <td id=\"T_3041b_row1_col7\" class=\"data row1 col7\" >1,973</td>\n",
       "      <td id=\"T_3041b_row1_col8\" class=\"data row1 col8\" >2,445</td>\n",
       "      <td id=\"T_3041b_row1_col9\" class=\"data row1 col9\" >4,575</td>\n",
       "      <td id=\"T_3041b_row1_col10\" class=\"data row1 col10\" >7,006</td>\n",
       "      <td id=\"T_3041b_row1_col11\" class=\"data row1 col11\" >13,853</td>\n",
       "      <td id=\"T_3041b_row1_col12\" class=\"data row1 col12\" >24,263</td>\n",
       "    </tr>\n",
       "  </tbody>\n",
       "</table>\n"
      ],
      "text/plain": [
       "<pandas.io.formats.style.Styler at 0x7f21c0992850>"
      ]
     },
     "execution_count": 32,
     "metadata": {},
     "output_type": "execute_result"
    }
   ],
   "source": [
    "token_count_df=statistics_table(train_df1,test_df1)\n",
    "style_format(token_count_df,  textbody=\"Full_TextBody\")"
   ]
  },
  {
   "cell_type": "code",
   "execution_count": 33,
   "id": "0de0164c-0dec-4e51-b137-a0634d933c9f",
   "metadata": {},
   "outputs": [
    {
     "data": {
      "text/html": [
       "<style type=\"text/css\">\n",
       "#T_525cf_ caption {\n",
       "  color: red;\n",
       "  font-size: 20px;\n",
       "}\n",
       "</style>\n",
       "<table id=\"T_525cf_\">\n",
       "  <caption>Summary Statistics of token lengths for Client_TextBody </caption>\n",
       "  <thead>\n",
       "    <tr>\n",
       "      <th class=\"blank level0\" >&nbsp;</th>\n",
       "      <th class=\"col_heading level0 col0\" ># of obs</th>\n",
       "      <th class=\"col_heading level0 col1\" >Min of tokens</th>\n",
       "      <th class=\"col_heading level0 col2\" >1% of tokens</th>\n",
       "      <th class=\"col_heading level0 col3\" >5% of tokens</th>\n",
       "      <th class=\"col_heading level0 col4\" >10% of tokens</th>\n",
       "      <th class=\"col_heading level0 col5\" >25% of tokens</th>\n",
       "      <th class=\"col_heading level0 col6\" >Median of tokens</th>\n",
       "      <th class=\"col_heading level0 col7\" >Average tokens</th>\n",
       "      <th class=\"col_heading level0 col8\" >75% of tokens</th>\n",
       "      <th class=\"col_heading level0 col9\" >90% of tokens</th>\n",
       "      <th class=\"col_heading level0 col10\" >95% of tokens</th>\n",
       "      <th class=\"col_heading level0 col11\" >99% of tokens</th>\n",
       "      <th class=\"col_heading level0 col12\" >Max of tokens</th>\n",
       "    </tr>\n",
       "    <tr>\n",
       "      <th class=\"index_name level0\" >data_type</th>\n",
       "      <th class=\"blank col0\" >&nbsp;</th>\n",
       "      <th class=\"blank col1\" >&nbsp;</th>\n",
       "      <th class=\"blank col2\" >&nbsp;</th>\n",
       "      <th class=\"blank col3\" >&nbsp;</th>\n",
       "      <th class=\"blank col4\" >&nbsp;</th>\n",
       "      <th class=\"blank col5\" >&nbsp;</th>\n",
       "      <th class=\"blank col6\" >&nbsp;</th>\n",
       "      <th class=\"blank col7\" >&nbsp;</th>\n",
       "      <th class=\"blank col8\" >&nbsp;</th>\n",
       "      <th class=\"blank col9\" >&nbsp;</th>\n",
       "      <th class=\"blank col10\" >&nbsp;</th>\n",
       "      <th class=\"blank col11\" >&nbsp;</th>\n",
       "      <th class=\"blank col12\" >&nbsp;</th>\n",
       "    </tr>\n",
       "  </thead>\n",
       "  <tbody>\n",
       "    <tr>\n",
       "      <th id=\"T_525cf_level0_row0\" class=\"row_heading level0 row0\" >training</th>\n",
       "      <td id=\"T_525cf_row0_col0\" class=\"data row0 col0\" >91,550</td>\n",
       "      <td id=\"T_525cf_row0_col1\" class=\"data row0 col1\" >3</td>\n",
       "      <td id=\"T_525cf_row0_col2\" class=\"data row0 col2\" >25</td>\n",
       "      <td id=\"T_525cf_row0_col3\" class=\"data row0 col3\" >54</td>\n",
       "      <td id=\"T_525cf_row0_col4\" class=\"data row0 col4\" >82</td>\n",
       "      <td id=\"T_525cf_row0_col5\" class=\"data row0 col5\" >179</td>\n",
       "      <td id=\"T_525cf_row0_col6\" class=\"data row0 col6\" >418</td>\n",
       "      <td id=\"T_525cf_row0_col7\" class=\"data row0 col7\" >785</td>\n",
       "      <td id=\"T_525cf_row0_col8\" class=\"data row0 col8\" >959</td>\n",
       "      <td id=\"T_525cf_row0_col9\" class=\"data row0 col9\" >1,782</td>\n",
       "      <td id=\"T_525cf_row0_col10\" class=\"data row0 col10\" >2,645</td>\n",
       "      <td id=\"T_525cf_row0_col11\" class=\"data row0 col11\" >4,785</td>\n",
       "      <td id=\"T_525cf_row0_col12\" class=\"data row0 col12\" >27,104</td>\n",
       "    </tr>\n",
       "    <tr>\n",
       "      <th id=\"T_525cf_level0_row1\" class=\"row_heading level0 row1\" >test</th>\n",
       "      <td id=\"T_525cf_row1_col0\" class=\"data row1 col0\" >25,450</td>\n",
       "      <td id=\"T_525cf_row1_col1\" class=\"data row1 col1\" >4</td>\n",
       "      <td id=\"T_525cf_row1_col2\" class=\"data row1 col2\" >24</td>\n",
       "      <td id=\"T_525cf_row1_col3\" class=\"data row1 col3\" >55</td>\n",
       "      <td id=\"T_525cf_row1_col4\" class=\"data row1 col4\" >85</td>\n",
       "      <td id=\"T_525cf_row1_col5\" class=\"data row1 col5\" >177</td>\n",
       "      <td id=\"T_525cf_row1_col6\" class=\"data row1 col6\" >437</td>\n",
       "      <td id=\"T_525cf_row1_col7\" class=\"data row1 col7\" >876</td>\n",
       "      <td id=\"T_525cf_row1_col8\" class=\"data row1 col8\" >1,073</td>\n",
       "      <td id=\"T_525cf_row1_col9\" class=\"data row1 col9\" >2,052</td>\n",
       "      <td id=\"T_525cf_row1_col10\" class=\"data row1 col10\" >3,074</td>\n",
       "      <td id=\"T_525cf_row1_col11\" class=\"data row1 col11\" >6,661</td>\n",
       "      <td id=\"T_525cf_row1_col12\" class=\"data row1 col12\" >11,942</td>\n",
       "    </tr>\n",
       "  </tbody>\n",
       "</table>\n"
      ],
      "text/plain": [
       "<pandas.io.formats.style.Styler at 0x7f21a3b59d10>"
      ]
     },
     "execution_count": 33,
     "metadata": {},
     "output_type": "execute_result"
    }
   ],
   "source": [
    "token_count_df=statistics_table(train_df2,test_df2)\n",
    "style_format(token_count_df,  textbody=\"Client_TextBody\")"
   ]
  },
  {
   "cell_type": "code",
   "execution_count": 34,
   "id": "08b2992a-25b5-422f-9a65-5f1b1e014c13",
   "metadata": {},
   "outputs": [
    {
     "data": {
      "text/html": [
       "<style type=\"text/css\">\n",
       "#T_f81c9_ caption {\n",
       "  color: red;\n",
       "  font-size: 20px;\n",
       "}\n",
       "</style>\n",
       "<table id=\"T_f81c9_\">\n",
       "  <caption>Summary Statistics of token lengths for Latest_TextBody </caption>\n",
       "  <thead>\n",
       "    <tr>\n",
       "      <th class=\"blank level0\" >&nbsp;</th>\n",
       "      <th class=\"col_heading level0 col0\" ># of obs</th>\n",
       "      <th class=\"col_heading level0 col1\" >Min of tokens</th>\n",
       "      <th class=\"col_heading level0 col2\" >1% of tokens</th>\n",
       "      <th class=\"col_heading level0 col3\" >5% of tokens</th>\n",
       "      <th class=\"col_heading level0 col4\" >10% of tokens</th>\n",
       "      <th class=\"col_heading level0 col5\" >25% of tokens</th>\n",
       "      <th class=\"col_heading level0 col6\" >Median of tokens</th>\n",
       "      <th class=\"col_heading level0 col7\" >Average tokens</th>\n",
       "      <th class=\"col_heading level0 col8\" >75% of tokens</th>\n",
       "      <th class=\"col_heading level0 col9\" >90% of tokens</th>\n",
       "      <th class=\"col_heading level0 col10\" >95% of tokens</th>\n",
       "      <th class=\"col_heading level0 col11\" >99% of tokens</th>\n",
       "      <th class=\"col_heading level0 col12\" >Max of tokens</th>\n",
       "    </tr>\n",
       "    <tr>\n",
       "      <th class=\"index_name level0\" >data_type</th>\n",
       "      <th class=\"blank col0\" >&nbsp;</th>\n",
       "      <th class=\"blank col1\" >&nbsp;</th>\n",
       "      <th class=\"blank col2\" >&nbsp;</th>\n",
       "      <th class=\"blank col3\" >&nbsp;</th>\n",
       "      <th class=\"blank col4\" >&nbsp;</th>\n",
       "      <th class=\"blank col5\" >&nbsp;</th>\n",
       "      <th class=\"blank col6\" >&nbsp;</th>\n",
       "      <th class=\"blank col7\" >&nbsp;</th>\n",
       "      <th class=\"blank col8\" >&nbsp;</th>\n",
       "      <th class=\"blank col9\" >&nbsp;</th>\n",
       "      <th class=\"blank col10\" >&nbsp;</th>\n",
       "      <th class=\"blank col11\" >&nbsp;</th>\n",
       "      <th class=\"blank col12\" >&nbsp;</th>\n",
       "    </tr>\n",
       "  </thead>\n",
       "  <tbody>\n",
       "    <tr>\n",
       "      <th id=\"T_f81c9_level0_row0\" class=\"row_heading level0 row0\" >training</th>\n",
       "      <td id=\"T_f81c9_row0_col0\" class=\"data row0 col0\" >99,270</td>\n",
       "      <td id=\"T_f81c9_row0_col1\" class=\"data row0 col1\" >3</td>\n",
       "      <td id=\"T_f81c9_row0_col2\" class=\"data row0 col2\" >14</td>\n",
       "      <td id=\"T_f81c9_row0_col3\" class=\"data row0 col3\" >83</td>\n",
       "      <td id=\"T_f81c9_row0_col4\" class=\"data row0 col4\" >118</td>\n",
       "      <td id=\"T_f81c9_row0_col5\" class=\"data row0 col5\" >181</td>\n",
       "      <td id=\"T_f81c9_row0_col6\" class=\"data row0 col6\" >397</td>\n",
       "      <td id=\"T_f81c9_row0_col7\" class=\"data row0 col7\" >696</td>\n",
       "      <td id=\"T_f81c9_row0_col8\" class=\"data row0 col8\" >821</td>\n",
       "      <td id=\"T_f81c9_row0_col9\" class=\"data row0 col9\" >1,540</td>\n",
       "      <td id=\"T_f81c9_row0_col10\" class=\"data row0 col10\" >2,156</td>\n",
       "      <td id=\"T_f81c9_row0_col11\" class=\"data row0 col11\" >4,510</td>\n",
       "      <td id=\"T_f81c9_row0_col12\" class=\"data row0 col12\" >31,936</td>\n",
       "    </tr>\n",
       "    <tr>\n",
       "      <th id=\"T_f81c9_level0_row1\" class=\"row_heading level0 row1\" >test</th>\n",
       "      <td id=\"T_f81c9_row1_col0\" class=\"data row1 col0\" >27,300</td>\n",
       "      <td id=\"T_f81c9_row1_col1\" class=\"data row1 col1\" >3</td>\n",
       "      <td id=\"T_f81c9_row1_col2\" class=\"data row1 col2\" >30</td>\n",
       "      <td id=\"T_f81c9_row1_col3\" class=\"data row1 col3\" >117</td>\n",
       "      <td id=\"T_f81c9_row1_col4\" class=\"data row1 col4\" >145</td>\n",
       "      <td id=\"T_f81c9_row1_col5\" class=\"data row1 col5\" >218</td>\n",
       "      <td id=\"T_f81c9_row1_col6\" class=\"data row1 col6\" >477</td>\n",
       "      <td id=\"T_f81c9_row1_col7\" class=\"data row1 col7\" >846</td>\n",
       "      <td id=\"T_f81c9_row1_col8\" class=\"data row1 col8\" >1,020</td>\n",
       "      <td id=\"T_f81c9_row1_col9\" class=\"data row1 col9\" >1,954</td>\n",
       "      <td id=\"T_f81c9_row1_col10\" class=\"data row1 col10\" >2,666</td>\n",
       "      <td id=\"T_f81c9_row1_col11\" class=\"data row1 col11\" >5,747</td>\n",
       "      <td id=\"T_f81c9_row1_col12\" class=\"data row1 col12\" >12,238</td>\n",
       "    </tr>\n",
       "  </tbody>\n",
       "</table>\n"
      ],
      "text/plain": [
       "<pandas.io.formats.style.Styler at 0x7f21a3ba1490>"
      ]
     },
     "execution_count": 34,
     "metadata": {},
     "output_type": "execute_result"
    }
   ],
   "source": [
    "token_count_df=statistics_table(train_df3,test_df3)\n",
    "style_format(token_count_df,  textbody=\"Latest_TextBody\")"
   ]
  },
  {
   "cell_type": "code",
   "execution_count": 35,
   "id": "3c9fcb7f-05ec-4a8a-98bc-d6c506077d9c",
   "metadata": {},
   "outputs": [
    {
     "data": {
      "application/vnd.jupyter.widget-view+json": {
       "model_id": "5accc0cd3f4f40e4b16ed3fe3a66929c",
       "version_major": 2,
       "version_minor": 0
      },
      "text/plain": [
       "  0%|          | 0/100 [00:00<?, ?ba/s]"
      ]
     },
     "metadata": {},
     "output_type": "display_data"
    },
    {
     "name": "stderr",
     "output_type": "stream",
     "text": [
      "Token indices sequence length is longer than the specified maximum sequence length for this model (5626 > 4096). Running this sequence through the model will result in indexing errors\n"
     ]
    },
    {
     "data": {
      "application/vnd.jupyter.widget-view+json": {
       "model_id": "ac83e165becd4898aed64face76591ac",
       "version_major": 2,
       "version_minor": 0
      },
      "text/plain": [
       "  0%|          | 0/28 [00:00<?, ?ba/s]"
      ]
     },
     "metadata": {},
     "output_type": "display_data"
    },
    {
     "data": {
      "application/vnd.jupyter.widget-view+json": {
       "model_id": "41a01314062940228267901965ae7800",
       "version_major": 2,
       "version_minor": 0
      },
      "text/plain": [
       "  0%|          | 0/100 [00:00<?, ?ba/s]"
      ]
     },
     "metadata": {},
     "output_type": "display_data"
    },
    {
     "data": {
      "application/vnd.jupyter.widget-view+json": {
       "model_id": "ae62e2fa48ae47dc80a9aeb7ea5ddbc6",
       "version_major": 2,
       "version_minor": 0
      },
      "text/plain": [
       "  0%|          | 0/28 [00:00<?, ?ba/s]"
      ]
     },
     "metadata": {},
     "output_type": "display_data"
    }
   ],
   "source": [
    "from datasets import Dataset\n",
    "hf_train=Dataset.from_pandas(df_train)\n",
    "hf_test=Dataset.from_pandas(df_test)\n",
    "model_checkpoint=\"allenai/longformer-base-4096\"\n",
    "tokenizer=AutoTokenizer.from_pretrained(model_checkpoint)\n",
    "        \n",
    "for text in [\"Full_TextBody\", \"Latest_TextBody\"]:\n",
    "    hf_train=hf_train.map(lambda x : tokenizer(x[text]),batched=True)\n",
    "    hf_train=hf_train.remove_columns(\"attention_mask\")\n",
    "    hf_train=hf_train.rename_column(original_column_name=\"input_ids\", new_column_name=text+\"_input_ids\")\n",
    "    # hf_dataset = hf_dataset.filter(lambda x: len(x[text+\"_input_ids\"]) > self.min_tokens)\n",
    "    \n",
    "    hf_test=hf_test.map(lambda x : tokenizer(x[text]),batched=True)\n",
    "    hf_test=hf_test.remove_columns(\"attention_mask\")\n",
    "    hf_test=hf_test.rename_column(original_column_name=\"input_ids\", new_column_name=text+\"_input_ids\")\n"
   ]
  },
  {
   "cell_type": "code",
   "execution_count": 38,
   "id": "e81adb31-cd77-41b0-9ae9-4a171c1827f1",
   "metadata": {},
   "outputs": [],
   "source": [
    "hf_train.set_format(type=\"pandas\")\n",
    "df_train=hf_train[:]\n",
    "\n",
    "hf_test.set_format(type=\"pandas\")\n",
    "df_test=hf_test[:]"
   ]
  },
  {
   "cell_type": "code",
   "execution_count": 39,
   "id": "bd2d5141-6f19-4585-bf3b-698706abc86d",
   "metadata": {},
   "outputs": [
    {
     "data": {
      "text/plain": [
       "Index(['Full_TextBody', 'Client_TextBody', 'Latest_TextBody', 'year', 'churn',\n",
       "       'Full_TextBody_input_ids', 'Latest_TextBody_input_ids'],\n",
       "      dtype='object')"
      ]
     },
     "execution_count": 39,
     "metadata": {},
     "output_type": "execute_result"
    }
   ],
   "source": [
    "df_train.columns"
   ]
  },
  {
   "cell_type": "code",
   "execution_count": null,
   "id": "0f4412e8-e4a7-4e28-ab1e-1b4ec9eeb3ee",
   "metadata": {},
   "outputs": [],
   "source": []
  },
  {
   "cell_type": "code",
   "execution_count": 40,
   "id": "692ac630-1b70-4a50-bc9c-95f621065bba",
   "metadata": {},
   "outputs": [
    {
     "data": {
      "image/png": "[encoded data removed]",
      "text/plain": [
       "<Figure size 2160x432 with 2 Axes>"
      ]
     },
     "metadata": {
      "image/png": {
       "height": 413,
       "width": 1803
      },
      "needs_background": "light"
     },
     "output_type": "display_data"
    }
   ],
   "source": [
    "fig,(ax1,ax2)=plt.subplots(1,2, figsize=(30,6))\n",
    "df_train[\"Full_Words_length\"] = df_train[\"Full_TextBody_input_ids\"].apply(len)\n",
    "df_train.boxplot(\"Full_Words_length\", by=\"churn\", grid=True, showfliers=False,color=\"black\",ax=ax1)\n",
    "ax1.set_title(\"token length per email \\n(Full Textbody: training set)\")\n",
    "ax1.set_ylabel(\"# of token\")\n",
    "df_train[\"latest_Words_length\"] = df_train[\"Latest_TextBody_input_ids\"].apply(len)\n",
    "df_train.boxplot(\"latest_Words_length\", by=\"churn\", grid=True, showfliers=False,color=\"black\",ax=ax2)\n",
    "ax2.set_title(\"token length per email \\n(Latest ParentID Textbody: training set)\")\n",
    "ax2.set_ylabel(\"# of token\")\n",
    "plt.show()"
   ]
  },
  {
   "cell_type": "code",
   "execution_count": 41,
   "id": "a4a9f13d-835f-4685-a007-07bf567268cd",
   "metadata": {},
   "outputs": [
    {
     "data": {
      "image/png": "[encoded data removed]",
      "text/plain": [
       "<Figure size 2160x432 with 2 Axes>"
      ]
     },
     "metadata": {
      "image/png": {
       "height": 413,
       "width": 1803
      },
      "needs_background": "light"
     },
     "output_type": "display_data"
    }
   ],
   "source": [
    "fig,(ax1,ax2)=plt.subplots(1,2, figsize=(30,6))\n",
    "df_test[\"Full_Words_length\"] = df_test[\"Full_TextBody_input_ids\"].apply(len)\n",
    "df_test.boxplot(\"Full_Words_length\", by=\"churn\", grid=True, showfliers=False,color=\"black\",ax=ax1)\n",
    "ax1.set_title(\"token length per email \\n(Full Textbody: test set)\")\n",
    "ax1.set_ylabel(\"# of token\")\n",
    "df_test[\"latest_Words_length\"] = df_test[\"Latest_TextBody_input_ids\"].apply(len)\n",
    "df_test.boxplot(\"latest_Words_length\", by=\"churn\", grid=True, showfliers=False,color=\"black\",ax=ax2)\n",
    "ax2.set_title(\"token length per email \\n(Latest ParentID Textbody: test set)\")\n",
    "ax2.set_ylabel(\"# of token\")\n",
    "plt.show()"
   ]
  },
  {
   "cell_type": "code",
   "execution_count": null,
   "id": "5e2862bf-3560-4966-8847-b78be8ebdeec",
   "metadata": {},
   "outputs": [],
   "source": []
  },
  {
   "cell_type": "code",
   "execution_count": null,
   "id": "d5f00483-a801-4fac-b8b7-d798258545e6",
   "metadata": {},
   "outputs": [],
   "source": []
  },
  {
   "cell_type": "code",
   "execution_count": null,
   "id": "44e3c9c1-ebcd-48e1-9d93-6b96771bcb48",
   "metadata": {},
   "outputs": [],
   "source": []
  },
  {
   "cell_type": "code",
   "execution_count": null,
   "id": "b16fb46b-f831-4026-8dd2-6cab5cfd1304",
   "metadata": {},
   "outputs": [],
   "source": []
  },
  {
   "cell_type": "code",
   "execution_count": null,
   "id": "9f76fc02-b538-44bf-a52d-f3b88c072e8b",
   "metadata": {},
   "outputs": [],
   "source": []
  },
  {
   "cell_type": "code",
   "execution_count": null,
   "id": "8fc999b0-7ca7-4b67-9733-edc724724ffd",
   "metadata": {},
   "outputs": [],
   "source": []
  },
  {
   "cell_type": "code",
   "execution_count": 12,
   "id": "be4258c3-a66c-4d96-8b94-24a099dc0149",
   "metadata": {},
   "outputs": [
    {
     "data": {
      "image/png": "[encoded data removed]",
      "text/plain": [
       "<Figure size 1800x432 with 3 Axes>"
      ]
     },
     "metadata": {
      "image/png": {
       "height": 398,
       "width": 1473
      },
      "needs_background": "light"
     },
     "output_type": "display_data"
    }
   ],
   "source": [
    "fig,(ax1,ax2,ax3)=plt.subplots(1,3, figsize=(25,6))\n",
    "sns.histplot(hf_df1['text_length'],ax=ax1)\n",
    "ax1.set_title(\"client+unum email token length\")\n",
    "ax1.set_xlabel(\"token counts\")\n",
    "ax1.set_ylabel(\"\")\n",
    "ax1.set(xlim=(0, 10000))\n",
    "\n",
    "sns.histplot(hf_df2['text_length'],ax=ax2)\n",
    "ax2.set_title(\"client emails token length\")\n",
    "ax2.set_xlabel(\"token counts\")\n",
    "ax2.set_ylabel(\"\")\n",
    "ax2.set(xlim=(0, 10000))\n",
    "\n",
    "sns.histplot(hf_df3['text_length'],ax=ax3)\n",
    "ax3.set_title(\"latest parentID emails token length\")\n",
    "ax3.set_xlabel(\"token counts\")\n",
    "ax3.set_ylabel(\"\")\n",
    "ax3.set(xlim=(0, 10000))\n",
    "plt.show()"
   ]
  },
  {
   "cell_type": "code",
   "execution_count": null,
   "id": "0ecb5705-1907-4fec-ab49-d096f591731c",
   "metadata": {},
   "outputs": [],
   "source": []
  },
  {
   "cell_type": "code",
   "execution_count": 13,
   "id": "cafa7223-2c48-4f8f-b10c-3ef00124c786",
   "metadata": {},
   "outputs": [
    {
     "data": {
      "text/plain": [
       "Dataset({\n",
       "    features: ['unum_id', 'policy_id', 'pivot_date', 'year', 'month', 'start_date', 'end_date', 'Full_TextBody', 'Client_TextBody', 'Latest_TextBody', 'churn', '__index_level_0__', 'input_ids', 'attention_mask', 'text_length'],\n",
       "    num_rows: 126570\n",
       "})"
      ]
     },
     "execution_count": 13,
     "metadata": {},
     "output_type": "execute_result"
    }
   ],
   "source": [
    "hf_df3"
   ]
  },
  {
   "cell_type": "code",
   "execution_count": 18,
   "id": "527ec3a9-f52d-48af-ad52-78e8e8be0576",
   "metadata": {},
   "outputs": [
    {
     "data": {
      "text/plain": [
       "Index(['unum_id', 'policy_id', 'pivot_date', 'year', 'month', 'start_date',\n",
       "       'end_date', 'Full_TextBody', 'Client_TextBody', 'Latest_TextBody',\n",
       "       'churn'],\n",
       "      dtype='object')"
      ]
     },
     "execution_count": 18,
     "metadata": {},
     "output_type": "execute_result"
    }
   ],
   "source": [
    "churn_text_pickle.columns"
   ]
  },
  {
   "cell_type": "code",
   "execution_count": 20,
   "id": "95692c7e-c7fe-441d-be39-5a0d562d2235",
   "metadata": {},
   "outputs": [
    {
     "data": {
      "application/vnd.jupyter.widget-view+json": {
       "model_id": "62cf43a288634ccd92b1e10a913e2eb1",
       "version_major": 2,
       "version_minor": 0
      },
      "text/plain": [
       "  0%|          | 0/127 [00:00<?, ?ba/s]"
      ]
     },
     "metadata": {},
     "output_type": "display_data"
    },
    {
     "name": "stderr",
     "output_type": "stream",
     "text": [
      "Token indices sequence length is longer than the specified maximum sequence length for this model (4629 > 4096). Running this sequence through the model will result in indexing errors\n"
     ]
    },
    {
     "data": {
      "application/vnd.jupyter.widget-view+json": {
       "model_id": "5e9825223192404ab87f5b71231118c8",
       "version_major": 2,
       "version_minor": 0
      },
      "text/plain": [
       "  0%|          | 0/127 [00:00<?, ?ba/s]"
      ]
     },
     "metadata": {},
     "output_type": "display_data"
    }
   ],
   "source": [
    "from datasets import Dataset\n",
    "hf_dataset=Dataset.from_pandas(churn_text_pickle)\n",
    "model_checkpoint=\"allenai/longformer-base-4096\"\n",
    "tokenizer=AutoTokenizer.from_pretrained(model_checkpoint)\n",
    "        \n",
    "for text in [\"Full_TextBody\", \"Latest_TextBody\"]:\n",
    "    hf_dataset=hf_dataset.map(lambda x : tokenizer(x[text]),batched=True)\n",
    "    hf_dataset=hf_dataset.remove_columns(\"attention_mask\")\n",
    "    hf_dataset=hf_dataset.rename_column(original_column_name=\"input_ids\", new_column_name=text+\"_input_ids\")\n",
    "    # hf_dataset = hf_dataset.filter(lambda x: len(x[text+\"_input_ids\"]) > self.min_tokens)\n"
   ]
  },
  {
   "cell_type": "code",
   "execution_count": 21,
   "id": "81f66147-ff3d-4c2e-8b75-7dcb6e9c76ae",
   "metadata": {},
   "outputs": [
    {
     "data": {
      "text/plain": [
       "Dataset({\n",
       "    features: ['unum_id', 'policy_id', 'pivot_date', 'year', 'month', 'start_date', 'end_date', 'Full_TextBody', 'Client_TextBody', 'Latest_TextBody', 'churn', '__index_level_0__', 'Full_TextBody_input_ids', 'Latest_TextBody_input_ids'],\n",
       "    num_rows: 126570\n",
       "})"
      ]
     },
     "execution_count": 21,
     "metadata": {},
     "output_type": "execute_result"
    }
   ],
   "source": [
    "hf_dataset"
   ]
  },
  {
   "cell_type": "code",
   "execution_count": 25,
   "id": "c2f231be-e4c5-4e4b-8966-a09fdbffc8ff",
   "metadata": {},
   "outputs": [
    {
     "data": {
      "text/html": [
       "<div>\n",
       "<style scoped>\n",
       "    .dataframe tbody tr th:only-of-type {\n",
       "        vertical-align: middle;\n",
       "    }\n",
       "\n",
       "    .dataframe tbody tr th {\n",
       "        vertical-align: top;\n",
       "    }\n",
       "\n",
       "    .dataframe thead th {\n",
       "        text-align: right;\n",
       "    }\n",
       "</style>\n",
       "<table border=\"1\" class=\"dataframe\">\n",
       "  <thead>\n",
       "    <tr style=\"text-align: right;\">\n",
       "      <th></th>\n",
       "      <th>unum_id</th>\n",
       "      <th>policy_id</th>\n",
       "      <th>pivot_date</th>\n",
       "      <th>year</th>\n",
       "      <th>month</th>\n",
       "      <th>start_date</th>\n",
       "      <th>end_date</th>\n",
       "      <th>Full_TextBody</th>\n",
       "      <th>Client_TextBody</th>\n",
       "      <th>Latest_TextBody</th>\n",
       "      <th>churn</th>\n",
       "      <th>Full_TextBody_input_ids</th>\n",
       "      <th>Latest_TextBody_input_ids</th>\n",
       "    </tr>\n",
       "  </thead>\n",
       "  <tbody>\n",
       "    <tr>\n",
       "      <th>0</th>\n",
       "      <td>167996771</td>\n",
       "      <td>403751</td>\n",
       "      <td>2022-01-01</td>\n",
       "      <td>2022</td>\n",
       "      <td>1</td>\n",
       "      <td>2021-07-01</td>\n",
       "      <td>2021-10-01</td>\n",
       "      <td>hello courtney, as discussed, i have included ...</td>\n",
       "      <td>hi, we have a new hr coordinator beginning on ...</td>\n",
       "      <td>hello courtney, as discussed, i have included ...</td>\n",
       "      <td>0</td>\n",
       "      <td>[0, 42891, 461, 2596, 6, 25, 3373, 6, 939, 33,...</td>\n",
       "      <td>[0, 42891, 461, 2596, 6, 25, 3373, 6, 939, 33,...</td>\n",
       "    </tr>\n",
       "    <tr>\n",
       "      <th>1</th>\n",
       "      <td>167996771</td>\n",
       "      <td>403751</td>\n",
       "      <td>2021-01-01</td>\n",
       "      <td>2021</td>\n",
       "      <td>1</td>\n",
       "      <td>2020-07-01</td>\n",
       "      <td>2020-10-01</td>\n",
       "      <td>city of niagara falls, ny hello toni, thank yo...</td>\n",
       "      <td>none of these are similar to the previous invo...</td>\n",
       "      <td>city of niagara falls, ny hello my unum team, ...</td>\n",
       "      <td>0</td>\n",
       "      <td>[0, 14853, 9, 10265, 45282, 5712, 6, 295, 219,...</td>\n",
       "      <td>[0, 14853, 9, 10265, 45282, 5712, 6, 295, 219,...</td>\n",
       "    </tr>\n",
       "    <tr>\n",
       "      <th>2</th>\n",
       "      <td>167996771</td>\n",
       "      <td>403751</td>\n",
       "      <td>2020-01-01</td>\n",
       "      <td>2020</td>\n",
       "      <td>1</td>\n",
       "      <td>2019-07-01</td>\n",
       "      <td>2019-10-01</td>\n",
       "      <td>please remove kathleen green from this corresp...</td>\n",
       "      <td>please remove kathleen green from this corresp...</td>\n",
       "      <td>au team please process this and confirm. thank...</td>\n",
       "      <td>0</td>\n",
       "      <td>[0, 37111, 3438, 449, 2681, 17733, 2272, 31, 4...</td>\n",
       "      <td>[0, 1180, 165, 2540, 609, 42, 8, 4559, 4, 2446...</td>\n",
       "    </tr>\n",
       "    <tr>\n",
       "      <th>3</th>\n",
       "      <td>167994141</td>\n",
       "      <td>515015</td>\n",
       "      <td>2022-04-01</td>\n",
       "      <td>2022</td>\n",
       "      <td>4</td>\n",
       "      <td>2021-10-01</td>\n",
       "      <td>2022-01-01</td>\n",
       "      <td>good morning, i have been trying since to log ...</td>\n",
       "      <td>good morning, i have been trying since to log ...</td>\n",
       "      <td>hello linda, thank you for contacting ask unum...</td>\n",
       "      <td>0</td>\n",
       "      <td>[0, 8396, 662, 6, 939, 33, 57, 667, 187, 7, 74...</td>\n",
       "      <td>[0, 42891, 784, 8865, 6, 3392, 47, 13, 20896, ...</td>\n",
       "    </tr>\n",
       "    <tr>\n",
       "      <th>4</th>\n",
       "      <td>167968485</td>\n",
       "      <td>404280</td>\n",
       "      <td>2020-06-01</td>\n",
       "      <td>2020</td>\n",
       "      <td>6</td>\n",
       "      <td>2019-12-01</td>\n",
       "      <td>2020-03-01</td>\n",
       "      <td>hello, can you confirm if you have received a ...</td>\n",
       "      <td>hello, can you confirm if you have received a ...</td>\n",
       "      <td>hi wendy, thank you for your email. we have no...</td>\n",
       "      <td>0</td>\n",
       "      <td>[0, 42891, 6, 64, 47, 4559, 114, 47, 33, 829, ...</td>\n",
       "      <td>[0, 3592, 885, 1397, 219, 6, 3392, 47, 13, 110...</td>\n",
       "    </tr>\n",
       "  </tbody>\n",
       "</table>\n",
       "</div>"
      ],
      "text/plain": [
       "     unum_id  policy_id pivot_date  year  month start_date   end_date  \\\n",
       "0  167996771     403751 2022-01-01  2022      1 2021-07-01 2021-10-01   \n",
       "1  167996771     403751 2021-01-01  2021      1 2020-07-01 2020-10-01   \n",
       "2  167996771     403751 2020-01-01  2020      1 2019-07-01 2019-10-01   \n",
       "3  167994141     515015 2022-04-01  2022      4 2021-10-01 2022-01-01   \n",
       "4  167968485     404280 2020-06-01  2020      6 2019-12-01 2020-03-01   \n",
       "\n",
       "                                       Full_TextBody  \\\n",
       "0  hello courtney, as discussed, i have included ...   \n",
       "1  city of niagara falls, ny hello toni, thank yo...   \n",
       "2  please remove kathleen green from this corresp...   \n",
       "3  good morning, i have been trying since to log ...   \n",
       "4  hello, can you confirm if you have received a ...   \n",
       "\n",
       "                                     Client_TextBody  \\\n",
       "0  hi, we have a new hr coordinator beginning on ...   \n",
       "1  none of these are similar to the previous invo...   \n",
       "2  please remove kathleen green from this corresp...   \n",
       "3  good morning, i have been trying since to log ...   \n",
       "4  hello, can you confirm if you have received a ...   \n",
       "\n",
       "                                     Latest_TextBody  churn  \\\n",
       "0  hello courtney, as discussed, i have included ...      0   \n",
       "1  city of niagara falls, ny hello my unum team, ...      0   \n",
       "2  au team please process this and confirm. thank...      0   \n",
       "3  hello linda, thank you for contacting ask unum...      0   \n",
       "4  hi wendy, thank you for your email. we have no...      0   \n",
       "\n",
       "                             Full_TextBody_input_ids  \\\n",
       "0  [0, 42891, 461, 2596, 6, 25, 3373, 6, 939, 33,...   \n",
       "1  [0, 14853, 9, 10265, 45282, 5712, 6, 295, 219,...   \n",
       "2  [0, 37111, 3438, 449, 2681, 17733, 2272, 31, 4...   \n",
       "3  [0, 8396, 662, 6, 939, 33, 57, 667, 187, 7, 74...   \n",
       "4  [0, 42891, 6, 64, 47, 4559, 114, 47, 33, 829, ...   \n",
       "\n",
       "                           Latest_TextBody_input_ids  \n",
       "0  [0, 42891, 461, 2596, 6, 25, 3373, 6, 939, 33,...  \n",
       "1  [0, 14853, 9, 10265, 45282, 5712, 6, 295, 219,...  \n",
       "2  [0, 1180, 165, 2540, 609, 42, 8, 4559, 4, 2446...  \n",
       "3  [0, 42891, 784, 8865, 6, 3392, 47, 13, 20896, ...  \n",
       "4  [0, 3592, 885, 1397, 219, 6, 3392, 47, 13, 110...  "
      ]
     },
     "execution_count": 25,
     "metadata": {},
     "output_type": "execute_result"
    }
   ],
   "source": [
    "hf_dataset=hf_dataset.remove_columns(\"__index_level_0__\")\n",
    "hf_dataset.set_format(type=\"pandas\")\n",
    "df=hf_dataset[:]\n",
    "df.head()"
   ]
  },
  {
   "cell_type": "code",
   "execution_count": 27,
   "id": "f16712b3-24f6-412d-82f0-9e8b08034a61",
   "metadata": {},
   "outputs": [
    {
     "data": {
      "image/png": "[encoded data removed]",
      "text/plain": [
       "<Figure size 2160x432 with 2 Axes>"
      ]
     },
     "metadata": {
      "image/png": {
       "height": 413,
       "width": 1803
      },
      "needs_background": "light"
     },
     "output_type": "display_data"
    }
   ],
   "source": [
    "fig,(ax1,ax2)=plt.subplots(1,2, figsize=(30,6))\n",
    "df[\"Full_Words_length\"] = df[\"Full_TextBody_input_ids\"].apply(len)\n",
    "df.boxplot(\"Full_Words_length\", by=\"churn\", grid=True, showfliers=False,color=\"black\",ax=ax1)\n",
    "ax1.set_title(\"token length per email \\n(Full Textbody)\")\n",
    "ax1.set_ylabel(\"# of token\")\n",
    "df[\"latest_Words_length\"] = df[\"Latest_TextBody_input_ids\"].apply(len)\n",
    "df.boxplot(\"latest_Words_length\", by=\"churn\", grid=True, showfliers=False,color=\"black\",ax=ax2)\n",
    "ax2.set_title(\"token length per email \\n(Latest ParentID Textbody)\")\n",
    "ax2.set_ylabel(\"# of token\")\n",
    "plt.show()"
   ]
  },
  {
   "cell_type": "code",
   "execution_count": null,
   "id": "c283bfda-a404-4ddc-a000-f24e2a536d82",
   "metadata": {},
   "outputs": [],
   "source": []
  },
  {
   "cell_type": "code",
   "execution_count": 28,
   "id": "0137c50e-c482-458a-acd3-4f64b03204a5",
   "metadata": {},
   "outputs": [
    {
     "data": {
      "text/plain": [
       "Dataset({\n",
       "    features: ['unum_id', 'policy_id', 'pivot_date', 'year', 'month', 'start_date', 'end_date', 'Full_TextBody', 'Client_TextBody', 'Latest_TextBody', 'churn', '__index_level_0__', 'input_ids', 'attention_mask', 'text_length'],\n",
       "    num_rows: 126570\n",
       "})"
      ]
     },
     "execution_count": 28,
     "metadata": {},
     "output_type": "execute_result"
    }
   ],
   "source": [
    "hf_df1"
   ]
  },
  {
   "cell_type": "code",
   "execution_count": 29,
   "id": "5cbe1ff6-1278-4f16-b7e5-becedf7aa803",
   "metadata": {},
   "outputs": [],
   "source": [
    "usecols=['Full_TextBody', 'Client_TextBody', 'Latest_TextBody', 'year','churn']\n",
    "email_df=churn_text_pickle.loc[:,usecols]\n",
    "email_df_train=email_df[email_df['year']!=2022]\n",
    "email_df_test=email_df[email_df['year']==2022]"
   ]
  },
  {
   "cell_type": "code",
   "execution_count": null,
   "id": "c6efad68-bc3c-40fe-b86b-218681d6f056",
   "metadata": {},
   "outputs": [],
   "source": []
  },
  {
   "cell_type": "code",
   "execution_count": 63,
   "id": "2f5100dd-87d6-41fd-a83a-57a9fa6058f6",
   "metadata": {},
   "outputs": [],
   "source": [
    "from datasets import Dataset\n",
    "hf_dataset=Dataset.from_pandas(email_df_train)\n",
    "hf_dataset=hf_dataset.remove_columns('__index_level_0__')\n",
    "hf_split=hf_dataset.train_test_split(train_size=0.9, seed=101)\n",
    "hf_split[\"validation\"]=hf_split.pop(\"test\")\n",
    "hf_test=Dataset.from_pandas(email_df_test)\n",
    "hf_test=hf_test.remove_columns('__index_level_0__')\n",
    "hf_split[\"test\"]=hf_test"
   ]
  },
  {
   "cell_type": "code",
   "execution_count": 64,
   "id": "9f2718a3-3209-466a-bc84-27f4aa406277",
   "metadata": {},
   "outputs": [
    {
     "data": {
      "text/plain": [
       "DatasetDict({\n",
       "    train: Dataset({\n",
       "        features: ['Full_TextBody', 'Client_TextBody', 'Latest_TextBody', 'year', 'churn'],\n",
       "        num_rows: 89343\n",
       "    })\n",
       "    validation: Dataset({\n",
       "        features: ['Full_TextBody', 'Client_TextBody', 'Latest_TextBody', 'year', 'churn'],\n",
       "        num_rows: 9927\n",
       "    })\n",
       "    test: Dataset({\n",
       "        features: ['Full_TextBody', 'Client_TextBody', 'Latest_TextBody', 'year', 'churn'],\n",
       "        num_rows: 27300\n",
       "    })\n",
       "})"
      ]
     },
     "execution_count": 64,
     "metadata": {},
     "output_type": "execute_result"
    }
   ],
   "source": [
    "hf_split"
   ]
  },
  {
   "cell_type": "code",
   "execution_count": 65,
   "id": "362d0d70-e0eb-4500-a29b-6f78a66a6e15",
   "metadata": {},
   "outputs": [
    {
     "data": {
      "text/plain": [
       "DatasetDict({\n",
       "    train: Dataset({\n",
       "        features: ['Full_TextBody', 'Client_TextBody', 'Latest_TextBody', 'year', 'churn'],\n",
       "        num_rows: 99270\n",
       "    })\n",
       "    test: Dataset({\n",
       "        features: ['Full_TextBody', 'Client_TextBody', 'Latest_TextBody', 'year', 'churn'],\n",
       "        num_rows: 27300\n",
       "    })\n",
       "})"
      ]
     },
     "execution_count": 65,
     "metadata": {},
     "output_type": "execute_result"
    }
   ],
   "source": [
    "hf_data=concatenate_datasets([hf_split[\"train\"],  hf_split[\"validation\"]],split=\"train\")\n",
    "hf_data=DatasetDict({\"train\":hf_data, \"test\":hf_split.pop('test')})\n",
    "hf_data"
   ]
  },
  {
   "cell_type": "code",
   "execution_count": 66,
   "id": "dec95e55-62e5-4114-ba4e-e22534857a0c",
   "metadata": {},
   "outputs": [
    {
     "data": {
      "application/vnd.jupyter.widget-view+json": {
       "model_id": "e85747278e034a80a11ec50ca42585b1",
       "version_major": 2,
       "version_minor": 0
      },
      "text/plain": [
       "Flattening the indices:   0%|          | 0/100 [00:00<?, ?ba/s]"
      ]
     },
     "metadata": {},
     "output_type": "display_data"
    },
    {
     "data": {
      "text/plain": [
       "DatasetDict({\n",
       "    train: Dataset({\n",
       "        features: ['Full_TextBody', 'Client_TextBody', 'Latest_TextBody', 'year', 'churn'],\n",
       "        num_rows: 99270\n",
       "    })\n",
       "    test: Dataset({\n",
       "        features: ['Full_TextBody', 'Client_TextBody', 'Latest_TextBody', 'year', 'churn'],\n",
       "        num_rows: 27300\n",
       "    })\n",
       "})"
      ]
     },
     "execution_count": 66,
     "metadata": {},
     "output_type": "execute_result"
    }
   ],
   "source": [
    "hf_data.save_to_disk(os.path.join(os.getcwd(),\"dataset\",\"email_all\"))\n",
    "email_all=load_from_disk(os.path.join(os.getcwd(),\"dataset\",\"email_all\"))\n",
    "email_all"
   ]
  },
  {
   "cell_type": "code",
   "execution_count": null,
   "id": "b79b61ff-d59f-40d7-8670-99cca3cd8e5b",
   "metadata": {},
   "outputs": [],
   "source": []
  },
  {
   "cell_type": "code",
   "execution_count": 53,
   "id": "d232578b-cbab-4813-9c4a-95b5855f3618",
   "metadata": {},
   "outputs": [
    {
     "name": "stdout",
     "output_type": "stream",
     "text": [
      "\n",
      "**************************************************\n",
      "*********  Full TextBody ********\n",
      "**************************************************\n",
      "\n",
      "policy three rivers workforce investment board hello wendy, hope you are having a good day thank you for calling us today. it was a pleasure speaking\n",
      "with you attached is the spreadsheet comparing the differences in premium after making the salary updates. it has been my pleasure assisting you.\n",
      "please let us know if you have any questions or if there is anything else we can do to assist you. have a wonderful day thank you, caryn lynn service\n",
      "specialist client success organization askunum askunumunum.com mailtoaskunumunum.com unum covid response click here httpsbit.lycjrbm how to file a\n",
      "claim online click here httpsbit.lyygqmvq we appreciate the opportunity to meet your benefit needs. if you have any questions, we have experienced\n",
      "service specialists available to help you monday through friday, a.m. to p.m. eastern time. refdgrzm.xioref.hello wendy, thanks for contacting ask\n",
      "unum, i hope this finds you well this is a follow up to the call we recently had regarding claims provisions. ive attached this groups std benefit\n",
      "provisions, the std and ltd claim forms, and the employee claims brochure to this email for review. please dont hesitate to reach out if you have any\n",
      "issues accessing these attachments. please feel free to reach out with any questions. have a great day thank you, james watson service specialist\n",
      "associate client success organization askunum askunumunum.com mailtoaskunumunum.com unum covid response click here httpsbit.lycjrbm how to file a\n",
      "claim online click here httpsbit.lyygqmvq we appreciate the opportunity to meet your benefit needs. if you have any questions, we have experienced\n",
      "service specialists available to help you monday through friday, a.m. to p.m. eastern time. refdgrzm.xdflref.thanks james, long term disability in\n",
      "following our policy would only also be a disabled situation, so no partial benefits as well, correct? wendy wendy weiskircher director of human\n",
      "resources partnerwork building tomorrows workforce. today. on wed, jul , at am wrote hello wendy, thanks for contacting ask unum, i hope this finds\n",
      "you well this is a follow up to the call we recently had regarding claims provisions. ive attached this groups std benefit provisions, the std and ltd\n",
      "claim forms, and the employee claims brochure to this email for review. please dont hesitate to reach out if you have any issues accessing these\n",
      "attachments. please feel free to reach out with any questions. have a great day thank you, james watson service specialist associate client success\n",
      "organization askunum unum covid response click herehttpsbit.lycjrbm how to file a claim online click herehttpsbit.lyygqmvq we appreciate the\n",
      "opportunity to meet your benefit needs. if you have any questions, we have experienced service specialists available to help you monday through\n",
      "friday, a.m. to p.m. eastern time. refdgrzm.xdflref.thanks james, long term disability in following our policy would only also be a disabled\n",
      "situation, so no partial benefits as well, correct? wendy wendy weiskircher director of human resources partnerwork building tomorrows workforce.\n",
      "today. on wed, jul , at am wrote hello wendy, thanks for contacting ask unum, i hope this finds you well this is a follow up to the call we recently\n",
      "had regarding claims provisions. ive attached this groups std benefit provisions, the std and ltd claim forms, and the employee claims brochure to\n",
      "this email for review. please dont hesitate to reach out if you have any issues accessing these attachments. please feel free to reach out with any\n",
      "questions. have a great day thank you, james watson service specialist associate client success organization askunum unum covid response click\n",
      "herehttpsbit.lycjrbm how to file a claim online click herehttpsbit.lyygqmvq we appreciate the opportunity to meet your benefit needs. if you have any\n",
      "questions, we have experienced service specialists available to help you monday through friday, a.m. to p.m. eastern time. dgrzm.xdflref.james, also,\n",
      "do we have an employer assigned tollfree number where they can file a claim, if not will just direct them to the online submittal. wendy wendy\n",
      "weiskircher director of human resources partnerwork building tomorrows workforce. today. on wed, jul , at am wrote hello wendy, thanks for contacting\n",
      "ask unum, i hope this finds you well this is a follow up to the call we recently had regarding claims provisions. ive attached this groups std benefit\n",
      "provisions, the std and ltd claim forms, and the employee claims brochure to this email for review. please dont hesitate to reach out if you have any\n",
      "issues accessing these attachments. please feel free to reach out with any questions. have a great day thank you, james watson service specialist\n",
      "associate client success organization askunum unum covid response click herehttpsbit.lycjrbm how to file a claim online click herehttpsbit.lyygqmvq we\n",
      "appreciate the opportunity to meet your benefit needs. if you have any questions, we have experienced service specialists available to help you monday\n",
      "through friday, a.m. to p.m. eastern time. refdgrzm.xdflref.james, also, do we have an employer assigned tollfree number where they can file a claim,\n",
      "if not will just direct them to the online submittal. wendy wendy weiskircher director of human resources partnerwork building tomorrows workforce.\n",
      "today. on wed, jul , at am wrote hello wendy, thanks for contacting ask unum, i hope this finds you well this is a follow up to the call we recently\n",
      "had regarding claims provisions. ive attached this groups std benefit provisions, the std and ltd claim forms, and the employee claims brochure to\n",
      "this email for review. please dont hesitate to reach out if you have any issues accessing these attachments. please feel free to reach out with any\n",
      "questions. have a great day thank you, james watson service specialist associate client success organization askunum unum covid response click\n",
      "herehttpsbit.lycjrbm how to file a claim online click herehttpsbit.lyygqmvq we appreciate the opportunity to meet your benefit needs. if you have any\n",
      "questions, we have experienced service specialists available to help you monday through friday, a.m. to p.m. eastern time. dgrzm.xdflref.hi team is it\n",
      "possible to call the pa back for the above group? she called today but had to hang up as she had to call the employee, however, she had questions\n",
      "regarding a hypothetical claims scenario and wanted to speak to someone that can direct her better. there is an employee who is going to start chemo.\n",
      "he will have one week of chemo, in which he will not work, then two weeks off where he will be working. and will go through this cycle different\n",
      "times. they are wanting to know if this will meet the definition of disability, or will it not since the ee is returning to work during the two weeks\n",
      "off. is there anyone that can call her back to discuss this situation? she was very adamant about speaking with someone rather than emailing, which is\n",
      "why im reaching out to your team. pa wendy weiskircher wweiskircherpartnerwork.org thank you, hayleigh lewis service specialist client success\n",
      "organization askunum askunumunum.com mailtoaskunumunum.com unum covid response click here httpsbit.lycjrbm how to file a claim online click here\n",
      "httpsbit.lyygqmvq we appreciate the opportunity to meet your benefit needs. if you have any questions, we have experienced service specialists\n",
      "available to help you monday through friday, a.m. to p.m. eastern time. refdgrzm.xgptref.to whom it may concern i am writing as a decision maker on\n",
      "the plan and the replacement for mccrae martino as the new plan administrator for unum. please remove mccrae martino as the plan administrator since\n",
      "she is no longer with our company, and replace it with my name, wendy weiskircher, director of human resources, as the new plan administrator. our\n",
      "company is trwib, inc. three rivers workforce investment board. my phone number is work number direct line, and my mobile number is where i can best\n",
      "be reached right now since we are not in the office due to covid. also, for all claimant correspondence being mailed to claimants on approval of their\n",
      "claims, plus also notate on our company account, that i would like to be emailed as well on all claimant communication regarding approval of claims,\n",
      "so that i can best assist claimants to navigate the claims process, and to inform them when they need to submit doctor information, etc. please add my\n",
      "email address to all claimant letters of claim approval and claims correspondence, etc. please confirm receipt of these changes, and if you require\n",
      "any additional information to process these changes. thank you, wendy weiskircher wendy weiskircher director of human resources partnerwork building\n",
      "tomorrows workforce. today..hi wendy, thank you for contacting ask unum i hope this finds you well. i do not show that this policy is set up to file\n",
      "telephonic claims. if you are interested in this service, please let us know, and we would be happy to partner with your client specialist to look\n",
      "into this for you otherwise, please let us know if you need any additional assistance. have a nice day thank you, jarod hobbs service specialist\n",
      "client success organization askunum askunumunum.com mailtoaskunumunum.com unum covid response click here httpsbit.lycjrbm how to file a claim online\n",
      "click here httpsbit.lyygqmvq we appreciate the opportunity to meet your benefit needs. if you have any questions, we have experienced service\n",
      "specialists available to help you monday through friday, a.m. to p.m. eastern time. original message.hello wendy, thank you for your email. this is\n",
      "what is in the long term disability policy. how does unum define disability? you are disabled when unum determines that you are limited from\n",
      "performing the material and substantial duties of yourregular occupation due to your sickness or injury; and you have a or more loss in your indexed\n",
      "monthly earnings due to the same sickness or injury. i hope this information is helpful. please let us know if we can further assist you. have a great\n",
      "day. thank you, teffany hill service specialist client success organization askunum askunumunum.com mailtoaskunumunum.com unum covid response click\n",
      "here httpsbit.lycjrbm how to file a claim online click here httpsbit.lyygqmvq we appreciate the opportunity to meet your benefit needs. if you have\n",
      "any questions, we have experienced service specialists available to help you monday through friday, a.m. to p.m. eastern time. original message.jarod,\n",
      "that is fine, for claimants doctors to send information to unum, they can use this email as well, correct? can you send me the claim package claimants\n",
      "receive, so i know how to advise them. thanks, webdy on wed, jul , , pm wrote hi wendy, thank you for contacting ask unum i hope this finds you well.\n",
      "i do not show that this policy is set up to file telephonic claims. if you are interested in this service, please let us know, and we would be happy\n",
      "to partner with your client specialist to look into this for you otherwise, please let us know if you need any additional assistance. have a nice day\n",
      "thank you, jarod hobbs service specialist client success organization askunum unum covid response click herehttpsbit.lycjrbm how to file a claim\n",
      "online click herehttpsbit.lyygqmvq we appreciate the opportunity to meet your benefit needs. if you have any questions, we have experienced service\n",
      "specialists available to help you monday through friday, a.m. to p.m. eastern time. original message.jarod, that is fine, for claimants doctors to\n",
      "send information to unum, they can use this email as well, correct? can you send me the claim package claimants receive, so i know how to advise them.\n",
      "thanks, webdy on wed, jul , , pm wrote hi wendy, thank you for contacting ask unum i hope this finds you well. i do not show that this policy is set\n",
      "up to file telephonic claims. if you are interested in this service, please let us know, and we would be happy to partner with your client specialist\n",
      "to look into this for you otherwise, please let us know if you need any additional assistance. have a nice day thank you, jarod hobbs service\n",
      "specialist client success organization askunum unum covid response click herehttpsbit.lycjrbm how to file a claim online click herehttpsbit.lyygqmvq\n",
      "we appreciate the opportunity to meet your benefit needs. if you have any questions, we have experienced service specialists available to help you\n",
      "monday through friday, a.m. to p.m. eastern time. original message.policyholder name three rivers workforce investment boardpolicy numbers only\n",
      "include applicableproductsltd std life and add new contact or replacement?wendy weiskircher of requestplease remove mccrae martino and replace with\n",
      "wendy. she would like to be emailed as well on all claimant communication regarding approval of claims. example policyholder namejohn doe\n",
      "companypolicy numbers only include applicabler, productslifeadd, std, ltdnew contact or replacement?jane doesummary of requestplease replace john doe\n",
      "with jane doe or keep john doe and add jane doe as another claims contact thank you, teffany hill service specialist client success organization\n",
      "askunum askunumunum.com mailtoaskunumunum.com unum covid response click here httpsbit.lycjrbm how to file a claim online click here httpsbit.lyygqmvq\n",
      "we appreciate the opportunity to meet your benefit needs. if you have any questions, we have experienced service specialists available to help you\n",
      "monday through friday, a.m. to p.m. eastern time. original message.hello wendy, thank you for your email. we have removed mccrae martino and replaced\n",
      "you as the overall plan administrator. we are also partnering with the claims team to add you to all claims correspondence. please let us know if we\n",
      "can further assist you. have a great day. thank you, teffany hill service specialist client success organization askunum askunumunum.com\n",
      "mailtoaskunumunum.com unum covid response click here httpsbit.lycjrbm how to file a claim online click here httpsbit.lyygqmvq we appreciate the\n",
      "opportunity to meet your benefit needs. if you have any questions, we have experienced service specialists available to help you monday through\n",
      "friday, a.m. to p.m. eastern time. original message original message.thanks teffany. wendy on wed, jul , , pm wrote hello wendy, thank you for your\n",
      "email. we have removed mccrae martino and replaced you as the overall plan administrator. we are also partnering with the claims team to add you to\n",
      "all claims correspondence. please let us know if we can further assist you. have a great day. thank you, teffany hill service specialist client\n",
      "success organization askunum unum covid response click herehttpsbit.lycjrbm how to file a claim online click herehttpsbit.lyygqmvq we appreciate the\n",
      "opportunity to meet your benefit needs. if you have any questions, we have experienced service specialists available to help you monday through\n",
      "friday, a.m. to p.m. eastern time. original message original message.hello wendy, thank you for your response there is not a claim package that\n",
      "claimants receive other than the attached claim forms. the askunumunum.com email address is specifically used for plan administrators and brokers. if\n",
      "a doctor needs to submit claim information we ask that they fax the information to . please let us know if you have questions or need further\n",
      "information that we can assist you with. thank you, jamie ewing service specialist unum client service center askunum askunumunum.com we appreciate\n",
      "the opportunity to meet your benefit needs. if you have any questions, we have experienced service specialists available to help you monday through\n",
      "friday, a.m. to p.m. eastern time. for information and resources regarding unums covid response and faqs, visit unum.comcovid original message\n",
      "\n",
      "**************************************************\n",
      "*********  Client TextBody ********\n",
      "**************************************************\n",
      "\n",
      "thanks james, long term disability in following our policy would only also be a disabled situation, so no partial benefits as well, correct? wendy\n",
      "wendy weiskircher director of human resources partnerwork building tomorrows workforce. today. on wed, jul , at am wrote hello wendy, thanks for\n",
      "contacting ask unum, i hope this finds you well this is a follow up to the call we recently had regarding claims provisions. ive attached this groups\n",
      "std benefit provisions, the std and ltd claim forms, and the employee claims brochure to this email for review. please dont hesitate to reach out if\n",
      "you have any issues accessing these attachments. please feel free to reach out with any questions. have a great day thank you, james watson service\n",
      "specialist associate client success organization askunum unum covid response click herehttpsbit.lycjrbm how to file a claim online click\n",
      "herehttpsbit.lyygqmvq we appreciate the opportunity to meet your benefit needs. if you have any questions, we have experienced service specialists\n",
      "available to help you monday through friday, a.m. to p.m. eastern time. refdgrzm.xdflref.thanks james, long term disability in following our policy\n",
      "would only also be a disabled situation, so no partial benefits as well, correct? wendy wendy weiskircher director of human resources partnerwork\n",
      "building tomorrows workforce. today. on wed, jul , at am wrote hello wendy, thanks for contacting ask unum, i hope this finds you well this is a\n",
      "follow up to the call we recently had regarding claims provisions. ive attached this groups std benefit provisions, the std and ltd claim forms, and\n",
      "the employee claims brochure to this email for review. please dont hesitate to reach out if you have any issues accessing these attachments. please\n",
      "feel free to reach out with any questions. have a great day thank you, james watson service specialist associate client success organization askunum\n",
      "unum covid response click herehttpsbit.lycjrbm how to file a claim online click herehttpsbit.lyygqmvq we appreciate the opportunity to meet your\n",
      "benefit needs. if you have any questions, we have experienced service specialists available to help you monday through friday, a.m. to p.m. eastern\n",
      "time. dgrzm.xdflref.james, also, do we have an employer assigned tollfree number where they can file a claim, if not will just direct them to the\n",
      "online submittal. wendy wendy weiskircher director of human resources partnerwork building tomorrows workforce. today. on wed, jul , at am wrote hello\n",
      "wendy, thanks for contacting ask unum, i hope this finds you well this is a follow up to the call we recently had regarding claims provisions. ive\n",
      "attached this groups std benefit provisions, the std and ltd claim forms, and the employee claims brochure to this email for review. please dont\n",
      "hesitate to reach out if you have any issues accessing these attachments. please feel free to reach out with any questions. have a great day thank\n",
      "you, james watson service specialist associate client success organization askunum unum covid response click herehttpsbit.lycjrbm how to file a claim\n",
      "online click herehttpsbit.lyygqmvq we appreciate the opportunity to meet your benefit needs. if you have any questions, we have experienced service\n",
      "specialists available to help you monday through friday, a.m. to p.m. eastern time. refdgrzm.xdflref.james, also, do we have an employer assigned\n",
      "tollfree number where they can file a claim, if not will just direct them to the online submittal. wendy wendy weiskircher director of human resources\n",
      "partnerwork building tomorrows workforce. today. on wed, jul , at am wrote hello wendy, thanks for contacting ask unum, i hope this finds you well\n",
      "this is a follow up to the call we recently had regarding claims provisions. ive attached this groups std benefit provisions, the std and ltd claim\n",
      "forms, and the employee claims brochure to this email for review. please dont hesitate to reach out if you have any issues accessing these\n",
      "attachments. please feel free to reach out with any questions. have a great day thank you, james watson service specialist associate client success\n",
      "organization askunum unum covid response click herehttpsbit.lycjrbm how to file a claim online click herehttpsbit.lyygqmvq we appreciate the\n",
      "opportunity to meet your benefit needs. if you have any questions, we have experienced service specialists available to help you monday through\n",
      "friday, a.m. to p.m. eastern time. dgrzm.xdflref.to whom it may concern i am writing as a decision maker on the plan and the replacement for mccrae\n",
      "martino as the new plan administrator for unum. please remove mccrae martino as the plan administrator since she is no longer with our company, and\n",
      "replace it with my name, wendy weiskircher, director of human resources, as the new plan administrator. our company is trwib, inc. three rivers\n",
      "workforce investment board. my phone number is work number direct line, and my mobile number is where i can best be reached right now since we are not\n",
      "in the office due to covid. also, for all claimant correspondence being mailed to claimants on approval of their claims, plus also notate on our\n",
      "company account, that i would like to be emailed as well on all claimant communication regarding approval of claims, so that i can best assist\n",
      "claimants to navigate the claims process, and to inform them when they need to submit doctor information, etc. please add my email address to all\n",
      "claimant letters of claim approval and claims correspondence, etc. please confirm receipt of these changes, and if you require any additional\n",
      "information to process these changes. thank you, wendy weiskircher wendy weiskircher director of human resources partnerwork building tomorrows\n",
      "workforce. today..jarod, that is fine, for claimants doctors to send information to unum, they can use this email as well, correct? can you send me\n",
      "the claim package claimants receive, so i know how to advise them. thanks, webdy on wed, jul , , pm wrote hi wendy, thank you for contacting ask unum\n",
      "i hope this finds you well. i do not show that this policy is set up to file telephonic claims. if you are interested in this service, please let us\n",
      "know, and we would be happy to partner with your client specialist to look into this for you otherwise, please let us know if you need any additional\n",
      "assistance. have a nice day thank you, jarod hobbs service specialist client success organization askunum unum covid response click\n",
      "herehttpsbit.lycjrbm how to file a claim online click herehttpsbit.lyygqmvq we appreciate the opportunity to meet your benefit needs. if you have any\n",
      "questions, we have experienced service specialists available to help you monday through friday, a.m. to p.m. eastern time. original message.jarod,\n",
      "that is fine, for claimants doctors to send information to unum, they can use this email as well, correct? can you send me the claim package claimants\n",
      "receive, so i know how to advise them. thanks, webdy on wed, jul , , pm wrote hi wendy, thank you for contacting ask unum i hope this finds you well.\n",
      "i do not show that this policy is set up to file telephonic claims. if you are interested in this service, please let us know, and we would be happy\n",
      "to partner with your client specialist to look into this for you otherwise, please let us know if you need any additional assistance. have a nice day\n",
      "thank you, jarod hobbs service specialist client success organization askunum unum covid response click herehttpsbit.lycjrbm how to file a claim\n",
      "online click herehttpsbit.lyygqmvq we appreciate the opportunity to meet your benefit needs. if you have any questions, we have experienced service\n",
      "specialists available to help you monday through friday, a.m. to p.m. eastern time. original message.thanks teffany. wendy on wed, jul , , pm wrote\n",
      "hello wendy, thank you for your email. we have removed mccrae martino and replaced you as the overall plan administrator. we are also partnering with\n",
      "the claims team to add you to all claims correspondence. please let us know if we can further assist you. have a great day. thank you, teffany hill\n",
      "service specialist client success organization askunum unum covid response click herehttpsbit.lycjrbm how to file a claim online click\n",
      "herehttpsbit.lyygqmvq we appreciate the opportunity to meet your benefit needs. if you have any questions, we have experienced service specialists\n",
      "available to help you monday through friday, a.m. to p.m. eastern time. original message original message\n",
      "\n",
      "**************************************************\n",
      "*********  Latest Parent_ID TextBody ********\n",
      "**************************************************\n",
      "\n",
      "policy three rivers workforce investment board hello wendy, hope you are having a good day thank you for calling us today. it was a pleasure speaking\n",
      "with you attached is the spreadsheet comparing the differences in premium after making the salary updates. it has been my pleasure assisting you.\n",
      "please let us know if you have any questions or if there is anything else we can do to assist you. have a wonderful day thank you, caryn lynn service\n",
      "specialist client success organization askunum askunumunum.com mailtoaskunumunum.com unum covid response click here httpsbit.lycjrbm how to file a\n",
      "claim online click here httpsbit.lyygqmvq we appreciate the opportunity to meet your benefit needs. if you have any questions, we have experienced\n",
      "service specialists available to help you monday through friday, a.m. to p.m. eastern time. refdgrzm.xioref.james, also, do we have an employer\n",
      "assigned tollfree number where they can file a claim, if not will just direct them to the online submittal. wendy wendy weiskircher director of human\n",
      "resources partnerwork building tomorrows workforce. today. on wed, jul , at am wrote hello wendy, thanks for contacting ask unum, i hope this finds\n",
      "you well this is a follow up to the call we recently had regarding claims provisions. ive attached this groups std benefit provisions, the std and ltd\n",
      "claim forms, and the employee claims brochure to this email for review. please dont hesitate to reach out if you have any issues accessing these\n",
      "attachments. please feel free to reach out with any questions. have a great day thank you, james watson service specialist associate client success\n",
      "organization askunum unum covid response click herehttpsbit.lycjrbm how to file a claim online click herehttpsbit.lyygqmvq we appreciate the\n",
      "opportunity to meet your benefit needs. if you have any questions, we have experienced service specialists available to help you monday through\n",
      "friday, a.m. to p.m. eastern time. refdgrzm.xdflref.hello wendy, thank you for your email. this is what is in the long term disability policy. how\n",
      "does unum define disability? you are disabled when unum determines that you are limited from performing the material and substantial duties of\n",
      "yourregular occupation due to your sickness or injury; and you have a or more loss in your indexed monthly earnings due to the same sickness or\n",
      "injury. i hope this information is helpful. please let us know if we can further assist you. have a great day. thank you, teffany hill service\n",
      "specialist client success organization askunum askunumunum.com mailtoaskunumunum.com unum covid response click here httpsbit.lycjrbm how to file a\n",
      "claim online click here httpsbit.lyygqmvq we appreciate the opportunity to meet your benefit needs. if you have any questions, we have experienced\n",
      "service specialists available to help you monday through friday, a.m. to p.m. eastern time. original message.jarod, that is fine, for claimants\n",
      "doctors to send information to unum, they can use this email as well, correct? can you send me the claim package claimants receive, so i know how to\n",
      "advise them. thanks, webdy on wed, jul , , pm wrote hi wendy, thank you for contacting ask unum i hope this finds you well. i do not show that this\n",
      "policy is set up to file telephonic claims. if you are interested in this service, please let us know, and we would be happy to partner with your\n",
      "client specialist to look into this for you otherwise, please let us know if you need any additional assistance. have a nice day thank you, jarod\n",
      "hobbs service specialist client success organization askunum unum covid response click herehttpsbit.lycjrbm how to file a claim online click\n",
      "herehttpsbit.lyygqmvq we appreciate the opportunity to meet your benefit needs. if you have any questions, we have experienced service specialists\n",
      "available to help you monday through friday, a.m. to p.m. eastern time. original message.hi team is it possible to call the pa back for the above\n",
      "group? she called today but had to hang up as she had to call the employee, however, she had questions regarding a hypothetical claims scenario and\n",
      "wanted to speak to someone that can direct her better. there is an employee who is going to start chemo. he will have one week of chemo, in which he\n",
      "will not work, then two weeks off where he will be working. and will go through this cycle different times. they are wanting to know if this will meet\n",
      "the definition of disability, or will it not since the ee is returning to work during the two weeks off. is there anyone that can call her back to\n",
      "discuss this situation? she was very adamant about speaking with someone rather than emailing, which is why im reaching out to your team. pa wendy\n",
      "weiskircher wweiskircherpartnerwork.org thank you, hayleigh lewis service specialist client success organization askunum askunumunum.com\n",
      "mailtoaskunumunum.com unum covid response click here httpsbit.lycjrbm how to file a claim online click here httpsbit.lyygqmvq we appreciate the\n",
      "opportunity to meet your benefit needs. if you have any questions, we have experienced service specialists available to help you monday through\n",
      "friday, a.m. to p.m. eastern time. refdgrzm.xgptref.thanks teffany. wendy on wed, jul , , pm wrote hello wendy, thank you for your email. we have\n",
      "removed mccrae martino and replaced you as the overall plan administrator. we are also partnering with the claims team to add you to all claims\n",
      "correspondence. please let us know if we can further assist you. have a great day. thank you, teffany hill service specialist client success\n",
      "organization askunum unum covid response click herehttpsbit.lycjrbm how to file a claim online click herehttpsbit.lyygqmvq we appreciate the\n",
      "opportunity to meet your benefit needs. if you have any questions, we have experienced service specialists available to help you monday through\n",
      "friday, a.m. to p.m. eastern time. original message original message.hello wendy, thank you for your response there is not a claim package that\n",
      "claimants receive other than the attached claim forms. the askunumunum.com email address is specifically used for plan administrators and brokers. if\n",
      "a doctor needs to submit claim information we ask that they fax the information to . please let us know if you have questions or need further\n",
      "information that we can assist you with. thank you, jamie ewing service specialist unum client service center askunum askunumunum.com we appreciate\n",
      "the opportunity to meet your benefit needs. if you have any questions, we have experienced service specialists available to help you monday through\n",
      "friday, a.m. to p.m. eastern time. for information and resources regarding unums covid response and faqs, visit unum.comcovid original message\n",
      "\n",
      "********************************************************************************************************************************************************************************************************\n",
      "\n",
      "**************************************************\n",
      "*********  Full TextBody ********\n",
      "**************************************************\n",
      "\n",
      "hi, ask unum can you provide bonnie with the latest and greatest forms for her plan with a cc to me? thank you hi, bonnie im tied up on a series of\n",
      "calls this afternoon so wanted to get this to the team to assist you with this. have a great afternoon, everyone.hi bonnie, thank you for your email.\n",
      "the forms were correct for everything other than the flyer. i have attached the updated one here the actual conversion and portability forms that you\n",
      "provided are still the current forms. if there is anything else that we can assist with, please do not hesitate to reach out thank you and have a\n",
      "great day jesse villines service specialist associate unum client service center askunum askunumunum.com we appreciate the opportunity to meet your\n",
      "benefit needs. if you have any questions, we have experienced service specialists available to help you monday through friday, a.m. to p.m. eastern\n",
      "time. for information and resources regarding unums covid response and faqs, visit unum.comcovid original message.thank you bonnie mclean manager, hr\n",
      "operations technology taubman e. long lake rd., suite bloomfield hills, mi t .. email website description p please consider the environment before\n",
      "printing this email.\n",
      "\n",
      "**************************************************\n",
      "*********  Client TextBody ********\n",
      "**************************************************\n",
      "\n",
      "hi, ask unum can you provide bonnie with the latest and greatest forms for her plan with a cc to me? thank you hi, bonnie im tied up on a series of\n",
      "calls this afternoon so wanted to get this to the team to assist you with this. have a great afternoon, everyone.thank you bonnie mclean manager, hr\n",
      "operations technology taubman e. long lake rd., suite bloomfield hills, mi t .. email website description p please consider the environment before\n",
      "printing this email.\n",
      "\n",
      "**************************************************\n",
      "*********  Latest Parent_ID TextBody ********\n",
      "**************************************************\n",
      "\n",
      "thank you bonnie mclean manager, hr operations technology taubman e. long lake rd., suite bloomfield hills, mi t .. email website description p please\n",
      "consider the environment before printing this email.\n",
      "\n",
      "********************************************************************************************************************************************************************************************************\n",
      "\n",
      "**************************************************\n",
      "*********  Full TextBody ********\n",
      "**************************************************\n",
      "\n",
      "good morning, could you please assist me and provide the most recent unum invoice and most recent member eligibility roster including both ee and dep\n",
      "for basic lifeadd, vol lifeadd, std and ltd .excel format would be most helpful. thank you for the latest covid updates, please check out alera groups\n",
      "coronavirus resource britni williams assistant client manager n. northsight blvd, suite scottsdale, az office .. mobile .. confidentiality notice\n",
      "hipaa compliance if you have received this email in error, please immediately notify the sender by email at the address shown. this email transmission\n",
      "may contain confidential information. this information is intended only for the use of the individuals or entity of whom it is intended even if\n",
      "addressed incorrectly. please delete from your files if you are not the intended recipient. thank you for your compliance. please note that benefit\n",
      "commerce group, an alera group company, is not a tax advisor or law firm and, therefore, cannot provide tax or legal advice. we rely on compliance\n",
      "guidance and support from our outside counsel and share that with our clients; however, this general guidance cannot be relied upon as tax or legal\n",
      "advice. clients wishing to obtain tax or legal advice should consult directly with their tax advisors or legal counsel.., and hi britini, thank you\n",
      "for your email. i have attached the requested information. please let us know if we may assist you any further and please have a great rest of the day\n",
      "thank you, manny muniz service specialist client success organization askunum askunumunum.com unum covid response click here how to file a claim\n",
      "online click here we appreciate the opportunity to meet your benefit needs. if you have any questions, we have experienced service specialists\n",
      "available to help you monday through friday, a.m. to p.m. eastern time. original message\n",
      "\n",
      "**************************************************\n",
      "*********  Client TextBody ********\n",
      "**************************************************\n",
      "\n",
      "good morning, could you please assist me and provide the most recent unum invoice and most recent member eligibility roster including both ee and dep\n",
      "for basic lifeadd, vol lifeadd, std and ltd .excel format would be most helpful. thank you for the latest covid updates, please check out alera groups\n",
      "coronavirus resource britni williams assistant client manager n. northsight blvd, suite scottsdale, az office .. mobile .. confidentiality notice\n",
      "hipaa compliance if you have received this email in error, please immediately notify the sender by email at the address shown. this email transmission\n",
      "may contain confidential information. this information is intended only for the use of the individuals or entity of whom it is intended even if\n",
      "addressed incorrectly. please delete from your files if you are not the intended recipient. thank you for your compliance. please note that benefit\n",
      "commerce group, an alera group company, is not a tax advisor or law firm and, therefore, cannot provide tax or legal advice. we rely on compliance\n",
      "guidance and support from our outside counsel and share that with our clients; however, this general guidance cannot be relied upon as tax or legal\n",
      "advice. clients wishing to obtain tax or legal advice should consult directly with their tax advisors or legal counsel.\n",
      "\n",
      "**************************************************\n",
      "*********  Latest Parent_ID TextBody ********\n",
      "**************************************************\n",
      "\n",
      ", and hi britini, thank you for your email. i have attached the requested information. please let us know if we may assist you any further and please\n",
      "have a great rest of the day thank you, manny muniz service specialist client success organization askunum askunumunum.com unum covid response click\n",
      "here how to file a claim online click here we appreciate the opportunity to meet your benefit needs. if you have any questions, we have experienced\n",
      "service specialists available to help you monday through friday, a.m. to p.m. eastern time. original message\n",
      "\n",
      "********************************************************************************************************************************************************************************************************\n"
     ]
    }
   ],
   "source": [
    "import textwrap\n",
    "import random\n",
    "\n",
    "# Wrap text to 80 characters.\n",
    "wrapper = textwrap.TextWrapper(width=150) \n",
    "\n",
    "exam_1 = df[\"Full_TextBody\"]\n",
    "exam_2 = df[\"Client_TextBody\"]\n",
    "exam_3 = df[\"Latest_TextBody\"]\n",
    "\n",
    "# Randomly choose some examples.\n",
    "for i in range(3):\n",
    "    random.seed(101+i)\n",
    "    j = random.choice(exam_1.index)\n",
    "    \n",
    "    print('')\n",
    "    print(\"*\"*50)\n",
    "    print('*********  Full TextBody ********')\n",
    "    print(\"*\"*50)\n",
    "    print('')\n",
    "    print(wrapper.fill(exam_1[j]))\n",
    "    print('')\n",
    "    print(\"*\"*50)\n",
    "    print('*********  Client TextBody ********')\n",
    "    print(\"*\"*50)\n",
    "    print('')\n",
    "    print(wrapper.fill(exam_2[j]))\n",
    "    print('')\n",
    "    print(\"*\"*50)\n",
    "    print('*********  Latest Parent_ID TextBody ********')\n",
    "    print(\"*\"*50)\n",
    "    print('')\n",
    "    print(wrapper.fill(exam_3[j]))\n",
    "    print('')\n",
    "    print(\"*\"*200)"
   ]
  },
  {
   "cell_type": "code",
   "execution_count": null,
   "id": "af33f005-f4cf-4038-a61a-736df397ad65",
   "metadata": {},
   "outputs": [],
   "source": []
  }
 ],
 "metadata": {
  "kernelspec": {
   "display_name": "conda_amazonei_pytorch_latest_p37",
   "language": "python",
   "name": "conda_amazonei_pytorch_latest_p37"
  },
  "language_info": {
   "codemirror_mode": {
    "name": "ipython",
    "version": 3
   },
   "file_extension": ".py",
   "mimetype": "text/x-python",
   "name": "python",
   "nbconvert_exporter": "python",
   "pygments_lexer": "ipython3",
   "version": "3.7.12"
  }
 },
 "nbformat": 4,
 "nbformat_minor": 5
}
