{
 "cells": [
  {
   "cell_type": "code",
   "execution_count": 1,
   "id": "506db261-7954-4f55-a7c7-82747916a87f",
   "metadata": {},
   "outputs": [
    {
     "name": "stderr",
     "output_type": "stream",
     "text": [
      "/home/ec2-user/anaconda3/envs/test/lib/python3.8/site-packages/tqdm/auto.py:22: TqdmWarning: IProgress not found. Please update jupyter and ipywidgets. See https://ipywidgets.readthedocs.io/en/stable/user_install.html\n",
      "  from .autonotebook import tqdm as notebook_tqdm\n",
      "Some weights of the model checkpoint at bert-large-uncased were not used when initializing BertForMaskedLM: ['cls.seq_relationship.weight', 'cls.seq_relationship.bias']\n",
      "- This IS expected if you are initializing BertForMaskedLM from the checkpoint of a model trained on another task or with another architecture (e.g. initializing a BertForSequenceClassification model from a BertForPreTraining model).\n",
      "- This IS NOT expected if you are initializing BertForMaskedLM from the checkpoint of a model that you expect to be exactly identical (initializing a BertForSequenceClassification model from a BertForSequenceClassification model).\n"
     ]
    }
   ],
   "source": [
    "import pandas as pd\n",
    "import numpy as np\n",
    "import os\n",
    "from tqdm import tqdm\n",
    "tqdm.pandas(position=0,leave=True)\n",
    "import textwrap\n",
    "import random\n",
    "import time \n",
    "\n",
    "import spacy\n",
    "nlp = spacy.load(\"en_core_web_md\")\n",
    "\n",
    "from transformers import AutoModelForMaskedLM , AutoTokenizer\n",
    "import torch\n",
    "from NLP_prompt import Prompting\n",
    "\n",
    "import warnings\n",
    "warnings.filterwarnings(\"ignore\")\n",
    "\n",
    "model_path=\"bert-large-uncased\"\n",
    "tokenizer = AutoTokenizer.from_pretrained(model_path)\n",
    "prompting= Prompting(model=model_path)\n",
    "device=torch.device(\"cuda\" if torch.cuda.is_available() else \"cpu\")"
   ]
  },
  {
   "cell_type": "code",
   "execution_count": 2,
   "id": "91bc620d-cfdd-4dd0-8f5c-764e8684b40e",
   "metadata": {},
   "outputs": [],
   "source": [
    "# my_folder=\"s3://trident-retention-output/\"\n",
    "\n",
    "# #### Askunum text data ####\n",
    "# askunum_text=pd.DataFrame()\n",
    "# for year in [2018,2019,2020,2021,2022]:\n",
    "#     new_data=pd.read_csv(os.path.join(my_folder,f\"askunum_textbody_{year}\"+\".csv\"))\n",
    "#     askunum_text=pd.concat([askunum_text,new_data])\n",
    "#     print(\"{:<15}{:<20,}\".format(year,new_data.shape[0]))\n",
    "    \n",
    "# askunum_text.drop(['Unnamed: 0'],axis=1,inplace=True)\n",
    "# askunum_text['unum_id']=askunum_text['unum_id'].astype(int).astype(str)\n",
    "# askunum_text.sort_values([\"unum_id\",\"year\",\"month\",\"MessageDate\"],inplace=True,ascending=True)"
   ]
  },
  {
   "cell_type": "code",
   "execution_count": 3,
   "id": "21fae6f1-748c-45e6-994a-20b2ff1b18f5",
   "metadata": {},
   "outputs": [],
   "source": [
    "# start=time.time()\n",
    "# df=askunum_text.groupby([\"ParentId\",\"account_id\",\"unum_id\"])['TextBody'].apply(lambda x: \" \".join(x)).reset_index()\n",
    "# df=df.drop_duplicates()\n",
    "# end=time.time()\n",
    "# print(\"It take {:.4f} second to group data\".format(end-start))"
   ]
  },
  {
   "cell_type": "code",
   "execution_count": 4,
   "id": "453221f0-f1ab-4ffd-aedc-bc497438ce96",
   "metadata": {},
   "outputs": [],
   "source": [
    "# def truncation_text(X):\n",
    "#     max_seq_length=tokenizer.model_max_length\n",
    "#     truncated_input_ids=tokenizer(X,truncation=False,return_tensors=\"pt\",add_special_tokens=False)['input_ids']\n",
    "#     truncated_input_ids=truncated_input_ids[:,0:(max_seq_length - 2-2-6)].squeeze() ## 2 special tokens + 2 tokens for prefix-prompt: \"email:\"+ 6 tokens for post-prompt : \".this email has [MASK] sentiment\"  \n",
    "#     return tokenizer.decode(truncated_input_ids)\n",
    "\n",
    "# df[\"truncated_TextBody\"]=df[\"TextBody\"].progress_apply(truncation_text)\n",
    "\n",
    "# output_dir=\"s3://trident-retention-output/output/\"\n",
    "# df.to_pickle(os.path.join(output_dir,\"askunum_text_truncation\"))"
   ]
  },
  {
   "cell_type": "code",
   "execution_count": null,
   "id": "75844a3d-c508-48c0-be4c-c5d6ec789b1d",
   "metadata": {},
   "outputs": [],
   "source": [
    "# start=time.time()\n",
    "# output_dir=\"s3://trident-retention-output/output/\"\n",
    "# df=pd.read_pickle(os.path.join(output_dir,\"askunum_text_truncation\"))\n",
    "# end=time.time()\n",
    "# print(\"It take {:.4f} second to read data\".format(end-start))"
   ]
  },
  {
   "cell_type": "code",
   "execution_count": 6,
   "id": "501045f0-717f-47cc-b232-4fd741c08510",
   "metadata": {},
   "outputs": [
    {
     "data": {
      "text/plain": [
       "0.8184394836425781"
      ]
     },
     "execution_count": 6,
     "metadata": {},
     "output_type": "execute_result"
    }
   ],
   "source": [
    "prefix_prompt=\"email:\"\n",
    "post_prompt=\".this email has [MASK] sentiment\"\n",
    "\n",
    "threshold=prompting.compute_tokens_prob(prefix_prompt+post_prompt, token_list1=[\"positive\",\"neutral\"], token_list2= [\"negative\"],device=device)[0].item()\n",
    "threshold"
   ]
  },
  {
   "cell_type": "code",
   "execution_count": null,
   "id": "dad804b7-361f-4e08-bc0f-ff83c3692a03",
   "metadata": {},
   "outputs": [],
   "source": [
    "# def zero_shot_prompt(text):\n",
    "#     text=prefix_prompt+text+post_prompt\n",
    "#     prob=prompting.compute_tokens_prob(text, token_list1=[\"positive\",\"neutral\"], token_list2= [\"negative\"])[0].item()\n",
    "#     return prob\n",
    "\n",
    "# df1=df.sample(n=15000,random_state=102)\n",
    "# df1[\"probability\"]=df1[\"truncated_TextBody\"].progress_apply(zero_shot_prompt)\n",
    "# df1.sort_values(\"probability\",ascending=True,inplace=True)\n",
    "\n",
    "\n",
    "# df1.to_pickle(os.path.join(output_dir,\"askunum_text_sentiment_v2\"))"
   ]
  },
  {
   "cell_type": "code",
   "execution_count": 8,
   "id": "b79626b2-d7c5-4c3d-a9c3-33c66b026019",
   "metadata": {},
   "outputs": [
    {
     "data": {
      "text/html": [
       "<div>\n",
       "<style scoped>\n",
       "    .dataframe tbody tr th:only-of-type {\n",
       "        vertical-align: middle;\n",
       "    }\n",
       "\n",
       "    .dataframe tbody tr th {\n",
       "        vertical-align: top;\n",
       "    }\n",
       "\n",
       "    .dataframe thead th {\n",
       "        text-align: right;\n",
       "    }\n",
       "</style>\n",
       "<table border=\"1\" class=\"dataframe\">\n",
       "  <thead>\n",
       "    <tr style=\"text-align: right;\">\n",
       "      <th></th>\n",
       "      <th>ParentId</th>\n",
       "      <th>account_id</th>\n",
       "      <th>unum_id</th>\n",
       "      <th>TextBody</th>\n",
       "      <th>truncated_TextBody</th>\n",
       "      <th>probability</th>\n",
       "    </tr>\n",
       "  </thead>\n",
       "  <tbody>\n",
       "    <tr>\n",
       "      <th>1617376</th>\n",
       "      <td>5003x000029QWWGAA4</td>\n",
       "      <td>0010c00002CokN3</td>\n",
       "      <td>850367362</td>\n",
       "      <td>unum covid-19 response - how to file a claim o...</td>\n",
       "      <td>unum covid - 19 response - how to file a claim...</td>\n",
       "      <td>0.188307</td>\n",
       "    </tr>\n",
       "    <tr>\n",
       "      <th>1906023</th>\n",
       "      <td>5003x00002Ei1r3AAB</td>\n",
       "      <td>001a000001WwWIC</td>\n",
       "      <td>189339935</td>\n",
       "      <td>gsc-mi kelsey caraway client name highlight in...</td>\n",
       "      <td>gsc - mi kelsey caraway client name highlight ...</td>\n",
       "      <td>0.246644</td>\n",
       "    </tr>\n",
       "    <tr>\n",
       "      <th>1185856</th>\n",
       "      <td>5003x000021UovvAAC</td>\n",
       "      <td>001a000001cqn74</td>\n",
       "      <td>293041571</td>\n",
       "      <td>please be advised that these employees wefurlo...</td>\n",
       "      <td>please be advised that these employees wefurlo...</td>\n",
       "      <td>0.349043</td>\n",
       "    </tr>\n",
       "    <tr>\n",
       "      <th>607755</th>\n",
       "      <td>5000c00001pJ123AAC</td>\n",
       "      <td>00130000018lyCQ</td>\n",
       "      <td>536776</td>\n",
       "      <td>pn 516239 the attached customerequest was rece...</td>\n",
       "      <td>pn 516239 the attached customerequest was rece...</td>\n",
       "      <td>0.349775</td>\n",
       "    </tr>\n",
       "    <tr>\n",
       "      <th>472949</th>\n",
       "      <td>5000c00001ki5XKAAY</td>\n",
       "      <td>001a000001q2FSx</td>\n",
       "      <td>528325726</td>\n",
       "      <td>darcy millelast day of employment 1/11/19. ple...</td>\n",
       "      <td>darcy millelast day of employment 1 / 11 / 19....</td>\n",
       "      <td>0.359935</td>\n",
       "    </tr>\n",
       "  </tbody>\n",
       "</table>\n",
       "</div>"
      ],
      "text/plain": [
       "                   ParentId       account_id    unum_id  \\\n",
       "1617376  5003x000029QWWGAA4  0010c00002CokN3  850367362   \n",
       "1906023  5003x00002Ei1r3AAB  001a000001WwWIC  189339935   \n",
       "1185856  5003x000021UovvAAC  001a000001cqn74  293041571   \n",
       "607755   5000c00001pJ123AAC  00130000018lyCQ     536776   \n",
       "472949   5000c00001ki5XKAAY  001a000001q2FSx  528325726   \n",
       "\n",
       "                                                  TextBody  \\\n",
       "1617376  unum covid-19 response - how to file a claim o...   \n",
       "1906023  gsc-mi kelsey caraway client name highlight in...   \n",
       "1185856  please be advised that these employees wefurlo...   \n",
       "607755   pn 516239 the attached customerequest was rece...   \n",
       "472949   darcy millelast day of employment 1/11/19. ple...   \n",
       "\n",
       "                                        truncated_TextBody  probability  \n",
       "1617376  unum covid - 19 response - how to file a claim...     0.188307  \n",
       "1906023  gsc - mi kelsey caraway client name highlight ...     0.246644  \n",
       "1185856  please be advised that these employees wefurlo...     0.349043  \n",
       "607755   pn 516239 the attached customerequest was rece...     0.349775  \n",
       "472949   darcy millelast day of employment 1 / 11 / 19....     0.359935  "
      ]
     },
     "execution_count": 8,
     "metadata": {},
     "output_type": "execute_result"
    }
   ],
   "source": [
    "output_dir=\"s3://trident-retention-output/output/\"\n",
    "df=pd.read_pickle(os.path.join(output_dir,\"askunum_text_sentiment_v2\"))\n",
    "df.head()"
   ]
  },
  {
   "cell_type": "code",
   "execution_count": 12,
   "id": "aed21467-d52b-438f-a581-85dbcece74fc",
   "metadata": {},
   "outputs": [
    {
     "name": "stderr",
     "output_type": "stream",
     "text": [
      "100%|██████████| 15000/15000 [00:00<00:00, 1120433.11it/s]\n"
     ]
    }
   ],
   "source": [
    "def assign_label(prob):\n",
    "    if prob<threshold:\n",
    "        return \"Negative\"\n",
    "    else:\n",
    "        return \"Positive or Neutral\"\n",
    "    \n",
    "df1=df.copy()\n",
    "df1[\"Predicted_sentiment\"]=df1[\"probability\"].progress_apply(assign_label)"
   ]
  },
  {
   "cell_type": "code",
   "execution_count": 13,
   "id": "791c35fa-3e9f-464f-bb28-75be3c5b4e55",
   "metadata": {},
   "outputs": [
    {
     "data": {
      "text/html": [
       "<div>\n",
       "<style scoped>\n",
       "    .dataframe tbody tr th:only-of-type {\n",
       "        vertical-align: middle;\n",
       "    }\n",
       "\n",
       "    .dataframe tbody tr th {\n",
       "        vertical-align: top;\n",
       "    }\n",
       "\n",
       "    .dataframe thead th {\n",
       "        text-align: right;\n",
       "    }\n",
       "</style>\n",
       "<table border=\"1\" class=\"dataframe\">\n",
       "  <thead>\n",
       "    <tr style=\"text-align: right;\">\n",
       "      <th></th>\n",
       "      <th>ParentId</th>\n",
       "      <th>account_id</th>\n",
       "      <th>unum_id</th>\n",
       "      <th>TextBody</th>\n",
       "      <th>truncated_TextBody</th>\n",
       "      <th>probability</th>\n",
       "      <th>Predicted_sentiment</th>\n",
       "    </tr>\n",
       "  </thead>\n",
       "  <tbody>\n",
       "    <tr>\n",
       "      <th>1617376</th>\n",
       "      <td>5003x000029QWWGAA4</td>\n",
       "      <td>0010c00002CokN3</td>\n",
       "      <td>850367362</td>\n",
       "      <td>unum covid-19 response - how to file a claim o...</td>\n",
       "      <td>unum covid - 19 response - how to file a claim...</td>\n",
       "      <td>0.188307</td>\n",
       "      <td>Negative</td>\n",
       "    </tr>\n",
       "    <tr>\n",
       "      <th>1906023</th>\n",
       "      <td>5003x00002Ei1r3AAB</td>\n",
       "      <td>001a000001WwWIC</td>\n",
       "      <td>189339935</td>\n",
       "      <td>gsc-mi kelsey caraway client name highlight in...</td>\n",
       "      <td>gsc - mi kelsey caraway client name highlight ...</td>\n",
       "      <td>0.246644</td>\n",
       "      <td>Negative</td>\n",
       "    </tr>\n",
       "  </tbody>\n",
       "</table>\n",
       "</div>"
      ],
      "text/plain": [
       "                   ParentId       account_id    unum_id  \\\n",
       "1617376  5003x000029QWWGAA4  0010c00002CokN3  850367362   \n",
       "1906023  5003x00002Ei1r3AAB  001a000001WwWIC  189339935   \n",
       "\n",
       "                                                  TextBody  \\\n",
       "1617376  unum covid-19 response - how to file a claim o...   \n",
       "1906023  gsc-mi kelsey caraway client name highlight in...   \n",
       "\n",
       "                                        truncated_TextBody  probability  \\\n",
       "1617376  unum covid - 19 response - how to file a claim...     0.188307   \n",
       "1906023  gsc - mi kelsey caraway client name highlight ...     0.246644   \n",
       "\n",
       "        Predicted_sentiment  \n",
       "1617376            Negative  \n",
       "1906023            Negative  "
      ]
     },
     "execution_count": 13,
     "metadata": {},
     "output_type": "execute_result"
    }
   ],
   "source": [
    "df1.head(2)"
   ]
  },
  {
   "cell_type": "code",
   "execution_count": 15,
   "id": "7c040bf9-9675-4bff-8eb9-f6f915f343ea",
   "metadata": {},
   "outputs": [
    {
     "data": {
      "text/plain": [
       "Positive or Neutral    14174\n",
       "Negative                 826\n",
       "Name: Predicted_sentiment, dtype: int64"
      ]
     },
     "execution_count": 15,
     "metadata": {},
     "output_type": "execute_result"
    }
   ],
   "source": [
    "df1[\"Predicted_sentiment\"].value_counts(dropna=False)"
   ]
  },
  {
   "cell_type": "code",
   "execution_count": 19,
   "id": "072abafd-d358-4f9d-ac9d-07f9dea044c1",
   "metadata": {},
   "outputs": [
    {
     "data": {
      "text/plain": [
       "Negative               100\n",
       "Positive or Neutral    100\n",
       "Name: Predicted_sentiment, dtype: int64"
      ]
     },
     "execution_count": 19,
     "metadata": {},
     "output_type": "execute_result"
    }
   ],
   "source": [
    "df2=df1.iloc[0:100]\n",
    "df2=df2.append(df1.iloc[-100:])\n",
    "df2[\"Predicted_sentiment\"].value_counts(dropna=False)"
   ]
  },
  {
   "cell_type": "code",
   "execution_count": 24,
   "id": "06549b25-90f2-4522-a1a1-83f81650172b",
   "metadata": {},
   "outputs": [],
   "source": [
    "df2.drop(\"truncated_TextBody\",axis=1,inplace=True)"
   ]
  },
  {
   "cell_type": "code",
   "execution_count": 26,
   "id": "f2d320df-095e-4df0-8f79-fb35828486e3",
   "metadata": {},
   "outputs": [],
   "source": [
    "df2.to_pickle(os.path.join(output_dir,\"askunum_email_sample\"))"
   ]
  },
  {
   "cell_type": "code",
   "execution_count": 25,
   "id": "5396dcf0-50e0-41c2-aa94-22b0329d2a47",
   "metadata": {},
   "outputs": [
    {
     "data": {
      "text/html": [
       "<div>\n",
       "<style scoped>\n",
       "    .dataframe tbody tr th:only-of-type {\n",
       "        vertical-align: middle;\n",
       "    }\n",
       "\n",
       "    .dataframe tbody tr th {\n",
       "        vertical-align: top;\n",
       "    }\n",
       "\n",
       "    .dataframe thead th {\n",
       "        text-align: right;\n",
       "    }\n",
       "</style>\n",
       "<table border=\"1\" class=\"dataframe\">\n",
       "  <thead>\n",
       "    <tr style=\"text-align: right;\">\n",
       "      <th></th>\n",
       "      <th>ParentId</th>\n",
       "      <th>account_id</th>\n",
       "      <th>unum_id</th>\n",
       "      <th>TextBody</th>\n",
       "      <th>probability</th>\n",
       "      <th>Predicted_sentiment</th>\n",
       "    </tr>\n",
       "  </thead>\n",
       "  <tbody>\n",
       "    <tr>\n",
       "      <th>1617376</th>\n",
       "      <td>5003x000029QWWGAA4</td>\n",
       "      <td>0010c00002CokN3</td>\n",
       "      <td>850367362</td>\n",
       "      <td>unum covid-19 response - how to file a claim o...</td>\n",
       "      <td>0.188307</td>\n",
       "      <td>Negative</td>\n",
       "    </tr>\n",
       "    <tr>\n",
       "      <th>1906023</th>\n",
       "      <td>5003x00002Ei1r3AAB</td>\n",
       "      <td>001a000001WwWIC</td>\n",
       "      <td>189339935</td>\n",
       "      <td>gsc-mi kelsey caraway client name highlight in...</td>\n",
       "      <td>0.246644</td>\n",
       "      <td>Negative</td>\n",
       "    </tr>\n",
       "    <tr>\n",
       "      <th>1185856</th>\n",
       "      <td>5003x000021UovvAAC</td>\n",
       "      <td>001a000001cqn74</td>\n",
       "      <td>293041571</td>\n",
       "      <td>please be advised that these employees wefurlo...</td>\n",
       "      <td>0.349043</td>\n",
       "      <td>Negative</td>\n",
       "    </tr>\n",
       "    <tr>\n",
       "      <th>607755</th>\n",
       "      <td>5000c00001pJ123AAC</td>\n",
       "      <td>00130000018lyCQ</td>\n",
       "      <td>536776</td>\n",
       "      <td>pn 516239 the attached customerequest was rece...</td>\n",
       "      <td>0.349775</td>\n",
       "      <td>Negative</td>\n",
       "    </tr>\n",
       "    <tr>\n",
       "      <th>472949</th>\n",
       "      <td>5000c00001ki5XKAAY</td>\n",
       "      <td>001a000001q2FSx</td>\n",
       "      <td>528325726</td>\n",
       "      <td>darcy millelast day of employment 1/11/19. ple...</td>\n",
       "      <td>0.359935</td>\n",
       "      <td>Negative</td>\n",
       "    </tr>\n",
       "  </tbody>\n",
       "</table>\n",
       "</div>"
      ],
      "text/plain": [
       "                   ParentId       account_id    unum_id  \\\n",
       "1617376  5003x000029QWWGAA4  0010c00002CokN3  850367362   \n",
       "1906023  5003x00002Ei1r3AAB  001a000001WwWIC  189339935   \n",
       "1185856  5003x000021UovvAAC  001a000001cqn74  293041571   \n",
       "607755   5000c00001pJ123AAC  00130000018lyCQ     536776   \n",
       "472949   5000c00001ki5XKAAY  001a000001q2FSx  528325726   \n",
       "\n",
       "                                                  TextBody  probability  \\\n",
       "1617376  unum covid-19 response - how to file a claim o...     0.188307   \n",
       "1906023  gsc-mi kelsey caraway client name highlight in...     0.246644   \n",
       "1185856  please be advised that these employees wefurlo...     0.349043   \n",
       "607755   pn 516239 the attached customerequest was rece...     0.349775   \n",
       "472949   darcy millelast day of employment 1/11/19. ple...     0.359935   \n",
       "\n",
       "        Predicted_sentiment  \n",
       "1617376            Negative  \n",
       "1906023            Negative  \n",
       "1185856            Negative  \n",
       "607755             Negative  \n",
       "472949             Negative  "
      ]
     },
     "execution_count": 25,
     "metadata": {},
     "output_type": "execute_result"
    }
   ],
   "source": [
    "df2.head()"
   ]
  },
  {
   "cell_type": "code",
   "execution_count": null,
   "id": "00e63732-12f1-4e14-85a1-c2cac6221382",
   "metadata": {},
   "outputs": [],
   "source": []
  },
  {
   "cell_type": "code",
   "execution_count": null,
   "id": "924f15ef-b6d9-4fdc-aac6-37a314a1e3df",
   "metadata": {},
   "outputs": [],
   "source": []
  },
  {
   "cell_type": "code",
   "execution_count": null,
   "id": "f141b5fe-214a-4846-bb84-fd99e7e1ddd6",
   "metadata": {},
   "outputs": [],
   "source": []
  },
  {
   "cell_type": "code",
   "execution_count": null,
   "id": "8fde8885-5240-456a-a1ea-1c0e38f1bb36",
   "metadata": {},
   "outputs": [],
   "source": []
  }
 ],
 "metadata": {
  "kernelspec": {
   "display_name": "test",
   "language": "python",
   "name": "test"
  },
  "language_info": {
   "codemirror_mode": {
    "name": "ipython",
    "version": 3
   },
   "file_extension": ".py",
   "mimetype": "text/x-python",
   "name": "python",
   "nbconvert_exporter": "python",
   "pygments_lexer": "ipython3",
   "version": "3.8.13"
  }
 },
 "nbformat": 4,
 "nbformat_minor": 5
}
