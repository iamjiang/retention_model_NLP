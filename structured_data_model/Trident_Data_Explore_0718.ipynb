{
 "cells": [
  {
   "cell_type": "code",
   "execution_count": null,
   "metadata": {
    "id": "w4Wl2qng2lUb"
   },
   "outputs": [],
   "source": [
    "# from google.colab import drive\n",
    "# drive.mount(\"/content/drive\")"
   ]
  },
  {
   "cell_type": "code",
   "execution_count": null,
   "metadata": {
    "executionInfo": {
     "elapsed": 4211,
     "status": "ok",
     "timestamp": 1657286562824,
     "user": {
      "displayName": "Chuanliang Jiang",
      "userId": "09320361112513259373"
     },
     "user_tz": 240
    },
    "id": "LoV3xmC7f6-p"
   },
   "outputs": [],
   "source": [
    "# !pip install --quiet missingno\n",
    "# !pip install --quiet lightgbm\n",
    "# !pip install bayesian-optimization\n",
    "# !pip install scikit-optimize"
   ]
  },
  {
   "cell_type": "code",
   "execution_count": 1,
   "metadata": {
    "executionInfo": {
     "elapsed": 2024,
     "status": "ok",
     "timestamp": 1657286564845,
     "user": {
      "displayName": "Chuanliang Jiang",
      "userId": "09320361112513259373"
     },
     "user_tz": 240
    },
    "id": "mtfBPVqZ2uGj"
   },
   "outputs": [],
   "source": [
    "import os\n",
    "# os.chdir(r\"/content/drive/MyDrive/billing_features/raw/\")\n",
    "import math\n",
    "import time\n",
    "import numpy as np\n",
    "import pandas as pd\n",
    "from tqdm import tqdm\n",
    "import seaborn as sns\n",
    "import pandas as pd\n",
    "import missingno as msno\n",
    "import pickle\n",
    "import lightgbm\n",
    "import xgboost as xgb\n",
    "#tuning hyperparameters\n",
    "from bayes_opt import BayesianOptimization\n",
    "from skopt  import BayesSearchCV \n",
    "\n",
    "from sklearn.impute import SimpleImputer\n",
    "from sklearn.model_selection import train_test_split\n",
    "from sklearn.metrics import roc_auc_score, f1_score,average_precision_score\n",
    "from sklearn.metrics import precision_recall_fscore_support \n",
    "from sklearn.metrics import roc_curve,precision_recall_curve\n",
    "from sklearn.metrics import auc as auc_score\n",
    "import matplotlib.pyplot as plt\n",
    "%matplotlib inline\n",
    "import warnings\n",
    "warnings.filterwarnings('ignore')"
   ]
  },
  {
   "cell_type": "code",
   "execution_count": 2,
   "metadata": {},
   "outputs": [
    {
     "data": {
      "text/plain": [
       "['02_data_preprocessing.py',\n",
       " 'test',\n",
       " 'PolicyPremium_Combined.csv',\n",
       " 'Data Dictionary v4.xlsx',\n",
       " 'Trident_Data_Explore_0718.ipynb',\n",
       " 'Anniv_RG_Data_POLICY_2017_2022YTD.txt',\n",
       " 'Trident_Data_Explore_0708.ipynb',\n",
       " '01_feature_engineer.ipynb',\n",
       " 'Untitled-1.ipynb',\n",
       " 'utils.py',\n",
       " '02_data_preprocessing.ipynb',\n",
       " '02_processing.out',\n",
       " '01_feature_engineer.py',\n",
       " 'old_file',\n",
       " 'churn_labels_update.csv',\n",
       " 'churn_labels.csv',\n",
       " 'Trident_Data_Explore_0715.ipynb']"
      ]
     },
     "execution_count": 2,
     "metadata": {},
     "output_type": "execute_result"
    }
   ],
   "source": [
    "data_dir=os.getcwd()\n",
    "os.listdir()"
   ]
  },
  {
   "cell_type": "code",
   "execution_count": 4,
   "metadata": {
    "colab": {
     "base_uri": "https://localhost:8080/"
    },
    "executionInfo": {
     "elapsed": 13024,
     "status": "ok",
     "timestamp": 1657276062675,
     "user": {
      "displayName": "Chuanliang Jiang",
      "userId": "09320361112513259373"
     },
     "user_tz": 240
    },
    "id": "NVTjDfeRVyLn",
    "outputId": "029ac4bb-109a-4e4f-8c08-e722e8b6e0fd"
   },
   "outputs": [
    {
     "name": "stdout",
     "output_type": "stream",
     "text": [
      "running time 12.6276\n"
     ]
    },
    {
     "data": {
      "text/plain": [
       "(3626285, 25)"
      ]
     },
     "execution_count": 4,
     "metadata": {},
     "output_type": "execute_result"
    }
   ],
   "source": [
    "start=time.time()\n",
    "policy_premium_df = pd.read_csv(os.path.join(data_dir,'PolicyPremium_Combined.csv'))\n",
    "end=time.time()\n",
    "print(\"running time {:.4f}\".format(end-start))\n",
    "policy_premium_df.shape"
   ]
  },
  {
   "cell_type": "code",
   "execution_count": 5,
   "metadata": {},
   "outputs": [
    {
     "data": {
      "text/plain": [
       "(444055, 9)"
      ]
     },
     "execution_count": 5,
     "metadata": {},
     "output_type": "execute_result"
    }
   ],
   "source": [
    "data_dir=\"/app/models/trident/retention/engineered_update\"\n",
    "# churn_labels = pd.read_csv('churn_labels_update.csv')\n",
    "churn_labels = pd.read_csv(os.path.join(data_dir,'churn_labels.csv'))\n",
    "churn_labels.dropna(subset=['churn'],inplace=True)\n",
    "churn_labels.shape"
   ]
  },
  {
   "cell_type": "code",
   "execution_count": 6,
   "metadata": {},
   "outputs": [
    {
     "data": {
      "text/plain": [
       "(119672,)"
      ]
     },
     "execution_count": 6,
     "metadata": {},
     "output_type": "execute_result"
    }
   ],
   "source": [
    "policy_id=np.unique(churn_labels['policy_id'].values)\n",
    "policy_id.shape"
   ]
  },
  {
   "cell_type": "code",
   "execution_count": 7,
   "metadata": {},
   "outputs": [
    {
     "data": {
      "text/plain": [
       "(3625938, 25)"
      ]
     },
     "execution_count": 7,
     "metadata": {},
     "output_type": "execute_result"
    }
   ],
   "source": [
    "policy_premium_df=policy_premium_df[policy_premium_df[\"policy_id\"].isin(policy_id)]\n",
    "policy_premium_df.shape"
   ]
  },
  {
   "cell_type": "code",
   "execution_count": 8,
   "metadata": {
    "executionInfo": {
     "elapsed": 3942,
     "status": "ok",
     "timestamp": 1657276070365,
     "user": {
      "displayName": "Chuanliang Jiang",
      "userId": "09320361112513259373"
     },
     "user_tz": 240
    },
    "id": "uaTlxRjvNVaS"
   },
   "outputs": [],
   "source": [
    "policy_premium_df['year']  = policy_premium_df.bill_due_dt.apply(lambda x: x[:4])\n",
    "policy_premium_df['month'] = policy_premium_df.bill_due_dt.apply(lambda x: x[5:7])\n",
    "policy_premium_df['policy_id']=policy_premium_df['policy_id'].astype(int)\n",
    "policy_premium_df['year']=policy_premium_df['year'].apply(str)\n",
    "policy_premium_df['month']=policy_premium_df['month'].apply(str)\n",
    "policy_premium_df.drop(['Unnamed: 0','report_start_dt','report_end_dt','bill_due_dt','bill_gen_dt'], axis=1, inplace=True)\n",
    "policy_premium_df=policy_premium_df.reset_index(drop=True)"
   ]
  },
  {
   "cell_type": "code",
   "execution_count": 9,
   "metadata": {
    "colab": {
     "base_uri": "https://localhost:8080/",
     "height": 270
    },
    "executionInfo": {
     "elapsed": 140,
     "status": "ok",
     "timestamp": 1657276073739,
     "user": {
      "displayName": "Chuanliang Jiang",
      "userId": "09320361112513259373"
     },
     "user_tz": 240
    },
    "id": "MOp2GfIoV1lF",
    "outputId": "28b10678-43d4-4b5a-addf-2dd833f5c438"
   },
   "outputs": [
    {
     "data": {
      "text/html": [
       "<div>\n",
       "<style scoped>\n",
       "    .dataframe tbody tr th:only-of-type {\n",
       "        vertical-align: middle;\n",
       "    }\n",
       "\n",
       "    .dataframe tbody tr th {\n",
       "        vertical-align: top;\n",
       "    }\n",
       "\n",
       "    .dataframe thead th {\n",
       "        text-align: right;\n",
       "    }\n",
       "</style>\n",
       "<table border=\"1\" class=\"dataframe\">\n",
       "  <thead>\n",
       "    <tr style=\"text-align: right;\">\n",
       "      <th></th>\n",
       "      <th>policy_id</th>\n",
       "      <th>CountBills</th>\n",
       "      <th>CountBillGens</th>\n",
       "      <th>CountFirstGenBillsPaidFull</th>\n",
       "      <th>CountBillsPaidFull</th>\n",
       "      <th>CountBillsPaid</th>\n",
       "      <th>OrigBillAmt</th>\n",
       "      <th>CurrBillAmt</th>\n",
       "      <th>CurrPaidAmt</th>\n",
       "      <th>PaidBillDueDays</th>\n",
       "      <th>AvgPdBilldueDays</th>\n",
       "      <th>PaidBillLastGenDays</th>\n",
       "      <th>AvgPdBillLstGenDays</th>\n",
       "      <th>AvgBillGenCnt</th>\n",
       "      <th>AvgPaidFullCnt</th>\n",
       "      <th>AvgFirstGenPaidFullCnt</th>\n",
       "      <th>Lag12_cntBillGens</th>\n",
       "      <th>Lag12_cntPaidFull</th>\n",
       "      <th>Lag12_cntFirstGenPaidFull</th>\n",
       "      <th>Lag12_cntBills</th>\n",
       "      <th>year</th>\n",
       "      <th>month</th>\n",
       "    </tr>\n",
       "  </thead>\n",
       "  <tbody>\n",
       "    <tr>\n",
       "      <th>0</th>\n",
       "      <td>607176</td>\n",
       "      <td>1</td>\n",
       "      <td>1</td>\n",
       "      <td>1</td>\n",
       "      <td>1</td>\n",
       "      <td>1</td>\n",
       "      <td>211.31</td>\n",
       "      <td>211.31</td>\n",
       "      <td>211.31</td>\n",
       "      <td>-4</td>\n",
       "      <td>-4.0</td>\n",
       "      <td>14</td>\n",
       "      <td>14.0</td>\n",
       "      <td>1.0</td>\n",
       "      <td>1.0</td>\n",
       "      <td>1.0</td>\n",
       "      <td>13.0</td>\n",
       "      <td>12.0</td>\n",
       "      <td>11.0</td>\n",
       "      <td>12.0</td>\n",
       "      <td>2020</td>\n",
       "      <td>11</td>\n",
       "    </tr>\n",
       "    <tr>\n",
       "      <th>29022</th>\n",
       "      <td>607176</td>\n",
       "      <td>1</td>\n",
       "      <td>1</td>\n",
       "      <td>1</td>\n",
       "      <td>1</td>\n",
       "      <td>1</td>\n",
       "      <td>190.98</td>\n",
       "      <td>190.98</td>\n",
       "      <td>190.98</td>\n",
       "      <td>-10</td>\n",
       "      <td>-10.0</td>\n",
       "      <td>8</td>\n",
       "      <td>8.0</td>\n",
       "      <td>1.0</td>\n",
       "      <td>1.0</td>\n",
       "      <td>1.0</td>\n",
       "      <td>11.0</td>\n",
       "      <td>11.0</td>\n",
       "      <td>11.0</td>\n",
       "      <td>11.0</td>\n",
       "      <td>2018</td>\n",
       "      <td>12</td>\n",
       "    </tr>\n",
       "    <tr>\n",
       "      <th>40646</th>\n",
       "      <td>607176</td>\n",
       "      <td>1</td>\n",
       "      <td>1</td>\n",
       "      <td>1</td>\n",
       "      <td>1</td>\n",
       "      <td>1</td>\n",
       "      <td>190.98</td>\n",
       "      <td>190.98</td>\n",
       "      <td>190.98</td>\n",
       "      <td>-10</td>\n",
       "      <td>-10.0</td>\n",
       "      <td>8</td>\n",
       "      <td>8.0</td>\n",
       "      <td>1.0</td>\n",
       "      <td>1.0</td>\n",
       "      <td>1.0</td>\n",
       "      <td>8.0</td>\n",
       "      <td>8.0</td>\n",
       "      <td>8.0</td>\n",
       "      <td>8.0</td>\n",
       "      <td>2018</td>\n",
       "      <td>09</td>\n",
       "    </tr>\n",
       "    <tr>\n",
       "      <th>168812</th>\n",
       "      <td>607176</td>\n",
       "      <td>1</td>\n",
       "      <td>1</td>\n",
       "      <td>1</td>\n",
       "      <td>1</td>\n",
       "      <td>1</td>\n",
       "      <td>154.70</td>\n",
       "      <td>154.70</td>\n",
       "      <td>154.70</td>\n",
       "      <td>66</td>\n",
       "      <td>66.0</td>\n",
       "      <td>9</td>\n",
       "      <td>9.0</td>\n",
       "      <td>1.0</td>\n",
       "      <td>1.0</td>\n",
       "      <td>1.0</td>\n",
       "      <td>13.0</td>\n",
       "      <td>12.0</td>\n",
       "      <td>11.0</td>\n",
       "      <td>12.0</td>\n",
       "      <td>2020</td>\n",
       "      <td>03</td>\n",
       "    </tr>\n",
       "    <tr>\n",
       "      <th>174802</th>\n",
       "      <td>607176</td>\n",
       "      <td>1</td>\n",
       "      <td>1</td>\n",
       "      <td>1</td>\n",
       "      <td>1</td>\n",
       "      <td>1</td>\n",
       "      <td>190.98</td>\n",
       "      <td>190.98</td>\n",
       "      <td>190.98</td>\n",
       "      <td>-5</td>\n",
       "      <td>-5.0</td>\n",
       "      <td>13</td>\n",
       "      <td>13.0</td>\n",
       "      <td>1.0</td>\n",
       "      <td>1.0</td>\n",
       "      <td>1.0</td>\n",
       "      <td>NaN</td>\n",
       "      <td>NaN</td>\n",
       "      <td>NaN</td>\n",
       "      <td>NaN</td>\n",
       "      <td>2018</td>\n",
       "      <td>01</td>\n",
       "    </tr>\n",
       "  </tbody>\n",
       "</table>\n",
       "</div>"
      ],
      "text/plain": [
       "        policy_id  CountBills  CountBillGens  CountFirstGenBillsPaidFull  \\\n",
       "0          607176           1              1                           1   \n",
       "29022      607176           1              1                           1   \n",
       "40646      607176           1              1                           1   \n",
       "168812     607176           1              1                           1   \n",
       "174802     607176           1              1                           1   \n",
       "\n",
       "        CountBillsPaidFull  CountBillsPaid  OrigBillAmt  CurrBillAmt  \\\n",
       "0                        1               1       211.31       211.31   \n",
       "29022                    1               1       190.98       190.98   \n",
       "40646                    1               1       190.98       190.98   \n",
       "168812                   1               1       154.70       154.70   \n",
       "174802                   1               1       190.98       190.98   \n",
       "\n",
       "        CurrPaidAmt  PaidBillDueDays AvgPdBilldueDays  PaidBillLastGenDays  \\\n",
       "0            211.31               -4             -4.0                   14   \n",
       "29022        190.98              -10            -10.0                    8   \n",
       "40646        190.98              -10            -10.0                    8   \n",
       "168812       154.70               66             66.0                    9   \n",
       "174802       190.98               -5             -5.0                   13   \n",
       "\n",
       "       AvgPdBillLstGenDays  AvgBillGenCnt  AvgPaidFullCnt  \\\n",
       "0                     14.0            1.0             1.0   \n",
       "29022                  8.0            1.0             1.0   \n",
       "40646                  8.0            1.0             1.0   \n",
       "168812                 9.0            1.0             1.0   \n",
       "174802                13.0            1.0             1.0   \n",
       "\n",
       "        AvgFirstGenPaidFullCnt Lag12_cntBillGens Lag12_cntPaidFull  \\\n",
       "0                          1.0              13.0              12.0   \n",
       "29022                      1.0              11.0              11.0   \n",
       "40646                      1.0               8.0               8.0   \n",
       "168812                     1.0              13.0              12.0   \n",
       "174802                     1.0               NaN               NaN   \n",
       "\n",
       "       Lag12_cntFirstGenPaidFull Lag12_cntBills  year month  \n",
       "0                           11.0           12.0  2020    11  \n",
       "29022                       11.0           11.0  2018    12  \n",
       "40646                        8.0            8.0  2018    09  \n",
       "168812                      11.0           12.0  2020    03  \n",
       "174802                       NaN            NaN  2018    01  "
      ]
     },
     "execution_count": 9,
     "metadata": {},
     "output_type": "execute_result"
    }
   ],
   "source": [
    "pd.set_option('display.max_columns', None)\n",
    "policy_premium_df.loc[policy_premium_df.policy_id==607176].head()"
   ]
  },
  {
   "cell_type": "code",
   "execution_count": 10,
   "metadata": {
    "executionInfo": {
     "elapsed": 3196,
     "status": "ok",
     "timestamp": 1657276080065,
     "user": {
      "displayName": "Chuanliang Jiang",
      "userId": "09320361112513259373"
     },
     "user_tz": 240
    },
    "id": "XRQsVYKNTS46"
   },
   "outputs": [],
   "source": [
    "policy_premium_df = policy_premium_df.replace('?', np.nan)\n",
    "policy_premium_df[\"AvgPdBilldueDays\"]=policy_premium_df[\"AvgPdBilldueDays\"].astype(float)\n",
    "policy_premium_df[\"AvgPdBillLstGenDays\"]=policy_premium_df[\"AvgPdBillLstGenDays\"].astype(float)\n",
    "policy_premium_df[\"Lag12_cntBillGens\"]=policy_premium_df[\"Lag12_cntBillGens\"].astype(float)\n",
    "policy_premium_df[\"Lag12_cntPaidFull\"]=policy_premium_df[\"Lag12_cntPaidFull\"].astype(float)\n",
    "policy_premium_df[\"Lag12_cntFirstGenPaidFull\"]=policy_premium_df[\"Lag12_cntFirstGenPaidFull\"].astype(float)\n",
    "policy_premium_df[\"Lag12_cntBills\"]=policy_premium_df[\"Lag12_cntBills\"].astype(float)\n",
    "\n",
    "policy_premium_df['CountBills'] = policy_premium_df['CountBills'].replace(0, np.nan)\n",
    "policy_premium_df['AvgPdBilldueDays'] = policy_premium_df['AvgPdBilldueDays'].replace(0, np.nan)\n",
    "policy_premium_df['AvgPdBillLstGenDays'] = policy_premium_df['AvgPdBillLstGenDays'].replace(0, np.nan)\n",
    "policy_premium_df['AvgBillGenCnt'] = policy_premium_df['AvgBillGenCnt'].replace(0, np.nan)\n",
    "policy_premium_df['AvgPaidFullCnt'] = policy_premium_df['AvgPaidFullCnt'].replace(0, np.nan)"
   ]
  },
  {
   "cell_type": "code",
   "execution_count": 11,
   "metadata": {
    "colab": {
     "base_uri": "https://localhost:8080/"
    },
    "executionInfo": {
     "elapsed": 549,
     "status": "ok",
     "timestamp": 1657276083550,
     "user": {
      "displayName": "Chuanliang Jiang",
      "userId": "09320361112513259373"
     },
     "user_tz": 240
    },
    "id": "PaGy8SeATxA5",
    "outputId": "e3b52dec-6c9d-4b99-f718-48a39f4ebe39"
   },
   "outputs": [
    {
     "data": {
      "text/html": [
       "<style type=\"text/css\">\n",
       "</style>\n",
       "<table id=\"T_25e23_\">\n",
       "  <thead>\n",
       "    <tr>\n",
       "      <th class=\"blank level0\" >&nbsp;</th>\n",
       "      <th class=\"col_heading level0 col0\" >variable</th>\n",
       "      <th class=\"col_heading level0 col1\" >missing %</th>\n",
       "    </tr>\n",
       "  </thead>\n",
       "  <tbody>\n",
       "    <tr>\n",
       "      <th id=\"T_25e23_level0_row0\" class=\"row_heading level0 row0\" >0</th>\n",
       "      <td id=\"T_25e23_row0_col0\" class=\"data row0 col0\" >AvgPdBillLstGenDays</td>\n",
       "      <td id=\"T_25e23_row0_col1\" class=\"data row0 col1\" >8.69%</td>\n",
       "    </tr>\n",
       "    <tr>\n",
       "      <th id=\"T_25e23_level0_row1\" class=\"row_heading level0 row1\" >1</th>\n",
       "      <td id=\"T_25e23_row1_col0\" class=\"data row1 col0\" >AvgPdBilldueDays</td>\n",
       "      <td id=\"T_25e23_row1_col1\" class=\"data row1 col1\" >5.06%</td>\n",
       "    </tr>\n",
       "    <tr>\n",
       "      <th id=\"T_25e23_level0_row2\" class=\"row_heading level0 row2\" >2</th>\n",
       "      <td id=\"T_25e23_row2_col0\" class=\"data row2 col0\" >Lag12_cntBills</td>\n",
       "      <td id=\"T_25e23_row2_col1\" class=\"data row2 col1\" >3.07%</td>\n",
       "    </tr>\n",
       "    <tr>\n",
       "      <th id=\"T_25e23_level0_row3\" class=\"row_heading level0 row3\" >3</th>\n",
       "      <td id=\"T_25e23_row3_col0\" class=\"data row3 col0\" >Lag12_cntFirstGenPaidFull</td>\n",
       "      <td id=\"T_25e23_row3_col1\" class=\"data row3 col1\" >3.07%</td>\n",
       "    </tr>\n",
       "    <tr>\n",
       "      <th id=\"T_25e23_level0_row4\" class=\"row_heading level0 row4\" >4</th>\n",
       "      <td id=\"T_25e23_row4_col0\" class=\"data row4 col0\" >Lag12_cntPaidFull</td>\n",
       "      <td id=\"T_25e23_row4_col1\" class=\"data row4 col1\" >3.07%</td>\n",
       "    </tr>\n",
       "    <tr>\n",
       "      <th id=\"T_25e23_level0_row5\" class=\"row_heading level0 row5\" >5</th>\n",
       "      <td id=\"T_25e23_row5_col0\" class=\"data row5 col0\" >Lag12_cntBillGens</td>\n",
       "      <td id=\"T_25e23_row5_col1\" class=\"data row5 col1\" >3.07%</td>\n",
       "    </tr>\n",
       "    <tr>\n",
       "      <th id=\"T_25e23_level0_row6\" class=\"row_heading level0 row6\" >6</th>\n",
       "      <td id=\"T_25e23_row6_col0\" class=\"data row6 col0\" >AvgPaidFullCnt</td>\n",
       "      <td id=\"T_25e23_row6_col1\" class=\"data row6 col1\" >2.76%</td>\n",
       "    </tr>\n",
       "  </tbody>\n",
       "</table>\n"
      ],
      "text/plain": [
       "<pandas.io.formats.style.Styler at 0x7f98d4bf9e10>"
      ]
     },
     "execution_count": 11,
     "metadata": {},
     "output_type": "execute_result"
    }
   ],
   "source": [
    "# policy_premium_df.isnull().sum().sort_values(ascending=False)/len(policy_premium_df)\n",
    "\n",
    "pd.set_option('display.max_columns', None,'display.max_rows', None)\n",
    "tempt=pd.DataFrame(policy_premium_df.isnull().sum().sort_values(ascending=False)/len(policy_premium_df)).reset_index()\n",
    "tempt=tempt[tempt[0]>0]\n",
    "tempt.rename({\"index\":\"variable\",0:\"missing %\"},axis=1).style.format({\"missing %\":\"{:.2%}\"})"
   ]
  },
  {
   "cell_type": "code",
   "execution_count": 12,
   "metadata": {},
   "outputs": [
    {
     "data": {
      "text/plain": [
       "<matplotlib.axes._subplots.AxesSubplot at 0x7f98d5402d90>"
      ]
     },
     "execution_count": 12,
     "metadata": {},
     "output_type": "execute_result"
    },
    {
     "data": {
      "image/png": "[encoded data removed]",
      "text/plain": [
       "<Figure size 1800x720 with 2 Axes>"
      ]
     },
     "metadata": {
      "needs_background": "light"
     },
     "output_type": "display_data"
    }
   ],
   "source": [
    "msno.matrix(policy_premium_df)"
   ]
  },
  {
   "cell_type": "code",
   "execution_count": 13,
   "metadata": {
    "executionInfo": {
     "elapsed": 2331,
     "status": "ok",
     "timestamp": 1657276087766,
     "user": {
      "displayName": "Chuanliang Jiang",
      "userId": "09320361112513259373"
     },
     "user_tz": 240
    },
    "id": "m0ExImDeTxXo"
   },
   "outputs": [],
   "source": [
    "my_imputer = SimpleImputer()\n",
    "numeric_columns=[]\n",
    "categorical_columns=[]\n",
    "for c in policy_premium_df.columns:\n",
    "    if policy_premium_df[c].dtypes!=\"object\":\n",
    "        numeric_columns.append(c)\n",
    "    else:\n",
    "        categorical_columns.append(c)\n",
    "\n",
    "data_numeric=policy_premium_df.loc[:,numeric_columns]\n",
    "data_numeric=pd.DataFrame(my_imputer.fit_transform(data_numeric),columns=numeric_columns)\n",
    "\n",
    "data_categorical=policy_premium_df.loc[:,categorical_columns]\n",
    "policy_premium_df = pd.concat([data_numeric, data_categorical], axis = 1)"
   ]
  },
  {
   "cell_type": "code",
   "execution_count": 14,
   "metadata": {
    "colab": {
     "base_uri": "https://localhost:8080/"
    },
    "executionInfo": {
     "elapsed": 591,
     "status": "ok",
     "timestamp": 1657276089715,
     "user": {
      "displayName": "Chuanliang Jiang",
      "userId": "09320361112513259373"
     },
     "user_tz": 240
    },
    "id": "p_c-ffwiUzzd",
    "outputId": "72654792-93da-4e78-d749-2976fb8dbbba"
   },
   "outputs": [
    {
     "data": {
      "text/plain": [
       "policy_id                     0.0\n",
       "CountBills                    0.0\n",
       "year                          0.0\n",
       "Lag12_cntBills                0.0\n",
       "Lag12_cntFirstGenPaidFull     0.0\n",
       "Lag12_cntPaidFull             0.0\n",
       "Lag12_cntBillGens             0.0\n",
       "AvgFirstGenPaidFullCnt        0.0\n",
       "AvgPaidFullCnt                0.0\n",
       "AvgBillGenCnt                 0.0\n",
       "AvgPdBillLstGenDays           0.0\n",
       "PaidBillLastGenDays           0.0\n",
       "AvgPdBilldueDays              0.0\n",
       "PaidBillDueDays               0.0\n",
       "CurrPaidAmt                   0.0\n",
       "CurrBillAmt                   0.0\n",
       "OrigBillAmt                   0.0\n",
       "CountBillsPaid                0.0\n",
       "CountBillsPaidFull            0.0\n",
       "CountFirstGenBillsPaidFull    0.0\n",
       "CountBillGens                 0.0\n",
       "month                         0.0\n",
       "dtype: float64"
      ]
     },
     "execution_count": 14,
     "metadata": {},
     "output_type": "execute_result"
    }
   ],
   "source": [
    "policy_premium_df.isnull().sum().sort_values(ascending=False)/len(policy_premium_df)"
   ]
  },
  {
   "cell_type": "code",
   "execution_count": 15,
   "metadata": {
    "executionInfo": {
     "elapsed": 2641,
     "status": "ok",
     "timestamp": 1657276093663,
     "user": {
      "displayName": "Chuanliang Jiang",
      "userId": "09320361112513259373"
     },
     "user_tz": 240
    },
    "id": "kC9bihXlp2Na"
   },
   "outputs": [],
   "source": [
    "policy_premium_df['policy_id']=policy_premium_df['policy_id'].astype(int)\n",
    "policy_premium_df['year']=policy_premium_df['year'].apply(int)\n",
    "policy_premium_df['month']=policy_premium_df['month'].apply(int)"
   ]
  },
  {
   "cell_type": "markdown",
   "metadata": {},
   "source": [
    "- $\\frac{1}{T}\\sum_{i=0}^{T}X_{t-i} \\;\\;\\; T=1,2,3,6,12$\n",
    "<br/><br/>\n",
    "- $delta=X_t-X_{t-i} \\;\\;\\; i=1,2,3,6,12$\n",
    "<br/><br/>\n",
    "- $ratio=\\frac{X_t-X_{t-i}}{X_t} \\;\\;\\; i=1,2,3,6,12$"
   ]
  },
  {
   "cell_type": "code",
   "execution_count": 16,
   "metadata": {
    "executionInfo": {
     "elapsed": 155,
     "status": "ok",
     "timestamp": 1657276185804,
     "user": {
      "displayName": "Chuanliang Jiang",
      "userId": "09320361112513259373"
     },
     "user_tz": 240
    },
    "id": "ELk0_AePOStG"
   },
   "outputs": [],
   "source": [
    "def policy_df_accumulate(df):\n",
    "    df.sort_values(['policy_id','year','month'],inplace=True)\n",
    "    df[\"paid_bill_prop\"]=df['CurrPaidAmt'].astype(float)/df['CurrBillAmt'].astype(float)\n",
    "    # df[\"idx\"]=df.groupby(['policy_id',\"year\"]).ngroup()\n",
    "    exc_col=[\"policy_id\",\"Lag12_cntBillGens\",\"Lag12_cntPaidFull\",\"Lag12_cntFirstGenPaidFull\",\"Lag12_cntBills\",\"year\",\"month\"]\n",
    "    for col in tqdm(df.columns):\n",
    "        if col not in exc_col:\n",
    "            if col not in [\"OrigBillAmt\",\"CurrBillAmt\",\"CurrPaidAmt\",\"PaidBillDueDays\",\"AvgPdBilldueDays\",\"PaidBillLastGenDays\",\"AvgPdBillLstGenDays\",\"paid_bill_prop\"]:\n",
    "                df[\"L12_\"+col]=(df.groupby([\"policy_id\"])[col].apply(lambda x: x.rolling(12, min_periods=1).sum()))\n",
    "                df[\"L6_\"+col]=(df.groupby([\"policy_id\"])[col].apply(lambda x: x.rolling(6, min_periods=1).sum()))\n",
    "                df[\"L1_\"+col]=(df.groupby([\"policy_id\"])[col].apply(lambda x: x.rolling(1, min_periods=1).sum()))\n",
    "                df[\"L2_\"+col]=(df.groupby([\"policy_id\"])[col].apply(lambda x: x.rolling(2, min_periods=1).sum()))\n",
    "                df[\"L3_\"+col]=(df.groupby([\"policy_id\"])[col].apply(lambda x: x.rolling(3, min_periods=1).sum()))\n",
    "            else:\n",
    "                df[\"L12_\"+col]=(df.groupby([\"policy_id\"])[col].apply(lambda x: x.rolling(12, min_periods=1).mean()))\n",
    "                df[\"L6_\"+col]=(df.groupby([\"policy_id\"])[col].apply(lambda x: x.rolling(6, min_periods=1).mean()))\n",
    "                df[\"L1_\"+col]=(df.groupby([\"policy_id\"])[col].apply(lambda x: x.rolling(1, min_periods=1).mean()))\n",
    "                df[\"L2_\"+col]=(df.groupby([\"policy_id\"])[col].apply(lambda x: x.rolling(2, min_periods=1).mean()))\n",
    "                df[\"L3_\"+col]=(df.groupby([\"policy_id\"])[col].apply(lambda x: x.rolling(3, min_periods=1).mean()))  \n",
    "                \n",
    "#                 df[\"std12_\"+col]=(df.groupby([\"policy_id\"])[col].apply(lambda x: x.rolling(12, min_periods=1).std()))\n",
    "#                 df[\"std6_\"+col]=(df.groupby([\"policy_id\"])[col].apply(lambda x: x.rolling(6, min_periods=1).std()))\n",
    "#                 df[\"std1_\"+col]=(df.groupby([\"policy_id\"])[col].apply(lambda x: x.rolling(1, min_periods=1).std()))\n",
    "#                 df[\"std2_\"+col]=(df.groupby([\"policy_id\"])[col].apply(lambda x: x.rolling(2, min_periods=1).std()))\n",
    "#                 df[\"std3_\"+col]=(df.groupby([\"policy_id\"])[col].apply(lambda x: x.rolling(3, min_periods=1).std()))\n",
    "                \n",
    "        if col not in [\"policy_id\",\"year\",\"month\"]:\n",
    "            df[\"lag1_\"+col]=df[col].shift(1)\n",
    "            df[\"d1_\"+col]=df[col]-df[\"lag1_\"+col]\n",
    "            df[\"r1_\"+col]=(df[col]-df[\"lag1_\"+col])/df[\"lag1_\"+col]\n",
    "            df.drop([\"lag1_\"+col],axis=1,inplace=True)\n",
    "            \n",
    "            df[\"lag2_\"+col]=df[col].shift(2)\n",
    "            df[\"d2_\"+col]=df[col]-df[\"lag2_\"+col]\n",
    "            df[\"r2_\"+col]=(df[col]-df[\"lag2_\"+col])/df[\"lag2_\"+col]\n",
    "            df.drop([\"lag2_\"+col],axis=1,inplace=True)\n",
    "\n",
    "            df[\"lag3_\"+col]=df[col].shift(3)\n",
    "            df[\"d3_\"+col]=df[col]-df[\"lag3_\"+col]\n",
    "            df[\"r3_\"+col]=(df[col]-df[\"lag3_\"+col])/df[\"lag3_\"+col]\n",
    "            df.drop([\"lag3_\"+col],axis=1,inplace=True)\n",
    "            \n",
    "            df[\"lag6_\"+col]=df[col].shift(6)\n",
    "            df[\"d6_\"+col]=df[col]-df[\"lag6_\"+col]\n",
    "            df[\"r6_\"+col]=(df[col]-df[\"lag6_\"+col])/df[\"lag6_\"+col]\n",
    "            df.drop([\"lag6_\"+col],axis=1,inplace=True)\n",
    "            \n",
    "            df[\"lag12_\"+col]=df[col].shift(12)\n",
    "            df[\"d12_\"+col]=df[col]-df[\"lag12_\"+col]\n",
    "            df[\"r12_\"+col]=(df[col]-df[\"lag12_\"+col])/df[\"lag12_\"+col]\n",
    "            df.drop([\"lag12_\"+col],axis=1,inplace=True)\n",
    "            \n",
    "    # df.drop(['idx'],axis=1,inplace=True) \n",
    "               \n",
    "    return df"
   ]
  },
  {
   "cell_type": "code",
   "execution_count": 17,
   "metadata": {
    "colab": {
     "base_uri": "https://localhost:8080/"
    },
    "executionInfo": {
     "elapsed": 1145834,
     "status": "ok",
     "timestamp": 1657277343157,
     "user": {
      "displayName": "Chuanliang Jiang",
      "userId": "09320361112513259373"
     },
     "user_tz": 240
    },
    "id": "r1XrET5IVAFj",
    "outputId": "3c8589dc-92f8-4a0f-c380-21e093615eac"
   },
   "outputs": [
    {
     "name": "stderr",
     "output_type": "stream",
     "text": [
      " 65%|██████▌   | 15/23 [49:48<30:51, 231.43s/it]"
     ]
    }
   ],
   "source": [
    "df=policy_df_accumulate(policy_premium_df)"
   ]
  },
  {
   "cell_type": "code",
   "execution_count": null,
   "metadata": {
    "executionInfo": {
     "elapsed": 8238,
     "status": "ok",
     "timestamp": 1657277351379,
     "user": {
      "displayName": "Chuanliang Jiang",
      "userId": "09320361112513259373"
     },
     "user_tz": 240
    },
    "id": "XSAiL7w2OSP3"
   },
   "outputs": [],
   "source": [
    "file_output=\"policy_premium_pickle\"\n",
    "data_dir=\"/app/models/dij22\"\n",
    "df.to_pickle(os.path.join(data_dir,file_output))\n",
    "\n",
    "# file_output=\"policy_premium.csv\"\n",
    "# data_dir=\"/home/dij22/Trident\"\n",
    "# df.to_csv(os.path.join(data_dir,file_output))"
   ]
  },
  {
   "cell_type": "code",
   "execution_count": 3,
   "metadata": {
    "executionInfo": {
     "elapsed": 21039,
     "status": "ok",
     "timestamp": 1657286606942,
     "user": {
      "displayName": "Chuanliang Jiang",
      "userId": "09320361112513259373"
     },
     "user_tz": 240
    },
    "id": "p8K1WCu8OOhX"
   },
   "outputs": [],
   "source": [
    "file=\"policy_premium_pickle\"\n",
    "data_dir=\"/app/models/dij22\"\n",
    "policy_premium_df=pd.read_pickle(os.path.join(data_dir,file))\n",
    "\n",
    "# start=time.time()\n",
    "# file_output=\"policy_premium.csv\"\n",
    "# policy_premium_df=pd.read_csv(os.path.join(data_dir,file))\n",
    "# end=time.time()\n",
    "# print(\"running time {:.4f}\".format(end-start))"
   ]
  },
  {
   "cell_type": "code",
   "execution_count": null,
   "metadata": {
    "colab": {
     "base_uri": "https://localhost:8080/",
     "height": 270
    },
    "executionInfo": {
     "elapsed": 258,
     "status": "ok",
     "timestamp": 1657278126114,
     "user": {
      "displayName": "Chuanliang Jiang",
      "userId": "09320361112513259373"
     },
     "user_tz": 240
    },
    "id": "_v63hgytONxO",
    "outputId": "5c7cb097-5bb4-4e67-c5ef-9b37e0c1f5b5"
   },
   "outputs": [],
   "source": [
    "pd.set_option('display.max_columns', None)\n",
    "policy_premium_df.head()"
   ]
  },
  {
   "cell_type": "code",
   "execution_count": null,
   "metadata": {
    "colab": {
     "base_uri": "https://localhost:8080/"
    },
    "executionInfo": {
     "elapsed": 331,
     "status": "ok",
     "timestamp": 1657286621261,
     "user": {
      "displayName": "Chuanliang Jiang",
      "userId": "09320361112513259373"
     },
     "user_tz": 240
    },
    "id": "EfS9yqxb-Pkw",
    "outputId": "eee4b17c-1f42-45ec-807b-c2bde7dacd3b"
   },
   "outputs": [],
   "source": [
    "policy_premium_df.shape"
   ]
  },
  {
   "cell_type": "code",
   "execution_count": 4,
   "metadata": {},
   "outputs": [
    {
     "data": {
      "text/plain": [
       "(445577, 12)"
      ]
     },
     "execution_count": 4,
     "metadata": {},
     "output_type": "execute_result"
    }
   ],
   "source": [
    "data_dir=\"/app/models/trident/retention/engineered_update\"\n",
    "# churn_labels = pd.read_csv('churn_labels_update.csv')\n",
    "churn_labels = pd.read_csv(os.path.join(data_dir,'churn_labels.csv'))\n",
    "churn_labels.dropna(subset=['churn'],inplace=True)\n",
    "# churn_labels['policy_id']=churn_labels['policy_id'].astype(int)\n",
    "# churn_labels['year']=churn_labels['year'].apply(int)\n",
    "churn_labels.shape"
   ]
  },
  {
   "cell_type": "code",
   "execution_count": null,
   "metadata": {},
   "outputs": [],
   "source": [
    "def pivot_date(df,buffer):\n",
    "    policy_id=[]\n",
    "    year=[]\n",
    "    month=[]\n",
    "    pivot_date=[]\n",
    "    policy_year=[]\n",
    "    churn=[]\n",
    "    for index,row in tqdm(df.iterrows(), total=df.shape[0]):\n",
    "        if np.isnan(row[\"policy_term_month\"]):\n",
    "            date1=str(row[\"year\"])+str(int(row[\"policy_eff_month\"]))\n",
    "        else:\n",
    "            date1=str(row[\"year\"])+str(int(row[\"policy_term_month\"]))\n",
    "        \n",
    "        date2=pd.to_datetime(str(date1),format=\"%Y%m\")-pd.offsets.DateOffset(months=buffer)\n",
    "        policy_id.append(row[\"policy_id\"])\n",
    "        year.append(date2.year)\n",
    "        month.append(date2.month)\n",
    "        \n",
    "        if int(date1[4:])<10:\n",
    "            date1=date1[:4]+str(0)+date1[4:]\n",
    "        pivot_date.append(date1)\n",
    "        policy_year.append(row[\"policy_year\"])\n",
    "        churn.append(row[\"churn\"])\n",
    "    churn_data=pd.DataFrame({\"policy_id\":policy_id,\"pivot_date\":pivot_date,\"year\":year,\"month\":month,\"policy_year\":policy_year,\"churn\":churn})\n",
    "    # churn_data[\"month\"]=output[\"month\"].apply(lambda x: str(x) if x>=10 else str(0)+str(x))\n",
    "    churn_data['policy_id']=churn_data['policy_id'].astype(int)\n",
    "    churn_data['year']=churn_data['year'].apply(int)\n",
    "    churn_data['month']=churn_data['month'].apply(int)\n",
    "    return churn_data"
   ]
  },
  {
   "cell_type": "code",
   "execution_count": null,
   "metadata": {},
   "outputs": [],
   "source": [
    "churn_data=pivot_date(churn_labels,buffer=3)"
   ]
  },
  {
   "cell_type": "code",
   "execution_count": null,
   "metadata": {},
   "outputs": [],
   "source": [
    "# var=policy_premium_df.columns[:50].tolist()\n",
    "# tempt=policy_premium_df.loc[:,var]\n",
    "# df=pd.merge(churn_data,tempt,how=\"inner\", on=[\"policy_id\", \"year\",\"month\"])\n",
    "start=time.time()\n",
    "df=pd.merge(churn_data,policy_premium_df,how=\"inner\", on=[\"policy_id\", \"year\",\"month\"])\n",
    "end=time.time()\n",
    "print(\"running time {:.4f}\".format(end-start))"
   ]
  },
  {
   "cell_type": "code",
   "execution_count": null,
   "metadata": {},
   "outputs": [],
   "source": [
    "# file_output=\"df_pickle\"\n",
    "# data_dir=\"/app/models/dij22\"\n",
    "# df.to_pickle(os.path.join(data_dir,file_output))"
   ]
  },
  {
   "cell_type": "code",
   "execution_count": 5,
   "metadata": {},
   "outputs": [],
   "source": [
    "file=\"df_pickle\"\n",
    "data_dir=\"/app/models/dij22\"\n",
    "df=pd.read_pickle(os.path.join(data_dir,file))"
   ]
  },
  {
   "cell_type": "code",
   "execution_count": null,
   "metadata": {},
   "outputs": [],
   "source": [
    "df.shape"
   ]
  },
  {
   "cell_type": "code",
   "execution_count": null,
   "metadata": {},
   "outputs": [],
   "source": [
    "var=[\"policy_id\",\"pivot_date\",\"year\",\"month\",\"policy_year\",\"churn\",\"CurrPaidAmt\",\"L3_CurrPaidAmt\",\"L6_CurrPaidAmt\",\"L12_CurrPaidAmt\"]\n",
    "df[df.policy_id==151353].loc[:,var]"
   ]
  },
  {
   "cell_type": "code",
   "execution_count": null,
   "metadata": {},
   "outputs": [],
   "source": [
    "var=[\"policy_id\",\"year\",\"month\",\"CountBillsPaidFull\",\"CountBillsPaid\" ,\"CurrPaidAmt\",\"L3_CurrPaidAmt\",\"L6_CurrPaidAmt\",\"L12_CurrPaidAmt\"]\n",
    "policy_premium_df[policy_premium_df.policy_id==151353].loc[:,var]"
   ]
  },
  {
   "cell_type": "code",
   "execution_count": null,
   "metadata": {},
   "outputs": [],
   "source": [
    "var=[\"policy_id\",\"year\",\"policy_eff_month\",\"policy_term_month\",\"policy_year\",\"churn\"]\n",
    "churn_labels[churn_labels.policy_id==151353].loc[:,var]"
   ]
  },
  {
   "cell_type": "code",
   "execution_count": null,
   "metadata": {},
   "outputs": [],
   "source": [
    "pd.set_option('display.max_columns', None,'display.max_rows', None)\n",
    "tempt=pd.DataFrame(policy_premium_df.isnull().sum().sort_values(ascending=False)/len(policy_premium_df)).reset_index()\n",
    "tempt=tempt[tempt[0]>0]\n",
    "tempt.rename({\"index\":\"variable\",0:\"missing %\"},axis=1).style.format({\"missing %\":\"{:.4%}\"})"
   ]
  },
  {
   "cell_type": "code",
   "execution_count": 6,
   "metadata": {},
   "outputs": [
    {
     "data": {
      "text/plain": [
       "(227406, 306)"
      ]
     },
     "execution_count": 6,
     "metadata": {},
     "output_type": "execute_result"
    }
   ],
   "source": [
    "df2=df.copy()\n",
    "df2.dropna(axis = 0, how ='any',inplace=True)\n",
    "df2.shape"
   ]
  },
  {
   "cell_type": "code",
   "execution_count": 7,
   "metadata": {},
   "outputs": [
    {
     "name": "stdout",
     "output_type": "stream",
     "text": [
      "19.87% data was drop\n"
     ]
    }
   ],
   "source": [
    "print(\"{:.2%} data was drop\".format(1-df2.shape[0]/df.shape[0]))"
   ]
  },
  {
   "cell_type": "code",
   "execution_count": 8,
   "metadata": {},
   "outputs": [
    {
     "data": {
      "text/html": [
       "<style type=\"text/css\">\n",
       "</style>\n",
       "<table id=\"T_afbce_\">\n",
       "  <thead>\n",
       "    <tr>\n",
       "      <th class=\"blank level0\" >&nbsp;</th>\n",
       "      <th class=\"col_heading level0 col0\" >churn</th>\n",
       "    </tr>\n",
       "  </thead>\n",
       "  <tbody>\n",
       "    <tr>\n",
       "      <th id=\"T_afbce_level0_row0\" class=\"row_heading level0 row0\" >0</th>\n",
       "      <td id=\"T_afbce_row0_col0\" class=\"data row0 col0\" >92.63%</td>\n",
       "    </tr>\n",
       "    <tr>\n",
       "      <th id=\"T_afbce_level0_row1\" class=\"row_heading level0 row1\" >1</th>\n",
       "      <td id=\"T_afbce_row1_col0\" class=\"data row1 col0\" >7.37%</td>\n",
       "    </tr>\n",
       "  </tbody>\n",
       "</table>\n"
      ],
      "text/plain": [
       "<pandas.io.formats.style.Styler at 0x7f6e08050310>"
      ]
     },
     "execution_count": 8,
     "metadata": {},
     "output_type": "execute_result"
    }
   ],
   "source": [
    "df2[\"churn\"].value_counts(dropna=False, normalize=True).to_frame().style.format({\"churn\":\"{:.2%}\"})"
   ]
  },
  {
   "cell_type": "code",
   "execution_count": 9,
   "metadata": {},
   "outputs": [
    {
     "name": "stderr",
     "output_type": "stream",
     "text": [
      "No handles with labels found to put in legend.\n"
     ]
    },
    {
     "data": {
      "text/plain": [
       "<Figure size 720x576 with 0 Axes>"
      ]
     },
     "metadata": {},
     "output_type": "display_data"
    },
    {
     "data": {
      "image/png": "[encoded data removed]",
      "text/plain": [
       "<Figure size 432x288 with 1 Axes>"
      ]
     },
     "metadata": {
      "needs_background": "light"
     },
     "output_type": "display_data"
    }
   ],
   "source": [
    "churn_year=df2.groupby(['year']).mean().reset_index().loc[:,[\"year\",\"churn\"]]\n",
    "churn_year.style.format({\"churn\":\"{.2%}\"})\n",
    "\n",
    "plt.figure(figsize=(10,8))\n",
    "fig = plt.figure()\n",
    "ax = fig.add_axes([0, 0, 1, 1]) # main axes\n",
    "ax.plot(churn_year[\"year\"],churn_year[\"churn\"],color=\"r\",marker=\"*\",linewidth=2, markersize=12)\n",
    "ax.set_title(\"Churn Rate vs Year\",fontsize=15)\n",
    "ax.legend()\n",
    "ax.set_ylabel(\"churn rate\",fontsize=15)\n",
    "ax.set_xticks([2018,2019,2020,2021,2022])\n",
    "ax.set_ylim([0,0.1])\n",
    "vals = ax.get_yticks()\n",
    "ax.set_yticklabels(['{:,.1%}'.format(x) for x in vals])\n",
    "plt.show()"
   ]
  },
  {
   "cell_type": "code",
   "execution_count": null,
   "metadata": {},
   "outputs": [],
   "source": [
    "bin_values = np.arange(start=0, stop=60, step=2)\n",
    "index = df['year'].isin([2020,2021,2022]) \n",
    "py = df[index] # select rows\n",
    "group = py.groupby('year')['policy_year'] \n",
    "group.plot(kind='hist', bins=bin_values, figsize=[12,6], alpha=.4, legend=True) # alpha for transparency\n",
    "plt.title(\"Distribution of Policy_Year\")"
   ]
  },
  {
   "cell_type": "code",
   "execution_count": null,
   "metadata": {},
   "outputs": [],
   "source": [
    "plt.rcParams[\"figure.figsize\"] = [10, 5]\n",
    "plt.rcParams[\"figure.autolayout\"] = True\n",
    "# ax = sns.boxplot(data = df, x='year',y='policy_year', showfliers = dict(markerfacecolor = '0.50', markersize = 2))\n",
    "ax = sns.boxplot(data = df, x='year',y='policy_year', showfliers = False)\n",
    "# for item in ax.get_xticklabels():\n",
    "#     item.set_rotation(90)\n",
    "ax.set_title(\"BoxPlot of Policy_Year\")"
   ]
  },
  {
   "cell_type": "code",
   "execution_count": null,
   "metadata": {},
   "outputs": [],
   "source": [
    "var='CurrPaidAmt'\n",
    "plt.rcParams[\"figure.figsize\"] = [10, 5]\n",
    "plt.rcParams[\"figure.autolayout\"] = True\n",
    "# ax = sns.boxplot(data = df, x='year',y=f'{var}', showfliers = dict(markerfacecolor = '0.50', markersize = 2))\n",
    "ax = sns.boxplot(data = df, x='year',y=f'{var}', showfliers = False)\n",
    "# for item in ax.get_xticklabels():\n",
    "#     item.set_rotation(90)\n",
    "ax.set_title(f\"BoxPlot of {var}\")"
   ]
  },
  {
   "cell_type": "code",
   "execution_count": null,
   "metadata": {},
   "outputs": [],
   "source": [
    "var='CurrBillAmt'\n",
    "plt.rcParams[\"figure.figsize\"] = [10, 5]\n",
    "plt.rcParams[\"figure.autolayout\"] = True\n",
    "# ax = sns.boxplot(data = df, x='year',y=f'{var}', showfliers = dict(markerfacecolor = '0.50', markersize = 2))\n",
    "ax = sns.boxplot(data = df, x='year',y=f'{var}', showfliers = False)\n",
    "# for item in ax.get_xticklabels():\n",
    "#     item.set_rotation(90)\n",
    "ax.set_title(f\"BoxPlot of {var}\")"
   ]
  },
  {
   "cell_type": "code",
   "execution_count": null,
   "metadata": {},
   "outputs": [],
   "source": [
    "# df[\"paid_bill_prop\"]=df['CurrPaidAmt'].astype(float)/df['CurrBillAmt'].astype(float)\n",
    "var='paid_bill_prop'\n",
    "df[[\"year\",var]].groupby(\"year\").describe()"
   ]
  },
  {
   "cell_type": "code",
   "execution_count": null,
   "metadata": {},
   "outputs": [],
   "source": [
    "var='Lag12_cntBills'\n",
    "plt.rcParams[\"figure.figsize\"] = [10, 5]\n",
    "plt.rcParams[\"figure.autolayout\"] = True\n",
    "# ax = sns.boxplot(data = df, x='year',y=f'{var}', showfliers = dict(markerfacecolor = '0.50', markersize = 2))\n",
    "ax = sns.boxplot(data = df, x='year',y=f'{var}', showfliers = False)\n",
    "# for item in ax.get_xticklabels():\n",
    "#     item.set_rotation(90)\n",
    "ax.set_title(f\"BoxPlot of {var}\")\n",
    "# ax.set_ylim(0,100)"
   ]
  },
  {
   "cell_type": "code",
   "execution_count": null,
   "metadata": {},
   "outputs": [],
   "source": [
    "df[[\"year\",\"Lag12_cntBills\"]].groupby(\"year\").describe()"
   ]
  },
  {
   "cell_type": "code",
   "execution_count": null,
   "metadata": {},
   "outputs": [],
   "source": [
    "var='PaidBillLastGenDays'\n",
    "plt.rcParams[\"figure.figsize\"] = [10, 5]\n",
    "plt.rcParams[\"figure.autolayout\"] = True\n",
    "# ax = sns.boxplot(data = df, x='year',y='policy_year', showfliers = dict(markerfacecolor = '0.50', markersize = 2))\n",
    "ax = sns.boxplot(data = df, x='year',y=f'{var}', showfliers = False)\n",
    "# for item in ax.get_xticklabels():\n",
    "#     item.set_rotation(90)\n",
    "ax.set_title(f\"BoxPlot of {var}\")"
   ]
  },
  {
   "cell_type": "code",
   "execution_count": null,
   "metadata": {},
   "outputs": [],
   "source": [
    "var='r12_Lag12_cntBills'\n",
    "plt.rcParams[\"figure.figsize\"] = [10, 5]\n",
    "plt.rcParams[\"figure.autolayout\"] = True\n",
    "# ax = sns.boxplot(data = df, x='year',y='policy_year', showfliers = dict(markerfacecolor = '0.50', markersize = 2))\n",
    "ax = sns.boxplot(data = df, x='year',y=f'{var}', showfliers = False)\n",
    "# for item in ax.get_xticklabels():\n",
    "#     item.set_rotation(90)\n",
    "ax.set_title(f\"BoxPlot of {var}\")"
   ]
  },
  {
   "cell_type": "code",
   "execution_count": null,
   "metadata": {},
   "outputs": [],
   "source": [
    "var='r12_Lag12_cntBills'\n",
    "df[[\"year\",var]].groupby(\"year\").describe()"
   ]
  },
  {
   "cell_type": "code",
   "execution_count": null,
   "metadata": {},
   "outputs": [],
   "source": [
    "# # Changing option to use infinite as nan\n",
    "# pd.set_option('mode.use_inf_as_na', True)\n",
    "  \n",
    "# # Dropping all the rows with nan values\n",
    "# df.dropna(inplace=True)"
   ]
  },
  {
   "cell_type": "code",
   "execution_count": null,
   "metadata": {},
   "outputs": [],
   "source": [
    "# my_imputer = SimpleImputer()\n",
    "# numeric_columns=[]\n",
    "# categorical_columns=[]\n",
    "# for c in df.columns:\n",
    "#     if df[c].dtypes!=\"object\":\n",
    "#         numeric_columns.append(c)\n",
    "#     else:\n",
    "#         categorical_columns.append(c)\n",
    "\n",
    "# data_numeric=df.loc[:,numeric_columns]\n",
    "# data_numeric=pd.DataFrame(my_imputer.fit_transform(data_numeric),columns=numeric_columns)\n",
    "\n",
    "# data_categorical=df.loc[:,categorical_columns]\n",
    "# df2 = pd.concat([data_numeric, data_categorical], axis = 1)"
   ]
  },
  {
   "cell_type": "code",
   "execution_count": 10,
   "metadata": {},
   "outputs": [],
   "source": [
    "def model_evaluate(target, predicted):\n",
    "    \n",
    "    precision, recall, thresholds = precision_recall_curve(target, predicted)\n",
    "    fscore = (2 * precision * recall) / (precision + recall)\n",
    "    # locate the index of the largest f score\n",
    "    fscore=fscore[~np.isnan(fscore)]\n",
    "    ix = np.argmax(fscore)\n",
    "    f1_score=fscore[ix]\n",
    "    \n",
    "\n",
    "    auc=roc_auc_score(target, predicted)\n",
    "    pr_auc=auc_score(recall,precision)\n",
    "\n",
    "    thrs=thresholds[ix]\n",
    "    prec=precision[ix]\n",
    "    reca=recall[ix]\n",
    "\n",
    "    true_label_mask=[1 if x>=thrs else 0 for i,x in enumerate(predicted)]\n",
    "\n",
    "    nb_prediction=len(true_label_mask)\n",
    "    true_prediction=sum(true_label_mask)\n",
    "    false_prediction=nb_prediction-true_prediction\n",
    "    accuracy=true_prediction/nb_prediction\n",
    "    \n",
    "    return {\n",
    "        \"nb_example\":len(target),\n",
    "        \"true_prediction\":true_prediction,\n",
    "        \"false_prediction\":false_prediction,\n",
    "        \"accuracy\":accuracy,\n",
    "        \"precision\":prec, \n",
    "        \"recall\":reca, \n",
    "        \"f1_score\":f1_score,\n",
    "        \"AUC\":auc,\n",
    "        \"pr_auc\":pr_auc\n",
    "    }\n",
    "    \n",
    "### Binary Analysis\n",
    "        \n",
    "def pcut_func(df,var,nbin=5):\n",
    "    df[var]=df[var].astype(float)\n",
    "    df[\"cut\"]=pd.qcut(df[var],nbin,precision=2,duplicates=\"drop\")\n",
    "    decile=df.groupby(df[\"cut\"])['churn'].mean().reset_index()\n",
    "    decile[\"cut\"]=decile[\"cut\"].astype(str)\n",
    "    return decile\n",
    "\n",
    "def myplot(df,var,*args):\n",
    "\n",
    "    fig, a = plt.subplots(len(args)//2,2,figsize=(12,2.5*len(args)))\n",
    "    a=a.ravel()\n",
    "    for idx,ax in enumerate(a):\n",
    "      df=args[idx]\n",
    "      ax.plot(df[\"cut\"],df[\"churn\"],color=\"r\",marker=\"*\",linewidth=2, markersize=12)\n",
    "      ax.set_title(var[idx])\n",
    "      ax.tick_params(labelrotation=45)\n",
    "    fig.tight_layout()\n",
    "\n",
    "def hist_plot(df,var,r):\n",
    "\n",
    "    fig, a = plt.subplots(len(var)//2,2,figsize=(12,2*len(var)))\n",
    "    a=a.ravel()\n",
    "    for idx,ax in enumerate(a):\n",
    "      \n",
    "      ax.hist(df.loc[:,var[idx]], bins=20,range=r)\n",
    "      ax.set_title(var[idx])\n",
    "      ax.set_xlabel(var[idx])\n",
    "      ax.set_ylabel(\"Frequency\")\n",
    "    fig.tight_layout()\n",
    "    \n",
    "    \n",
    "# variable_list=df_feature_importance_v3['feature'].values.tolist()[0:30]\n",
    "\n",
    "# df3=df2.copy()\n",
    "\n",
    "# nbin=5\n",
    "# args=[]\n",
    "# for idx,v in enumerate(variable_list):\n",
    "#     x=pcut_func(df3,var=variable_list[idx],nbin=nbin)\n",
    "#     args.append(x)\n",
    "\n",
    "# myplot(df3,variable_list,*args)"
   ]
  },
  {
   "cell_type": "markdown",
   "metadata": {},
   "source": [
    "#### ### original feature + rolling window feature + delta feature + ratio feature"
   ]
  },
  {
   "cell_type": "code",
   "execution_count": 11,
   "metadata": {},
   "outputs": [
    {
     "name": "stdout",
     "output_type": "stream",
     "text": [
      "training features:            206,569             \n",
      "testing features:             20,837              \n"
     ]
    },
    {
     "data": {
      "text/html": [
       "<style type=\"text/css\">\n",
       "</style>\n",
       "<table id=\"T_8f8a3_\">\n",
       "  <thead>\n",
       "    <tr>\n",
       "      <th class=\"blank level0\" >&nbsp;</th>\n",
       "      <th class=\"col_heading level0 col0\" >churn</th>\n",
       "    </tr>\n",
       "  </thead>\n",
       "  <tbody>\n",
       "    <tr>\n",
       "      <th id=\"T_8f8a3_level0_row0\" class=\"row_heading level0 row0\" >0</th>\n",
       "      <td id=\"T_8f8a3_row0_col0\" class=\"data row0 col0\" >95.61%</td>\n",
       "    </tr>\n",
       "    <tr>\n",
       "      <th id=\"T_8f8a3_level0_row1\" class=\"row_heading level0 row1\" >1</th>\n",
       "      <td id=\"T_8f8a3_row1_col0\" class=\"data row1 col0\" >4.39%</td>\n",
       "    </tr>\n",
       "  </tbody>\n",
       "</table>\n"
      ],
      "text/plain": [
       "<pandas.io.formats.style.Styler at 0x7f6d89f69090>"
      ]
     },
     "execution_count": 11,
     "metadata": {},
     "output_type": "execute_result"
    }
   ],
   "source": [
    "df3=df2.copy()\n",
    "# exclude_cols=['policy_id', 'pivot_date', 'churn']\n",
    "# df3[\"year\"]=df3[\"year\"].astype('category')\n",
    "# df3[\"month\"]=df3[\"month\"].astype('category')\n",
    "\n",
    "exclude_cols=['policy_id', 'pivot_date', 'churn',\"year\",\"month\"]\n",
    "\n",
    "# target=df3.loc[:,[\"year\",\"churn\"]]\n",
    "# feature=df3.drop(exclude_cols, axis=1)\n",
    "# X_train,X_test,y_train,y_test=train_test_split(feature,target,test_size=0.25,stratify=target,random_state=101)\n",
    "\n",
    "train_data=df3[df3[\"year\"]!=2022]\n",
    "test_data=df3[df3[\"year\"]==2022]\n",
    "\n",
    "y_train=train_data.loc[:,\"churn\"]\n",
    "y_test=test_data.loc[:,\"churn\"]\n",
    "X_train=train_data.drop(exclude_cols, axis=1)\n",
    "X_test=test_data.drop(exclude_cols, axis=1)\n",
    "\n",
    "\n",
    "print(\"{:<30}{:<20,}\".format('training features: ', len(X_train)))\n",
    "print(\"{:<30}{:<20,}\".format('testing features: ', len(X_test)))\n",
    "# print(\"{:<30}{:<20,}\".format('training features: ', len(y_train)))\n",
    "# print(\"{:<30}{:<20,}\".format('testing features: ', len(y_test)))\n",
    "# print(y_train.value_counts(dropna=False,normalize=True).to_frame())\n",
    "pd.DataFrame(y_test, columns=[\"churn\"])[\"churn\"].value_counts(dropna=False,normalize=True).to_frame().style.format({\"churn\":\"{:.2%}\"})"
   ]
  },
  {
   "cell_type": "markdown",
   "metadata": {},
   "source": [
    "#### Tuning Hypterparameters LGBM"
   ]
  },
  {
   "cell_type": "code",
   "execution_count": 22,
   "metadata": {},
   "outputs": [
    {
     "name": "stdout",
     "output_type": "stream",
     "text": [
      "CPU times: user 0 ns, sys: 0 ns, total: 0 ns\n",
      "Wall time: 20.7 µs\n"
     ]
    }
   ],
   "source": [
    "%%time\n",
    "\n",
    "def bayes_parameter_opt_lgb(X, y, init_round=15, opt_round=25, n_folds=3, random_seed=6,n_estimators=10000, output_process=False):\n",
    "    # prepare data\n",
    "    train_data = lightgbm.Dataset(data=X, label=y, free_raw_data=False)\n",
    "\n",
    "    # parameters\n",
    "    def lgb_eval(learning_rate,num_leaves, feature_fraction, bagging_fraction, max_depth, max_bin, min_data_in_leaf,min_sum_hessian_in_leaf,subsample):\n",
    "        params = {'application':'binary', 'metric':'auc'}\n",
    "        params['learning_rate'] = max(min(learning_rate, 1), 0)\n",
    "        params[\"num_leaves\"] = int(round(num_leaves))\n",
    "        params['feature_fraction'] = max(min(feature_fraction, 1), 0)\n",
    "        params['bagging_fraction'] = max(min(bagging_fraction, 1), 0)\n",
    "        params['max_depth'] = int(round(max_depth))\n",
    "        params['max_bin'] = int(round(max_depth))\n",
    "        params['min_data_in_leaf'] = int(round(min_data_in_leaf))\n",
    "        params['min_sum_hessian_in_leaf'] = min_sum_hessian_in_leaf\n",
    "        params['subsample'] = max(min(subsample, 1), 0)\n",
    "        params[\"verbose\"]=-1\n",
    "        \n",
    "        cv_result = lightgbm.cv(params, train_data, nfold=n_folds, seed=random_seed, stratified=True, verbose_eval =-1, metrics=['auc'])  \n",
    "\n",
    "\n",
    "        return max(cv_result['auc-mean'])\n",
    "     \n",
    "    lgbBO = BayesianOptimization(lgb_eval, {'learning_rate': (0.01, 1.0),\n",
    "                                            'num_leaves': (24, 80),\n",
    "                                            'feature_fraction': (0.1, 0.9),\n",
    "                                            'bagging_fraction': (0.5, 1),\n",
    "                                            'max_depth': (5, 30),\n",
    "                                            'max_bin':(20,90),\n",
    "                                            'min_data_in_leaf': (10, 100),\n",
    "                                            'min_sum_hessian_in_leaf':(0,100),\n",
    "                                           'subsample': (0.01, 1.0)}, random_state=200)\n",
    "\n",
    "    \n",
    "    #n_iter: How many steps of bayesian optimization you want to perform. The more steps the more likely to find a good maximum you are.\n",
    "    #init_points: How many steps of random exploration you want to perform. Random exploration can help by diversifying the exploration space.\n",
    "    \n",
    "    lgbBO.maximize(init_points=init_round, n_iter=opt_round)\n",
    "    \n",
    "    model_auc=[]\n",
    "    for model in range(len( lgbBO.res)):\n",
    "        model_auc.append(lgbBO.res[model]['target'])\n",
    "    \n",
    "    # return best parameters\n",
    "    return lgbBO.res[pd.Series(model_auc).idxmax()]['target'],lgbBO.res[pd.Series(model_auc).idxmax()]['params']"
   ]
  },
  {
   "cell_type": "code",
   "execution_count": 23,
   "metadata": {},
   "outputs": [
    {
     "name": "stdout",
     "output_type": "stream",
     "text": [
      "|   iter    |  target   | baggin... | featur... | learni... |  max_bin  | max_depth | min_da... | min_su... | num_le... | subsample |\n",
      "-------------------------------------------------------------------------------------------------------------------------------------\n",
      "[LightGBM] [Warning] bagging_fraction is set=0.9738161284258351, subsample=0.4615201756036703 will be ignored. Current value: bagging_fraction=0.9738161284258351\n",
      "| \u001b[0m 1       \u001b[0m | \u001b[0m 0.7438  \u001b[0m | \u001b[0m 0.9738  \u001b[0m | \u001b[0m 0.2812  \u001b[0m | \u001b[0m 0.5985  \u001b[0m | \u001b[0m 49.98   \u001b[0m | \u001b[0m 24.1    \u001b[0m | \u001b[0m 10.26   \u001b[0m | \u001b[0m 35.74   \u001b[0m | \u001b[0m 74.94   \u001b[0m | \u001b[0m 0.4615  \u001b[0m |\n",
      "| \u001b[0m 2       \u001b[0m | \u001b[0m 0.7355  \u001b[0m | \u001b[0m 0.9909  \u001b[0m | \u001b[0m 0.7939  \u001b[0m | \u001b[0m 0.9862  \u001b[0m | \u001b[0m 84.63   \u001b[0m | \u001b[0m 12.59   \u001b[0m | \u001b[0m 86.15   \u001b[0m | \u001b[0m 12.12   \u001b[0m | \u001b[0m 67.99   \u001b[0m | \u001b[0m 0.258   \u001b[0m |\n",
      "| \u001b[0m 3       \u001b[0m | \u001b[0m 0.741   \u001b[0m | \u001b[0m 0.548   \u001b[0m | \u001b[0m 0.8548  \u001b[0m | \u001b[0m 0.8278  \u001b[0m | \u001b[0m 56.28   \u001b[0m | \u001b[0m 26.84   \u001b[0m | \u001b[0m 62.05   \u001b[0m | \u001b[0m 45.01   \u001b[0m | \u001b[0m 62.09   \u001b[0m | \u001b[0m 0.4252  \u001b[0m |\n",
      "| \u001b[95m 4       \u001b[0m | \u001b[95m 0.7637  \u001b[0m | \u001b[95m 0.8202  \u001b[0m | \u001b[95m 0.5869  \u001b[0m | \u001b[95m 0.1144  \u001b[0m | \u001b[95m 87.62   \u001b[0m | \u001b[95m 23.97   \u001b[0m | \u001b[95m 71.17   \u001b[0m | \u001b[95m 32.93   \u001b[0m | \u001b[95m 25.48   \u001b[0m | \u001b[95m 0.8056  \u001b[0m |\n",
      "| \u001b[0m 5       \u001b[0m | \u001b[0m 0.743   \u001b[0m | \u001b[0m 0.9864  \u001b[0m | \u001b[0m 0.3264  \u001b[0m | \u001b[0m 0.6526  \u001b[0m | \u001b[0m 38.59   \u001b[0m | \u001b[0m 9.692   \u001b[0m | \u001b[0m 47.71   \u001b[0m | \u001b[0m 66.6    \u001b[0m | \u001b[0m 52.98   \u001b[0m | \u001b[0m 0.8559  \u001b[0m |\n",
      "| \u001b[0m 6       \u001b[0m | \u001b[0m 0.7472  \u001b[0m | \u001b[0m 0.7142  \u001b[0m | \u001b[0m 0.5592  \u001b[0m | \u001b[0m 0.6754  \u001b[0m | \u001b[0m 87.52   \u001b[0m | \u001b[0m 17.88   \u001b[0m | \u001b[0m 11.63   \u001b[0m | \u001b[0m 99.79   \u001b[0m | \u001b[0m 37.82   \u001b[0m | \u001b[0m 0.8041  \u001b[0m |\n",
      "| \u001b[0m 7       \u001b[0m | \u001b[0m 0.7565  \u001b[0m | \u001b[0m 0.5448  \u001b[0m | \u001b[0m 0.2575  \u001b[0m | \u001b[0m 0.2472  \u001b[0m | \u001b[0m 31.74   \u001b[0m | \u001b[0m 26.55   \u001b[0m | \u001b[0m 13.71   \u001b[0m | \u001b[0m 5.128   \u001b[0m | \u001b[0m 25.29   \u001b[0m | \u001b[0m 0.7009  \u001b[0m |\n",
      "| \u001b[0m 8       \u001b[0m | \u001b[0m 0.7412  \u001b[0m | \u001b[0m 0.946   \u001b[0m | \u001b[0m 0.5209  \u001b[0m | \u001b[0m 0.605   \u001b[0m | \u001b[0m 83.83   \u001b[0m | \u001b[0m 7.271   \u001b[0m | \u001b[0m 11.49   \u001b[0m | \u001b[0m 19.74   \u001b[0m | \u001b[0m 24.76   \u001b[0m | \u001b[0m 0.08949 \u001b[0m |\n",
      "| \u001b[0m 9       \u001b[0m | \u001b[0m 0.7418  \u001b[0m | \u001b[0m 0.601   \u001b[0m | \u001b[0m 0.8443  \u001b[0m | \u001b[0m 0.6053  \u001b[0m | \u001b[0m 88.95   \u001b[0m | \u001b[0m 7.727   \u001b[0m | \u001b[0m 99.2    \u001b[0m | \u001b[0m 98.2    \u001b[0m | \u001b[0m 29.93   \u001b[0m | \u001b[0m 0.3342  \u001b[0m |\n",
      "| \u001b[0m 10      \u001b[0m | \u001b[0m 0.7424  \u001b[0m | \u001b[0m 0.9876  \u001b[0m | \u001b[0m 0.5107  \u001b[0m | \u001b[0m 0.8583  \u001b[0m | \u001b[0m 24.83   \u001b[0m | \u001b[0m 22.12   \u001b[0m | \u001b[0m 98.72   \u001b[0m | \u001b[0m 1.441   \u001b[0m | \u001b[0m 34.15   \u001b[0m | \u001b[0m 0.4158  \u001b[0m |\n",
      "| \u001b[95m 11      \u001b[0m | \u001b[95m 0.7638  \u001b[0m | \u001b[95m 0.8887  \u001b[0m | \u001b[95m 0.5756  \u001b[0m | \u001b[95m 0.1434  \u001b[0m | \u001b[95m 32.96   \u001b[0m | \u001b[95m 29.75   \u001b[0m | \u001b[95m 13.34   \u001b[0m | \u001b[95m 4.347   \u001b[0m | \u001b[95m 28.54   \u001b[0m | \u001b[95m 0.7175  \u001b[0m |\n",
      "| \u001b[0m 12      \u001b[0m | \u001b[0m 0.7531  \u001b[0m | \u001b[0m 0.8832  \u001b[0m | \u001b[0m 0.434   \u001b[0m | \u001b[0m 0.4696  \u001b[0m | \u001b[0m 30.29   \u001b[0m | \u001b[0m 25.14   \u001b[0m | \u001b[0m 13.28   \u001b[0m | \u001b[0m 99.28   \u001b[0m | \u001b[0m 31.45   \u001b[0m | \u001b[0m 0.2889  \u001b[0m |\n",
      "| \u001b[0m 13      \u001b[0m | \u001b[0m 0.7269  \u001b[0m | \u001b[0m 0.9671  \u001b[0m | \u001b[0m 0.1265  \u001b[0m | \u001b[0m 0.805   \u001b[0m | \u001b[0m 20.05   \u001b[0m | \u001b[0m 7.196   \u001b[0m | \u001b[0m 35.48   \u001b[0m | \u001b[0m 99.73   \u001b[0m | \u001b[0m 79.53   \u001b[0m | \u001b[0m 0.5273  \u001b[0m |\n",
      "| \u001b[0m 14      \u001b[0m | \u001b[0m 0.7458  \u001b[0m | \u001b[0m 0.9383  \u001b[0m | \u001b[0m 0.4317  \u001b[0m | \u001b[0m 0.6309  \u001b[0m | \u001b[0m 87.39   \u001b[0m | \u001b[0m 28.94   \u001b[0m | \u001b[0m 37.25   \u001b[0m | \u001b[0m 2.148   \u001b[0m | \u001b[0m 57.99   \u001b[0m | \u001b[0m 0.8206  \u001b[0m |\n",
      "| \u001b[0m 15      \u001b[0m | \u001b[0m 0.7446  \u001b[0m | \u001b[0m 0.9152  \u001b[0m | \u001b[0m 0.3256  \u001b[0m | \u001b[0m 0.6592  \u001b[0m | \u001b[0m 20.04   \u001b[0m | \u001b[0m 29.97   \u001b[0m | \u001b[0m 14.33   \u001b[0m | \u001b[0m 0.5562  \u001b[0m | \u001b[0m 59.26   \u001b[0m | \u001b[0m 0.06673 \u001b[0m |\n",
      "=====================================================================================================================================\n"
     ]
    },
    {
     "data": {
      "text/plain": [
       "{'bagging_fraction': 0.8886859957047621,\n",
       " 'feature_fraction': 0.5756453319856688,\n",
       " 'learning_rate': 0.14337744252465245,\n",
       " 'max_bin': 33,\n",
       " 'max_depth': 30,\n",
       " 'min_data_in_leaf': 13,\n",
       " 'min_sum_hessian_in_leaf': 4.347387000081593,\n",
       " 'num_leaves': 29,\n",
       " 'subsample': 0.7175376354183607,\n",
       " 'objective': 'binary',\n",
       " 'metric': 'auc',\n",
       " 'is_unbalance': True,\n",
       " 'boost_from_average': False}"
      ]
     },
     "execution_count": 23,
     "metadata": {},
     "output_type": "execute_result"
    }
   ],
   "source": [
    "opt_params = bayes_parameter_opt_lgb(X_train, y_train, init_round=5, opt_round=10, n_folds=3, random_seed=6,n_estimators=10000)\n",
    "opt_params[1][\"num_leaves\"] = int(round(opt_params[1][\"num_leaves\"]))\n",
    "opt_params[1]['max_depth'] = int(round(opt_params[1]['max_depth']))\n",
    "opt_params[1]['min_data_in_leaf'] = int(round(opt_params[1]['min_data_in_leaf']))\n",
    "opt_params[1]['max_bin'] = int(round(opt_params[1]['max_bin']))\n",
    "opt_params[1]['objective']='binary'\n",
    "opt_params[1]['metric']='auc'\n",
    "opt_params[1]['is_unbalance']=True\n",
    "opt_params[1]['boost_from_average']=False\n",
    "opt_params=opt_params[1]\n",
    "opt_params"
   ]
  },
  {
   "cell_type": "code",
   "execution_count": null,
   "metadata": {},
   "outputs": [],
   "source": [
    "# categorical_features=['year', 'month']\n",
    "# train_data = lightgbm.Dataset(X_train, label=y_train,categorical_feature=categorical_features)\n",
    "train_data = lightgbm.Dataset(X_train, label=y_train)\n",
    "test_data = lightgbm.Dataset(X_test, label=y_test)\n",
    "#basic parameter:\n",
    "# parameters = {\n",
    "#     'application': 'binary',\n",
    "#     'objective': 'binary',\n",
    "#     'metric': 'auc',\n",
    "#     'is_unbalance': 'true',\n",
    "#     'boosting': 'gbdt',\n",
    "#     'max_depth':8,\n",
    "#     'num_leaves':60,\n",
    "#     'min_data_in_leaf':300,\n",
    "#     'feature_fraction': 0.5,\n",
    "#     'bagging_fraction': 0.5,\n",
    "#     'bagging_freq': 20,\n",
    "#     'learning_rate': 0.04,\n",
    "#     'lambda_l1':1.2,\n",
    "#     'verbose': 0\n",
    "# }\n",
    "\n",
    "# opt_params['lambda_l1']=5\n",
    "model = lightgbm.train(opt_params,\n",
    "                       train_data,\n",
    "                       valid_sets=[train_data,test_data],\n",
    "                       num_boost_round=5000,\n",
    "                       early_stopping_rounds=100)\n",
    "\n",
    "# parameters = {\n",
    "#     'application': 'binary',\n",
    "#     'objective': 'binary',\n",
    "#     'is_unbalance': 'true',\n",
    "#     'boosting': 'gbdt',\n",
    "#     'num_leaves': 31,\n",
    "#     'feature_fraction': 0.5,\n",
    "#     'bagging_fraction': 0.5,\n",
    "#     'bagging_freq': 20,\n",
    "#     'learning_rate': 0.05,\n",
    "#     'verbose': 0\n",
    "# }\n",
    "\n",
    "# from sklearn.metrics import f1_score\n",
    "\n",
    "# def lgb_f1_score(y_hat, data):\n",
    "#     y_true = data.get_label()\n",
    "#     y_hat = np.round(y_hat) # scikits f1 doesn't like probabilities\n",
    "#     return 'f1', f1_score(y_true, y_hat), True\n",
    "\n",
    "# model = lightgbm.train(parameters,\n",
    "#                        train_data,\n",
    "#                        valid_sets=test_data,\n",
    "#                        num_boost_round=5000,\n",
    "#                        early_stopping_rounds=100, \n",
    "#                        feval=lgb_f1_score\n",
    "#                       )"
   ]
  },
  {
   "cell_type": "code",
   "execution_count": null,
   "metadata": {},
   "outputs": [],
   "source": [
    "ax = lightgbm.plot_importance(model, max_num_features=40, figsize=(15,15))\n",
    "plt.show()"
   ]
  },
  {
   "cell_type": "code",
   "execution_count": null,
   "metadata": {},
   "outputs": [],
   "source": [
    "df_feature_importance_v4 = (\n",
    "    pd.DataFrame({\n",
    "        'feature': model.feature_name(),\n",
    "        'importance': model.feature_importance(),\n",
    "    })\n",
    "    .sort_values('importance', ascending=False)\n",
    ")\n",
    "df_feature_importance_v4[\"rank\"]=list(range(len(model.feature_name())))\n",
    "df_feature_importance_v4=df_feature_importance_v4.loc[:,[\"rank\",\"feature\",\"importance\"]].reset_index(drop=True)\n",
    "# df_feature_importance_v4.head(20)"
   ]
  },
  {
   "cell_type": "code",
   "execution_count": null,
   "metadata": {},
   "outputs": [],
   "source": [
    "train_preds = model.predict(X_train)\n",
    "test_preds = model.predict(X_test)\n",
    "\n",
    "train_eval_v4=model_evaluate(y_train, train_preds)\n",
    "test_eval_v4=model_evaluate(y_test, test_preds)"
   ]
  },
  {
   "cell_type": "code",
   "execution_count": null,
   "metadata": {},
   "outputs": [],
   "source": [
    "# fpr_train_v3, tpr_train_v3, _ = roc_curve(y_train,  train_preds)\n",
    "# fpr_test_v3, tpr_test_v3, _ = roc_curve(y_test,  test_preds)\n",
    "\n",
    "# prec_train_v3, recall_train_v3, _ = precision_recall_curve(y_train,  train_preds)\n",
    "# prec_test_v3, recall_test_v3, _ = precision_recall_curve(y_test,  test_preds)"
   ]
  },
  {
   "cell_type": "code",
   "execution_count": null,
   "metadata": {},
   "outputs": [],
   "source": [
    "# fig = plt.subplots(nrows=1,ncols=2,figsize =(25, 10))\n",
    "# plt.subplot(1, 2, 1)\n",
    "# plt.plot(fpr_train_v3, tpr_train_v3, linestyle='solid', label='rolling window features + delta features', color ='purple', linewidth=2)\n",
    "# plt.plot([0, 1], [0, 1], linestyle='solid', label='random model', color ='darkorange', linewidth=2)\n",
    "# plt.xlabel('False Positive Rate', fontweight ='bold',fontsize=15)\n",
    "# plt.ylabel('True Positive Rate', fontweight ='bold',fontsize=15)\n",
    "# plt.title(f'ROC AUC CURVE \\n{\"Training\"}', fontweight ='bold',fontsize=18)\n",
    "# plt.xlim([0, 1])\n",
    "# plt.ylim([0, 1])\n",
    "# # show the legend\n",
    "# plt.legend(fontsize=\"x-large\")\n",
    "\n",
    "# plt.subplot(1, 2, 2)\n",
    "# plt.plot(fpr_test_v3, tpr_test_v3, linestyle='solid', label='rolling window features + delta features', color ='purple', linewidth=2)\n",
    "# plt.plot([0, 1], [0, 1], linestyle='solid', label='random model', color ='darkorange', linewidth=2)\n",
    "# # axis labels\n",
    "# plt.xlabel('False Positive Rate', fontweight ='bold',fontsize=15)\n",
    "# plt.ylabel('True Positive Rate', fontweight ='bold',fontsize=15)\n",
    "# plt.title(f'ROC AUC CURVE \\n{\"test\"}', fontweight ='bold',fontsize=18)\n",
    "\n",
    "# plt.xlim([0, 1])\n",
    "# plt.ylim([0, 1])\n",
    "# # show the legend\n",
    "# plt.legend(fontsize=\"x-large\")\n",
    "# # show the plot\n",
    "# plt.show()"
   ]
  },
  {
   "cell_type": "code",
   "execution_count": null,
   "metadata": {},
   "outputs": [],
   "source": [
    "# fig = plt.subplots(nrows=1,ncols=2,figsize =(25, 10))\n",
    "# plt.subplot(1, 2, 1)\n",
    "# plt.plot(prec_train_v3, recall_train_v3, linestyle='solid', label='rolling window features + delta features', color ='purple', linewidth=2)\n",
    "\n",
    "# plt.xlabel('Recall', fontweight ='bold',fontsize=15)\n",
    "# plt.ylabel('Precision', fontweight ='bold',fontsize=15)\n",
    "# plt.title(f'Precision Recall CURVE \\n{\"Training\"}', fontweight ='bold',fontsize=18)\n",
    "# plt.xlim([0, 1])\n",
    "# plt.ylim([0, 1])\n",
    "# # show the legend\n",
    "# plt.legend(fontsize=\"x-large\")\n",
    "\n",
    "# plt.subplot(1, 2, 2)\n",
    "# plt.plot(prec_test_v3, recall_test_v3, linestyle='solid', label='rolling window features + delta features', color ='purple', linewidth=2)\n",
    "\n",
    "# # axis labels\n",
    "# plt.xlabel('Recall', fontweight ='bold',fontsize=15)\n",
    "# plt.ylabel('Precision', fontweight ='bold',fontsize=15)\n",
    "# plt.title(f'Precision Recall CURVE \\n{\"test\"}', fontweight ='bold',fontsize=18)\n",
    "\n",
    "# plt.xlim([0, 1])\n",
    "# plt.ylim([0, 1])\n",
    "# # show the legend\n",
    "# plt.legend(fontsize=\"x-large\")\n",
    "# # show the plot\n",
    "# plt.show()"
   ]
  },
  {
   "cell_type": "markdown",
   "metadata": {},
   "source": [
    "### ### original feature + rolling window feature"
   ]
  },
  {
   "cell_type": "code",
   "execution_count": null,
   "metadata": {},
   "outputs": [],
   "source": [
    "df3=df2.copy()\n",
    "all_var=df3.columns.tolist()\n",
    "exclude_var=[]\n",
    "for col in all_var:\n",
    "    if col[:2] in ['d1','d2','d3','d6','d12',\"r1\",\"r2\",\"r3\",\"r6\",\"r12\"]:\n",
    "        exclude_var.append(col)\n",
    "        \n",
    "df3.drop(exclude_var, axis=1,inplace=True)\n",
    "\n",
    "# exclude_cols=['policy_id', 'pivot_date', 'churn']\n",
    "# df3[\"year\"]=df3[\"year\"].astype('category')\n",
    "# df3[\"month\"]=df3[\"month\"].astype('category')\n",
    "\n",
    "exclude_cols=['policy_id', 'pivot_date', 'churn',\"year\",\"month\"]\n",
    "\n",
    "# target=df3.loc[:,[\"year\",\"churn\"]]\n",
    "# feature=df3.drop(exclude_cols, axis=1)\n",
    "# X_train,X_test,y_train,y_test=train_test_split(feature,target,test_size=0.25,stratify=target,random_state=101)\n",
    "\n",
    "train_data=df3[df3[\"year\"]!=2022]\n",
    "test_data=df3[df3[\"year\"]==2022]\n",
    "\n",
    "y_train=train_data.loc[:,\"churn\"]\n",
    "y_test=test_data.loc[:,\"churn\"]\n",
    "X_train=train_data.drop(exclude_cols, axis=1)\n",
    "X_test=test_data.drop(exclude_cols, axis=1)\n",
    "\n",
    "\n",
    "print(\"{:<30}{:<20,}\".format('training features: ', len(X_train)))\n",
    "print(\"{:<30}{:<20,}\".format('testing features: ', len(X_test)))\n",
    "\n",
    "pd.DataFrame(y_test, columns=[\"churn\"])[\"churn\"].value_counts(dropna=False,normalize=True).to_frame().style.format({\"churn\":\"{:.2%}\"})\n",
    "\n",
    "\n",
    "\n",
    "# df3=df2.copy()\n",
    "# all_var=df3.columns.tolist()\n",
    "# exclude_var=[]\n",
    "# for col in all_var:\n",
    "#     if col[:2] in [\"d1\",\"d2\",\"d3\",\"d6\",\"d12\",\"r1\",\"r2\",\"r3\",\"r6\",\"r12\"]:\n",
    "#         exclude_var.append(col)\n",
    "# X_train.drop(exclude_var, axis=1,inplace=True)\n",
    "# X_test.drop(exclude_var, axis=1,inplace=True)"
   ]
  },
  {
   "cell_type": "code",
   "execution_count": null,
   "metadata": {},
   "outputs": [],
   "source": [
    "opt_params = bayes_parameter_opt_lgb(X_train, y_train, init_round=5, opt_round=10, n_folds=3, random_seed=6,n_estimators=10000)\n",
    "opt_params[1][\"num_leaves\"] = int(round(opt_params[1][\"num_leaves\"]))\n",
    "opt_params[1]['max_depth'] = int(round(opt_params[1]['max_depth']))\n",
    "opt_params[1]['min_data_in_leaf'] = int(round(opt_params[1]['min_data_in_leaf']))\n",
    "opt_params[1]['max_bin'] = int(round(opt_params[1]['max_bin']))\n",
    "opt_params[1]['objective']='binary'\n",
    "opt_params[1]['metric']='auc'\n",
    "opt_params[1]['is_unbalance']=True\n",
    "opt_params[1]['boost_from_average']=False\n",
    "opt_params=opt_params[1]\n",
    "opt_params"
   ]
  },
  {
   "cell_type": "code",
   "execution_count": null,
   "metadata": {},
   "outputs": [],
   "source": [
    "# categorical_features=['year', 'month']\n",
    "# train_data = lightgbm.Dataset(X_train, label=y_train,categorical_feature=categorical_features)\n",
    "train_data = lightgbm.Dataset(X_train, label=y_train)\n",
    "test_data = lightgbm.Dataset(X_test, label=y_test)\n",
    "#basic parameter:\n",
    "# parameters = {\n",
    "#     'application': 'binary',\n",
    "#     'objective': 'binary',\n",
    "#     'metric': 'auc',\n",
    "#     'is_unbalance': 'true',\n",
    "#     'boosting': 'gbdt',\n",
    "#     'num_leaves': 31,\n",
    "#     'feature_fraction': 0.5,\n",
    "#     'bagging_fraction': 0.5,\n",
    "#     'bagging_freq': 20,\n",
    "#     'learning_rate': 0.05,\n",
    "#     'verbose': 0\n",
    "# }\n",
    "\n",
    "model = lightgbm.train(opt_params,\n",
    "                       train_data,\n",
    "                       valid_sets=[train_data,test_data],\n",
    "                       num_boost_round=5000,\n",
    "                       early_stopping_rounds=100)"
   ]
  },
  {
   "cell_type": "code",
   "execution_count": null,
   "metadata": {},
   "outputs": [],
   "source": [
    "ax = lightgbm.plot_importance(model, max_num_features=40, figsize=(15,15))\n",
    "plt.show()"
   ]
  },
  {
   "cell_type": "code",
   "execution_count": null,
   "metadata": {
    "id": "MxaRaKky63Tu"
   },
   "outputs": [],
   "source": [
    "df_feature_importance_v2 = (\n",
    "    pd.DataFrame({\n",
    "        'feature': model.feature_name(),\n",
    "        'importance': model.feature_importance(),\n",
    "    })\n",
    "    .sort_values('importance', ascending=False)\n",
    ")\n",
    "df_feature_importance_v2[\"rank\"]=list(range(len(model.feature_name())))\n",
    "df_feature_importance_v2=df_feature_importance_v2.loc[:,[\"rank\",\"feature\",\"importance\"]].reset_index(drop=True)\n",
    "# df_feature_importance_v2.head(20)"
   ]
  },
  {
   "cell_type": "code",
   "execution_count": null,
   "metadata": {},
   "outputs": [],
   "source": [
    "train_preds = model.predict(X_train)\n",
    "test_preds = model.predict(X_test)\n",
    "\n",
    "train_eval_v2=model_evaluate(y_train, train_preds)\n",
    "test_eval_v2=model_evaluate(y_test, test_preds)"
   ]
  },
  {
   "cell_type": "markdown",
   "metadata": {
    "id": "vsJP6j_lZhYB"
   },
   "source": [
    "### original feature"
   ]
  },
  {
   "cell_type": "code",
   "execution_count": null,
   "metadata": {},
   "outputs": [],
   "source": [
    "df3=df2.copy()\n",
    "all_var=df3.columns.tolist()\n",
    "exclude_var=[]\n",
    "for col in all_var:\n",
    "    if col[:2] in [\"L1\",\"L2\",\"L3\",\"L6\",\"L12\",'d1','d2','d3','d6','d12',\"r1\",\"r2\",\"r3\",\"r6\",\"r12\"]:\n",
    "        exclude_var.append(col)\n",
    "        \n",
    "df3.drop(exclude_var, axis=1,inplace=True)\n",
    "\n",
    "# exclude_cols=['policy_id', 'pivot_date', 'churn']\n",
    "# df3[\"year\"]=df3[\"year\"].astype('category')\n",
    "# df3[\"month\"]=df3[\"month\"].astype('category')\n",
    "\n",
    "exclude_cols=['policy_id', 'pivot_date', 'churn',\"year\",\"month\"]\n",
    "\n",
    "# target=df3.loc[:,[\"year\",\"churn\"]]\n",
    "# feature=df3.drop(exclude_cols, axis=1)\n",
    "# X_train,X_test,y_train,y_test=train_test_split(feature,target,test_size=0.25,stratify=target,random_state=101)\n",
    "\n",
    "train_data=df3[df3[\"year\"]!=2022]\n",
    "test_data=df3[df3[\"year\"]==2022]\n",
    "\n",
    "y_train=train_data.loc[:,\"churn\"]\n",
    "y_test=test_data.loc[:,\"churn\"]\n",
    "X_train=train_data.drop(exclude_cols, axis=1)\n",
    "X_test=test_data.drop(exclude_cols, axis=1)\n",
    "\n",
    "\n",
    "print(\"{:<30}{:<20,}\".format('training features: ', len(X_train)))\n",
    "print(\"{:<30}{:<20,}\".format('testing features: ', len(X_test)))\n",
    "\n",
    "pd.DataFrame(y_test, columns=[\"churn\"])[\"churn\"].value_counts(dropna=False,normalize=True).to_frame().style.format({\"churn\":\"{:.2%}\"})\n",
    "\n",
    "\n",
    "# df3=df2.copy()\n",
    "# all_var=df3.columns.tolist()\n",
    "# exclude_var=[]\n",
    "# for col in all_var:\n",
    "#     if col[:2] in [\"L1\",\"L2\",\"L3\",\"L6\",\"L12\"]:\n",
    "#         exclude_var.append(col)\n",
    "# X_train.drop(exclude_var, axis=1,inplace=True)\n",
    "# X_test.drop(exclude_var, axis=1,inplace=True)\n",
    "# X_train.columns.tolist()"
   ]
  },
  {
   "cell_type": "code",
   "execution_count": null,
   "metadata": {},
   "outputs": [],
   "source": [
    "opt_params = bayes_parameter_opt_lgb(X_train, y_train, init_round=5, opt_round=10, n_folds=3, random_seed=6,n_estimators=10000)\n",
    "opt_params[1][\"num_leaves\"] = int(round(opt_params[1][\"num_leaves\"]))\n",
    "opt_params[1]['max_depth'] = int(round(opt_params[1]['max_depth']))\n",
    "opt_params[1]['min_data_in_leaf'] = int(round(opt_params[1]['min_data_in_leaf']))\n",
    "opt_params[1]['max_bin'] = int(round(opt_params[1]['max_bin']))\n",
    "opt_params[1]['objective']='binary'\n",
    "opt_params[1]['metric']='auc'\n",
    "opt_params[1]['is_unbalance']=True\n",
    "opt_params[1]['boost_from_average']=False\n",
    "opt_params=opt_params[1]\n",
    "opt_params"
   ]
  },
  {
   "cell_type": "code",
   "execution_count": null,
   "metadata": {},
   "outputs": [],
   "source": [
    "# categorical_features=['year', 'month']\n",
    "# train_data = lightgbm.Dataset(X_train, label=y_train,categorical_feature=categorical_features)\n",
    "train_data = lightgbm.Dataset(X_train, label=y_train)\n",
    "test_data = lightgbm.Dataset(X_test, label=y_test)\n",
    "#basic parameter:\n",
    "# parameters = {\n",
    "#     'application': 'binary',\n",
    "#     'objective': 'binary',\n",
    "#     'metric': 'auc',\n",
    "#     'is_unbalance': 'true',\n",
    "#     'boosting': 'gbdt',\n",
    "#     'num_leaves': 31,\n",
    "#     'feature_fraction': 0.5,\n",
    "#     'bagging_fraction': 0.5,\n",
    "#     'bagging_freq': 20,\n",
    "#     'learning_rate': 0.05,\n",
    "#     'verbose': 0\n",
    "# }\n",
    "\n",
    "model = lightgbm.train(opt_params,\n",
    "                       train_data,\n",
    "                       valid_sets=[train_data,test_data],\n",
    "                       num_boost_round=5000,\n",
    "                       early_stopping_rounds=100)"
   ]
  },
  {
   "cell_type": "code",
   "execution_count": null,
   "metadata": {},
   "outputs": [],
   "source": [
    "ax = lightgbm.plot_importance(model, max_num_features=40, figsize=(15,15))\n",
    "plt.show()"
   ]
  },
  {
   "cell_type": "code",
   "execution_count": null,
   "metadata": {},
   "outputs": [],
   "source": [
    "df_feature_importance_v1 = (\n",
    "    pd.DataFrame({\n",
    "        'feature': model.feature_name(),\n",
    "        'importance': model.feature_importance(),\n",
    "    })\n",
    "    .sort_values('importance', ascending=False)\n",
    ")\n",
    "df_feature_importance_v1[\"rank\"]=list(range(len(model.feature_name())))\n",
    "df_feature_importance_v1=df_feature_importance_v1.loc[:,[\"rank\",\"feature\",\"importance\"]].reset_index(drop=True)\n",
    "# df_feature_importance_v1.head(20)"
   ]
  },
  {
   "cell_type": "code",
   "execution_count": null,
   "metadata": {},
   "outputs": [],
   "source": [
    "train_preds = model.predict(X_train)\n",
    "test_preds = model.predict(X_test)\n",
    "\n",
    "train_eval_v1=model_evaluate(y_train, train_preds)\n",
    "test_eval_v1=model_evaluate(y_test, test_preds)"
   ]
  },
  {
   "cell_type": "markdown",
   "metadata": {},
   "source": [
    "### original feature + rolling window feature + delta feature"
   ]
  },
  {
   "cell_type": "code",
   "execution_count": null,
   "metadata": {},
   "outputs": [],
   "source": [
    "df3=df2.copy()\n",
    "all_var=df3.columns.tolist()\n",
    "exclude_var=[]\n",
    "for col in all_var:\n",
    "    if col[:2] in [\"r1\",\"r2\",\"r3\",\"r6\",\"r12\"]:\n",
    "        exclude_var.append(col)\n",
    "        \n",
    "df3.drop(exclude_var, axis=1,inplace=True)\n",
    "\n",
    "# exclude_cols=['policy_id', 'pivot_date', 'churn']\n",
    "# df3[\"year\"]=df3[\"year\"].astype('category')\n",
    "# df3[\"month\"]=df3[\"month\"].astype('category')\n",
    "\n",
    "exclude_cols=['policy_id', 'pivot_date', 'churn',\"year\",\"month\"]\n",
    "\n",
    "# target=df3.loc[:,[\"year\",\"churn\"]]\n",
    "# feature=df3.drop(exclude_cols, axis=1)\n",
    "# X_train,X_test,y_train,y_test=train_test_split(feature,target,test_size=0.25,stratify=target,random_state=101)\n",
    "\n",
    "train_data=df3[df3[\"year\"]!=2022]\n",
    "test_data=df3[df3[\"year\"]==2022]\n",
    "\n",
    "y_train=train_data.loc[:,\"churn\"]\n",
    "y_test=test_data.loc[:,\"churn\"]\n",
    "X_train=train_data.drop(exclude_cols, axis=1)\n",
    "X_test=test_data.drop(exclude_cols, axis=1)\n",
    "\n",
    "\n",
    "print(\"{:<30}{:<20,}\".format('training features: ', len(X_train)))\n",
    "print(\"{:<30}{:<20,}\".format('testing features: ', len(X_test)))\n",
    "\n",
    "pd.DataFrame(y_test, columns=[\"churn\"])[\"churn\"].value_counts(dropna=False,normalize=True).to_frame().style.format({\"churn\":\"{:.2%}\"})"
   ]
  },
  {
   "cell_type": "code",
   "execution_count": null,
   "metadata": {},
   "outputs": [],
   "source": [
    "opt_params = bayes_parameter_opt_lgb(X_train, y_train, init_round=5, opt_round=10, n_folds=3, random_seed=6,n_estimators=10000)\n",
    "opt_params[1][\"num_leaves\"] = int(round(opt_params[1][\"num_leaves\"]))\n",
    "opt_params[1]['max_depth'] = int(round(opt_params[1]['max_depth']))\n",
    "opt_params[1]['min_data_in_leaf'] = int(round(opt_params[1]['min_data_in_leaf']))\n",
    "opt_params[1]['max_bin'] = int(round(opt_params[1]['max_bin']))\n",
    "opt_params[1]['objective']='binary'\n",
    "opt_params[1]['metric']='auc'\n",
    "opt_params[1]['is_unbalance']=True\n",
    "opt_params[1]['boost_from_average']=False\n",
    "opt_params=opt_params[1]\n",
    "opt_params"
   ]
  },
  {
   "cell_type": "code",
   "execution_count": null,
   "metadata": {},
   "outputs": [],
   "source": [
    "# categorical_features=['year', 'month']\n",
    "# train_data = lightgbm.Dataset(X_train, label=y_train,categorical_feature=categorical_features)\n",
    "train_data = lightgbm.Dataset(X_train, label=y_train)\n",
    "test_data = lightgbm.Dataset(X_test, label=y_test)\n",
    "#basic parameter:\n",
    "# parameters = {\n",
    "#     'application': 'binary',\n",
    "#     'objective': 'binary',\n",
    "#     'metric': 'auc',\n",
    "#     'is_unbalance': 'true',\n",
    "#     'boosting': 'gbdt',\n",
    "#     'num_leaves': 31,\n",
    "#     'feature_fraction': 0.5,\n",
    "#     'bagging_fraction': 0.5,\n",
    "#     'bagging_freq': 20,\n",
    "#     'learning_rate': 0.05,\n",
    "#     'verbose': 0\n",
    "# }\n",
    "\n",
    "model = lightgbm.train(opt_params,\n",
    "                       train_data,\n",
    "                       valid_sets=[train_data,test_data],\n",
    "                       num_boost_round=5000,\n",
    "                       early_stopping_rounds=100)"
   ]
  },
  {
   "cell_type": "code",
   "execution_count": null,
   "metadata": {},
   "outputs": [],
   "source": [
    "df_feature_importance_v3 = (\n",
    "    pd.DataFrame({\n",
    "        'feature': model.feature_name(),\n",
    "        'importance': model.feature_importance(),\n",
    "    })\n",
    "    .sort_values('importance', ascending=False)\n",
    ")\n",
    "df_feature_importance_v3[\"rank\"]=list(range(len(model.feature_name())))\n",
    "df_feature_importance_v3=df_feature_importance_v3.loc[:,[\"rank\",\"feature\",\"importance\"]].reset_index(drop=True)\n",
    "# df_feature_importance_v3.head(20)"
   ]
  },
  {
   "cell_type": "code",
   "execution_count": null,
   "metadata": {},
   "outputs": [],
   "source": [
    "train_preds = model.predict(X_train)\n",
    "test_preds = model.predict(X_test)\n",
    "\n",
    "train_eval_v3=model_evaluate(y_train, train_preds)\n",
    "test_eval_v3=model_evaluate(y_test, test_preds)"
   ]
  },
  {
   "cell_type": "code",
   "execution_count": null,
   "metadata": {},
   "outputs": [],
   "source": [
    "def evaluation_table(eval_v1,eval_v2,eval_v3,eval_v4,type):\n",
    "    dict_data={}\n",
    "    dict_data[\"Features\"]=[\"Original feature\",\"rolling window feature\",\"rolling window + delta feature\",\"rolling window + delta feature + ratio feature\"]\n",
    "    # dict_data[\"# of feature\"]=[len(feat_1),len(feat_2),len(feat_3)] \n",
    "    dict_data[\"# of sample\"]=[eval_v1['nb_example'],eval_v2['nb_example'],eval_v3['nb_example'],eval_v4['nb_example']]\n",
    "    # dict_data[\"true_prediction\"]=[eval_v1['true_prediction'],eval_v2['true_prediction'],eval_v3['true_prediction']]\n",
    "    # dict_data[\"false_prediction\"]=[eval_v1['false_prediction'],eval_v2['false_prediction'],eval_v3['false_prediction']]\n",
    "    # dict_data[\"accuracy\"]=[eval_v1['accuracy'],eval_v2['accuracy'],eval_v3['accuracy']]\n",
    "    dict_data[\"precision\"]=[eval_v1['precision'],eval_v2['precision'],eval_v3['precision'],eval_v4['precision']]  \n",
    "    dict_data[\"recall\"]=[eval_v1['recall'],eval_v2['recall'],eval_v3['recall'],eval_v4['recall']] \n",
    "    dict_data[\"f1_score\"]=[eval_v1['f1_score'],eval_v2['f1_score'],eval_v3['f1_score'],eval_v4['f1_score']] \n",
    "    dict_data[\"ROC-AUC\"]=[eval_v1['AUC'],eval_v2['AUC'],eval_v3['AUC'],eval_v4['AUC']] \n",
    "    dict_data[\"pr-auc\"]=[eval_v1['pr_auc'],eval_v2['pr_auc'],eval_v3['pr_auc'],eval_v4['pr_auc']] \n",
    "    data_df=pd.DataFrame(dict_data)\n",
    "    # data_df=data_df.set_index(\"Model Type\")\n",
    "    # data_df.style.format({\"# of sample\":\"{:,}\",\"true_prediction\":\"{:,}\",\"false_prediction\":\"{:,}\",\"accuracy\":\"{:.2%}\",\"precision\":\"{:.2%}\",\"recall\":\"{:.2%}\",\"f1_score\":\"{:.2%}\",\"ROC-AUC\":\"{:.2%}\",\"pr-auc\":\"{:.2%}\"})\\\n",
    "    return data_df.style.format({\"# of sample\":\"{:,}\",\"precision\":\"{:.2%}\",\"recall\":\"{:.2%}\",\"f1_score\":\"{:.2%}\",\"ROC-AUC\":\"{:.2%}\",\"pr-auc\":\"{:.2%}\"})\\\n",
    "    .set_caption(f\"Model Performance Comparison {type}\")\\\n",
    "    .set_table_styles([{\n",
    "        'selector': 'caption',\n",
    "        'props': [\n",
    "            ('color', 'red'),\n",
    "            ('font-size', '20px')\n",
    "        ]\n",
    "    }])"
   ]
  },
  {
   "cell_type": "code",
   "execution_count": null,
   "metadata": {},
   "outputs": [],
   "source": [
    "evaluation_table(train_eval_v1,train_eval_v2,train_eval_v3,train_eval_v4,\"Training Set\")"
   ]
  },
  {
   "cell_type": "code",
   "execution_count": null,
   "metadata": {},
   "outputs": [],
   "source": [
    "evaluation_table(test_eval_v1,test_eval_v2,test_eval_v3,test_eval_v4,\"Test Set\")"
   ]
  },
  {
   "cell_type": "code",
   "execution_count": null,
   "metadata": {},
   "outputs": [],
   "source": [
    "f1=df_feature_importance_v1.loc[:30,['rank','feature']].rename(columns={\"feature\":\"original_feature\"})\n",
    "f2=df_feature_importance_v2.loc[:30,['rank','feature']].rename(columns={\"feature\":\"Add rolling window feature\"})\n",
    "f3=df_feature_importance_v3.loc[:30,['rank','feature']].rename(columns={\"feature\":\"Add Delta and Ratio feature\"})\n",
    "\n",
    "feature_importance=pd.merge(f1,f2,how=\"inner\",on=\"rank\")\n",
    "feature_importance=pd.merge(feature_importance,f3,how=\"inner\",on=\"rank\")\n",
    "# feature_importance.style.format().set_caption(\"Top 20 important Features\").set_table_styles([{\n",
    "#     'selector': 'caption',\n",
    "#     'props': [\n",
    "#         ('color', 'red'),\n",
    "#         ('font-size', '20px')\n",
    "#     ]\n",
    "# }])\n",
    "feature_importance"
   ]
  },
  {
   "cell_type": "code",
   "execution_count": null,
   "metadata": {},
   "outputs": [],
   "source": []
  },
  {
   "cell_type": "markdown",
   "metadata": {},
   "source": [
    "### Only include top 20 most important features"
   ]
  },
  {
   "cell_type": "code",
   "execution_count": null,
   "metadata": {},
   "outputs": [],
   "source": [
    "dict_data={}\n",
    "dict_data[\"Feature\"]=[\"Original feature\",\"Add rolling window feature\",\"Add Delta and Ratio feature\"]\n",
    "dict_data[\"ROC_AUC\"]=[test_eval_v1['AUC'],test_eval_v2['AUC'],test_eval_v3['AUC']]\n",
    "dict_data[\"# of feature\"]=[df_feature_importance_v1.shape[0],df_feature_importance_v2.shape[0],df_feature_importance_v3.shape[0]]  \n",
    "\n",
    "data_df=pd.DataFrame(dict_data)\n",
    "# data_df=data_df.set_index(\"Model Type\")\n",
    "data_df.style.format({\"ROC_AUC\":\"{:.2%}\"}).set_caption(\"\")\\\n",
    ".set_table_styles([{\n",
    "    'selector': 'caption',\n",
    "    'props': [\n",
    "        ('color', 'red'),\n",
    "        ('font-size', '20px')\n",
    "    ]\n",
    "}])"
   ]
  },
  {
   "cell_type": "code",
   "execution_count": null,
   "metadata": {},
   "outputs": [],
   "source": [
    "df3=df2.copy()\n",
    "# exclude_cols=['policy_id', 'pivot_date', 'churn']\n",
    "# df3[\"year\"]=df3[\"year\"].astype('category')\n",
    "# df3[\"month\"]=df3[\"month\"].astype('category')\n",
    "\n",
    "exclude_cols=['policy_id', 'pivot_date', 'churn',\"year\",\"month\"]\n",
    "\n",
    "# target=df3.loc[:,[\"year\",\"churn\"]]\n",
    "# feature=df3.drop(exclude_cols, axis=1)\n",
    "# X_train,X_test,y_train,y_test=train_test_split(feature,target,test_size=0.25,stratify=target,random_state=101)\n",
    "\n",
    "train_data=df3[df3[\"year\"]!=2022]\n",
    "test_data=df3[df3[\"year\"]==2022]\n",
    "\n",
    "y_train=train_data.loc[:,\"churn\"]\n",
    "y_test=test_data.loc[:,\"churn\"]\n",
    "X_train=train_data.drop(exclude_cols, axis=1)\n",
    "X_test=test_data.drop(exclude_cols, axis=1)\n",
    "\n",
    "# print(\"{:<30}{:<20,}\".format('training features: ', len(X_train)))\n",
    "# print(\"{:<30}{:<20,}\".format('testing features: ', len(X_test)))\n",
    "# # print(\"{:<30}{:<20,}\".format('training features: ', len(y_train)))\n",
    "# # print(\"{:<30}{:<20,}\".format('testing features: ', len(y_test)))\n",
    "# # print(y_train.value_counts(dropna=False,normalize=True).to_frame())\n",
    "# pd.DataFrame(y_test, columns=[\"churn\"])[\"churn\"].value_counts(dropna=False,normalize=True).to_frame().style.format({\"churn\":\"{:.2%}\"})\n",
    "\n",
    "feat_1=feature_importance[\"original_feature\"].values.tolist()\n",
    "feat_2=feature_importance[\"Add rolling window feature\"].values.tolist()\n",
    "feat_3=feature_importance[\"Add Delta and Ratio feature\"].values.tolist()\n",
    "feat_all=feat_1+feat_2+feat_3"
   ]
  },
  {
   "cell_type": "code",
   "execution_count": null,
   "metadata": {},
   "outputs": [],
   "source": [
    "opt_params = bayes_parameter_opt_lgb(X_train.loc[:,feat_1], y_train, init_round=5, opt_round=10, n_folds=3, random_seed=6,n_estimators=10000)\n",
    "opt_params[1][\"num_leaves\"] = int(round(opt_params[1][\"num_leaves\"]))\n",
    "opt_params[1]['max_depth'] = int(round(opt_params[1]['max_depth']))\n",
    "opt_params[1]['min_data_in_leaf'] = int(round(opt_params[1]['min_data_in_leaf']))\n",
    "opt_params[1]['max_bin'] = int(round(opt_params[1]['max_bin']))\n",
    "opt_params[1]['objective']='binary'\n",
    "opt_params[1]['metric']='auc'\n",
    "opt_params[1]['is_unbalance']=True\n",
    "opt_params[1]['boost_from_average']=False\n",
    "opt_params=opt_params[1]\n",
    "opt_params"
   ]
  },
  {
   "cell_type": "code",
   "execution_count": null,
   "metadata": {},
   "outputs": [],
   "source": [
    "train_data_v1 = lightgbm.Dataset(X_train.loc[:,feat_1], label=y_train)\n",
    "test_data_v1 = lightgbm.Dataset(X_test.loc[:,feat_1], label=y_test)\n",
    "#basic parameter:\n",
    "# parameters = {\n",
    "#     'application': 'binary',\n",
    "#     'objective': 'binary',\n",
    "#     'metric': 'auc',\n",
    "#     'is_unbalance': 'true',\n",
    "#     'boosting': 'gbdt',\n",
    "#     'num_leaves': 31,\n",
    "#     'feature_fraction': 0.5,\n",
    "#     'bagging_fraction': 0.5,\n",
    "#     'bagging_freq': 20,\n",
    "#     'learning_rate': 0.05,\n",
    "#     'verbose': 0\n",
    "# }\n",
    "\n",
    "model = lightgbm.train(opt_params,\n",
    "                       train_data_v1,\n",
    "                       valid_sets=test_data_v1,\n",
    "                       num_boost_round=5000,\n",
    "                       early_stopping_rounds=100)"
   ]
  },
  {
   "cell_type": "code",
   "execution_count": null,
   "metadata": {},
   "outputs": [],
   "source": [
    "train_preds = model.predict(X_train.loc[:,feat_1])\n",
    "test_preds = model.predict(X_test.loc[:,feat_1])\n",
    "\n",
    "train_eval_v1=model_evaluate(y_train, train_preds)\n",
    "test_eval_v1=model_evaluate(y_test, test_preds)"
   ]
  },
  {
   "cell_type": "code",
   "execution_count": null,
   "metadata": {},
   "outputs": [],
   "source": [
    "opt_params = bayes_parameter_opt_lgb(X_train.loc[:,feat_2], y_train, init_round=5, opt_round=10, n_folds=3, random_seed=6,n_estimators=10000)\n",
    "opt_params[1][\"num_leaves\"] = int(round(opt_params[1][\"num_leaves\"]))\n",
    "opt_params[1]['max_depth'] = int(round(opt_params[1]['max_depth']))\n",
    "opt_params[1]['min_data_in_leaf'] = int(round(opt_params[1]['min_data_in_leaf']))\n",
    "opt_params[1]['max_bin'] = int(round(opt_params[1]['max_bin']))\n",
    "opt_params[1]['objective']='binary'\n",
    "opt_params[1]['metric']='auc'\n",
    "opt_params[1]['is_unbalance']=True\n",
    "opt_params[1]['boost_from_average']=False\n",
    "opt_params=opt_params[1]\n",
    "opt_params"
   ]
  },
  {
   "cell_type": "code",
   "execution_count": null,
   "metadata": {},
   "outputs": [],
   "source": [
    "train_data_v2 = lightgbm.Dataset(X_train.loc[:,feat_2], label=y_train)\n",
    "test_data_v2 = lightgbm.Dataset(X_test.loc[:,feat_2], label=y_test)\n",
    "#basic parameter:\n",
    "# parameters = {\n",
    "#     'application': 'binary',\n",
    "#     'objective': 'binary',\n",
    "#     'metric': 'auc',\n",
    "#     'is_unbalance': 'true',\n",
    "#     'boosting': 'gbdt',\n",
    "#     'num_leaves': 31,\n",
    "#     'feature_fraction': 0.5,\n",
    "#     'bagging_fraction': 0.5,\n",
    "#     'bagging_freq': 20,\n",
    "#     'learning_rate': 0.05,\n",
    "#     'verbose': 0\n",
    "# }\n",
    "\n",
    "model = lightgbm.train(opt_params,\n",
    "                       train_data_v2,\n",
    "                       valid_sets=test_data_v2,\n",
    "                       num_boost_round=5000,\n",
    "                       early_stopping_rounds=100)"
   ]
  },
  {
   "cell_type": "code",
   "execution_count": null,
   "metadata": {},
   "outputs": [],
   "source": [
    "train_preds = model.predict(X_train.loc[:,feat_2])\n",
    "test_preds = model.predict(X_test.loc[:,feat_2])\n",
    "\n",
    "train_eval_v2=model_evaluate(y_train, train_preds)\n",
    "test_eval_v2=model_evaluate(y_test, test_preds)"
   ]
  },
  {
   "cell_type": "code",
   "execution_count": null,
   "metadata": {},
   "outputs": [],
   "source": [
    "opt_params = bayes_parameter_opt_lgb(X_train.loc[:,feat_3], y_train, init_round=5, opt_round=10, n_folds=3, random_seed=6,n_estimators=10000)\n",
    "opt_params[1][\"num_leaves\"] = int(round(opt_params[1][\"num_leaves\"]))\n",
    "opt_params[1]['max_depth'] = int(round(opt_params[1]['max_depth']))\n",
    "opt_params[1]['min_data_in_leaf'] = int(round(opt_params[1]['min_data_in_leaf']))\n",
    "opt_params[1]['max_bin'] = int(round(opt_params[1]['max_bin']))\n",
    "opt_params[1]['objective']='binary'\n",
    "opt_params[1]['metric']='auc'\n",
    "opt_params[1]['is_unbalance']=True\n",
    "opt_params[1]['boost_from_average']=False\n",
    "opt_params=opt_params[1]\n",
    "opt_params"
   ]
  },
  {
   "cell_type": "code",
   "execution_count": null,
   "metadata": {},
   "outputs": [],
   "source": [
    "train_data_v3 = lightgbm.Dataset(X_train.loc[:,feat_3], label=y_train)\n",
    "test_data_v3 = lightgbm.Dataset(X_test.loc[:,feat_3], label=y_test)\n",
    "#basic parameter:\n",
    "# parameters = {\n",
    "#     'application': 'binary',\n",
    "#     'objective': 'binary',\n",
    "#     'metric': 'auc',\n",
    "#     'is_unbalance': 'true',\n",
    "#     'boosting': 'gbdt',\n",
    "#     'num_leaves': 31,\n",
    "#     'feature_fraction': 0.5,\n",
    "#     'bagging_fraction': 0.5,\n",
    "#     'bagging_freq': 20,\n",
    "#     'learning_rate': 0.05,\n",
    "#     'verbose': 0\n",
    "# }\n",
    "\n",
    "model = lightgbm.train(opt_params,\n",
    "                       train_data_v3,\n",
    "                       valid_sets=test_data_v3,\n",
    "                       num_boost_round=5000,\n",
    "                       early_stopping_rounds=100)"
   ]
  },
  {
   "cell_type": "code",
   "execution_count": null,
   "metadata": {},
   "outputs": [],
   "source": [
    "train_preds = model.predict(X_train.loc[:,feat_3])\n",
    "test_preds = model.predict(X_test.loc[:,feat_3])\n",
    "\n",
    "train_eval_v3=model_evaluate(y_train, train_preds)\n",
    "test_eval_v3=model_evaluate(y_test, test_preds)"
   ]
  },
  {
   "cell_type": "code",
   "execution_count": null,
   "metadata": {},
   "outputs": [],
   "source": [
    "dict_data={}\n",
    "dict_data[\"Feature\"]=[\"Original feature\",\"Add rolling window feature\",\"Add Delta and Ratio feature\"]\n",
    "dict_data[\"ROC_AUC\"]=[test_eval_v1['AUC'],test_eval_v2['AUC'],test_eval_v3['AUC']]\n",
    "dict_data[\"# of feature\"]=[len(feat_1),len(feat_2),len(feat_3)]  \n",
    "\n",
    "data_df=pd.DataFrame(dict_data)\n",
    "# data_df=data_df.set_index(\"Model Type\")\n",
    "data_df.style.format({\"ROC_AUC\":\"{:.2%}\"}).set_caption(\"\")\\\n",
    ".set_table_styles([{\n",
    "    'selector': 'caption',\n",
    "    'props': [\n",
    "        ('color', 'red'),\n",
    "        ('font-size', '20px')\n",
    "    ]\n",
    "}])"
   ]
  },
  {
   "cell_type": "code",
   "execution_count": null,
   "metadata": {},
   "outputs": [],
   "source": [
    "evaluation_table(train_eval_v1,train_eval_v2,train_eval_v3,\"Training Set\")"
   ]
  },
  {
   "cell_type": "code",
   "execution_count": null,
   "metadata": {},
   "outputs": [],
   "source": [
    "evaluation_table(test_eval_v1,test_eval_v2,test_eval_v3,\"Test Set\")"
   ]
  },
  {
   "cell_type": "code",
   "execution_count": null,
   "metadata": {},
   "outputs": [],
   "source": []
  },
  {
   "cell_type": "code",
   "execution_count": null,
   "metadata": {},
   "outputs": [],
   "source": []
  }
 ],
 "metadata": {
  "accelerator": "GPU",
  "colab": {
   "authorship_tag": "ABX9TyNaE+8jOPSochtmpeAPqpPr",
   "collapsed_sections": [],
   "name": "Trident_Data_Explore_v3.ipynb",
   "provenance": [
    {
     "file_id": "1eynCzYTFCDzo9dyBryUQGX7W-ppGG-gS",
     "timestamp": 1657217224010
    },
    {
     "file_id": "1SfF4uwqIzOMRTIq_BA2EkyV8DLS2A1m_",
     "timestamp": 1657206148525
    }
   ]
  },
  "gpuClass": "standard",
  "kernelspec": {
   "display_name": "Python 3.7.6 ('base')",
   "language": "python",
   "name": "python3"
  },
  "language_info": {
   "codemirror_mode": {
    "name": "ipython",
    "version": 3
   },
   "file_extension": ".py",
   "mimetype": "text/x-python",
   "name": "python",
   "nbconvert_exporter": "python",
   "pygments_lexer": "ipython3",
   "version": "3.7.6"
  },
  "vscode": {
   "interpreter": {
    "hash": "9e9e320239b03156f4c972ae11b334d896eac2f5116a2af488bbf85ade5beda9"
   }
  }
 },
 "nbformat": 4,
 "nbformat_minor": 1
}
